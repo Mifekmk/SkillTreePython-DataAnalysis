{
  "nbformat": 4,
  "nbformat_minor": 0,
  "metadata": {
    "colab": {
      "name": "ch03_03_기대값과_분산.ipynb의 사본",
      "provenance": [],
      "collapsed_sections": [],
      "include_colab_link": true
    },
    "kernelspec": {
      "name": "python3",
      "display_name": "Python 3"
    },
    "language_info": {
      "name": "python"
    }
  },
  "cells": [
    {
      "cell_type": "markdown",
      "metadata": {
        "id": "view-in-github",
        "colab_type": "text"
      },
      "source": [
        "<a href=\"https://colab.research.google.com/github/Mifekmk/SkillTreePython-DataAnalysis/blob/main/ch03_03_%EA%B8%B0%EB%8C%80%EA%B0%92%EA%B3%BC_%EB%B6%84%EC%82%B0_ipynb%EC%9D%98_%EC%82%AC%EB%B3%B8.ipynb\" target=\"_parent\"><img src=\"https://colab.research.google.com/assets/colab-badge.svg\" alt=\"Open In Colab\"/></a>"
      ]
    },
    {
      "cell_type": "markdown",
      "source": [
        "# ch04.03. 기대값과 분산\n",
        "---\n",
        "* 날짜: 2022-05-06\n",
        "* 이름: 김민규\n",
        "\n",
        "## 학습내용\n",
        "    - 기대값\n",
        "    - 분산\n",
        "    - 공분산\n",
        "    - 상관계수"
      ],
      "metadata": {
        "id": "wWpXZc2fi39U"
      }
    },
    {
      "cell_type": "code",
      "source": [
        "import numpy as np\n",
        "import matplotlib.pyplot as plt\n",
        "import pandas as pd"
      ],
      "metadata": {
        "id": "uYLRSgCqw4YZ"
      },
      "execution_count": null,
      "outputs": []
    },
    {
      "cell_type": "markdown",
      "source": [
        "### **| 기댓값**\n",
        "\n",
        "\\begin{align}\n",
        "\\mu_X = \\text{E}[X] = \\sum_{x_i \\in \\Omega} x_ip(x_i) \n",
        "\\end{align}\n"
      ],
      "metadata": {
        "id": "PHt4dICKZZhS"
      }
    },
    {
      "cell_type": "code",
      "source": [
        "def E(X,P=[]): # X, P는 넘파이 배열\n",
        "    # P 를 따로 정의해주지 않으면 가중치를 1/n\n",
        "    if not len(P):\n",
        "        P =np.array([1/len(X)]*len(X))\n",
        "        print(P)\n",
        "    return np.sum(X*P)\n",
        "    # 넘파이 배열을 쓰면 브로드캐스트 곱셈이 가능합니다."
      ],
      "metadata": {
        "id": "y0hVzVL1ZeBh"
      },
      "execution_count": null,
      "outputs": []
    },
    {
      "cell_type": "code",
      "source": [
        "X=np.array([10,20,30,40])\n",
        "P=np.array([0.1,0.2,0.3,0.4])\n",
        "\n",
        "print('산술평균 : ',E(X))\n",
        "print('기대값 : ',E(X,P))"
      ],
      "metadata": {
        "id": "RQXXbHF7od0n",
        "colab": {
          "base_uri": "https://localhost:8080/"
        },
        "outputId": "51c1d35e-56cf-47db-9be9-79b76ab941bb"
      },
      "execution_count": null,
      "outputs": [
        {
          "output_type": "stream",
          "name": "stdout",
          "text": [
            "[0.25 0.25 0.25 0.25]\n",
            "산술평균 :  25.0\n",
            "기대값 :  30.0\n"
          ]
        }
      ]
    },
    {
      "cell_type": "markdown",
      "source": [
        "#### **예제 01. 공정한 주사위**\n",
        "\n"
      ],
      "metadata": {
        "id": "82a3GtBCNjto"
      }
    },
    {
      "cell_type": "code",
      "source": [
        "X = np.arange(1,7)\n",
        "print(\"공정한 주사위는 산술평균을 따릅니다.:\",E(X))\n"
      ],
      "metadata": {
        "id": "i0hS4O76OIFP",
        "colab": {
          "base_uri": "https://localhost:8080/"
        },
        "outputId": "8ddb4171-3241-4ea8-c769-5d4463c343d9"
      },
      "execution_count": null,
      "outputs": [
        {
          "output_type": "stream",
          "name": "stdout",
          "text": [
            "[0.16666667 0.16666667 0.16666667 0.16666667 0.16666667 0.16666667]\n",
            "공정한 주사위는 산술평균을 따릅니다.: 3.5\n"
          ]
        }
      ]
    },
    {
      "cell_type": "markdown",
      "source": [
        "#### **예제 02. 공정하지 않은 주사위**\n",
        "\n",
        "짝수가 나올 확률이 홀수가 나올 확률의 두배인 주사위의 기대값을 구하세요."
      ],
      "metadata": {
        "id": "PhvhttZg2JyB"
      }
    },
    {
      "cell_type": "code",
      "source": [
        "X = np.arange(1,7)\n",
        "P = [0.11,0.22,0.11,0.22,0.11,0.22]\n",
        "E(X,P)"
      ],
      "metadata": {
        "id": "tdyZ-8JGaCVY",
        "colab": {
          "base_uri": "https://localhost:8080/"
        },
        "outputId": "241e26f9-4283-43bd-8129-c97745b22335"
      },
      "execution_count": null,
      "outputs": [
        {
          "output_type": "execute_result",
          "data": {
            "text/plain": [
              "3.630000000000001"
            ]
          },
          "metadata": {},
          "execution_count": 25
        }
      ]
    },
    {
      "cell_type": "markdown",
      "source": [
        "#### **예제 03. 기대값의 성질**\n",
        "\n",
        "X, Y, c 가 아래와 같이 주어졌을 때,\n",
        "```\n",
        "X = np.array([1,2,3,4])\n",
        "Y = np.array([10,20,30,40])\n",
        "c = np.array([4])\n",
        "```\n",
        "\n",
        "다음을 구하세요\n",
        "```\n",
        "E(X)\n",
        "E(Y)\n",
        "E(c)\n",
        "E(X+Y)\n",
        "E(X)+E(Y)\n",
        "E(4X+3)\n",
        "4E(X)+3\n",
        "```"
      ],
      "metadata": {
        "id": "2EgD8eUs5A9g"
      }
    },
    {
      "cell_type": "code",
      "source": [
        "X = np.array([1,2,3,4])\n",
        "Y = np.array([10,20,30,40])\n",
        "c = np.array([4])"
      ],
      "metadata": {
        "id": "mnLuZkE_5Jln"
      },
      "execution_count": null,
      "outputs": []
    },
    {
      "cell_type": "code",
      "source": [
        "E(X)"
      ],
      "metadata": {
        "colab": {
          "base_uri": "https://localhost:8080/"
        },
        "id": "YGEYgP8ny_q5",
        "outputId": "fa5b8a12-19f1-402d-9bda-014967735123"
      },
      "execution_count": null,
      "outputs": [
        {
          "output_type": "stream",
          "name": "stdout",
          "text": [
            "[0.25 0.25 0.25 0.25]\n"
          ]
        },
        {
          "output_type": "execute_result",
          "data": {
            "text/plain": [
              "2.5"
            ]
          },
          "metadata": {},
          "execution_count": 30
        }
      ]
    },
    {
      "cell_type": "code",
      "source": [
        "E(Y)"
      ],
      "metadata": {
        "colab": {
          "base_uri": "https://localhost:8080/"
        },
        "id": "XJJd3IikzFqv",
        "outputId": "ddce1890-f6c6-47b0-b1ea-0af00851e7bf"
      },
      "execution_count": null,
      "outputs": [
        {
          "output_type": "stream",
          "name": "stdout",
          "text": [
            "[0.25 0.25 0.25 0.25]\n"
          ]
        },
        {
          "output_type": "execute_result",
          "data": {
            "text/plain": [
              "25.0"
            ]
          },
          "metadata": {},
          "execution_count": 32
        }
      ]
    },
    {
      "cell_type": "code",
      "source": [
        "E(c)"
      ],
      "metadata": {
        "colab": {
          "base_uri": "https://localhost:8080/"
        },
        "id": "EuP6gh49zIfH",
        "outputId": "da833eae-3f9c-48a4-d2f0-5be84d160c45"
      },
      "execution_count": null,
      "outputs": [
        {
          "output_type": "stream",
          "name": "stdout",
          "text": [
            "[1.]\n"
          ]
        },
        {
          "output_type": "execute_result",
          "data": {
            "text/plain": [
              "4.0"
            ]
          },
          "metadata": {},
          "execution_count": 33
        }
      ]
    },
    {
      "cell_type": "code",
      "source": [
        "E(X+Y)"
      ],
      "metadata": {
        "colab": {
          "base_uri": "https://localhost:8080/"
        },
        "id": "RpLA6D_1zLZn",
        "outputId": "e35d6f61-380f-4b89-a060-3dc295c3550e"
      },
      "execution_count": null,
      "outputs": [
        {
          "output_type": "stream",
          "name": "stdout",
          "text": [
            "[0.25 0.25 0.25 0.25]\n"
          ]
        },
        {
          "output_type": "execute_result",
          "data": {
            "text/plain": [
              "27.5"
            ]
          },
          "metadata": {},
          "execution_count": 34
        }
      ]
    },
    {
      "cell_type": "code",
      "source": [
        "E(X)+E(Y)"
      ],
      "metadata": {
        "colab": {
          "base_uri": "https://localhost:8080/"
        },
        "id": "JTUVjFgvzN2-",
        "outputId": "f262c955-8a77-4695-9957-facee04c2fa1"
      },
      "execution_count": null,
      "outputs": [
        {
          "output_type": "stream",
          "name": "stdout",
          "text": [
            "[0.25 0.25 0.25 0.25]\n",
            "[0.25 0.25 0.25 0.25]\n"
          ]
        },
        {
          "output_type": "execute_result",
          "data": {
            "text/plain": [
              "27.5"
            ]
          },
          "metadata": {},
          "execution_count": 35
        }
      ]
    },
    {
      "cell_type": "code",
      "source": [
        "E(4*X+3)"
      ],
      "metadata": {
        "colab": {
          "base_uri": "https://localhost:8080/"
        },
        "id": "oGnbMXihzQpn",
        "outputId": "eac59764-3feb-47cb-9cc3-b38b09ce52b9"
      },
      "execution_count": null,
      "outputs": [
        {
          "output_type": "stream",
          "name": "stdout",
          "text": [
            "[0.25 0.25 0.25 0.25]\n"
          ]
        },
        {
          "output_type": "execute_result",
          "data": {
            "text/plain": [
              "13.0"
            ]
          },
          "metadata": {},
          "execution_count": 37
        }
      ]
    },
    {
      "cell_type": "code",
      "source": [
        "4*E(X)+3"
      ],
      "metadata": {
        "colab": {
          "base_uri": "https://localhost:8080/"
        },
        "id": "q6S9QZ_TzYFi",
        "outputId": "0524015c-2d50-430b-9038-33012cd01af0"
      },
      "execution_count": null,
      "outputs": [
        {
          "output_type": "stream",
          "name": "stdout",
          "text": [
            "[0.25 0.25 0.25 0.25]\n"
          ]
        },
        {
          "output_type": "execute_result",
          "data": {
            "text/plain": [
              "13.0"
            ]
          },
          "metadata": {},
          "execution_count": 39
        }
      ]
    },
    {
      "cell_type": "markdown",
      "source": [
        "#### **예제 04. 시험 성적**\n",
        "\n",
        "학생 네명의 시험 성적이 다음과 같을 때 총합점수의 평균(국어+수학) 을 두가지 방법으로 구하세요.\n",
        "\n",
        "```\n",
        "X_국어 = np.array([60,70,90,100])\n",
        "X_수학 = np.array([70,30,50,50])\n",
        "```"
      ],
      "metadata": {
        "id": "T7VzCEPR6nGn"
      }
    },
    {
      "cell_type": "code",
      "source": [
        "X_국어 = np.array([60,70,90,100])\n",
        "X_수학 = np.array([70,30,50,50])"
      ],
      "metadata": {
        "id": "GNTcSS3x6nGs"
      },
      "execution_count": null,
      "outputs": []
    },
    {
      "cell_type": "code",
      "source": [
        "print(\"국어점수+수학점수의 평균 :\",E(X_국어)+E(X_수학))"
      ],
      "metadata": {
        "colab": {
          "base_uri": "https://localhost:8080/"
        },
        "id": "-8slrE2Nzi0x",
        "outputId": "06b7dd78-1350-4c5f-f029-ee1c4179952e"
      },
      "execution_count": null,
      "outputs": [
        {
          "output_type": "stream",
          "name": "stdout",
          "text": [
            "[0.25 0.25 0.25 0.25]\n",
            "[0.25 0.25 0.25 0.25]\n",
            "국어점수+수학점수의 평균 : 130.0\n"
          ]
        }
      ]
    },
    {
      "cell_type": "code",
      "source": [
        "print(\"국어+수학 점수의 평균 :\",E((X_국어)+(X_수학)))"
      ],
      "metadata": {
        "colab": {
          "base_uri": "https://localhost:8080/"
        },
        "id": "ZTHS_kwJzvyP",
        "outputId": "c86b5fac-c4c6-494b-f5f9-03314242e2ce"
      },
      "execution_count": null,
      "outputs": [
        {
          "output_type": "stream",
          "name": "stdout",
          "text": [
            "[0.25 0.25 0.25 0.25]\n",
            "국어+수학 점수의 평균 : 130.0\n"
          ]
        }
      ]
    },
    {
      "cell_type": "markdown",
      "source": [
        "### **| 분산**\n",
        "\n",
        "\\begin{align}\n",
        "V(X) = E[(X-E[X])^2]\n",
        "\\end{align}\n"
      ],
      "metadata": {
        "id": "NGufv-OobGkx"
      }
    },
    {
      "cell_type": "code",
      "source": [
        "def V(X, P=[]):\n",
        "    if not len(P):\n",
        "        P =np.array([1/len(X)]*len(X))\n",
        "        print(P)\n",
        "    return E( ( X-E(X,P)  )**2  )"
      ],
      "metadata": {
        "id": "IbFnU_2xbGky"
      },
      "execution_count": null,
      "outputs": []
    },
    {
      "cell_type": "code",
      "source": [
        "X =np.array([1,2,3])\n",
        "P=np.array([1/10, 1/10, 8/10])\n",
        "print(E(X), V(X)) # P가 똑같은 확률일 때\n",
        "print(\"----------------------\")\n",
        "print(E(X,P), V(X,P)) # P가 다른 확률일 때"
      ],
      "metadata": {
        "id": "XWKrxRrn27Tf",
        "colab": {
          "base_uri": "https://localhost:8080/"
        },
        "outputId": "82fed71a-5f1d-408c-ba12-f1185121a963"
      },
      "execution_count": null,
      "outputs": [
        {
          "output_type": "stream",
          "name": "stdout",
          "text": [
            "[0.33333333 0.33333333 0.33333333]\n",
            "[0.33333333 0.33333333 0.33333333]\n",
            "[0.33333333 0.33333333 0.33333333]\n",
            "2.0 0.6666666666666666\n",
            "----------------------\n",
            "[0.33333333 0.33333333 0.33333333]\n",
            "2.7 1.156666666666667\n"
          ]
        }
      ]
    },
    {
      "cell_type": "markdown",
      "source": [
        "#### **예제 01. 동전 던지기**\n",
        "\n",
        "두개의 동전을 던졌을 때 앞면이 나온 횟수를 확률 변수 X라 정의합니다.\n",
        "\n",
        "다음을 구하세요.\n",
        "\n",
        "```\n",
        "X\n",
        "P\n",
        "E(X)\n",
        "V(X)\n",
        "```\n"
      ],
      "metadata": {
        "id": "bJgbzis26zAO"
      }
    },
    {
      "cell_type": "code",
      "source": [
        "X = np.array([0,1,2])\n",
        "P = np.array([0.25,0.5,0.25])\n",
        "print(E(X),V(X))\n",
        "print(\"----------------------------------\")\n",
        "print(E(X,P),V(X,P))"
      ],
      "metadata": {
        "id": "LS31msHr6zAO",
        "colab": {
          "base_uri": "https://localhost:8080/"
        },
        "outputId": "95cf4500-7d09-4808-fd14-82253ed531d4"
      },
      "execution_count": null,
      "outputs": [
        {
          "output_type": "stream",
          "name": "stdout",
          "text": [
            "[0.33333333 0.33333333 0.33333333]\n",
            "[0.33333333 0.33333333 0.33333333]\n",
            "[0.33333333 0.33333333 0.33333333]\n",
            "1.0 0.6666666666666666\n",
            "----------------------------------\n",
            "[0.33333333 0.33333333 0.33333333]\n",
            "1.0 0.6666666666666666\n"
          ]
        }
      ]
    },
    {
      "cell_type": "markdown",
      "source": [
        "#### **예제 02. 분산의 성질**\n",
        "\n",
        "\n",
        "X,Y 가 아래와 같이 주어졌을 때\n",
        "\n",
        "```\n",
        "X = np.array([1,2,3,4,5,6,7,8,9])\n",
        "c = np.array([10])\n",
        "```\n",
        "\n",
        "다음을 구하세요.\n",
        "\n",
        "```\n",
        "V(X)\n",
        "V(c)\n",
        "V(2X)\n",
        "V(2X-2)\n",
        "4 x V(X)\n",
        "```"
      ],
      "metadata": {
        "id": "JRcCsinm-aiD"
      }
    },
    {
      "cell_type": "code",
      "source": [
        "X = np.array([1,2,3,4,5,6,7,8,9])\n",
        "c = np.array([10])"
      ],
      "metadata": {
        "id": "FFP0aEUY-aiI"
      },
      "execution_count": null,
      "outputs": []
    },
    {
      "cell_type": "code",
      "source": [
        "print(V(X))\n",
        "print(V(c))\n"
      ],
      "metadata": {
        "colab": {
          "base_uri": "https://localhost:8080/"
        },
        "id": "RX9B_rd71I4Y",
        "outputId": "c69c1a67-248d-4ba4-a463-5678c73014ca"
      },
      "execution_count": null,
      "outputs": [
        {
          "output_type": "stream",
          "name": "stdout",
          "text": [
            "[0.11111111 0.11111111 0.11111111 0.11111111 0.11111111 0.11111111\n",
            " 0.11111111 0.11111111 0.11111111]\n",
            "[0.11111111 0.11111111 0.11111111 0.11111111 0.11111111 0.11111111\n",
            " 0.11111111 0.11111111 0.11111111]\n",
            "6.666666666666666\n",
            "[1.]\n",
            "[1.]\n",
            "0.0\n"
          ]
        }
      ]
    },
    {
      "cell_type": "code",
      "source": [
        "V(2*X)"
      ],
      "metadata": {
        "colab": {
          "base_uri": "https://localhost:8080/"
        },
        "id": "lEDvZ5qz1lq_",
        "outputId": "2de94c6d-6ecc-49be-b9a7-1c772838ca62"
      },
      "execution_count": null,
      "outputs": [
        {
          "output_type": "stream",
          "name": "stdout",
          "text": [
            "[0.11111111 0.11111111 0.11111111 0.11111111 0.11111111 0.11111111\n",
            " 0.11111111 0.11111111 0.11111111]\n",
            "[0.11111111 0.11111111 0.11111111 0.11111111 0.11111111 0.11111111\n",
            " 0.11111111 0.11111111 0.11111111]\n"
          ]
        },
        {
          "output_type": "execute_result",
          "data": {
            "text/plain": [
              "26.666666666666664"
            ]
          },
          "metadata": {},
          "execution_count": 66
        }
      ]
    },
    {
      "cell_type": "code",
      "source": [
        "V(2*X-2)"
      ],
      "metadata": {
        "colab": {
          "base_uri": "https://localhost:8080/"
        },
        "id": "SDwtiRQe1sOW",
        "outputId": "6a25c86a-3485-4415-c571-35e11bbb893a"
      },
      "execution_count": null,
      "outputs": [
        {
          "output_type": "stream",
          "name": "stdout",
          "text": [
            "[0.11111111 0.11111111 0.11111111 0.11111111 0.11111111 0.11111111\n",
            " 0.11111111 0.11111111 0.11111111]\n",
            "[0.11111111 0.11111111 0.11111111 0.11111111 0.11111111 0.11111111\n",
            " 0.11111111 0.11111111 0.11111111]\n"
          ]
        },
        {
          "output_type": "execute_result",
          "data": {
            "text/plain": [
              "26.666666666666664"
            ]
          },
          "metadata": {},
          "execution_count": 67
        }
      ]
    },
    {
      "cell_type": "code",
      "source": [
        "4*V(X)"
      ],
      "metadata": {
        "colab": {
          "base_uri": "https://localhost:8080/"
        },
        "id": "4gR8pWYa1udf",
        "outputId": "2fd40b4d-89f5-4672-93f8-e1c2fbd9d5f3"
      },
      "execution_count": null,
      "outputs": [
        {
          "output_type": "stream",
          "name": "stdout",
          "text": [
            "[0.11111111 0.11111111 0.11111111 0.11111111 0.11111111 0.11111111\n",
            " 0.11111111 0.11111111 0.11111111]\n",
            "[0.11111111 0.11111111 0.11111111 0.11111111 0.11111111 0.11111111\n",
            " 0.11111111 0.11111111 0.11111111]\n"
          ]
        },
        {
          "output_type": "execute_result",
          "data": {
            "text/plain": [
              "26.666666666666664"
            ]
          },
          "metadata": {},
          "execution_count": 68
        }
      ]
    },
    {
      "cell_type": "markdown",
      "source": [
        "#### **예제 03. 시험 성적**\n",
        "\n",
        "학생 네명의 시험 성적이 다음과 같습니다.\n",
        "```\n",
        "X_국어 = np.array([60,70,90,100])\n",
        "X_수학 = np.array([70,30,50,50])\n",
        "```\n",
        "\n",
        "다음을 구하세요.\n",
        "```\n",
        "V(X_국어)\n",
        "V(X_수학)\n",
        "V(5*X_국어)\n",
        "5*5*V(X_국어)\n",
        "```\n"
      ],
      "metadata": {
        "id": "0VQG51pJ3Ega"
      }
    },
    {
      "cell_type": "code",
      "source": [
        "X_국어 = np.array([60,70,90,100])\n",
        "X_수학 = np.array([70,30,50,50])\n",
        "\n",
        "V(X_국어)"
      ],
      "metadata": {
        "id": "Yjxcmy1B3Egb",
        "colab": {
          "base_uri": "https://localhost:8080/"
        },
        "outputId": "92d17abd-82d0-435e-9e73-1c3ed1a7eb86"
      },
      "execution_count": null,
      "outputs": [
        {
          "output_type": "stream",
          "name": "stdout",
          "text": [
            "[0.25 0.25 0.25 0.25]\n",
            "[0.25 0.25 0.25 0.25]\n"
          ]
        },
        {
          "output_type": "execute_result",
          "data": {
            "text/plain": [
              "250.0"
            ]
          },
          "metadata": {},
          "execution_count": 70
        }
      ]
    },
    {
      "cell_type": "code",
      "source": [
        "V(X_수학)"
      ],
      "metadata": {
        "colab": {
          "base_uri": "https://localhost:8080/"
        },
        "id": "qooowGGv1222",
        "outputId": "650a51fd-1362-4a08-8d3d-65858de9f243"
      },
      "execution_count": null,
      "outputs": [
        {
          "output_type": "stream",
          "name": "stdout",
          "text": [
            "[0.25 0.25 0.25 0.25]\n",
            "[0.25 0.25 0.25 0.25]\n"
          ]
        },
        {
          "output_type": "execute_result",
          "data": {
            "text/plain": [
              "200.0"
            ]
          },
          "metadata": {},
          "execution_count": 71
        }
      ]
    },
    {
      "cell_type": "code",
      "source": [
        "V(5*X_국어)"
      ],
      "metadata": {
        "colab": {
          "base_uri": "https://localhost:8080/"
        },
        "id": "zD58hKFw144f",
        "outputId": "004722e0-19ef-495a-b580-087d5173b267"
      },
      "execution_count": null,
      "outputs": [
        {
          "output_type": "stream",
          "name": "stdout",
          "text": [
            "[0.25 0.25 0.25 0.25]\n",
            "[0.25 0.25 0.25 0.25]\n"
          ]
        },
        {
          "output_type": "execute_result",
          "data": {
            "text/plain": [
              "6250.0"
            ]
          },
          "metadata": {},
          "execution_count": 72
        }
      ]
    },
    {
      "cell_type": "code",
      "source": [
        "5*5*V(X_국어)"
      ],
      "metadata": {
        "colab": {
          "base_uri": "https://localhost:8080/"
        },
        "id": "c28tK3MD16yA",
        "outputId": "e5057e02-ce10-41a3-a3b6-c2008e66e38b"
      },
      "execution_count": null,
      "outputs": [
        {
          "output_type": "stream",
          "name": "stdout",
          "text": [
            "[0.25 0.25 0.25 0.25]\n",
            "[0.25 0.25 0.25 0.25]\n"
          ]
        },
        {
          "output_type": "execute_result",
          "data": {
            "text/plain": [
              "6250.0"
            ]
          },
          "metadata": {},
          "execution_count": 73
        }
      ]
    },
    {
      "cell_type": "markdown",
      "source": [
        "### **| 공분산**\n",
        "\n",
        "\n",
        "\\begin{align}\n",
        "\\text{Cov}(X, Y) = \\text{E}[(X - \\text{E}[X])(Y - \\text{E}[Y])]\n",
        "\\tag{7.5.3}\n",
        "\\end{align}"
      ],
      "metadata": {
        "id": "uu3r4i3_fs62"
      }
    },
    {
      "cell_type": "code",
      "source": [
        "X = np.array([10,20,30,40])\n",
        "Y = np.array([40,30,20,10])\n",
        "Z = np.array([10,20,10,20])"
      ],
      "metadata": {
        "id": "3h694jZJfvGt"
      },
      "execution_count": 153,
      "outputs": []
    },
    {
      "cell_type": "code",
      "source": [
        "covariance = np.cov(X,Y) # 자유도가 적용된 것입니다.\n",
        "print(covariance)"
      ],
      "metadata": {
        "colab": {
          "base_uri": "https://localhost:8080/"
        },
        "id": "HtMI-l1yJXGN",
        "outputId": "1ad7c95f-3142-49b4-a75e-1b4c09ef5c73"
      },
      "execution_count": 141,
      "outputs": [
        {
          "output_type": "stream",
          "name": "stdout",
          "text": [
            "[[ 166.66666667 -166.66666667]\n",
            " [-166.66666667  166.66666667]]\n"
          ]
        }
      ]
    },
    {
      "cell_type": "code",
      "source": [
        "def Cov(X,Y, PX=[], PY=[]):\n",
        "    if not len(PX): PX = np.array([1/len(X)]*len(X))\n",
        "    if not len(PY): PY = np.array([1/len(Y)]*len(Y))\n",
        "    return E((X-E(X,PX))*(Y-E(Y,PY)), P=np.array([1/3,1/3,1/3,1/3]))\n",
        "    # 자유도가 적용된 앞으로 사용할 식입니다."
      ],
      "metadata": {
        "id": "8aTx7jrdKsW8"
      },
      "execution_count": 155,
      "outputs": []
    },
    {
      "cell_type": "code",
      "source": [
        "def Cov(X,Y, PX=[], PY=[]):\n",
        "    if not len(PX): PX = np.array([1/len(X)]*len(X))\n",
        "    if not len(PY): PY = np.array([1/len(Y)]*len(Y))\n",
        "    return E((X-E(X,PX))*(Y-E(Y,PY)))"
      ],
      "metadata": {
        "id": "V9UamUXq2iPO"
      },
      "execution_count": 158,
      "outputs": []
    },
    {
      "cell_type": "code",
      "source": [
        "Cov(X,Y)"
      ],
      "metadata": {
        "id": "0RjM7m0Okpj_",
        "colab": {
          "base_uri": "https://localhost:8080/"
        },
        "outputId": "2a40954c-9b5b-41b1-fe84-e995ed10fdf0"
      },
      "execution_count": 156,
      "outputs": [
        {
          "output_type": "execute_result",
          "data": {
            "text/plain": [
              "-166.66666666666666"
            ]
          },
          "metadata": {},
          "execution_count": 156
        }
      ]
    },
    {
      "cell_type": "code",
      "source": [
        "Cov(X,Z)"
      ],
      "metadata": {
        "colab": {
          "base_uri": "https://localhost:8080/"
        },
        "id": "8PrsTCWN2-Vv",
        "outputId": "f3375c8a-94f0-476e-bb72-dc7f7a6ed3e9"
      },
      "execution_count": 157,
      "outputs": [
        {
          "output_type": "execute_result",
          "data": {
            "text/plain": [
              "33.333333333333336"
            ]
          },
          "metadata": {},
          "execution_count": 157
        }
      ]
    },
    {
      "cell_type": "markdown",
      "source": [
        "# 공분산의 해석\n",
        "부호:\n",
        "---\n",
        "공분산이 +인 경우: 두 변수가 같은 방향으로 변화(하나가 증가하면 다른 하나도 증가)\n",
        "\n",
        "공분산이 -인 경우: 두 변수가 반대 방향으로 변화(하나가 증가하면 다른 하나는 감소)\n",
        "\n",
        "크기:\n",
        "---\n",
        "공분산 = 0이면 두 변수가 독립, 즉, 한 변수의 변화로 다른 변수의 변화를 예측하지 못함\n",
        "\n",
        "공분산의 크기가 클 수록 두 변수는 함께 많이 변화\n",
        "\n",
        "단위에 따라 공분산의 크기가 달라지므로 절대적 크기로 판단이 어려움\n",
        "\n",
        "공분산을 -1 ~ 1 범위로 표준화 시킨 것이 상관계수\n",
        "\n",
        "주의: 공분산은 선형적인 관계를 측정하기 때문에 두 변수가 비선형적으로 함께 변하는 경우는 잘 측정하지 못함"
      ],
      "metadata": {
        "id": "IxydUmcE3KXA"
      }
    },
    {
      "cell_type": "markdown",
      "source": [
        "### **| 상관계수**\n",
        "\n",
        "\n",
        "* 피어슨(Pearson) 상관계수\n",
        "\n",
        "\\begin{align}\n",
        "\\rho[X,Y] =  \\dfrac{\\text{Cov}[X, Y]}{\\sqrt{\\text{V}[X] \\cdot \\text{V}[Y]}}\n",
        "\\end{align}\n",
        "\n",
        "\\begin{align}\n",
        "-1 \\leq \\rho \\leq 1\n",
        "\\end{align}\n",
        "\n",
        "\n"
      ],
      "metadata": {
        "id": "Vn_-yEAmfwjD"
      }
    },
    {
      "cell_type": "code",
      "source": [
        "def rho(X,Y, PX=[],PY=[]):\n",
        "  if not len(PX): PX = np.array([1/len(X)]*len(X))\n",
        "  if not len(PY): PY = np.array([1/len(Y)]*len(Y)) \n",
        "  return Cov(X,Y,PX,PY) / np.sqrt( V(X,PX)*V(Y,PY) )"
      ],
      "metadata": {
        "id": "cDkhhX-hjRVl"
      },
      "execution_count": null,
      "outputs": []
    },
    {
      "cell_type": "code",
      "source": [
        "rho(X,Y)"
      ],
      "metadata": {
        "id": "UUnwQS71kBG_",
        "colab": {
          "base_uri": "https://localhost:8080/"
        },
        "outputId": "bc87b2e2-91d5-40e2-bb53-2110b2a2f904"
      },
      "execution_count": null,
      "outputs": [
        {
          "output_type": "stream",
          "name": "stdout",
          "text": [
            "[0.25 0.25 0.25 0.25]\n",
            "[0.25 0.25 0.25 0.25]\n",
            "[0.25 0.25 0.25 0.25]\n"
          ]
        },
        {
          "output_type": "execute_result",
          "data": {
            "text/plain": [
              "-1.0"
            ]
          },
          "metadata": {},
          "execution_count": 114
        }
      ]
    },
    {
      "cell_type": "code",
      "source": [
        "rho(X, Z)"
      ],
      "metadata": {
        "colab": {
          "base_uri": "https://localhost:8080/"
        },
        "id": "TBRw0cpq-xCX",
        "outputId": "398acdc3-41aa-45ea-a342-d74f916263fc"
      },
      "execution_count": null,
      "outputs": [
        {
          "output_type": "stream",
          "name": "stdout",
          "text": [
            "[0.25 0.25 0.25 0.25]\n",
            "[0.25 0.25 0.25 0.25]\n",
            "[0.25 0.25 0.25 0.25]\n"
          ]
        },
        {
          "output_type": "execute_result",
          "data": {
            "text/plain": [
              "0.4472135954999579"
            ]
          },
          "metadata": {},
          "execution_count": 115
        }
      ]
    },
    {
      "cell_type": "markdown",
      "source": [
        "#### **예제 01. 두 뽑기의 확률**\n",
        "\n",
        "두 뽑기 A, B에서 나오는 숫자들의 확률이 아래와 같을 때 X와Y의 공분산과 상관계수를 구하세요.\n",
        "```\n",
        "X = [0,1,2]\n",
        "P(X) = [1/5, 2/5, 2/5]\n",
        "Y - [0, 1, 2]\n",
        "P(Y) = [1/5, 3/5, 1/5]\n",
        "```"
      ],
      "metadata": {
        "id": "k2fH0nowszcq"
      }
    },
    {
      "cell_type": "code",
      "source": [
        "X = np.array([0,1,2])\n",
        "PX = np.array([0.2, 0.2, 0.2])\n",
        "print(E(X),E(X,PX))\n",
        "\n",
        "Y = np.array([0, 1, 2])\n",
        "PY = np.array([0.2, 0.6, 0.2])\n",
        "print(E(Y), E(Y,PY))\n",
        "\n",
        "np.cov(PX,PY)[0,1]"
      ],
      "metadata": {
        "id": "eN3AX__Ru_4u",
        "colab": {
          "base_uri": "https://localhost:8080/"
        },
        "outputId": "67e1d706-8687-4905-c047-61f80af65d3c"
      },
      "execution_count": null,
      "outputs": [
        {
          "output_type": "stream",
          "name": "stdout",
          "text": [
            "[0.33333333 0.33333333 0.33333333]\n",
            "1.0 0.6000000000000001\n",
            "[0.33333333 0.33333333 0.33333333]\n",
            "1.0 1.0\n"
          ]
        },
        {
          "output_type": "execute_result",
          "data": {
            "text/plain": [
              "-7.703719777548943e-34"
            ]
          },
          "metadata": {},
          "execution_count": 98
        }
      ]
    },
    {
      "cell_type": "markdown",
      "source": [
        "#### **예제 02. 표본 그리기 1**\n",
        "\n",
        "아래 코드는 표본을 10000개 추출 합니다.\n",
        "\n",
        "\n",
        "\n",
        "```\n",
        "x, y = np.random.multivariate_normal([0, 0], [[1, a], [a, 1]], 10000).T\n",
        "x.shape, y.shape\n",
        "```\n",
        "\n",
        "1. a 값이 `-1,0.7,0.3,0.01,-0.3,-0.7,-1` 일 때 x, y의 표본쌍 7개의 스캐터 플롯을 그리고, \n",
        "2. 각 경우에 x, y의 상관계수를 구하세요.\n"
      ],
      "metadata": {
        "id": "SzWRwbA2ob00"
      }
    },
    {
      "cell_type": "code",
      "source": [
        "plt.figure(figsize=(20,2.8))\n",
        "for i, a in enumerate([-1,0.7,0.3,0.01,-0.3,-0.7,-1]):\n",
        "    x,y = np.random.multivariate_normal([0, 0], [[1, a], [a, 1]], 10000).T\n",
        "    plt.subplot(1,7,i+1)\n",
        "    plt.axis('equal')\n",
        "    plt.title(f'rho: {rho(x,y)}'[:9])\n",
        "    plt.scatter(x,y, marker='.')"
      ],
      "metadata": {
        "id": "G3rJmkC5n_Eo",
        "colab": {
          "base_uri": "https://localhost:8080/",
          "height": 603
        },
        "outputId": "0d748b2a-bf86-4a0f-d597-bc891152c9cf"
      },
      "execution_count": null,
      "outputs": [
        {
          "output_type": "stream",
          "name": "stdout",
          "text": [
            "[0.0001 0.0001 0.0001 ... 0.0001 0.0001 0.0001]\n",
            "[0.0001 0.0001 0.0001 ... 0.0001 0.0001 0.0001]\n",
            "[0.0001 0.0001 0.0001 ... 0.0001 0.0001 0.0001]\n",
            "[0.0001 0.0001 0.0001 ... 0.0001 0.0001 0.0001]\n",
            "[0.0001 0.0001 0.0001 ... 0.0001 0.0001 0.0001]\n",
            "[0.0001 0.0001 0.0001 ... 0.0001 0.0001 0.0001]\n",
            "[0.0001 0.0001 0.0001 ... 0.0001 0.0001 0.0001]\n",
            "[0.0001 0.0001 0.0001 ... 0.0001 0.0001 0.0001]\n",
            "[0.0001 0.0001 0.0001 ... 0.0001 0.0001 0.0001]\n",
            "[0.0001 0.0001 0.0001 ... 0.0001 0.0001 0.0001]\n",
            "[0.0001 0.0001 0.0001 ... 0.0001 0.0001 0.0001]\n",
            "[0.0001 0.0001 0.0001 ... 0.0001 0.0001 0.0001]\n",
            "[0.0001 0.0001 0.0001 ... 0.0001 0.0001 0.0001]\n",
            "[0.0001 0.0001 0.0001 ... 0.0001 0.0001 0.0001]\n",
            "[0.0001 0.0001 0.0001 ... 0.0001 0.0001 0.0001]\n",
            "[0.0001 0.0001 0.0001 ... 0.0001 0.0001 0.0001]\n",
            "[0.0001 0.0001 0.0001 ... 0.0001 0.0001 0.0001]\n",
            "[0.0001 0.0001 0.0001 ... 0.0001 0.0001 0.0001]\n",
            "[0.0001 0.0001 0.0001 ... 0.0001 0.0001 0.0001]\n",
            "[0.0001 0.0001 0.0001 ... 0.0001 0.0001 0.0001]\n",
            "[0.0001 0.0001 0.0001 ... 0.0001 0.0001 0.0001]\n"
          ]
        },
        {
          "output_type": "display_data",
          "data": {
            "text/plain": [
              "<Figure size 1440x201.6 with 7 Axes>"
            ],
            "image/png": "[encoded data removed]"
          },
          "metadata": {
            "needs_background": "light"
          }
        }
      ]
    },
    {
      "cell_type": "markdown",
      "source": [
        "#### **예제 03. 표본 그리기 2**\n",
        "\n",
        "아래 코드는 표본을 10000개 추출 합니다.\n",
        "\n",
        "\n",
        "\n",
        "```\n",
        "x, y = np.random.multivariate_normal([0, 0], [[1, 1], [1, 1]], 10000).T\n",
        "x.shape, y.shape\n",
        "```\n",
        "\n",
        "\n",
        "1. x 표본은 그대로 두고, y 표본에 `1, 0.7, 0.3, 0.01, -0.3, -0.7, -1`을 각각 곱해서 각 표본쌍의 스캐터 플롯 7개를 그리세요.\n",
        "2. 7가지 경우에 대한 x, y 상관계수를 구하세요.\n"
      ],
      "metadata": {
        "id": "HsCNgtJzq2x6"
      }
    },
    {
      "cell_type": "code",
      "source": [
        "plt.figure(figsize=(20,2.8))\n",
        "for i, a in enumerate([1,0.7,0.3,0.01,-0.3,-0.7,-1]):\n",
        "    x,y = np.random.multivariate_normal([0, 0], [[1, a], [1, a]], 10000).T\n",
        "    plt.subplot(1,7,i+1)\n",
        "    plt.axis('equal')\n",
        "    plt.title(f'rho: {rho(x,y)}'[:9])\n",
        "    plt.scatter(x,y, marker='.')"
      ],
      "metadata": {
        "id": "PhPtD0Nif3rF",
        "colab": {
          "base_uri": "https://localhost:8080/",
          "height": 640
        },
        "outputId": "34d0e181-7c78-41f8-b1af-d46930eda42a"
      },
      "execution_count": null,
      "outputs": [
        {
          "output_type": "stream",
          "name": "stdout",
          "text": [
            "[0.0001 0.0001 0.0001 ... 0.0001 0.0001 0.0001]\n",
            "[0.0001 0.0001 0.0001 ... 0.0001 0.0001 0.0001]\n",
            "[0.0001 0.0001 0.0001 ... 0.0001 0.0001 0.0001]\n",
            "[0.0001 0.0001 0.0001 ... 0.0001 0.0001 0.0001]\n",
            "[0.0001 0.0001 0.0001 ... 0.0001 0.0001 0.0001]\n",
            "[0.0001 0.0001 0.0001 ... 0.0001 0.0001 0.0001]\n",
            "[0.0001 0.0001 0.0001 ... 0.0001 0.0001 0.0001]\n",
            "[0.0001 0.0001 0.0001 ... 0.0001 0.0001 0.0001]\n",
            "[0.0001 0.0001 0.0001 ... 0.0001 0.0001 0.0001]\n",
            "[0.0001 0.0001 0.0001 ... 0.0001 0.0001 0.0001]\n",
            "[0.0001 0.0001 0.0001 ... 0.0001 0.0001 0.0001]\n",
            "[0.0001 0.0001 0.0001 ... 0.0001 0.0001 0.0001]\n",
            "[0.0001 0.0001 0.0001 ... 0.0001 0.0001 0.0001]\n",
            "[0.0001 0.0001 0.0001 ... 0.0001 0.0001 0.0001]\n",
            "[0.0001 0.0001 0.0001 ... 0.0001 0.0001 0.0001]\n",
            "[0.0001 0.0001 0.0001 ... 0.0001 0.0001 0.0001]\n",
            "[0.0001 0.0001 0.0001 ... 0.0001 0.0001 0.0001]\n",
            "[0.0001 0.0001 0.0001 ... 0.0001 0.0001 0.0001]\n"
          ]
        },
        {
          "output_type": "stream",
          "name": "stderr",
          "text": [
            "/usr/local/lib/python3.7/dist-packages/ipykernel_launcher.py:3: RuntimeWarning: covariance is not positive-semidefinite.\n",
            "  This is separate from the ipykernel package so we can avoid doing imports until\n"
          ]
        },
        {
          "output_type": "stream",
          "name": "stdout",
          "text": [
            "[0.0001 0.0001 0.0001 ... 0.0001 0.0001 0.0001]\n",
            "[0.0001 0.0001 0.0001 ... 0.0001 0.0001 0.0001]\n",
            "[0.0001 0.0001 0.0001 ... 0.0001 0.0001 0.0001]\n"
          ]
        },
        {
          "output_type": "display_data",
          "data": {
            "text/plain": [
              "<Figure size 1440x201.6 with 7 Axes>"
            ],
            "image/png": "[encoded data removed]"
          },
          "metadata": {
            "needs_background": "light"
          }
        }
      ]
    },
    {
      "cell_type": "code",
      "source": [
        ""
      ],
      "metadata": {
        "id": "JthJCPMsupbz"
      },
      "execution_count": null,
      "outputs": []
    }
  ]
}