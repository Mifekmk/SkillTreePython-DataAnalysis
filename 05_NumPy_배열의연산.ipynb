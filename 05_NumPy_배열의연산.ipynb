{
  "nbformat": 4,
  "nbformat_minor": 0,
  "metadata": {
    "colab": {
      "name": "05_NumPy-배열의연산.ipynb",
      "provenance": [],
      "collapsed_sections": [],
      "include_colab_link": true
    },
    "kernelspec": {
      "name": "python3",
      "display_name": "Python 3"
    },
    "language_info": {
      "name": "python"
    }
  },
  "cells": [
    {
      "cell_type": "markdown",
      "metadata": {
        "id": "view-in-github",
        "colab_type": "text"
      },
      "source": [
        "<a href=\"https://colab.research.google.com/github/Mifekmk/SkillTreePython-DataAnalysis/blob/main/05_NumPy_%EB%B0%B0%EC%97%B4%EC%9D%98%EC%97%B0%EC%82%B0.ipynb\" target=\"_parent\"><img src=\"https://colab.research.google.com/assets/colab-badge.svg\" alt=\"Open In Colab\"/></a>"
      ]
    },
    {
      "cell_type": "markdown",
      "metadata": {
        "id": "jgFAOz-Tw1VI"
      },
      "source": [
        "# CH05 Numpy  - 배열의 연산\n",
        "\n",
        "---\n",
        "* 날짜: 2022-04-12\n",
        "* 이름: 김민규\n"
      ]
    },
    {
      "cell_type": "markdown",
      "source": [
        "## 개념정리\n",
        "\n",
        "데이터 분석에 있어서 배열에 담긴 데이터만큼 중요한 것이 배열의 구조입니다. 특히 머신러닝, 딥러닝에서는 데이터의 선형변환이 주가 되기 때문에 이 과정에서 데이터의 형태 변형이 많이 이루어 집니다. 이번 시간에는 배열의 형태를 변경하고 연결하고, 분할 하는 여러 방법들을 알아보도록 합니다. \n",
        "\n",
        "```\n",
        "import numpy as np\n",
        "```\n",
        "\n",
        "\n"
      ],
      "metadata": {
        "id": "_3uSBF40BdCd"
      }
    },
    {
      "cell_type": "code",
      "source": [
        "import numpy as np"
      ],
      "metadata": {
        "id": "zPOE7GIhJcdU"
      },
      "execution_count": null,
      "outputs": []
    },
    {
      "cell_type": "markdown",
      "metadata": {
        "id": "_ilCtKbjYZzk"
      },
      "source": [
        "---\n",
        "### **(1) 산술 연산(Arithmetic Operators)**\n",
        "---\n",
        "\n",
        "|연산자|범용함수|설명|\n",
        "|--|--|--|\n",
        "|+|`np.add`|덧셈|\n",
        "|-|`np.substract`|뺄셈|\n",
        "|-|`np.negative`|단항음수|\n",
        "|*|`np.multiply`|곱셈|\n",
        "|/|`np.divide`|나눗셈|\n",
        "|//|`np.floor_divide`|나눗셈 내림|\n",
        "|**|`np.power`|지수 연산|\n",
        "|%|`np.mod`|나머지 연산|\n",
        "\n",
        "파이썬의 수치자료형에서 사용하는 모든 연산을 넘파이 배열에서 사용할 수 있습니다. \n",
        "\n",
        "리스트에서는 불가능했던 배열간의 덧셈도 아래와 같이 사용 가능합니다.\n",
        "\n",
        "```\n",
        "a = np.array([1,2,3])\n",
        "b = np.array([-1,2,-3])\n",
        "a*b\n",
        "```\n",
        "\n"
      ]
    },
    {
      "cell_type": "code",
      "metadata": {
        "id": "lGmuZNP4YZzu",
        "colab": {
          "base_uri": "https://localhost:8080/"
        },
        "outputId": "44f1b408-b02a-494a-a38e-9c26b5a5a5ad"
      },
      "source": [
        "a = np.array([1,2,3])\n",
        "b = np.array([-1,2,-3])\n",
        "print(a*b)\n",
        "c = np.add([1,2,3],[4,5,6])\n",
        "print(c)\n",
        "print(a+b)"
      ],
      "execution_count": null,
      "outputs": [
        {
          "output_type": "stream",
          "name": "stdout",
          "text": [
            "[-1  4 -9]\n",
            "[5 7 9]\n",
            "[0 4 0]\n"
          ]
        }
      ]
    },
    {
      "cell_type": "markdown",
      "metadata": {
        "id": "HjPXsM8C5ULZ"
      },
      "source": [
        "\n",
        "#### **|  브로드캐스팅 (Broadcasting)**\n",
        "\n",
        "NumPy의 배열 연산은 벡터화(vectorized) 연산을 사용합니다. 브로드 캐스팅은 배열 각 요소에 대한 반복적인 계산을 효율적으로 수행합니다.\n",
        "\n",
        "\n",
        "<p align='center'>\n",
        "<img src=https://github.com/yebiny/SkillTreePython-DataAnalysis/blob/main/imgs/ch0105-01.png?raw=true width=560>\n",
        "</p>"
      ]
    },
    {
      "cell_type": "code",
      "source": [
        "print(a)\n",
        "print(a*2)\n",
        "print(a*[2,2,2])\n",
        "print('-------------')\n",
        "c=np.arange(1,10).reshape(3,3)\n",
        "print(c*[2,2,2])"
      ],
      "metadata": {
        "id": "ZhsYhSsaLhoh",
        "colab": {
          "base_uri": "https://localhost:8080/"
        },
        "outputId": "c121596e-d814-42f6-831f-44810c9c1d5f"
      },
      "execution_count": null,
      "outputs": [
        {
          "output_type": "stream",
          "name": "stdout",
          "text": [
            "[[ 6  3 10]\n",
            " [ 7  4  6]\n",
            " [ 9  2  6]\n",
            " [10 10  7]]\n",
            "[[12  6 20]\n",
            " [14  8 12]\n",
            " [18  4 12]\n",
            " [20 20 14]]\n",
            "[[12  6 20]\n",
            " [14  8 12]\n",
            " [18  4 12]\n",
            " [20 20 14]]\n",
            "-------------\n",
            "[[ 2  4  6]\n",
            " [ 8 10 12]\n",
            " [14 16 18]]\n"
          ]
        }
      ]
    },
    {
      "cell_type": "markdown",
      "metadata": {
        "id": "bSey8YjkL5BT"
      },
      "source": [
        "---\n",
        "### **(2) 수학 관련 함수**\n",
        "---\n",
        "\n",
        "\n",
        "\n"
      ]
    },
    {
      "cell_type": "markdown",
      "source": [
        "#### **| 절대값 함수 (Absolute Function)**\n",
        "\n",
        "\n",
        "\n",
        "\n",
        "\n",
        "* `np.absolute(n)` = `np.abs(n)` : `n`의 절대값 반환\n",
        "\n",
        "```\n",
        "print(b)\n",
        "np.abs(b)\n",
        "```\n"
      ],
      "metadata": {
        "id": "aNlW6SlrO9nr"
      }
    },
    {
      "cell_type": "code",
      "metadata": {
        "id": "zaMa3LVuO9ns",
        "colab": {
          "base_uri": "https://localhost:8080/"
        },
        "outputId": "bebcdf4a-0bc3-4541-b09c-b5a683af3104"
      },
      "source": [
        "print(b)\n",
        "np.abs(b)"
      ],
      "execution_count": null,
      "outputs": [
        {
          "output_type": "stream",
          "name": "stdout",
          "text": [
            "[-1  2 -3]\n"
          ]
        },
        {
          "output_type": "execute_result",
          "data": {
            "text/plain": [
              "array([1, 2, 3])"
            ]
          },
          "metadata": {},
          "execution_count": 11
        }
      ]
    },
    {
      "cell_type": "markdown",
      "metadata": {
        "id": "U5uE3sVtzRvA"
      },
      "source": [
        "#### **| 제곱/제곱근 함수**\n",
        "\n",
        "* `np.square(n)`: `n`의 제곱을 반환\n",
        "* `np.sqrt(n)` : `n`의 제곱근을 반환\n",
        "\n",
        "```\n",
        "n = 25\n",
        "print(np.square(n), np.sqrt(n))\n",
        "```"
      ]
    },
    {
      "cell_type": "code",
      "metadata": {
        "id": "ggnIxDGzzTfX",
        "colab": {
          "base_uri": "https://localhost:8080/"
        },
        "outputId": "661f19db-15df-42d1-ea8f-5411d27c46a5"
      },
      "source": [
        "n = 25\n",
        "print(np.square(n), np.sqrt(n))"
      ],
      "execution_count": null,
      "outputs": [
        {
          "output_type": "stream",
          "name": "stdout",
          "text": [
            "625 5.0\n"
          ]
        }
      ]
    },
    {
      "cell_type": "markdown",
      "metadata": {
        "id": "tWh1aQ50vRhB"
      },
      "source": [
        "#### **| 지수/로그 함수**\n",
        "\n",
        "* `np.exp(n)` : 자연상수 `e`(=~2.71..)의 `n` 제곱을 반환\n",
        "* `np.exp2(n)` : 상수 `2`의 `n` 제곱을 반환\n",
        "\n",
        "\n",
        "```\n",
        "[np.exp2(n) for n in range(10)]\n",
        "```\n",
        "\n",
        "\n",
        "\n",
        "\n",
        "\n"
      ]
    },
    {
      "cell_type": "code",
      "metadata": {
        "id": "Dygt3AyHvTZz",
        "colab": {
          "base_uri": "https://localhost:8080/"
        },
        "outputId": "e2b738dd-40e8-413a-c758-fdbe48d046ff"
      },
      "source": [
        "print([np.exp2(n) for n in range(10)])  # 2의 제곱\n",
        "print([np.exp(n) for n in range(10)])   # 자연상수"
      ],
      "execution_count": null,
      "outputs": [
        {
          "output_type": "stream",
          "name": "stdout",
          "text": [
            "[1.0, 2.0, 4.0, 8.0, 16.0, 32.0, 64.0, 128.0, 256.0, 512.0]\n",
            "[1.0, 2.718281828459045, 7.38905609893065, 20.085536923187668, 54.598150033144236, 148.4131591025766, 403.4287934927351, 1096.6331584284585, 2980.9579870417283, 8103.083927575384]\n"
          ]
        }
      ]
    },
    {
      "cell_type": "markdown",
      "source": [
        "\n",
        "* `np.log(n)` : 밑이 `e`인 로그값을 반환합니다. \n",
        "* `np.log2(n)` : 밑이 `2`인 로그값을 반환합니다.\n",
        "* `np.log10(n)` : 밑이 `10`인 로그값을 반환합니다.\n",
        "\n",
        "```\n",
        "n = [10,100,1000,10000]\n",
        "np.log10(n)\n",
        "```"
      ],
      "metadata": {
        "id": "0g8jrMErbtEA"
      }
    },
    {
      "cell_type": "code",
      "metadata": {
        "id": "YB0BzwxDvnkT",
        "colab": {
          "base_uri": "https://localhost:8080/"
        },
        "outputId": "62f437d6-e8bb-4d2d-d991-cf4838babaed"
      },
      "source": [
        "n = [10,100,1000,10000]\n",
        "print(np.log10(n))\n",
        "print(np.log2(n))\n",
        "print(np.log(n))"
      ],
      "execution_count": null,
      "outputs": [
        {
          "output_type": "stream",
          "name": "stdout",
          "text": [
            "[1. 2. 3. 4.]\n",
            "[ 3.32192809  6.64385619  9.96578428 13.28771238]\n",
            "[2.30258509 4.60517019 6.90775528 9.21034037]\n"
          ]
        }
      ]
    },
    {
      "cell_type": "markdown",
      "metadata": {
        "id": "wE_p9AxjtdJ9"
      },
      "source": [
        "#### **| 삼각 함수(Trigonometrical Function)**\n",
        "\n",
        "|함수|설명|\n",
        "|--|--|\n",
        "|`np.sin`|사인|\n",
        "|`np.cos`|코사인|\n",
        "|`np.tan`|탄젠트|\n",
        "|`np.arcsin`|아크 사인|\n",
        "|`np.argcos`|아크 코사인|\n",
        "|`np.argtan`|아크 탄젠트|\n",
        "|`np.sinh`|하이퍼볼릭 사인|\n",
        "|`np.cosh`|하이퍼볼릭 코사인|\n",
        "|`np.tanh`|하이퍼볼릭 탄젠트|\n",
        "|`np.arcsinh`|하이퍼볼릭 아크 사인|\n",
        "|`np.arccosh`|하이퍼볼릭 아크 코사인|\n",
        "|`np.arctanh`|하이퍼볼릭 아크 탄젠트|\n",
        "|`np.deg2rad`|각도를 라디안으로 변환|\n",
        "|`np.rad2deg`|라디안을 각도로 변환|\n",
        "|`np.hypot`|유클리드 거리계산|\n",
        "\n",
        "학창시절 아래 삼각함수 표를 외워본 경험이 있을 겁니다. 더이상 이를 외울 필요는 없습니다. 코드가 알아서 해줄테니까요. 값이 똑같이 나오는지 확인해 봅시다.\n",
        "\n",
        "<p align='center'>\n",
        "<img src=https://github.com/yebiny/SkillTreePython-DataAnalysis/blob/main/imgs/ch0105-02.png?raw=true width=500>\n",
        "</p>\n",
        "\n",
        "```\n",
        "n = 0\n",
        "np.sin(n), np.cos(n), np.tan(n)\n",
        "```"
      ]
    },
    {
      "cell_type": "code",
      "metadata": {
        "id": "v7m-AQW9uJ9u",
        "colab": {
          "base_uri": "https://localhost:8080/"
        },
        "outputId": "66ef8b3e-9eba-4eda-8ec6-3d3a4f61f304"
      },
      "source": [
        "n=90    # np.pi를 써줘야 각도와 맞는 예쁜 값이 나올 수 있습니다.\n",
        "np.sin(n), np.cos(n),np.tan(n)"
      ],
      "execution_count": null,
      "outputs": [
        {
          "output_type": "execute_result",
          "data": {
            "text/plain": [
              "(0.8939966636005579, -0.4480736161291701, -1.995200412208242)"
            ]
          },
          "metadata": {},
          "execution_count": 23
        }
      ]
    },
    {
      "cell_type": "markdown",
      "metadata": {
        "id": "EHGOV5FuPII3"
      },
      "source": [
        "#### **| 집계 함수(Aggregate Functions)**\n",
        "\n",
        "|함수|설명|\n",
        "|--|--|\n",
        "|`np.sum()`|배열 내 합을 반환|\n",
        "|`np.cumsum()`|배열 내 누적합 반환|\n",
        "|`np.prod()`|배열 내 곱 반환|\n",
        "|`np.diff()`|배열 내 차 반환|\n",
        "|`np.min()`|최소값 반환|\n",
        "|`np.max()`|최대값 반환|\n",
        "|`np.mean()`|평균 반환|\n",
        "|`np.std()`|표준편차 반환|\n",
        "|`np.var()`|분산 반환|\n",
        "|`np.median()`|중앙값 반환|\n",
        "|`np.argmin()`|최소값 인덱스 반환|\n",
        "|`np.argmax()`|최소값 인덱스 반환|\n",
        "\n",
        "\n",
        "```\n",
        "print(a)\n",
        "print('누적합: ',np.cumsum(a))\n",
        "print('곱: ',np.prod(a))\n",
        "print('차: ',np.diff(a))\n",
        "print('중앙값: ',np.median(a))\n",
        "```"
      ]
    },
    {
      "cell_type": "code",
      "source": [
        "print(a)\n",
        "print('누적합: ',np.cumsum(a))\n",
        "print('곱: ',np.prod(a))\n",
        "print('차: ',np.diff(a))\n",
        "print('중앙값: ',np.median(a))"
      ],
      "metadata": {
        "id": "OIENQ0LlVMyd",
        "colab": {
          "base_uri": "https://localhost:8080/"
        },
        "outputId": "dc6f8a7d-3e75-4512-bdac-e0d21a5d9a50"
      },
      "execution_count": null,
      "outputs": [
        {
          "output_type": "stream",
          "name": "stdout",
          "text": [
            "[1 2 3]\n",
            "누적합:  [1 3 6]\n",
            "곱:  6\n",
            "차:  [1 1]\n",
            "중앙값:  2.0\n"
          ]
        }
      ]
    },
    {
      "cell_type": "markdown",
      "source": [
        "머신러닝에서 자주 사용되는 함수는 `np.argmax`입니다. `np.argmax`는 최대값의 인덱스를 반환하는데요, 최대값 자체가 아닌 인덱스가 언제 필요할까요?\n",
        "\n",
        "예시를 들어 봅시다. `y`에 카드 이름이, `x`에는 각 카드가 뽑힐 확률이 들어 있습니다. 뽑힐 확률이 가장 높은 카드를 아래와 같이 구할 수 있습니다.\n",
        "\n",
        "```\n",
        "x = [0.1, 0.2, 0.6, 0.1]\n",
        "y = ['a', 'b', 'c', 'd']\n",
        "idx = np.argmax(x)\n",
        "print(y[idx]) # 팬시 인덱싱\n",
        "```"
      ],
      "metadata": {
        "id": "VAVV6_8OarUE"
      }
    },
    {
      "cell_type": "code",
      "source": [
        "x = [0.1, 0.2, 0.6, 0.1]\n",
        "y = ['a', 'b', 'c', 'd']\n",
        "idx = np.argmax(x)\n",
        "idx, y[idx]\n",
        "# print(y[idx]) # 팬시 인덱싱"
      ],
      "metadata": {
        "id": "X5ltEzDsap-m",
        "colab": {
          "base_uri": "https://localhost:8080/"
        },
        "outputId": "d63c36ab-c272-4b63-b318-0c11fec06e1b"
      },
      "execution_count": null,
      "outputs": [
        {
          "output_type": "execute_result",
          "data": {
            "text/plain": [
              "(2, 'c')"
            ]
          },
          "metadata": {},
          "execution_count": 26
        }
      ]
    },
    {
      "cell_type": "markdown",
      "metadata": {
        "id": "ohtLbHoEVMU2"
      },
      "source": [
        "---\n",
        "### **(3) 벡터/행렬 연산**\n",
        "---\n",
        "\n",
        "|함수|설명|\n",
        "|--|--|\n",
        "|`np.matmul()`|=`@`, 행렬곱|\n",
        "|`np.dot()`|내적|\n",
        "|`np.prod()`|외적|\n",
        "\n"
      ]
    },
    {
      "cell_type": "markdown",
      "source": [
        "\n",
        "* `np.matmul(a1, a2)` : 배열 `a1`과 `a2`의 행렬곱을 수행합니다. \n",
        "\n",
        "일반적인 행렬곱을 `matmul`을 통해서 할 수 있습니다. \n",
        "\n",
        "```\n",
        "A = np.array([[1,2],\n",
        "              [0,1]])\n",
        "B = np.array([[1,0],\n",
        "              [0,1]])\n",
        "print(np.matmul(A,B))\n",
        "print(A@B)\n",
        "```\n"
      ],
      "metadata": {
        "id": "i6ll7q_HWTKA"
      }
    },
    {
      "cell_type": "code",
      "source": [
        "A = np.array([[1,2],\n",
        "              [0,1]])\n",
        "B = np.array([[1,0],\n",
        "              [0,1]])\n",
        "print(np.matmul(A,B))   # 일반적으로 하는 행렬곱\n",
        "print(A@B)"
      ],
      "metadata": {
        "id": "9Gds9RSHWTx8",
        "colab": {
          "base_uri": "https://localhost:8080/"
        },
        "outputId": "61366feb-5e41-4b70-911c-49c7cb2277e1"
      },
      "execution_count": null,
      "outputs": [
        {
          "output_type": "stream",
          "name": "stdout",
          "text": [
            "[[1 2]\n",
            " [0 1]]\n",
            "[[1 2]\n",
            " [0 1]]\n"
          ]
        }
      ]
    },
    {
      "cell_type": "markdown",
      "source": [
        "* `np.dot(a1, a2)`: 배열 `a1`과 `a2`의 벡터 내적을 수행합니다.\n",
        "\n",
        "벡터 내적은 벡터 내 같은 인덱스의 값을 곱하고 모두 더한 것입니다.\n",
        "\n",
        "```\n",
        "print(a, b)\n",
        "print(sum(a*b))\n",
        "print(np.dot(a,b))\n",
        "```\n",
        "\n",
        "\n"
      ],
      "metadata": {
        "id": "WJrKcbetWT5E"
      }
    },
    {
      "cell_type": "code",
      "source": [
        "print(a,b)\n",
        "print(sum(a*b))\n",
        "print(np.dot(a,b))"
      ],
      "metadata": {
        "id": "xX2V5x3SWSpk",
        "colab": {
          "base_uri": "https://localhost:8080/"
        },
        "outputId": "a412e5f6-9ccc-4a63-fcfa-4fb2d242cf3e"
      },
      "execution_count": null,
      "outputs": [
        {
          "output_type": "stream",
          "name": "stdout",
          "text": [
            "[1 2 3] [-1  2 -3]\n",
            "-6\n",
            "-6\n"
          ]
        }
      ]
    },
    {
      "cell_type": "markdown",
      "metadata": {
        "id": "_oy400wHYLHN"
      },
      "source": [
        "---\n",
        "### **(4) 비교 연산**\n",
        "---\n",
        "\n",
        "비교 연산자를 이용하면 `boolean` 값으로 이루어진 배열을 반환합니다.\n",
        "\n",
        "\n"
      ]
    },
    {
      "cell_type": "markdown",
      "source": [
        "\n",
        "#### **| 값 비교**\n",
        "\n",
        "\n",
        "|연산자|비교 범용 함수|\n",
        "|--|--|\n",
        "|`==`|`np.equal`|\n",
        "|`!=`|`np.not_equal`|\n",
        "|`<`| `np.less`|\n",
        "|`<=`|`np.less_equal`|\n",
        "|`>`| `np.greater`|\n",
        "|`>=`|`np.greater_equal`|\n",
        "\n",
        "```\n",
        "print(a)\n",
        "print(b)\n",
        "a==b, a<b, a>b\n",
        "```"
      ],
      "metadata": {
        "id": "Hhi5eYZu9Uw4"
      }
    },
    {
      "cell_type": "code",
      "source": [
        "print(a)\n",
        "print(b)\n",
        "a==b, a<b, a>b  # 리스트에서는 허용하지 않습니다."
      ],
      "metadata": {
        "id": "gXL4qh9G0Euw",
        "colab": {
          "base_uri": "https://localhost:8080/"
        },
        "outputId": "1c7b1dea-08e1-4e65-8edb-a3bc5be5d7a0"
      },
      "execution_count": null,
      "outputs": [
        {
          "output_type": "stream",
          "name": "stdout",
          "text": [
            "[1 2 3]\n",
            "[-1  2 -3]\n"
          ]
        },
        {
          "output_type": "execute_result",
          "data": {
            "text/plain": [
              "(array([False,  True, False]),\n",
              " array([False, False, False]),\n",
              " array([ True, False,  True]))"
            ]
          },
          "metadata": {},
          "execution_count": 33
        }
      ]
    },
    {
      "cell_type": "markdown",
      "source": [
        "\n",
        "#### **| 예외값 비교**\n",
        "\n",
        "\n",
        "\n",
        "|함수|설명|\n",
        "|--|--|\n",
        "|`np.isinf`|`inf` 값이면 `True`, 아니면 `False`|\n",
        "|`np.isfinite`|`inf, nan` 값이면 `False`, 아니면 `True`|\n",
        "|`np.isnan`|`nan` 값이면 `True`, 아니면 `False`|\n",
        "\n",
        "```\n",
        "a = [np.inf, np.nan, 0]\n",
        "print(np.isinf(a))\n",
        "print(np.isfinite(a))\n",
        "print(np.isnan(a))\n",
        "```"
      ],
      "metadata": {
        "id": "OLsYDXJ88jyd"
      }
    },
    {
      "cell_type": "code",
      "source": [
        "a = [np.inf, np.nan, 0]\n",
        "print(a)\n",
        "print(np.isinf(a))\n",
        "print(np.isfinite(a))\n",
        "print(np.isnan(a))"
      ],
      "metadata": {
        "id": "pt_d1IfE0F0g",
        "colab": {
          "base_uri": "https://localhost:8080/"
        },
        "outputId": "6eda543b-9be6-4ee4-c123-23f2b8b3c9dc"
      },
      "execution_count": null,
      "outputs": [
        {
          "output_type": "stream",
          "name": "stdout",
          "text": [
            "[inf, nan, 0]\n",
            "[ True False False]\n",
            "[False False  True]\n",
            "[False  True False]\n"
          ]
        }
      ]
    },
    {
      "cell_type": "markdown",
      "source": [
        "#### **| 논리 연산자**\n",
        "\n",
        "|함수|설명|\n",
        "|--|--|\n",
        "|`np.all()`|모두 `True`일때 `True` 반환|\n",
        "|`np.any()`|모두 `False`일때 `False` 반환|\n",
        "\n",
        "파이썬의 논리 연산자와 동일 합니다. 아래와 같이 숫자 자료형을 바로 넣으면 0 일 때는 `False`, 그 외에는 `True`로 인식하여 연산이 진행됩니다.\n",
        "\n",
        "```\n",
        "a = [1,0,1,1,0]\n",
        "np.all(a), np.any(a)\n",
        "```"
      ],
      "metadata": {
        "id": "rnvGTkHatKIn"
      }
    },
    {
      "cell_type": "code",
      "source": [
        "a = [1,0,1,1,0]\n",
        "np.all(a) # 하나라도 False(0)이 있어서 false\n",
        "np.any(a) # 하나라도 True(1)이 있어서 True"
      ],
      "metadata": {
        "id": "PlyGLDBntSCt",
        "colab": {
          "base_uri": "https://localhost:8080/"
        },
        "outputId": "f01cd303-2ed9-4dc8-aa09-459e6cd887f1"
      },
      "execution_count": null,
      "outputs": [
        {
          "output_type": "execute_result",
          "data": {
            "text/plain": [
              "(False, True)"
            ]
          },
          "metadata": {},
          "execution_count": 37
        }
      ]
    },
    {
      "cell_type": "markdown",
      "metadata": {
        "id": "3SiCZqJsap3_"
      },
      "source": [
        "---\n",
        "### **(5) 정렬**\n",
        "---\n",
        "\n",
        "\n",
        "|함수|설명|\n",
        "|--|--|\n",
        "|`np.sort()`|오름차순 정렬|\n",
        "|`np.argsort()`|index 정렬|\n",
        "|`np.partition()`|`k`개의 작은값 반환|\n"
      ]
    },
    {
      "cell_type": "markdown",
      "source": [
        "* `np.sort(a, axis=axis)` : 배열 `a`를 오름차순으로 정렬합니다. \n",
        "\n",
        "```\n",
        "np.random.seed(42);a = np.random.randint(0,12,(3,4))\n",
        "print(a)\n",
        "print('axis=0: 위에서 아래로 정렬')\n",
        "print(np.sort(a, axis=0))\n",
        "print('axis=1: 좌에서 우로 정렬')\n",
        "print(np.sort(a, axis=1))\n",
        "```\n"
      ],
      "metadata": {
        "id": "kTcud6R1-ptC"
      }
    },
    {
      "cell_type": "code",
      "source": [
        "np.random.seed(42);a=np.random.randint(0,12,(4,3))\n",
        "print(a)\n",
        "print('axis=0: 위에서 아래로 정렬')\n",
        "a1 = np.sort(a, axis=0)[::-1]\n",
        "print('axis=1: 좌에서 우로 정렬')\n",
        "print(np.sort(a, axis=1))"
      ],
      "metadata": {
        "id": "-4A0yrwM0I4M",
        "colab": {
          "base_uri": "https://localhost:8080/"
        },
        "outputId": "2bb58fd4-fcdd-4c6b-83bb-7a43303c6599"
      },
      "execution_count": null,
      "outputs": [
        {
          "output_type": "stream",
          "name": "stdout",
          "text": [
            "[[ 6  3 10]\n",
            " [ 7  4  6]\n",
            " [ 9  2  6]\n",
            " [10 10  7]]\n",
            "axis=0: 위에서 아래로 정렬\n",
            "axis=1: 좌에서 우로 정렬\n",
            "[[ 3  6 10]\n",
            " [ 4  6  7]\n",
            " [ 2  6  9]\n",
            " [ 7 10 10]]\n"
          ]
        }
      ]
    },
    {
      "cell_type": "markdown",
      "source": [
        "* `np.argsort(a, axis=axis)` : 배열 `a`를 오름차순 정렬하는  인덱스를 반환\n",
        "\n",
        "위에서 배웠던 `np.argmax`와 마찬가지로 팬시 인덱싱에서 유용하게 사용됩니다. \n",
        "\n",
        "아래와 같이 월별(x) 판매수(y)가 주어졌을 때 판매수 순으로 정렬하고자 합니다. \n",
        "\n",
        "```\n",
        "x = np.array(['1월', '2월', '3월'])\n",
        "y = np.array([500,230,350])\n",
        "sort_idx = np.argsort(y)\n",
        "print(sort_idx)\n",
        "x[sort_idx][::-1] # 팬시 인덱싱\n",
        "```"
      ],
      "metadata": {
        "id": "vtT3s-bP_dOo"
      }
    },
    {
      "cell_type": "code",
      "source": [
        "x = np.array(['1월', '2월', '3월'])\n",
        "y = np.array([500, 230, 350])\n",
        "sort_idx = np.argsort(y)\n",
        "print(sort_idx)\n",
        "x[sort_idx][::-1] # 내림차순, [::1]은 오름차순"
      ],
      "metadata": {
        "id": "Mt4Bjvj-0KTE",
        "colab": {
          "base_uri": "https://localhost:8080/"
        },
        "outputId": "654d0376-6df4-4d96-b149-fc448722db10"
      },
      "execution_count": null,
      "outputs": [
        {
          "output_type": "stream",
          "name": "stdout",
          "text": [
            "[1 2 0]\n"
          ]
        },
        {
          "output_type": "execute_result",
          "data": {
            "text/plain": [
              "array(['1월', '3월', '2월'], dtype='<U2')"
            ]
          },
          "metadata": {},
          "execution_count": 51
        }
      ]
    },
    {
      "cell_type": "markdown",
      "source": [
        "## 문제풀이\n",
        "---"
      ],
      "metadata": {
        "id": "a3jBnhpAdMVe"
      }
    },
    {
      "cell_type": "markdown",
      "metadata": {
        "id": "d9o7kBXoNlE3"
      },
      "source": [
        "**예제 01**\n",
        "\n",
        "아래 그림에 있는 산술연산을 각각 코드로 구현하세요\n",
        "\n",
        "<p align='center'>\n",
        "<img src=https://github.com/yebiny/SkillTreePython-DataAnalysis/blob/main/imgs/ch0105-03.png?raw=true width=400>\n",
        "</p>\n"
      ]
    },
    {
      "cell_type": "code",
      "metadata": {
        "id": "Gwir0bafNlE9",
        "colab": {
          "base_uri": "https://localhost:8080/"
        },
        "outputId": "de2e0368-6daf-4112-b937-03951f7dc9c1"
      },
      "source": [
        "import numpy as np\n",
        "a = np.array([1,2,3])\n",
        "print(a+2)\n",
        "print(a-2)\n",
        "print(a%2)\n",
        "print(a**2)"
      ],
      "execution_count": null,
      "outputs": [
        {
          "output_type": "stream",
          "name": "stdout",
          "text": [
            "[3 4 5]\n",
            "[-1  0  1]\n",
            "[1 0 1]\n",
            "[1 4 9]\n"
          ]
        }
      ]
    },
    {
      "cell_type": "markdown",
      "metadata": {
        "id": "9K2SFvwvDWS0"
      },
      "source": [
        "**예제 02**\n",
        "\n",
        "\n",
        "아래는 `sum`의 용례를 그림으로 표현한 것입니다. 각 경우에 대해 코드로 구현하세요.\n",
        "\n",
        "<p align='center'>\n",
        "<img src=https://github.com/yebiny/SkillTreePython-DataAnalysis/blob/main/imgs/ch0105-04.png?raw=true width=460>\n",
        "</p>\n"
      ]
    },
    {
      "cell_type": "code",
      "source": [
        "a = np.array([[1,2,3],[1,2,3]])\n",
        "\n",
        "b = np.sum(a)\n",
        "print(b)\n",
        "\n",
        "c = np.sum(a, axis=0)\n",
        "print(c)\n",
        "\n",
        "d = np.sum(a, axis=1)\n",
        "print(d)"
      ],
      "metadata": {
        "id": "fRmgVemQeXB5",
        "colab": {
          "base_uri": "https://localhost:8080/"
        },
        "outputId": "4c32bc39-dddc-43cd-993c-7424bc85d2e1"
      },
      "execution_count": null,
      "outputs": [
        {
          "output_type": "stream",
          "name": "stdout",
          "text": [
            "12\n",
            "[2 4 6]\n",
            "[6 6]\n"
          ]
        }
      ]
    },
    {
      "cell_type": "markdown",
      "source": [
        "**예제 03**\n",
        "\n",
        "위와 똑같은 방법으로 3가지 경우에 대해 `min()`을 수행하세요"
      ],
      "metadata": {
        "id": "0keO4-KjEApG"
      }
    },
    {
      "cell_type": "code",
      "source": [
        "b = np.min(a)\n",
        "print(b)\n",
        "\n",
        "c = np.min(a, axis=0)\n",
        "print(c)\n",
        "\n",
        "d = np.min(a, axis=1)\n",
        "print(d)"
      ],
      "metadata": {
        "id": "UNDxcRJxsQJn",
        "colab": {
          "base_uri": "https://localhost:8080/"
        },
        "outputId": "c328e3f5-16fc-4966-bc7f-8e684968e8d1"
      },
      "execution_count": null,
      "outputs": [
        {
          "output_type": "stream",
          "name": "stdout",
          "text": [
            "1\n",
            "[1 2 3]\n",
            "[1 1]\n"
          ]
        }
      ]
    },
    {
      "cell_type": "markdown",
      "source": [
        "**예제 04**\n",
        "\n",
        "위와 똑같은 방법으로 3가지 경우에 대해 `argmax()`을 수행하세요"
      ],
      "metadata": {
        "id": "4UCGzsZdESAT"
      }
    },
    {
      "cell_type": "code",
      "source": [
        "b = np.argmax(a)\n",
        "print(b)\n",
        "\n",
        "c = np.argmax(a,axis=0) \n",
        "print(c)\n",
        "\n",
        "d = np.argmax(a,axis=1)\n",
        "print(d)"
      ],
      "metadata": {
        "id": "-wPr1XR4ESAU",
        "colab": {
          "base_uri": "https://localhost:8080/"
        },
        "outputId": "c72a789f-6f38-4357-86e7-6d0796475679"
      },
      "execution_count": null,
      "outputs": [
        {
          "output_type": "stream",
          "name": "stdout",
          "text": [
            "2\n",
            "[0 0 0]\n",
            "[2 2]\n"
          ]
        }
      ]
    },
    {
      "cell_type": "markdown",
      "source": [
        "**예제 05**\n",
        "\n",
        "위와 똑같은 방법으로 3가지 경우에 대해 `std()`을 수행하세요"
      ],
      "metadata": {
        "id": "yMPwhGuUEY1v"
      }
    },
    {
      "cell_type": "code",
      "source": [
        "b = np.std(a)\n",
        "print(b)\n",
        "\n",
        "c = np.std(a, axis=0)\n",
        "print(c)\n",
        "\n",
        "d = np.std(a, axis=1)\n",
        "print(d)"
      ],
      "metadata": {
        "id": "KKmFZ_BYEY1v",
        "colab": {
          "base_uri": "https://localhost:8080/"
        },
        "outputId": "44832f1f-b76f-428b-a2db-ddf17b86f49f"
      },
      "execution_count": null,
      "outputs": [
        {
          "output_type": "stream",
          "name": "stdout",
          "text": [
            "0.816496580927726\n",
            "[0. 0. 0.]\n",
            "[0.81649658 0.81649658]\n"
          ]
        }
      ]
    },
    {
      "cell_type": "markdown",
      "metadata": {
        "id": "jWsyyY-4DduJ"
      },
      "source": [
        "**예제 06**\n",
        "\n",
        "아래는 `any`의 용례를 그림으로 표현한 것입니다. 각 경우에 대해 코드로 구현하고, 왜 이런 결과가 나오는지 정리하세요.\n",
        "\n",
        "\n",
        "<p align='center'>\n",
        "<img src=https://github.com/yebiny/SkillTreePython-DataAnalysis/blob/main/imgs/ch0105-05.png?raw=true width=580>\n",
        "</p>\n"
      ]
    },
    {
      "cell_type": "code",
      "source": [
        "b = np.any(a>2)\n",
        "print(b)\n",
        "\n",
        "c = np.any(a>2,axis=0)\n",
        "print(c)\n",
        "\n",
        "d = np.any(a>2, axis=1)\n",
        "print(d)"
      ],
      "metadata": {
        "id": "sWBmKlwmvzoN",
        "colab": {
          "base_uri": "https://localhost:8080/"
        },
        "outputId": "a15e09e8-9cf2-4730-fbc3-cc1031b1e366"
      },
      "execution_count": null,
      "outputs": [
        {
          "output_type": "stream",
          "name": "stdout",
          "text": [
            "True\n",
            "[False False  True]\n",
            "[ True  True]\n"
          ]
        }
      ]
    },
    {
      "cell_type": "markdown",
      "source": [
        "**예제 07**\n",
        "\n",
        "위와 똑같은 방법으로 3가지 경우에 대해 `all()`을 수행하고, 왜 이런 결과가 나오는지 정리하세요."
      ],
      "metadata": {
        "id": "mwnQPVUNE1h1"
      }
    },
    {
      "cell_type": "code",
      "metadata": {
        "id": "VKgUxqoFE1h2",
        "colab": {
          "base_uri": "https://localhost:8080/"
        },
        "outputId": "6d4f3cd8-76f4-49fd-b0d6-291c4ac0df99"
      },
      "source": [
        "b = np.all(a>2)\n",
        "print(b)\n",
        "\n",
        "c = np.all(a>2,axis=0)\n",
        "print(c)\n",
        "\n",
        "d = np.all(a>2, axis=1)\n",
        "print(d)"
      ],
      "execution_count": null,
      "outputs": [
        {
          "output_type": "stream",
          "name": "stdout",
          "text": [
            "False\n",
            "[False False  True]\n",
            "[False False]\n"
          ]
        }
      ]
    },
    {
      "cell_type": "markdown",
      "metadata": {
        "id": "2IBubqt7Dk7s"
      },
      "source": [
        "**예제 08**\n",
        "\n",
        "\n",
        "1에서 100까지의 랜덤값을 가지고 형태가 `(40)` 인 1차원 배열을 `a08`로 바인딩하세요"
      ]
    },
    {
      "cell_type": "code",
      "metadata": {
        "id": "xiwGmZftDk7t",
        "colab": {
          "base_uri": "https://localhost:8080/"
        },
        "outputId": "febba6b4-1474-4273-e7ff-7de7f90af72f"
      },
      "source": [
        "np.random.seed(40);a = np.random.randint(1,100,(1,40))\n",
        "a08 = np.array([a])\n",
        "print(a08)"
      ],
      "execution_count": null,
      "outputs": [
        {
          "output_type": "stream",
          "name": "stdout",
          "text": [
            "[[[71 92  8 38 57 51 66 13 72 20 32 75 56 84 60 92 74 97 50 54 74  9 53\n",
            "   31 80 15 93 59 75 23  4 92 72 56 84 29 14 38 83 51]]]\n"
          ]
        }
      ]
    },
    {
      "cell_type": "markdown",
      "source": [
        "**예제 09**\n",
        "\n",
        "`a08`에서 50보다 큰 수만 가지는 배열을 불리언 연산자를 이용해서 생성하세요."
      ],
      "metadata": {
        "id": "AV6YotDEFht1"
      }
    },
    {
      "cell_type": "code",
      "metadata": {
        "id": "QfmEyuClFht1",
        "colab": {
          "base_uri": "https://localhost:8080/"
        },
        "outputId": "f899ee70-0242-4916-d365-eefd82ef26cf"
      },
      "source": [
        "c = a08>50\n",
        "print(c)\n",
        "a08[c]"
      ],
      "execution_count": null,
      "outputs": [
        {
          "output_type": "stream",
          "name": "stdout",
          "text": [
            "[[[ True  True False False  True  True  True False  True False False\n",
            "    True  True  True  True  True  True  True False  True  True False\n",
            "    True False  True False  True  True  True False False  True  True\n",
            "    True  True False False False  True  True]]]\n"
          ]
        },
        {
          "output_type": "execute_result",
          "data": {
            "text/plain": [
              "array([71, 92, 57, 51, 66, 72, 75, 56, 84, 60, 92, 74, 97, 54, 74, 53, 80,\n",
              "       93, 59, 75, 92, 72, 56, 84, 83, 51])"
            ]
          },
          "metadata": {},
          "execution_count": 171
        }
      ]
    },
    {
      "cell_type": "markdown",
      "source": [
        "**예제 10**\n",
        "\n",
        "`a08`에서 50 이하이며 3의 배수만 가지는 배열을 불리언 연산자를 이용해 생성하세요"
      ],
      "metadata": {
        "id": "15JxLUfIFvhb"
      }
    },
    {
      "cell_type": "code",
      "metadata": {
        "id": "dohpkasaFvhc",
        "colab": {
          "base_uri": "https://localhost:8080/"
        },
        "outputId": "4534c12e-c516-4ad4-897d-ccdd771f4ccd"
      },
      "source": [
        "c = (a08<=50) & (a08//3==0)\n",
        "print(c)\n",
        "a08[c]"
      ],
      "execution_count": null,
      "outputs": [
        {
          "output_type": "stream",
          "name": "stdout",
          "text": [
            "[[[False False False False False False False False False False False\n",
            "   False False False False False False False False False False False\n",
            "   False False False False False False False False False False False\n",
            "   False False False False False False False]]]\n"
          ]
        },
        {
          "output_type": "execute_result",
          "data": {
            "text/plain": [
              "array([], dtype=int64)"
            ]
          },
          "metadata": {},
          "execution_count": 173
        }
      ]
    },
    {
      "cell_type": "markdown",
      "source": [
        "**예제 11**\n",
        "\n",
        "`a08`에서 90이상이거나 10이하인 수만 가지는 배열을 불리언 연산자를 이용해 생성하세요"
      ],
      "metadata": {
        "id": "cfPWmy9QGPon"
      }
    },
    {
      "cell_type": "code",
      "metadata": {
        "id": "BV55x0xiGPoo",
        "colab": {
          "base_uri": "https://localhost:8080/"
        },
        "outputId": "4ecc8256-1624-40de-ef94-ff6a4d973adf"
      },
      "source": [
        "c = (a08>=90) | (a08<=10)\n",
        "a08[c]"
      ],
      "execution_count": null,
      "outputs": [
        {
          "output_type": "execute_result",
          "data": {
            "text/plain": [
              "array([92,  8, 92, 97,  9, 93,  4, 92])"
            ]
          },
          "metadata": {},
          "execution_count": 174
        }
      ]
    },
    {
      "cell_type": "markdown",
      "source": [
        "**예제 12**\n",
        "\n",
        "\n",
        "`a08`을 shape가 `(8,5)`인 2차원 배열로 변환하고 `a12`로 바인딩 하세요."
      ],
      "metadata": {
        "id": "K0xYrJgYGbDf"
      }
    },
    {
      "cell_type": "code",
      "metadata": {
        "id": "ITvXZBHaGbDf",
        "colab": {
          "base_uri": "https://localhost:8080/"
        },
        "outputId": "2cc4328f-36f7-4a24-f6f3-8e637854cb01"
      },
      "source": [
        "a08\n",
        "a12 = a08.reshape(8,5)\n",
        "print(a12)"
      ],
      "execution_count": null,
      "outputs": [
        {
          "output_type": "stream",
          "name": "stdout",
          "text": [
            "[[71 92  8 38 57]\n",
            " [51 66 13 72 20]\n",
            " [32 75 56 84 60]\n",
            " [92 74 97 50 54]\n",
            " [74  9 53 31 80]\n",
            " [15 93 59 75 23]\n",
            " [ 4 92 72 56 84]\n",
            " [29 14 38 83 51]]\n"
          ]
        }
      ]
    },
    {
      "cell_type": "markdown",
      "source": [
        "**예제 13**\n",
        "\n",
        "\n",
        "`a12`를 복사하여 `a13`으로 바인딩하고 이를 각 행 별로 정렬하세요"
      ],
      "metadata": {
        "id": "1tuYynxRGoiU"
      }
    },
    {
      "cell_type": "code",
      "metadata": {
        "id": "v33_n2dtGoiV",
        "colab": {
          "base_uri": "https://localhost:8080/"
        },
        "outputId": "78cd66d0-456e-4508-b02a-c8630cd2bbcf"
      },
      "source": [
        "a13 = np.copy(a12)\n",
        "# a13\n",
        "# np.split(a13,(1,2,3,4,5,6,7),axis=0)\n",
        "a13=np.sort(a13, axis=0)\n",
        "a13"
      ],
      "execution_count": null,
      "outputs": [
        {
          "output_type": "execute_result",
          "data": {
            "text/plain": [
              "array([[ 4,  9,  8, 31, 20],\n",
              "       [15, 14, 13, 38, 23],\n",
              "       [29, 66, 38, 50, 51],\n",
              "       [32, 74, 53, 56, 54],\n",
              "       [51, 75, 56, 72, 57],\n",
              "       [71, 92, 59, 75, 60],\n",
              "       [74, 92, 72, 83, 80],\n",
              "       [92, 93, 97, 84, 84]])"
            ]
          },
          "metadata": {},
          "execution_count": 187
        }
      ]
    },
    {
      "cell_type": "markdown",
      "source": [
        "**예제 14**\n",
        "\n",
        "\n",
        "`a12`를 복사하여 `a14`로 바인딩하고 각 열 별로 가장 작은수 3개를 찾으세요"
      ],
      "metadata": {
        "id": "3U84dpF0GtvC"
      }
    },
    {
      "cell_type": "code",
      "metadata": {
        "id": "IFBK4giEGtvC",
        "colab": {
          "base_uri": "https://localhost:8080/"
        },
        "outputId": "8498c72b-fe4d-4c4c-ca7d-605473165d54"
      },
      "source": [
        "a14 = np.copy(a12)\n",
        "a14 = np.sort(a14, axis=0)\n",
        "a14,a15 = np.split(a14,[3],axis=0)\n",
        "print('각 열별로 가장 작은수 3개')\n",
        "print(a14)\n",
        "print('이외의 값')\n",
        "print(a15)"
      ],
      "execution_count": null,
      "outputs": [
        {
          "output_type": "stream",
          "name": "stdout",
          "text": [
            "각 열별로 가장 작은수 3개\n",
            "[[ 4  9  8 31 20]\n",
            " [15 14 13 38 23]\n",
            " [29 66 38 50 51]]\n",
            "이외의 값\n",
            "[[32 74 53 56 54]\n",
            " [51 75 56 72 57]\n",
            " [71 92 59 75 60]\n",
            " [74 92 72 83 80]\n",
            " [92 93 97 84 84]]\n"
          ]
        }
      ]
    },
    {
      "cell_type": "markdown",
      "source": [
        "$A$, $B$, $C$를 아래와 같이 정의하세요.\n",
        "\n",
        "\\begin{align*}\n",
        " A&= \n",
        "\\begin{pmatrix}\n",
        "1 &2  &1 \\\\ \n",
        "2 &1 & 1\\\\ \n",
        "-1 & 0 & 1\n",
        "\\end{pmatrix}\n",
        "\\end{align*}\n",
        "\n",
        "\\begin{align*}\n",
        " B&= \n",
        "\\begin{pmatrix}\n",
        "1 &0 \\\\ \n",
        "0 &1 \\\\ \n",
        "1 & 0 \n",
        "\\end{pmatrix}\n",
        "\\end{align*}\n",
        "\n",
        "\\begin{align*}\n",
        " C&= \n",
        "\\begin{pmatrix}\n",
        "1 \\\\ \n",
        "0  \\\\ \n",
        "-1  \n",
        "\\end{pmatrix}\n",
        "\\end{align*}\n",
        "\n"
      ],
      "metadata": {
        "id": "tEodss9KIfy_"
      }
    },
    {
      "cell_type": "code",
      "source": [
        "A = np.array([[1,2,1],[2,1,1],[-1,0,1]])\n",
        "B = np.array([[1,0],[0,1],[1,0]])\n",
        "C = np.array([[1],[0],[-1]])             "
      ],
      "metadata": {
        "id": "lfugPiWZoN60"
      },
      "execution_count": null,
      "outputs": []
    },
    {
      "cell_type": "markdown",
      "source": [
        "**예제 15**\n",
        "\n",
        "\n",
        "$A$, $B$ 의 행렬곱"
      ],
      "metadata": {
        "id": "uLmADn5RJpM-"
      }
    },
    {
      "cell_type": "code",
      "metadata": {
        "id": "6y-Dpcf1JpNI",
        "colab": {
          "base_uri": "https://localhost:8080/"
        },
        "outputId": "0689aa94-dd86-4bf6-d05e-521e5a62e31d"
      },
      "source": [
        "print(A@B)"
      ],
      "execution_count": null,
      "outputs": [
        {
          "output_type": "stream",
          "name": "stdout",
          "text": [
            "[[2 2]\n",
            " [3 1]\n",
            " [0 0]]\n"
          ]
        }
      ]
    },
    {
      "cell_type": "markdown",
      "source": [
        "**예제 16**\n",
        "\n",
        "\n",
        "$A$, $C$ 의 행렬곱"
      ],
      "metadata": {
        "id": "OeS66T5ZJ4He"
      }
    },
    {
      "cell_type": "code",
      "metadata": {
        "id": "S_sKPQnNJ4Hf",
        "colab": {
          "base_uri": "https://localhost:8080/"
        },
        "outputId": "a4318839-94d6-4602-c7b8-7d52926c4aa4"
      },
      "source": [
        "print(A@C)"
      ],
      "execution_count": null,
      "outputs": [
        {
          "output_type": "stream",
          "name": "stdout",
          "text": [
            "[[ 0]\n",
            " [ 1]\n",
            " [-2]]\n"
          ]
        }
      ]
    },
    {
      "cell_type": "markdown",
      "source": [
        "**예제 17**\n",
        "\n",
        "\n",
        "$A * C$"
      ],
      "metadata": {
        "id": "QAJw9V1JKSk5"
      }
    },
    {
      "cell_type": "code",
      "metadata": {
        "id": "PvIutUcLKSk6",
        "colab": {
          "base_uri": "https://localhost:8080/"
        },
        "outputId": "ff69c7e4-0d8d-4f37-9734-84dddaded742"
      },
      "source": [
        "A*C"
      ],
      "execution_count": null,
      "outputs": [
        {
          "output_type": "execute_result",
          "data": {
            "text/plain": [
              "array([[ 1,  2,  1],\n",
              "       [ 0,  0,  0],\n",
              "       [ 1,  0, -1]])"
            ]
          },
          "metadata": {},
          "execution_count": 217
        }
      ]
    },
    {
      "cell_type": "markdown",
      "source": [
        "**예제 18**\n",
        "\n",
        "\n",
        "$B$와 $B^T$의 내적"
      ],
      "metadata": {
        "id": "OVD8v-qCJ-rv"
      }
    },
    {
      "cell_type": "code",
      "metadata": {
        "id": "9trfMVWJJ-rv",
        "colab": {
          "base_uri": "https://localhost:8080/"
        },
        "outputId": "19adf69d-ac4d-4805-db12-ecffb8a0a4ea"
      },
      "source": [
        "B\n",
        "B.T\n",
        "print(np.dot(B,B.T))"
      ],
      "execution_count": null,
      "outputs": [
        {
          "output_type": "stream",
          "name": "stdout",
          "text": [
            "[[1 0 1]\n",
            " [0 1 0]\n",
            " [1 0 1]]\n"
          ]
        }
      ]
    },
    {
      "cell_type": "markdown",
      "source": [
        "\n",
        "20명의 학생의 번호와, 키와, 수행평가 점수가 아래와 같이 정의 되어 있습니다. \n",
        "\n",
        "```\n",
        "idx = [1,2,3,4,5,6,7,8,9,10,11,12,13,14,15,16,17,18,19,20]\n",
        "tall = [178, 171, 179, 173, 152, 157, 175, 180, 182, 165, 160, 164, 174, 163, 158, 159, 172, 155, 177, 162]\n",
        "score = [57, 64, 85, 30, 58, 72, 84, 63, 49, 94, 70, 54, 60, 68, 74, 78, 92, 86, 51, 37]\n",
        "```\n"
      ],
      "metadata": {
        "id": "iMnix5w9psKz"
      }
    },
    {
      "cell_type": "markdown",
      "source": [
        "**예제 19**\n",
        "\n",
        "키가 큰 순으로 학생들의 번호(idx)를 정렬하세요.\n",
        "\n"
      ],
      "metadata": {
        "id": "c5tYq2nKol3P"
      }
    },
    {
      "cell_type": "code",
      "metadata": {
        "id": "9kJ5nVO0ol3W",
        "colab": {
          "base_uri": "https://localhost:8080/"
        },
        "outputId": "08426e9d-9393-4281-f80b-57bada7394c0"
      },
      "source": [
        "idx = [1,2,3,4,5,6,7,8,9,10,11,12,13,14,15,16,17,18,19,20]\n",
        "tall = [178, 171, 179, 173, 152, 157, 175, 180, 182, 165, 160, 164, 174, 163, 158, 159, 172, 155, 177, 162]\n",
        "tall_idx = np.argsort(tall)\n",
        "print(tall_idx[::-1])"
      ],
      "execution_count": null,
      "outputs": [
        {
          "output_type": "stream",
          "name": "stdout",
          "text": [
            "[ 8  7  2  0 18  6 12  3 16  1  9 11 13 19 10 15 14  5 17  4]\n"
          ]
        }
      ]
    },
    {
      "cell_type": "markdown",
      "source": [
        "**예제 20**\n",
        "\n",
        "수행평가 점수가 낮은 순으로 학생들의 번호(idx)를 정렬하세요.\n"
      ],
      "metadata": {
        "id": "zUs8t2AipxEp"
      }
    },
    {
      "cell_type": "code",
      "metadata": {
        "id": "9Kl8UyflpxEq",
        "colab": {
          "base_uri": "https://localhost:8080/"
        },
        "outputId": "376760d7-85a7-4df8-834f-e5eff8a1abf9"
      },
      "source": [
        "idx = [1,2,3,4,5,6,7,8,9,10,11,12,13,14,15,16,17,18,19,20]\n",
        "score = [57, 64, 85, 30, 58, 72, 84, 63, 49, 94, 70, 54, 60, 68, 74, 78, 92, 86, 51, 37]\n",
        "score_idx = np.argsort(score)\n",
        "print(score_idx[::1])"
      ],
      "execution_count": null,
      "outputs": [
        {
          "output_type": "stream",
          "name": "stdout",
          "text": [
            "[ 3 19  8 18 11  0  4 12  7  1 13 10  5 14 15  6  2 17 16  9]\n"
          ]
        }
      ]
    }
  ]
}