{
  "nbformat": 4,
  "nbformat_minor": 0,
  "metadata": {
    "colab": {
      "name": "ch03_02_여러가지_확률분포.ipynb의 사본",
      "provenance": [],
      "collapsed_sections": [],
      "include_colab_link": true
    },
    "kernelspec": {
      "name": "python3",
      "display_name": "Python 3"
    },
    "language_info": {
      "name": "python"
    }
  },
  "cells": [
    {
      "cell_type": "markdown",
      "metadata": {
        "id": "view-in-github",
        "colab_type": "text"
      },
      "source": [
        "<a href=\"https://colab.research.google.com/github/Mifekmk/SkillTreePython-DataAnalysis/blob/main/ch03_02_%EC%97%AC%EB%9F%AC%EA%B0%80%EC%A7%80_%ED%99%95%EB%A5%A0%EB%B6%84%ED%8F%AC_ipynb%EC%9D%98_%EC%82%AC%EB%B3%B8.ipynb\" target=\"_parent\"><img src=\"https://colab.research.google.com/assets/colab-badge.svg\" alt=\"Open In Colab\"/></a>"
      ]
    },
    {
      "cell_type": "markdown",
      "source": [
        "# ch03.02. 여러가지 확률 분포\n",
        "---\n",
        "* 날짜:2022-05-04\n",
        "* 이름:김민규\n",
        "\n",
        "## 학습내용\n",
        "    * 연속형 확률변수 -> 확률 밀도 함수 -> 연속형 확률 분포\n",
        "      - 균등 분포\n",
        "      - 정규 분포\n",
        "      - 지수 분포\n",
        "      - 감마 분포\n",
        "      - 베타 분포\n",
        "      - 카이제곱 분포\n",
        "    * 이산형 확률변수 -> 확률 질량 함수 -> 이산형 확률 분포\n",
        "      - 베르누이 분포\n",
        "      - 이항분포\n",
        "      - 카테고리 확률 분포\n",
        "      - 포아송 분포\n",
        "      - 기하 분포\n",
        "      - 음이항 분포\n",
        "      - 초기하 분포\n"
      ],
      "metadata": {
        "id": "wWpXZc2fi39U"
      }
    },
    {
      "cell_type": "code",
      "source": [
        "import numpy as np\n",
        "import matplotlib.pyplot as plt\n",
        "import pandas as pd\n",
        "import scipy as sp\n",
        "from scipy.stats import * # 모든 함수를 임포트 합니다."
      ],
      "metadata": {
        "id": "uYLRSgCqw4YZ"
      },
      "execution_count": 3,
      "outputs": []
    },
    {
      "cell_type": "markdown",
      "source": [
        "## 연속형 확률 분포\n",
        "---\n",
        "\n"
      ],
      "metadata": {
        "id": "i76b_rugaaQh"
      }
    },
    {
      "cell_type": "markdown",
      "source": [
        "### **| 정규분포**\n",
        "\n",
        "\\begin{align}\n",
        "\\mathcal{N}(x; \\mu, \\sigma^2) = \\dfrac{1}{\\sqrt{2\\pi\\sigma^2}} \\exp \\left(-\\dfrac{(x-\\mu)^2}{2\\sigma^2}\\right)\n",
        "\\end{align}\n",
        "\n",
        "```\n",
        "sp.stats.norm(mu, std)\n",
        "```"
      ],
      "metadata": {
        "id": "1-OKBt9jah1A"
      }
    },
    {
      "cell_type": "code",
      "source": [
        "# 표준정규분포\n",
        "mu, std = 0, 1\n",
        "norm=sp.stats.norm(mu, std) # 확률 함수"
      ],
      "metadata": {
        "id": "O_8p6vLnan54"
      },
      "execution_count": 4,
      "outputs": []
    },
    {
      "cell_type": "markdown",
      "source": [
        "* 확률 분포\n"
      ],
      "metadata": {
        "id": "K1g-lUcoav1y"
      }
    },
    {
      "cell_type": "code",
      "source": [
        "norm.pdf([-1,0,1]) # 확률밀도함수"
      ],
      "metadata": {
        "id": "if7zfSErayZP",
        "colab": {
          "base_uri": "https://localhost:8080/"
        },
        "outputId": "837ffbfc-1241-4b2a-97c0-8fdde808521d"
      },
      "execution_count": 5,
      "outputs": [
        {
          "output_type": "execute_result",
          "data": {
            "text/plain": [
              "array([0.24197072, 0.39894228, 0.24197072])"
            ]
          },
          "metadata": {},
          "execution_count": 5
        }
      ]
    },
    {
      "cell_type": "code",
      "source": [
        "X=[-1,0,1] # 앞의 방식과 같은 값을 가집니다.\n",
        "p_x =norm.pdf(X)\n",
        "print(p_x)"
      ],
      "metadata": {
        "colab": {
          "base_uri": "https://localhost:8080/"
        },
        "id": "suafg4wTiP7b",
        "outputId": "795d958b-4bee-4c68-9e16-2d5af63c4e6e"
      },
      "execution_count": 6,
      "outputs": [
        {
          "output_type": "stream",
          "name": "stdout",
          "text": [
            "[0.24197072 0.39894228 0.24197072]\n"
          ]
        }
      ]
    },
    {
      "cell_type": "code",
      "source": [
        "X = [np.linspace(-5,5,10)]\n",
        "p_x = norm.pdf(X)\n",
        "print(p_x)"
      ],
      "metadata": {
        "colab": {
          "base_uri": "https://localhost:8080/"
        },
        "id": "V__bIxfQietM",
        "outputId": "71c83b46-e0a9-4850-dc5a-26fa56515c24"
      },
      "execution_count": 7,
      "outputs": [
        {
          "output_type": "stream",
          "name": "stdout",
          "text": [
            "[[1.48671951e-06 2.07440309e-04 8.42153448e-03 9.94771388e-02\n",
            "  3.41892294e-01 3.41892294e-01 9.94771388e-02 8.42153448e-03\n",
            "  2.07440309e-04 1.48671951e-06]]\n"
          ]
        }
      ]
    },
    {
      "cell_type": "markdown",
      "source": [
        "* 누적 확률 분포\n"
      ],
      "metadata": {
        "id": "GXf2Mnfie-1t"
      }
    },
    {
      "cell_type": "code",
      "source": [
        "F_x = norm.cdf(X)\n",
        "print(F_x)"
      ],
      "metadata": {
        "id": "3XzNesNhe-1z",
        "colab": {
          "base_uri": "https://localhost:8080/"
        },
        "outputId": "040f7cd0-6e31-49fb-d3d7-15db2c125054"
      },
      "execution_count": 8,
      "outputs": [
        {
          "output_type": "stream",
          "name": "stdout",
          "text": [
            "[[2.86651572e-07 5.03521029e-05 2.73660179e-03 4.77903523e-02\n",
            "  2.89257361e-01 7.10742639e-01 9.52209648e-01 9.97263398e-01\n",
            "  9.99949648e-01 9.99999713e-01]]\n"
          ]
        }
      ]
    },
    {
      "cell_type": "markdown",
      "source": [
        "* 표본 추출\n",
        "\n"
      ],
      "metadata": {
        "id": "yqKfsYtznOxw"
      }
    },
    {
      "cell_type": "code",
      "source": [
        "rvs=norm.rvs(1000,random_state=0) # 0에 가장 가깝게 뽑음\n",
        "plt.hist(rvs)"
      ],
      "metadata": {
        "id": "qCNrdRXEnOxw",
        "colab": {
          "base_uri": "https://localhost:8080/",
          "height": 361
        },
        "outputId": "d72afe1b-2d3e-48c4-cdef-2e8e0b9a6081"
      },
      "execution_count": 9,
      "outputs": [
        {
          "output_type": "execute_result",
          "data": {
            "text/plain": [
              "(array([  9.,  20.,  70., 146., 217., 239., 160.,  86.,  38.,  15.]),\n",
              " array([-3.04614305, -2.46559324, -1.88504342, -1.3044936 , -0.72394379,\n",
              "        -0.14339397,  0.43715585,  1.01770566,  1.59825548,  2.1788053 ,\n",
              "         2.75935511]),\n",
              " <a list of 10 Patch objects>)"
            ]
          },
          "metadata": {},
          "execution_count": 9
        },
        {
          "output_type": "display_data",
          "data": {
            "text/plain": [
              "<Figure size 432x288 with 1 Axes>"
            ],
            "image/png": "[encoded data removed]"
          },
          "metadata": {
            "needs_background": "light"
          }
        }
      ]
    },
    {
      "cell_type": "markdown",
      "source": [
        "#### **예제 01. 파라미터 변경-평균**\n",
        "\n",
        "* 표준편차 `1`, 평균이 각각 `0.5, 1, 2, 4`인 확률분포와 확률누적분포를 그리세요."
      ],
      "metadata": {
        "id": "rKj9hDWacrgX"
      }
    },
    {
      "cell_type": "code",
      "source": [
        "mus = [0.5,1,2,4]\n",
        "std = 1\n",
        "X = np.linspace(-5, 5, 100)\n",
        "\n",
        "norm = sp.stats.norm(mus[0],std)\n",
        "P_X=norm.pdf(X) # 확률밀도함수\n",
        "F_X=norm.cdf(X) # 누적확률함수\n",
        "\n",
        "plt.plot(X,P_X) # X에 대한 확률값\n",
        "\n",
        "plt.plot(X,F_X) # X에 대한 누적값\n",
        "plt.title('mus 0.5, std 1')"
      ],
      "metadata": {
        "id": "XbHcwBmscrgX",
        "colab": {
          "base_uri": "https://localhost:8080/",
          "height": 299
        },
        "outputId": "14c4186b-899b-46b8-8ba2-35743d928975"
      },
      "execution_count": 44,
      "outputs": [
        {
          "output_type": "execute_result",
          "data": {
            "text/plain": [
              "Text(0.5, 1.0, 'mus 0.5, std 1')"
            ]
          },
          "metadata": {},
          "execution_count": 44
        },
        {
          "output_type": "display_data",
          "data": {
            "text/plain": [
              "<Figure size 432x288 with 1 Axes>"
            ],
            "image/png": "[encoded data removed]"
          },
          "metadata": {
            "needs_background": "light"
          }
        }
      ]
    },
    {
      "cell_type": "code",
      "source": [
        "mus = [0.5,1,2,4]\n",
        "std = 1\n",
        "X = np.linspace(-5, 5, 100)\n",
        "\n",
        "norm = sp.stats.norm(mus[1],std)\n",
        "P_X=norm.pdf(X) # 확률밀도함수\n",
        "F_X=norm.cdf(X) # 누적확률함수\n",
        "\n",
        "plt.plot(X,P_X) # X에 대한 확률값\n",
        "\n",
        "plt.plot(X,F_X) # X에 대한 누적값"
      ],
      "metadata": {
        "colab": {
          "base_uri": "https://localhost:8080/",
          "height": 283
        },
        "id": "1M0ugPRalJlc",
        "outputId": "1fc5df1e-6265-46f2-9b6d-302b0d7b6fe7"
      },
      "execution_count": 43,
      "outputs": [
        {
          "output_type": "execute_result",
          "data": {
            "text/plain": [
              "[<matplotlib.lines.Line2D at 0x7f9220b30310>]"
            ]
          },
          "metadata": {},
          "execution_count": 43
        },
        {
          "output_type": "display_data",
          "data": {
            "text/plain": [
              "<Figure size 432x288 with 1 Axes>"
            ],
            "image/png": "[encoded data removed]"
          },
          "metadata": {
            "needs_background": "light"
          }
        }
      ]
    },
    {
      "cell_type": "code",
      "source": [
        "mus = [0.5,1,2,4]\n",
        "std = 1\n",
        "X = np.linspace(-5, 5, 100)\n",
        "\n",
        "norm = sp.stats.norm(mus[2],std)\n",
        "P_X=norm.pdf(X) # 확률밀도함수\n",
        "F_X=norm.cdf(X) # 누적확률함수\n",
        "\n",
        "plt.plot(X,P_X) # X에 대한 확률값\n",
        "\n",
        "plt.plot(X,F_X) # X에 대한 누적값"
      ],
      "metadata": {
        "colab": {
          "base_uri": "https://localhost:8080/",
          "height": 283
        },
        "id": "nOkVwN8WlN8s",
        "outputId": "0944f4a7-ddc5-4d2c-9e63-0002a40ef7bf"
      },
      "execution_count": 42,
      "outputs": [
        {
          "output_type": "execute_result",
          "data": {
            "text/plain": [
              "[<matplotlib.lines.Line2D at 0x7f9220b34c50>]"
            ]
          },
          "metadata": {},
          "execution_count": 42
        },
        {
          "output_type": "display_data",
          "data": {
            "text/plain": [
              "<Figure size 432x288 with 1 Axes>"
            ],
            "image/png": "[encoded data removed]"
          },
          "metadata": {
            "needs_background": "light"
          }
        }
      ]
    },
    {
      "cell_type": "code",
      "source": [
        "mus = [0.5,1,2,4]\n",
        "std = 1\n",
        "X = np.linspace(-5, 5, 100)\n",
        "\n",
        "norm = sp.stats.norm(mus[3],std)\n",
        "P_X=norm.pdf(X) # 확률밀도함수\n",
        "F_X=norm.cdf(X) # 누적확률함수\n",
        "\n",
        "plt.plot(X,P_X) # X에 대한 확률값\n",
        "\n",
        "plt.plot(X,F_X) # X에 대한 누적값"
      ],
      "metadata": {
        "colab": {
          "base_uri": "https://localhost:8080/",
          "height": 283
        },
        "id": "xoekxfLUlSDM",
        "outputId": "46b4a2fb-b7ce-4444-d7e0-3b1febbecf68"
      },
      "execution_count": 41,
      "outputs": [
        {
          "output_type": "execute_result",
          "data": {
            "text/plain": [
              "[<matplotlib.lines.Line2D at 0x7f9220bcbb90>]"
            ]
          },
          "metadata": {},
          "execution_count": 41
        },
        {
          "output_type": "display_data",
          "data": {
            "text/plain": [
              "<Figure size 432x288 with 1 Axes>"
            ],
            "image/png": "[encoded data removed]"
          },
          "metadata": {
            "needs_background": "light"
          }
        }
      ]
    },
    {
      "cell_type": "code",
      "source": [
        "fig, axes = plt.subplots(1,2, figsize=(10,4))\n",
        "axes = axes.flatten()\n",
        "\n",
        "xs = np.linspace(-5, 5, 100)\n",
        "mus = [0.5,1,2,4]\n",
        "std=1\n",
        "for i, mu in enumerate(mus):\n",
        "  norm = sp.stats.norm(mu, std)\n",
        "  axes[0].plot(xs, norm.pdf(xs))\n",
        "  axes[1].plot(xs, norm.cdf(xs))\n",
        "axes[0].legend(mus)\n",
        "_=axes[1].legend(mus)"
      ],
      "metadata": {
        "colab": {
          "base_uri": "https://localhost:8080/",
          "height": 265
        },
        "id": "53tZmtavokae",
        "outputId": "ac732251-ce1c-4496-822b-9a577543b0d4"
      },
      "execution_count": 46,
      "outputs": [
        {
          "output_type": "display_data",
          "data": {
            "text/plain": [
              "<Figure size 720x288 with 2 Axes>"
            ],
            "image/png": "[encoded data removed]"
          },
          "metadata": {
            "needs_background": "light"
          }
        }
      ]
    },
    {
      "cell_type": "markdown",
      "source": [
        "#### **예제 02. 파라미터 변경-표준편차**\n",
        "\n",
        "* 평균 `0`, 표준편차가 각각 `0.5, 1, 2, 4`인 확률분포와 확률누적분포를 그리세요."
      ],
      "metadata": {
        "id": "68PJGdS4bhKx"
      }
    },
    {
      "cell_type": "code",
      "source": [
        "mus = 0\n",
        "std = [0.5, 1, 2, 4]\n",
        "X = np.linspace(-5,5,500)\n",
        "\n",
        "norm = sp.stats.norm(mus,std[0])\n",
        "P_X=norm.pdf(X) # 확률밀도함수\n",
        "F_X=norm.cdf(X) # 누적확률함수\n",
        "\n",
        "plt.plot(X,P_X) # X에 대한 확률값\n",
        "\n",
        "plt.plot(X,F_X) # X에 대한 누적값"
      ],
      "metadata": {
        "id": "ar0jleVqaquI",
        "colab": {
          "base_uri": "https://localhost:8080/",
          "height": 283
        },
        "outputId": "cd6bc9c5-4292-46e1-c38a-7646d4aed130"
      },
      "execution_count": 40,
      "outputs": [
        {
          "output_type": "execute_result",
          "data": {
            "text/plain": [
              "[<matplotlib.lines.Line2D at 0x7f9220c634d0>]"
            ]
          },
          "metadata": {},
          "execution_count": 40
        },
        {
          "output_type": "display_data",
          "data": {
            "text/plain": [
              "<Figure size 432x288 with 1 Axes>"
            ],
            "image/png": "[encoded data removed]"
          },
          "metadata": {
            "needs_background": "light"
          }
        }
      ]
    },
    {
      "cell_type": "code",
      "source": [
        "mus = 0\n",
        "std = [0.5, 1, 2, 4]\n",
        "X = np.linspace(-5,5,500)\n",
        "\n",
        "norm = sp.stats.norm(mus,std[1])\n",
        "P_X=norm.pdf(X) # 확률밀도함수\n",
        "F_X=norm.cdf(X) # 누적확률함수\n",
        "\n",
        "plt.plot(X,P_X) # X에 대한 확률값\n",
        "\n",
        "plt.plot(X,F_X) # X에 대한 누적값"
      ],
      "metadata": {
        "colab": {
          "base_uri": "https://localhost:8080/",
          "height": 283
        },
        "id": "V7FfAuZoliG6",
        "outputId": "fdafee8c-f9da-4d48-9a75-7a7f1c7fe4fa"
      },
      "execution_count": 39,
      "outputs": [
        {
          "output_type": "execute_result",
          "data": {
            "text/plain": [
              "[<matplotlib.lines.Line2D at 0x7f9220cf0c10>]"
            ]
          },
          "metadata": {},
          "execution_count": 39
        },
        {
          "output_type": "display_data",
          "data": {
            "text/plain": [
              "<Figure size 432x288 with 1 Axes>"
            ],
            "image/png": "[encoded data removed]"
          },
          "metadata": {
            "needs_background": "light"
          }
        }
      ]
    },
    {
      "cell_type": "code",
      "source": [
        "mus = 0\n",
        "std = [0.5, 1, 2, 4]\n",
        "X = np.linspace(-5,5,500)\n",
        "\n",
        "norm = sp.stats.norm(mus,std[2])\n",
        "P_X=norm.pdf(X) # 확률밀도함수\n",
        "F_X=norm.cdf(X) # 누적확률함수\n",
        "\n",
        "plt.plot(X,P_X) # X에 대한 확률값\n",
        "\n",
        "plt.plot(X,F_X) # X에 대한 누적값"
      ],
      "metadata": {
        "colab": {
          "base_uri": "https://localhost:8080/",
          "height": 283
        },
        "id": "rQacNYHZlifK",
        "outputId": "21ecc551-6c14-42b6-f669-f533b57281da"
      },
      "execution_count": 38,
      "outputs": [
        {
          "output_type": "execute_result",
          "data": {
            "text/plain": [
              "[<matplotlib.lines.Line2D at 0x7f9220d06490>]"
            ]
          },
          "metadata": {},
          "execution_count": 38
        },
        {
          "output_type": "display_data",
          "data": {
            "text/plain": [
              "<Figure size 432x288 with 1 Axes>"
            ],
            "image/png": "[encoded data removed]"
          },
          "metadata": {
            "needs_background": "light"
          }
        }
      ]
    },
    {
      "cell_type": "code",
      "source": [
        "mus = 0\n",
        "std = [0.5, 1, 2, 4]\n",
        "X = np.linspace(-5,5,500)\n",
        "\n",
        "norm = sp.stats.norm(mus,std[3])\n",
        "P_X=norm.pdf(X) # 확률밀도함수\n",
        "F_X=norm.cdf(X) # 누적확률함수\n",
        "\n",
        "plt.plot(X,P_X) # X에 대한 확률값\n",
        "\n",
        "plt.plot(X,F_X) # X에 대한 누적값"
      ],
      "metadata": {
        "colab": {
          "base_uri": "https://localhost:8080/",
          "height": 283
        },
        "id": "iVa-tFNTlin5",
        "outputId": "3f184a48-1e90-44f4-d287-07787f48082d"
      },
      "execution_count": 45,
      "outputs": [
        {
          "output_type": "execute_result",
          "data": {
            "text/plain": [
              "[<matplotlib.lines.Line2D at 0x7f9220a07310>]"
            ]
          },
          "metadata": {},
          "execution_count": 45
        },
        {
          "output_type": "display_data",
          "data": {
            "text/plain": [
              "<Figure size 432x288 with 1 Axes>"
            ],
            "image/png": "[encoded data removed]"
          },
          "metadata": {
            "needs_background": "light"
          }
        }
      ]
    },
    {
      "cell_type": "code",
      "source": [
        "fig, axes = plt.subplots(1,2, figsize=(10,4))\n",
        "axes = axes.flatten()\n",
        "\n",
        "xs = np.linspace(-5, 5, 100)\n",
        "mu = 0\n",
        "stds=[0.5,1,2,4]\n",
        "for i, std in enumerate(stds):\n",
        "  norm = sp.stats.norm(mu, std)\n",
        "  axes[0].plot(xs, norm.pdf(xs))\n",
        "  axes[1].plot(xs, norm.cdf(xs))\n",
        "_=axes[0].legend(stds)\n",
        "_=axes[1].legend(stds)"
      ],
      "metadata": {
        "colab": {
          "base_uri": "https://localhost:8080/",
          "height": 265
        },
        "id": "iWCfAb7Nooa0",
        "outputId": "fa2a28b7-f0f3-43f3-c8ed-40b7036227b9"
      },
      "execution_count": 47,
      "outputs": [
        {
          "output_type": "display_data",
          "data": {
            "text/plain": [
              "<Figure size 720x288 with 2 Axes>"
            ],
            "image/png": "[encoded data removed]"
          },
          "metadata": {
            "needs_background": "light"
          }
        }
      ]
    },
    {
      "cell_type": "markdown",
      "source": [
        "#### **예제 03. 손의 길이**\n",
        "\n",
        "성인 손의 길이의 평균은 15.2cm 이고 표준편차는 2.5cm를 따른다고 합니다. 1000명을 표본으로 뽑고 히스토 그램을 그리세요."
      ],
      "metadata": {
        "id": "IM5omP40m7QE"
      }
    },
    {
      "cell_type": "code",
      "source": [
        "norm = sp.stats.norm(15.2,2.5)\n",
        "#rvs=norm.rvs(1000,random_state=0) # 0에 가장 가깝게 뽑음\n",
        "plt.hist(norm.rvs(1000))"
      ],
      "metadata": {
        "id": "Ogc5cyhtnIuA",
        "colab": {
          "base_uri": "https://localhost:8080/",
          "height": 357
        },
        "outputId": "4f663d04-eb0e-4706-cac5-06e21e0ae0fc"
      },
      "execution_count": 50,
      "outputs": [
        {
          "output_type": "execute_result",
          "data": {
            "text/plain": [
              "(array([  8.,  26.,  76., 147., 194., 236., 181.,  83.,  37.,  12.]),\n",
              " array([ 7.58653458,  9.04690962, 10.50728466, 11.9676597 , 13.42803474,\n",
              "        14.88840978, 16.34878482, 17.80915986, 19.2695349 , 20.72990994,\n",
              "        22.19028498]),\n",
              " <a list of 10 Patch objects>)"
            ]
          },
          "metadata": {},
          "execution_count": 50
        },
        {
          "output_type": "display_data",
          "data": {
            "text/plain": [
              "<Figure size 432x288 with 1 Axes>"
            ],
            "image/png": "[encoded data removed]"
          },
          "metadata": {
            "needs_background": "light"
          }
        }
      ]
    },
    {
      "cell_type": "markdown",
      "source": [
        "### **| 카이제곱 분포**\n",
        "\n",
        "\\begin{align}\n",
        "\\chi^2(x; \\nu) = \\frac{x^{(\\nu/2-1)} e^{-x/2}}{2^{\\nu/2} \\Gamma\\left(\\frac{\\nu}{2}\\right)}\n",
        "\\end{align}\n",
        "\n",
        "```\n",
        "sp.stats.chi2(df=df)\n",
        "```"
      ],
      "metadata": {
        "id": "3-ZZ9iGbgpQN"
      }
    },
    {
      "cell_type": "code",
      "source": [
        "chi2 = sp.stats.chi2(df=1)"
      ],
      "metadata": {
        "id": "RU7CmupYgpQN"
      },
      "execution_count": 101,
      "outputs": []
    },
    {
      "cell_type": "markdown",
      "source": [
        "* 확률 분포\n"
      ],
      "metadata": {
        "id": "PCozJCXVgpQN"
      }
    },
    {
      "cell_type": "code",
      "source": [
        "xs = np.linspace(0.01, 5, 10)\n",
        "chi2.pdf(xs)"
      ],
      "metadata": {
        "id": "s3y8Xi8ugpQN",
        "colab": {
          "base_uri": "https://localhost:8080/"
        },
        "outputId": "dc7d3814-4256-4089-df46-8b6ed72d530e"
      },
      "execution_count": 102,
      "outputs": [
        {
          "output_type": "execute_result",
          "data": {
            "text/plain": [
              "array([3.96952547, 0.40043489, 0.21555244, 0.13358544, 0.08774418,\n",
              "       0.05950621, 0.04118183, 0.02890209, 0.02049307, 0.01464498])"
            ]
          },
          "metadata": {},
          "execution_count": 102
        }
      ]
    },
    {
      "cell_type": "markdown",
      "source": [
        "* 누적 확률 분포\n"
      ],
      "metadata": {
        "id": "Q2KLFkCkgpQO"
      }
    },
    {
      "cell_type": "code",
      "source": [
        "xs = np.linspace(0.01, 5, 10)\n",
        "chi2.cdf(xs)"
      ],
      "metadata": {
        "id": "Ga1U8gwjgpQO",
        "colab": {
          "base_uri": "https://localhost:8080/"
        },
        "outputId": "28f5939d-911a-455a-8024-0f8d414ac2b2"
      },
      "execution_count": 103,
      "outputs": [
        {
          "output_type": "execute_result",
          "data": {
            "text/plain": [
              "array([0.07965567, 0.54752497, 0.70984217, 0.80418734, 0.86445132,\n",
              "       0.90468417, 0.93224827, 0.9514577 , 0.9650078 , 0.97465268])"
            ]
          },
          "metadata": {},
          "execution_count": 103
        }
      ]
    },
    {
      "cell_type": "markdown",
      "source": [
        "* 표본 추출\n"
      ],
      "metadata": {
        "id": "zlxOZPKVn78e"
      }
    },
    {
      "cell_type": "code",
      "source": [
        "chi2.rvs(10, random_state=0)\n",
        "_=plt.hist(chi2.rvs(10, random_state=0))"
      ],
      "metadata": {
        "id": "RXHpaI2Cn78f",
        "colab": {
          "base_uri": "https://localhost:8080/",
          "height": 265
        },
        "outputId": "74a37888-a021-46e8-efdf-ebf9d0f49c72"
      },
      "execution_count": 104,
      "outputs": [
        {
          "output_type": "display_data",
          "data": {
            "text/plain": [
              "<Figure size 432x288 with 1 Axes>"
            ],
            "image/png": "[encoded data removed]"
          },
          "metadata": {
            "needs_background": "light"
          }
        }
      ]
    },
    {
      "cell_type": "markdown",
      "source": [
        "#### **예제 01. 파라미터 변경-자유도**\n",
        "\n",
        "* 자유도(df) 값이 각각 `1,2,3,4`인 카이제곱분포와 누적 확률 분포를 그리세요."
      ],
      "metadata": {
        "id": "zPzWqeCThJss"
      }
    },
    {
      "cell_type": "markdown",
      "source": [
        "sp.stats.chi2(df=df)"
      ],
      "metadata": {
        "id": "qDQT6_FAsJdt"
      }
    },
    {
      "cell_type": "code",
      "source": [
        "fig, axes = plt.subplots(1,2, figsize=(10,4))\n",
        "axes = axes.flatten()\n",
        "\n",
        "xs = np.linspace(0.5, 10, 100)\n",
        "dfs=[1,2,3,4]\n",
        "for i, df in enumerate(dfs):\n",
        "  chi2 = sp.stats.chi2(df)\n",
        "  axes[0].plot(xs, chi2.pdf(xs))\n",
        "  axes[1].plot(xs, chi2.cdf(xs))\n",
        "_=axes[0].legend(dfs)\n",
        "_=axes[1].legend(dfs)"
      ],
      "metadata": {
        "id": "oLJOwFs0hJss",
        "colab": {
          "base_uri": "https://localhost:8080/",
          "height": 265
        },
        "outputId": "38a9574a-5fc1-404b-cb00-364aebb8a360"
      },
      "execution_count": 105,
      "outputs": [
        {
          "output_type": "display_data",
          "data": {
            "text/plain": [
              "<Figure size 720x288 with 2 Axes>"
            ],
            "image/png": "[encoded data removed]"
          },
          "metadata": {
            "needs_background": "light"
          }
        }
      ]
    },
    {
      "cell_type": "markdown",
      "source": [
        "### **| 감마분포**\n",
        "\n",
        "\\begin{align}\n",
        "\\text{Gam}(x;a,b) = \\frac{1}{\\Gamma(a)} b^a x^{a-1}e^{-bx}\n",
        "\\end{align}\n",
        "\n",
        "```\n",
        "sp.stats.gamma(a=a, b=1)\n",
        "```"
      ],
      "metadata": {
        "id": "I4cJJ7BikOwC"
      }
    },
    {
      "cell_type": "code",
      "source": [
        "gamma=sp.stats.gamma(a=5)"
      ],
      "metadata": {
        "id": "fKQjIxzcwrSS"
      },
      "execution_count": 106,
      "outputs": []
    },
    {
      "cell_type": "markdown",
      "source": [
        "* 확률 분포"
      ],
      "metadata": {
        "id": "NcMJTjsZkOwC"
      }
    },
    {
      "cell_type": "code",
      "source": [
        "xs = np.linspace(0.01, 5, 10)\n",
        "gamma.pdf(xs)"
      ],
      "metadata": {
        "id": "NzelXp2kkOwC",
        "colab": {
          "base_uri": "https://localhost:8080/"
        },
        "outputId": "e62f5146-913d-43de-ae82-96b74a98441e"
      },
      "execution_count": 109,
      "outputs": [
        {
          "output_type": "execute_result",
          "data": {
            "text/plain": [
              "array([4.12520764e-10, 2.40512948e-03, 2.13309075e-02, 6.12913483e-02,\n",
              "       1.10602421e-01, 1.54544040e-01, 1.83630209e-01, 1.95072120e-01,\n",
              "       1.90902967e-01, 1.75467370e-01])"
            ]
          },
          "metadata": {},
          "execution_count": 109
        }
      ]
    },
    {
      "cell_type": "markdown",
      "source": [
        "* 누적 확률 분포\n"
      ],
      "metadata": {
        "id": "YpsnR4AMkOwD"
      }
    },
    {
      "cell_type": "code",
      "source": [
        "xs = np.linspace(0.01, 5, 10)\n",
        "gamma.cdf(xs)"
      ],
      "metadata": {
        "id": "6xuAfh80kOwD",
        "colab": {
          "base_uri": "https://localhost:8080/"
        },
        "outputId": "63460f88-f1a9-4b0a-ab40-c418ec51d139"
      },
      "execution_count": 110,
      "outputs": [
        {
          "output_type": "execute_result",
          "data": {
            "text/plain": [
              "array([8.26418564e-13, 2.99269244e-04, 5.82849450e-03, 2.79499735e-02,\n",
              "       7.55345868e-02, 1.49565851e-01, 2.44117709e-01, 3.49900440e-01,\n",
              "       4.57532152e-01, 5.59506715e-01])"
            ]
          },
          "metadata": {},
          "execution_count": 110
        }
      ]
    },
    {
      "cell_type": "markdown",
      "source": [
        "* 표본 추출"
      ],
      "metadata": {
        "id": "sapQZAdtoYSX"
      }
    },
    {
      "cell_type": "code",
      "source": [
        "gamma.rvs(10, random_state=0)\n",
        "_=plt.hist(gamma.rvs(10, random_state=0))"
      ],
      "metadata": {
        "id": "jxd1q3o_oYSY",
        "colab": {
          "base_uri": "https://localhost:8080/",
          "height": 265
        },
        "outputId": "f31c0451-2b73-48ff-f5d8-c150fedd644f"
      },
      "execution_count": 111,
      "outputs": [
        {
          "output_type": "display_data",
          "data": {
            "text/plain": [
              "<Figure size 432x288 with 1 Axes>"
            ],
            "image/png": "[encoded data removed]"
          },
          "metadata": {
            "needs_background": "light"
          }
        }
      ]
    },
    {
      "cell_type": "markdown",
      "source": [
        "#### **예제 01. 파라미터 변경-a**\n",
        "\n",
        "* a 값이 각각 `1,2,4,8`인 감마 분포와 누적 확률 분포를 그리세요."
      ],
      "metadata": {
        "id": "BxtZ4WMcmb_r"
      }
    },
    {
      "cell_type": "markdown",
      "source": [
        "sp.stats.gamma(a=a, b=1)"
      ],
      "metadata": {
        "id": "LlqFM5u0y-rJ"
      }
    },
    {
      "cell_type": "code",
      "source": [
        "fig, axes = plt.subplots(1,2, figsize=(10,4))\n",
        "axes = axes.flatten()\n",
        "\n",
        "xs = np.linspace(0.5, 10, 100)\n",
        "a=[1,2,4,8]\n",
        "for i, ai in enumerate(a):\n",
        "  gamma = sp.stats.gamma(ai)\n",
        "  axes[0].plot(xs, gamma.pdf(xs))\n",
        "  axes[1].plot(xs, gamma.cdf(xs))\n",
        "_=axes[0].legend(dfs)\n",
        "_=axes[1].legend(dfs)"
      ],
      "metadata": {
        "id": "VU-dYTDCmb_r",
        "colab": {
          "base_uri": "https://localhost:8080/",
          "height": 265
        },
        "outputId": "5034ae8f-21b7-458e-f6ab-fb3c59f97392"
      },
      "execution_count": 112,
      "outputs": [
        {
          "output_type": "display_data",
          "data": {
            "text/plain": [
              "<Figure size 720x288 with 2 Axes>"
            ],
            "image/png": "[encoded data removed]"
          },
          "metadata": {
            "needs_background": "light"
          }
        }
      ]
    },
    {
      "cell_type": "markdown",
      "source": [
        "## | 균등함수"
      ],
      "metadata": {
        "id": "jY5-wseS1u56"
      }
    },
    {
      "cell_type": "code",
      "source": [
        "rv = uniform(loc=0, scale=100) # 균등확률객체 만들기\n",
        "x = np.arange(0,101,5) # X 확률변수 범위\n",
        "y = rv.pdf(x)\n",
        "fig,ax = plt.subplots(1,1)\n",
        "ax.plot(x,y,'bo',ms=8, label='uniform pdf')\n",
        "ax.vlines(x, 0, y, colors='b', lw=5, alpha=0.5)\n",
        "ax.set_ylim([0,0.03])"
      ],
      "metadata": {
        "colab": {
          "base_uri": "https://localhost:8080/",
          "height": 287
        },
        "id": "rstKdxgl1zQS",
        "outputId": "1e0844e6-2122-49e0-f063-a4b714bf3d61"
      },
      "execution_count": 121,
      "outputs": [
        {
          "output_type": "execute_result",
          "data": {
            "text/plain": [
              "(0.0, 0.03)"
            ]
          },
          "metadata": {},
          "execution_count": 121
        },
        {
          "output_type": "display_data",
          "data": {
            "text/plain": [
              "<Figure size 432x288 with 1 Axes>"
            ],
            "image/png": "[encoded data removed]"
          },
          "metadata": {
            "needs_background": "light"
          }
        }
      ]
    },
    {
      "cell_type": "markdown",
      "source": [
        "# | 지수함수"
      ],
      "metadata": {
        "id": "Yxv2w0rf3FZp"
      }
    },
    {
      "cell_type": "code",
      "source": [
        "x = np.linspace(-1,1,1000)\n",
        "y = np.exp(x)\n",
        "plt.plot(x,y,'o',markersize=1)\n",
        "plt.grid(True)"
      ],
      "metadata": {
        "colab": {
          "base_uri": "https://localhost:8080/",
          "height": 265
        },
        "id": "qKYuCwGQ3Iet",
        "outputId": "e63d4931-1ce4-48ce-d604-c9d62c16614f"
      },
      "execution_count": 133,
      "outputs": [
        {
          "output_type": "display_data",
          "data": {
            "text/plain": [
              "<Figure size 432x288 with 1 Axes>"
            ],
            "image/png": "[encoded data removed]"
          },
          "metadata": {
            "needs_background": "light"
          }
        }
      ]
    },
    {
      "cell_type": "markdown",
      "source": [
        "# | 감마함수"
      ],
      "metadata": {
        "id": "5rhoqCsy3wni"
      }
    },
    {
      "cell_type": "code",
      "source": [
        "from scipy.stats import gamma\n",
        "import seaborn as sns\n",
        "data_gamma = gamma.rvs(a=5, size=10000)\n",
        "\n",
        "ax = sns.distplot(data_gamma,\n",
        "                  color='blue')"
      ],
      "metadata": {
        "colab": {
          "base_uri": "https://localhost:8080/",
          "height": 326
        },
        "id": "n1ZZAjid3wAw",
        "outputId": "df2f91ad-c191-4e98-890e-150c90c9bc6e"
      },
      "execution_count": 137,
      "outputs": [
        {
          "output_type": "stream",
          "name": "stderr",
          "text": [
            "/usr/local/lib/python3.7/dist-packages/seaborn/distributions.py:2619: FutureWarning: `distplot` is a deprecated function and will be removed in a future version. Please adapt your code to use either `displot` (a figure-level function with similar flexibility) or `histplot` (an axes-level function for histograms).\n",
            "  warnings.warn(msg, FutureWarning)\n"
          ]
        },
        {
          "output_type": "display_data",
          "data": {
            "text/plain": [
              "<Figure size 432x288 with 1 Axes>"
            ],
            "image/png": "[encoded data removed]"
          },
          "metadata": {
            "needs_background": "light"
          }
        }
      ]
    },
    {
      "cell_type": "markdown",
      "source": [
        "#| 베타분포"
      ],
      "metadata": {
        "id": "EGYuSSL25BXA"
      }
    },
    {
      "cell_type": "code",
      "source": [
        "from scipy.stats import beta\n",
        "\n",
        "y1 = beta(a, b).pdf(x)        \n",
        "print(y1)\n",
        "\n",
        "plt.figure(figsize=(12, 8))\n",
        "plt.plot(x, y1, 'r')        \n",
        "plt.xlabel('X')\n",
        "plt.ylabel('P(X)')\n",
        "plt.grid()\n",
        "plt.title('Beta Distribution(a = .5, b = .5)') \n",
        "plt.show()"
      ],
      "metadata": {
        "colab": {
          "base_uri": "https://localhost:8080/",
          "height": 1000
        },
        "id": "E0smwcH85E6n",
        "outputId": "9f8f9cac-33ff-4358-e7f7-a48f1f16b145"
      },
      "execution_count": 149,
      "outputs": [
        {
          "output_type": "stream",
          "name": "stdout",
          "text": [
            "[        inf 10.06081329  7.11763973  5.81444813  5.03799208  4.50838548\n",
            "  4.1176479   3.81412412  3.56958788  3.36714073  3.19596634  3.04877763\n",
            "  2.92046219  2.80731326  2.70656899  2.61612373  2.53434032  2.45992408\n",
            "  2.39183589  2.32923079  2.27141371  2.21780695  2.16792583  2.12136033\n",
            "  2.0777609   2.03682747  1.9983008   1.96195559  1.92759498  1.89504611\n",
            "  1.86415647  1.83479093  1.80682927  1.78016411  1.75469926  1.73034819\n",
            "  1.70703286  1.68468269  1.66323361  1.64262739  1.62281091  1.60373561\n",
            "  1.58535701  1.56763429  1.55052989  1.53400919  1.51804022  1.50259341\n",
            "  1.48764137  1.47315866  1.45912164  1.4455083   1.43229814  1.419472\n",
            "  1.40701197  1.3949013   1.38312428  1.37166617  1.36051315  1.3496522\n",
            "  1.33907106  1.32875819  1.31870271  1.30889434  1.29932335  1.28998057\n",
            "  1.28085729  1.27194528  1.26323671  1.25472418  1.24640063  1.23825938\n",
            "  1.23029406  1.2224986   1.21486725  1.20739448  1.20007506  1.19290399\n",
            "  1.18587647  1.17898795  1.17223406  1.16561061  1.15911361  1.15273924\n",
            "  1.14648381  1.14034383  1.13431591  1.12839682  1.12258345  1.11687282\n",
            "  1.11126207  1.10574842  1.10032925  1.09500198  1.08976417  1.08461346\n",
            "  1.07954757  1.07456429  1.06966153  1.06483723  1.06008942  1.05541621\n",
            "  1.05081576  1.0462863   1.04182612  1.03743355  1.03310701  1.02884494\n",
            "  1.02464585  1.02050829  1.01643086  1.0124122   1.00845099  1.00454596\n",
            "  1.00069588  0.99689954  0.9931558   0.98946351  0.9858216   0.982229\n",
            "  0.97868467  0.97518764  0.97173691  0.96833156  0.96497066  0.96165333\n",
            "  0.9583787   0.95514593  0.95195421  0.94880273  0.94569073  0.94261744\n",
            "  0.93958215  0.93658413  0.93362269  0.93069716  0.92780686  0.92495118\n",
            "  0.92212947  0.91934112  0.91658555  0.91386217  0.91117042  0.90850975\n",
            "  0.90587962  0.9032795   0.90070888  0.89816726  0.89565416  0.8931691\n",
            "  0.89071161  0.88828124  0.88587754  0.88350009  0.88114846  0.87882223\n",
            "  0.876521    0.87424437  0.87199196  0.8697634   0.8675583   0.86537631\n",
            "  0.86321708  0.86108025  0.8589655   0.85687248  0.85480088  0.85275038\n",
            "  0.85072066  0.84871143  0.84672238  0.84475323  0.84280368  0.84087346\n",
            "  0.83896229  0.8370699   0.83519604  0.83334044  0.83150285  0.82968302\n",
            "  0.82788071  0.82609568  0.8243277   0.82257654  0.82084197  0.81912378\n",
            "  0.81742174  0.81573564  0.81406528  0.81241046  0.81077097  0.80914661\n",
            "  0.80753719  0.80594253  0.80436243  0.80279672  0.80124521  0.79970774\n",
            "  0.79818411  0.79667418  0.79517776  0.7936947   0.79222483  0.790768\n",
            "  0.78932405  0.78789282  0.78647418  0.78506796  0.78367403  0.78229224\n",
            "  0.78092246  0.77956454  0.77821835  0.77688375  0.77556062  0.77424883\n",
            "  0.77294825  0.77165875  0.77038021  0.76911252  0.76785555  0.76660919\n",
            "  0.76537332  0.76414783  0.76293261  0.76172755  0.76053254  0.75934747\n",
            "  0.75817225  0.75700676  0.75585091  0.7547046   0.75356773  0.7524402\n",
            "  0.75132192  0.7502128   0.74911274  0.74802165  0.74693944  0.74586603\n",
            "  0.74480133  0.74374525  0.74269772  0.74165863  0.74062792  0.73960551\n",
            "  0.73859131  0.73758525  0.73658725  0.73559723  0.73461512  0.73364085\n",
            "  0.73267434  0.73171553  0.73076433  0.72982069  0.72888453  0.72795579\n",
            "  0.72703439  0.72612028  0.72521339  0.72431365  0.72342101  0.72253539\n",
            "  0.72165675  0.72078501  0.71992012  0.71906202  0.71821065  0.71736596\n",
            "  0.71652789  0.71569638  0.71487137  0.71405283  0.71324068  0.71243488\n",
            "  0.71163538  0.71084212  0.71005505  0.70927413  0.70849931  0.70773053\n",
            "  0.70696775  0.70621092  0.70546     0.70471493  0.70397568  0.70324219\n",
            "  0.70251443  0.70179235  0.7010759   0.70036505  0.69965975  0.69895996\n",
            "  0.69826564  0.69757675  0.69689325  0.69621509  0.69554225  0.69487468\n",
            "  0.69421234  0.6935552   0.69290322  0.69225636  0.69161458  0.69097786\n",
            "  0.69034615  0.68971942  0.68909764  0.68848078  0.68786879  0.68726164\n",
            "  0.68665931  0.68606176  0.68546896  0.68488088  0.68429748  0.68371874\n",
            "  0.68314462  0.6825751   0.68201014  0.68144972  0.68089381  0.68034237\n",
            "  0.67979539  0.67925283  0.67871466  0.67818087  0.67765141  0.67712627\n",
            "  0.67660541  0.67608882  0.67557647  0.67506832  0.67456437  0.67406457\n",
            "  0.67356891  0.67307737  0.67258991  0.67210653  0.67162718  0.67115185\n",
            "  0.67068053  0.67021317  0.66974977  0.6692903   0.66883474  0.66838306\n",
            "  0.66793526  0.6674913   0.66705116  0.66661483  0.66618228  0.6657535\n",
            "  0.66532846  0.66490715  0.66448955  0.66407563  0.66366539  0.66325879\n",
            "  0.66285583  0.66245648  0.66206073  0.66166855  0.66127994  0.66089487\n",
            "  0.66051333  0.6601353   0.65976076  0.65938971  0.65902211  0.65865796\n",
            "  0.65829724  0.65793993  0.65758602  0.6572355   0.65688834  0.65654454\n",
            "  0.65620408  0.65586694  0.65553311  0.65520258  0.65487533  0.65455135\n",
            "  0.65423063  0.65391314  0.65359889  0.65328785  0.65298001  0.65267537\n",
            "  0.6523739   0.65207559  0.65178044  0.65148843  0.65119954  0.65091378\n",
            "  0.65063112  0.65035155  0.65007506  0.64980165  0.6495313   0.64926399\n",
            "  0.64899972  0.64873849  0.64848026  0.64822505  0.64797283  0.6477236\n",
            "  0.64747735  0.64723407  0.64699374  0.64675636  0.64652192  0.64629041\n",
            "  0.64606182  0.64583614  0.64561336  0.64539348  0.64517649  0.64496237\n",
            "  0.64475112  0.64454273  0.64433719  0.6441345   0.64393465  0.64373762\n",
            "  0.64354342  0.64335203  0.64316345  0.64297767  0.64279468  0.64261448\n",
            "  0.64243705  0.6422624   0.64209051  0.64192138  0.64175501  0.64159138\n",
            "  0.64143049  0.64127234  0.64111691  0.6409642   0.64081422  0.64066694\n",
            "  0.64052237  0.6403805   0.64024132  0.64010483  0.63997103  0.63983991\n",
            "  0.63971146  0.63958568  0.63946257  0.63934212  0.63922432  0.63910918\n",
            "  0.63899668  0.63888683  0.63877962  0.63867504  0.63857309  0.63847377\n",
            "  0.63837708  0.63828301  0.63819155  0.63810271  0.63801648  0.63793285\n",
            "  0.63785183  0.63777341  0.63769759  0.63762437  0.63755374  0.6374857\n",
            "  0.63742025  0.63735738  0.6372971   0.6372394   0.63718427  0.63713173\n",
            "  0.63708176  0.63703436  0.63698954  0.63694728  0.6369076   0.63687048\n",
            "  0.63683592  0.63680393  0.63677451  0.63674765  0.63672334  0.6367016\n",
            "  0.63668242  0.6366658   0.63665173  0.63664023  0.63663128  0.63662489\n",
            "  0.63662105  0.63661977  0.63662105  0.63662489  0.63663128  0.63664023\n",
            "  0.63665173  0.6366658   0.63668242  0.6367016   0.63672334  0.63674765\n",
            "  0.63677451  0.63680393  0.63683592  0.63687048  0.6369076   0.63694728\n",
            "  0.63698954  0.63703436  0.63708176  0.63713173  0.63718427  0.6372394\n",
            "  0.6372971   0.63735738  0.63742025  0.6374857   0.63755374  0.63762437\n",
            "  0.63769759  0.63777341  0.63785183  0.63793285  0.63801648  0.63810271\n",
            "  0.63819155  0.63828301  0.63837708  0.63847377  0.63857309  0.63867504\n",
            "  0.63877962  0.63888683  0.63899668  0.63910918  0.63922432  0.63934212\n",
            "  0.63946257  0.63958568  0.63971146  0.63983991  0.63997103  0.64010483\n",
            "  0.64024132  0.6403805   0.64052237  0.64066694  0.64081422  0.6409642\n",
            "  0.64111691  0.64127234  0.64143049  0.64159138  0.64175501  0.64192138\n",
            "  0.64209051  0.6422624   0.64243705  0.64261448  0.64279468  0.64297767\n",
            "  0.64316345  0.64335203  0.64354342  0.64373762  0.64393465  0.6441345\n",
            "  0.64433719  0.64454273  0.64475112  0.64496237  0.64517649  0.64539348\n",
            "  0.64561336  0.64583614  0.64606182  0.64629041  0.64652192  0.64675636\n",
            "  0.64699374  0.64723407  0.64747735  0.6477236   0.64797283  0.64822505\n",
            "  0.64848026  0.64873849  0.64899972  0.64926399  0.6495313   0.64980165\n",
            "  0.65007506  0.65035155  0.65063112  0.65091378  0.65119954  0.65148843\n",
            "  0.65178044  0.65207559  0.6523739   0.65267537  0.65298001  0.65328785\n",
            "  0.65359889  0.65391314  0.65423063  0.65455135  0.65487533  0.65520258\n",
            "  0.65553311  0.65586694  0.65620408  0.65654454  0.65688834  0.6572355\n",
            "  0.65758602  0.65793993  0.65829724  0.65865796  0.65902211  0.65938971\n",
            "  0.65976076  0.6601353   0.66051333  0.66089487  0.66127994  0.66166855\n",
            "  0.66206073  0.66245648  0.66285583  0.66325879  0.66366539  0.66407563\n",
            "  0.66448955  0.66490715  0.66532846  0.6657535   0.66618228  0.66661483\n",
            "  0.66705116  0.6674913   0.66793526  0.66838306  0.66883474  0.6692903\n",
            "  0.66974977  0.67021317  0.67068053  0.67115185  0.67162718  0.67210653\n",
            "  0.67258991  0.67307737  0.67356891  0.67406457  0.67456437  0.67506832\n",
            "  0.67557647  0.67608882  0.67660541  0.67712627  0.67765141  0.67818087\n",
            "  0.67871466  0.67925283  0.67979539  0.68034237  0.68089381  0.68144972\n",
            "  0.68201014  0.6825751   0.68314462  0.68371874  0.68429748  0.68488088\n",
            "  0.68546896  0.68606176  0.68665931  0.68726164  0.68786879  0.68848078\n",
            "  0.68909764  0.68971942  0.69034615  0.69097786  0.69161458  0.69225636\n",
            "  0.69290322  0.6935552   0.69421234  0.69487468  0.69554225  0.69621509\n",
            "  0.69689325  0.69757675  0.69826564  0.69895996  0.69965975  0.70036505\n",
            "  0.7010759   0.70179235  0.70251443  0.70324219  0.70397568  0.70471493\n",
            "  0.70546     0.70621092  0.70696775  0.70773053  0.70849931  0.70927413\n",
            "  0.71005505  0.71084212  0.71163538  0.71243488  0.71324068  0.71405283\n",
            "  0.71487137  0.71569638  0.71652789  0.71736596  0.71821065  0.71906202\n",
            "  0.71992012  0.72078501  0.72165675  0.72253539  0.72342101  0.72431365\n",
            "  0.72521339  0.72612028  0.72703439  0.72795579  0.72888453  0.72982069\n",
            "  0.73076433  0.73171553  0.73267434  0.73364085  0.73461512  0.73559723\n",
            "  0.73658725  0.73758525  0.73859131  0.73960551  0.74062792  0.74165863\n",
            "  0.74269772  0.74374525  0.74480133  0.74586603  0.74693944  0.74802165\n",
            "  0.74911274  0.7502128   0.75132192  0.7524402   0.75356773  0.7547046\n",
            "  0.75585091  0.75700676  0.75817225  0.75934747  0.76053254  0.76172755\n",
            "  0.76293261  0.76414783  0.76537332  0.76660919  0.76785555  0.76911252\n",
            "  0.77038021  0.77165875  0.77294825  0.77424883  0.77556062  0.77688375\n",
            "  0.77821835  0.77956454  0.78092246  0.78229224  0.78367403  0.78506796\n",
            "  0.78647418  0.78789282  0.78932405  0.790768    0.79222483  0.7936947\n",
            "  0.79517776  0.79667418  0.79818411  0.79970774  0.80124521  0.80279672\n",
            "  0.80436243  0.80594253  0.80753719  0.80914661  0.81077097  0.81241046\n",
            "  0.81406528  0.81573564  0.81742174  0.81912378  0.82084197  0.82257654\n",
            "  0.8243277   0.82609568  0.82788071  0.82968302  0.83150285  0.83334044\n",
            "  0.83519604  0.8370699   0.83896229  0.84087346  0.84280368  0.84475323\n",
            "  0.84672238  0.84871143  0.85072066  0.85275038  0.85480088  0.85687248\n",
            "  0.8589655   0.86108025  0.86321708  0.86537631  0.8675583   0.8697634\n",
            "  0.87199196  0.87424437  0.876521    0.87882223  0.88114846  0.88350009\n",
            "  0.88587754  0.88828124  0.89071161  0.8931691   0.89565416  0.89816726\n",
            "  0.90070888  0.9032795   0.90587962  0.90850975  0.91117042  0.91386217\n",
            "  0.91658555  0.91934112  0.92212947  0.92495118  0.92780686  0.93069716\n",
            "  0.93362269  0.93658413  0.93958215  0.94261744  0.94569073  0.94880273\n",
            "  0.95195421  0.95514593  0.9583787   0.96165333  0.96497066  0.96833156\n",
            "  0.97173691  0.97518764  0.97868467  0.982229    0.9858216   0.98946351\n",
            "  0.9931558   0.99689954  1.00069588  1.00454596  1.00845099  1.0124122\n",
            "  1.01643086  1.02050829  1.02464585  1.02884494  1.03310701  1.03743355\n",
            "  1.04182612  1.0462863   1.05081576  1.05541621  1.06008942  1.06483723\n",
            "  1.06966153  1.07456429  1.07954757  1.08461346  1.08976417  1.09500198\n",
            "  1.10032925  1.10574842  1.11126207  1.11687282  1.12258345  1.12839682\n",
            "  1.13431591  1.14034383  1.14648381  1.15273924  1.15911361  1.16561061\n",
            "  1.17223406  1.17898795  1.18587647  1.19290399  1.20007506  1.20739448\n",
            "  1.21486725  1.2224986   1.23029406  1.23825938  1.24640063  1.25472418\n",
            "  1.26323671  1.27194528  1.28085729  1.28998057  1.29932335  1.30889434\n",
            "  1.31870271  1.32875819  1.33907106  1.3496522   1.36051315  1.37166617\n",
            "  1.38312428  1.3949013   1.40701197  1.419472    1.43229814  1.4455083\n",
            "  1.45912164  1.47315866  1.48764137  1.50259341  1.51804022  1.53400919\n",
            "  1.55052989  1.56763429  1.58535701  1.60373561  1.62281091  1.64262739\n",
            "  1.66323361  1.68468269  1.70703286  1.73034819  1.75469926  1.78016411\n",
            "  1.80682927  1.83479093  1.86415647  1.89504611  1.92759498  1.96195559\n",
            "  1.9983008   2.03682747  2.0777609   2.12136033  2.16792583  2.21780695\n",
            "  2.27141371  2.32923079  2.39183589  2.45992408  2.53434032  2.61612373\n",
            "  2.70656899  2.80731326  2.92046219  3.04877763  3.19596634  3.36714073\n",
            "  3.56958788  3.81412412  4.1176479   4.50838548  5.03799208  5.81444813\n",
            "  7.11763973 10.06081329         inf]\n"
          ]
        },
        {
          "output_type": "display_data",
          "data": {
            "text/plain": [
              "<Figure size 864x576 with 1 Axes>"
            ],
            "image/png": "[encoded data removed]"
          },
          "metadata": {
            "needs_background": "light"
          }
        }
      ]
    },
    {
      "cell_type": "markdown",
      "source": [
        "## 이산형 확률 분포\n",
        "---"
      ],
      "metadata": {
        "id": "u_bkL0sQxRLB"
      }
    },
    {
      "cell_type": "markdown",
      "source": [
        "### |  **베르누이 분포**\n",
        "\n",
        "\\begin{split}\n",
        "\\begin{align}\n",
        "\\text{Bern}(x;\\mu) = \n",
        "\\begin{cases} \n",
        "\\mu   & \\text{if }x=1, \\\\\n",
        "1-\\mu & \\text{if }x=0\n",
        "\\end{cases}\n",
        "\\end{align}\n",
        "\\end{split}\n",
        "\n",
        "* 기본사용\n",
        "\n",
        "```\n",
        "mu = 0.5\n",
        "rv = sp.stats.bernoulli(mu)\n",
        "```"
      ],
      "metadata": {
        "id": "DZR4Ztbb2Hi_"
      }
    },
    {
      "cell_type": "code",
      "source": [
        ""
      ],
      "metadata": {
        "id": "IWbIlD-p2HrT"
      },
      "execution_count": null,
      "outputs": []
    },
    {
      "cell_type": "markdown",
      "source": [
        "* 확률 분포\n"
      ],
      "metadata": {
        "id": "yBSPcMFQ21KV"
      }
    },
    {
      "cell_type": "code",
      "source": [
        ""
      ],
      "metadata": {
        "id": "iAeMmd4U2bsO"
      },
      "execution_count": null,
      "outputs": []
    },
    {
      "cell_type": "markdown",
      "source": [
        "* 누적 확률 분포\n"
      ],
      "metadata": {
        "id": "5SxoR2Zx8md8"
      }
    },
    {
      "cell_type": "code",
      "source": [
        ""
      ],
      "metadata": {
        "id": "K60MYhgC8md9"
      },
      "execution_count": null,
      "outputs": []
    },
    {
      "cell_type": "markdown",
      "source": [
        "* 표본 추출"
      ],
      "metadata": {
        "id": "rJYDT6oQ2ttl"
      }
    },
    {
      "cell_type": "code",
      "source": [
        ""
      ],
      "metadata": {
        "id": "SInJdkhz2Tnu"
      },
      "execution_count": null,
      "outputs": []
    },
    {
      "cell_type": "markdown",
      "source": [
        "#### **예제 01. 동전 던지기**\n",
        "\n",
        "동전을 던져서 앞면이 나온 확률\n",
        "\n"
      ],
      "metadata": {
        "id": "u2x8LQa74A_V"
      }
    },
    {
      "cell_type": "code",
      "source": [
        ""
      ],
      "metadata": {
        "id": "2ZzCyh9q3O7D"
      },
      "execution_count": null,
      "outputs": []
    },
    {
      "cell_type": "markdown",
      "source": [
        "#### **예제 02. 주사위 굴리기**\n",
        "\n",
        "주사위 던져서 6이 나온 확률\n"
      ],
      "metadata": {
        "id": "SdLG6-us4Ws9"
      }
    },
    {
      "cell_type": "code",
      "source": [
        ""
      ],
      "metadata": {
        "id": "HUuwegja4Ws-"
      },
      "execution_count": null,
      "outputs": []
    },
    {
      "cell_type": "markdown",
      "source": [
        "#### **예제 03. 같은 생일**\n",
        "\n",
        "두 사람의 생일 월(月)이 같을 확률\n"
      ],
      "metadata": {
        "id": "zbGZCly_4cok"
      }
    },
    {
      "cell_type": "code",
      "source": [
        ""
      ],
      "metadata": {
        "id": "674nneQn4cok"
      },
      "execution_count": null,
      "outputs": []
    },
    {
      "cell_type": "markdown",
      "source": [
        "#### **예제 04. 주머니 공**\n",
        "주머니에 5개의 공이 들어있고 3개는 빨강, 2개는 하양이다. 공 2개를 뽑았을 때 색깔이 모두 다를 확률은?"
      ],
      "metadata": {
        "id": "7q4TvtJM45nM"
      }
    },
    {
      "cell_type": "code",
      "source": [
        ""
      ],
      "metadata": {
        "id": "McDZjQD845nS"
      },
      "execution_count": null,
      "outputs": []
    },
    {
      "cell_type": "markdown",
      "source": [
        "### |  **이항분포**\n",
        "\n",
        "\\begin{align}\n",
        "\\text{Bin}(x;N,\\mu) = \\binom N x \\; \\mu^x(1-\\mu)^{N-x}\n",
        "\\end{align}\n",
        "\n",
        "\n",
        "```\n",
        "sp.stats.binom(N, mu)\n",
        "```"
      ],
      "metadata": {
        "id": "qvyEmd6IxTQq"
      }
    },
    {
      "cell_type": "code",
      "source": [
        ""
      ],
      "metadata": {
        "id": "zzxF40t6XjoK"
      },
      "execution_count": null,
      "outputs": []
    },
    {
      "cell_type": "markdown",
      "source": [
        "* 확률 분포\n"
      ],
      "metadata": {
        "id": "Ae04eAmT6uKh"
      }
    },
    {
      "cell_type": "code",
      "source": [
        ""
      ],
      "metadata": {
        "id": "aUNhvBEO6uKh"
      },
      "execution_count": null,
      "outputs": []
    },
    {
      "cell_type": "markdown",
      "source": [
        "* 누적 확률  분포"
      ],
      "metadata": {
        "id": "c78f-pb4fga9"
      }
    },
    {
      "cell_type": "code",
      "source": [
        ""
      ],
      "metadata": {
        "id": "liw4-4MJfhQl"
      },
      "execution_count": null,
      "outputs": []
    },
    {
      "cell_type": "markdown",
      "source": [
        "* 확률 변수 표본 추출\n"
      ],
      "metadata": {
        "id": "BfFaFXrz6uKb"
      }
    },
    {
      "cell_type": "code",
      "source": [
        ""
      ],
      "metadata": {
        "id": "Y-wueBTg6uKh"
      },
      "execution_count": null,
      "outputs": []
    },
    {
      "cell_type": "markdown",
      "source": [
        "#### **예제 01. 동전 던지기**\n",
        "\n",
        "* 동전을 1번 던졌을 때 앞면이 나온 횟수의 확률분포\n",
        "\n"
      ],
      "metadata": {
        "id": "mfOJS2Ij63lL"
      }
    },
    {
      "cell_type": "code",
      "source": [
        ""
      ],
      "metadata": {
        "id": "iIZ2aPI90p0_"
      },
      "execution_count": null,
      "outputs": []
    },
    {
      "cell_type": "markdown",
      "source": [
        "* 동전을 10번 던졌을 때 앞면이 나온 횟수의 확률분포\n"
      ],
      "metadata": {
        "id": "Dl3kr5v5aN2R"
      }
    },
    {
      "cell_type": "code",
      "source": [
        ""
      ],
      "metadata": {
        "id": "lLX3TRHMaGFI"
      },
      "execution_count": null,
      "outputs": []
    },
    {
      "cell_type": "markdown",
      "source": [
        "#### **예제 02. 주사위 굴리기**\n",
        "\n",
        "* 주사위를 1번 던져서 짝수가 나온 횟수의 분포"
      ],
      "metadata": {
        "id": "BgCrd71ay0xo"
      }
    },
    {
      "cell_type": "code",
      "source": [
        ""
      ],
      "metadata": {
        "id": "FGt6Yv-hy0xp"
      },
      "execution_count": null,
      "outputs": []
    },
    {
      "cell_type": "markdown",
      "source": [
        "* 주사위를 6번 던져서 짝수가 나온 횟수의 분포"
      ],
      "metadata": {
        "id": "pQfzCX3C1O7e"
      }
    },
    {
      "cell_type": "code",
      "source": [
        ""
      ],
      "metadata": {
        "id": "dLTDN71b1O7f"
      },
      "execution_count": null,
      "outputs": []
    },
    {
      "cell_type": "markdown",
      "source": [
        "* 주사위를 20번 던져서 짝수가 나온 횟수의 분포"
      ],
      "metadata": {
        "id": "fYk90ripZv-p"
      }
    },
    {
      "cell_type": "code",
      "source": [
        ""
      ],
      "metadata": {
        "id": "BBKpHijjZv-u"
      },
      "execution_count": null,
      "outputs": []
    },
    {
      "cell_type": "markdown",
      "source": [
        "* 주사위를 1번 던져서 6이 나온 횟수의 분포"
      ],
      "metadata": {
        "id": "vTgdAm2_yFfp"
      }
    },
    {
      "cell_type": "code",
      "source": [
        ""
      ],
      "metadata": {
        "id": "BjL3tbaPxycR"
      },
      "execution_count": null,
      "outputs": []
    },
    {
      "cell_type": "markdown",
      "source": [
        "* 주사위를 6번 던져서 6이 나온 횟수의 분포"
      ],
      "metadata": {
        "id": "yugdY-bMyf9w"
      }
    },
    {
      "cell_type": "code",
      "source": [
        ""
      ],
      "metadata": {
        "id": "5tOC9IWYyf9w"
      },
      "execution_count": null,
      "outputs": []
    },
    {
      "cell_type": "markdown",
      "source": [
        "* 주사위를 20번 던져서 6이 나온 횟수의 분포"
      ],
      "metadata": {
        "id": "C2uBhXRr8ACU"
      }
    },
    {
      "cell_type": "code",
      "source": [
        ""
      ],
      "metadata": {
        "id": "Ylmr1SNR8ACU"
      },
      "execution_count": null,
      "outputs": []
    },
    {
      "cell_type": "markdown",
      "source": [
        "### **| 카테고리 확률분포**\n",
        "\n",
        "\\begin{split} \n",
        "\\begin{align}\n",
        "\\text{Cat}(x;\\mu) = \n",
        "\\begin{cases}\n",
        "\\mu_1 & \\text{if } x = (1, 0, 0, \\cdots, 0) \\\\\n",
        "\\mu_2 & \\text{if } x = (0, 1, 0, \\cdots, 0) \\\\\n",
        "\\mu_3 & \\text{if } x = (0, 0, 1, \\cdots, 0) \\\\\n",
        "\\vdots & \\vdots \\\\\n",
        "\\mu_K & \\text{if } x = (0, 0, 0, \\cdots, 1) \\\\\n",
        "\\end{cases}\n",
        "\\end{align}\n",
        "\\end{split}\n",
        "\n",
        "\n",
        "```\n",
        "sp.stats.multinomial(1, mu)\n",
        "```"
      ],
      "metadata": {
        "id": "80kMNBkH_zez"
      }
    },
    {
      "cell_type": "code",
      "source": [
        ""
      ],
      "metadata": {
        "id": "uU5fIlSRABLp"
      },
      "execution_count": null,
      "outputs": []
    },
    {
      "cell_type": "markdown",
      "source": [
        "* 확률 분포\n"
      ],
      "metadata": {
        "id": "NPVTGlV3QkX3"
      }
    },
    {
      "cell_type": "code",
      "source": [
        ""
      ],
      "metadata": {
        "id": "rl4lQtsdQkX3"
      },
      "execution_count": null,
      "outputs": []
    },
    {
      "cell_type": "markdown",
      "source": [
        "* 표본 추출\n"
      ],
      "metadata": {
        "id": "B0fGcCvTACrJ"
      }
    },
    {
      "cell_type": "code",
      "source": [
        ""
      ],
      "metadata": {
        "id": "7pIEzR11ACrK"
      },
      "execution_count": null,
      "outputs": []
    },
    {
      "cell_type": "markdown",
      "source": [
        "#### **예제 01.공정하지 않은 주사위**\n",
        "\n",
        "* 주사위의 짝수 면이 나올 확률이 홀수 면이 나올 확률의 2배일 때 확률분포를 그래세요."
      ],
      "metadata": {
        "id": "qTi5CXlcVkgb"
      }
    },
    {
      "cell_type": "code",
      "source": [
        ""
      ],
      "metadata": {
        "id": "j9LKA4bcVkgh"
      },
      "execution_count": null,
      "outputs": []
    },
    {
      "cell_type": "markdown",
      "source": [
        "#### **예제 02. 주머니 공**\n",
        "\n",
        "주머니 안에 빨간색 5개, 노란색, 3개 초록색 2개 공이 들어 있을 때 공 한개를 뽑을 때 나오는 색깔의 확률 분포를 그리세요."
      ],
      "metadata": {
        "id": "4sA7w4hPPDR3"
      }
    },
    {
      "cell_type": "code",
      "source": [
        ""
      ],
      "metadata": {
        "id": "KY8dsIRHPbXm"
      },
      "execution_count": null,
      "outputs": []
    },
    {
      "cell_type": "markdown",
      "source": [
        "#### **예제 03. 선호 자리**\n",
        "\n",
        "교실에 5개의 자리가 있고 학생이 x번째 자리에 앉을 확률이 $f(X=x)=\\frac{1}{2^{(x+1)}}$ 로 주어졌습니다. 확률 분포를 그리세요."
      ],
      "metadata": {
        "id": "nY1r7_HTXbAM"
      }
    },
    {
      "cell_type": "code",
      "source": [
        ""
      ],
      "metadata": {
        "id": "1cbAe4SvXbAM"
      },
      "execution_count": null,
      "outputs": []
    }
  ]
}