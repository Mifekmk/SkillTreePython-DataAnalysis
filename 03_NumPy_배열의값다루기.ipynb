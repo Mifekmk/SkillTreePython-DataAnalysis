{
  "nbformat": 4,
  "nbformat_minor": 0,
  "metadata": {
    "colab": {
      "name": "03_NumPy-배열의값다루기.ipynb",
      "provenance": [],
      "collapsed_sections": [],
      "include_colab_link": true
    },
    "kernelspec": {
      "name": "python3",
      "display_name": "Python 3"
    },
    "language_info": {
      "name": "python"
    }
  },
  "cells": [
    {
      "cell_type": "markdown",
      "metadata": {
        "id": "view-in-github",
        "colab_type": "text"
      },
      "source": [
        "<a href=\"https://colab.research.google.com/github/Mifekmk/SkillTreePython-DataAnalysis/blob/main/03_NumPy_%EB%B0%B0%EC%97%B4%EC%9D%98%EA%B0%92%EB%8B%A4%EB%A3%A8%EA%B8%B0.ipynb\" target=\"_parent\"><img src=\"https://colab.research.google.com/assets/colab-badge.svg\" alt=\"Open In Colab\"/></a>"
      ]
    },
    {
      "cell_type": "markdown",
      "metadata": {
        "id": "jgFAOz-Tw1VI"
      },
      "source": [
        "# CH03. Numpy  - 배열의 값 다루기\n",
        "\n",
        "---\n",
        "* 날짜: 2022-04-11\n",
        "* 이름: 김민규\n"
      ]
    },
    {
      "cell_type": "markdown",
      "source": [
        "## 개념정리\n",
        "\n",
        "앞서 우리는 배열을 생성하는 다양한 방법을 배웠습니다. 이번시간에 이렇게 생성한 배열의 값을 조회(인덱싱, 슬리아싱) 하고 값을 변경(수정, 삭제) 하는 방법에 대해 알아보도록 합니다. \n",
        "\n",
        "\n",
        "```\n",
        "import numpy as np\n",
        "```\n",
        "\n",
        "\n"
      ],
      "metadata": {
        "id": "_3uSBF40BdCd"
      }
    },
    {
      "cell_type": "code",
      "source": [
        "import numpy as np"
      ],
      "metadata": {
        "id": "3IDspyuAtqd7"
      },
      "execution_count": 1,
      "outputs": []
    },
    {
      "cell_type": "markdown",
      "metadata": {
        "id": "HjPXsM8C5ULZ"
      },
      "source": [
        "---\n",
        "### **(1) 배열 조회**\n",
        "---\n",
        "\n",
        "기본적인 배열의 정보를 아래 메서드를 이용해 확인할 수 있습니다. \n",
        "\n",
        "\n",
        "* `.ndim`: 차원의 수\n",
        "* `.shape`: 형태\n",
        "* `.dtype`: element 타입\n",
        "* `.size`: element 총 개수\n",
        "* `.itemsize`: 메모리 사이즈 (byte)\n",
        "* `.nbytes`: `size`*`itemsize`\n",
        "\n",
        "```\n",
        "a = np.arange(10)\n",
        "print(a)\n",
        "print(a.ndim) # 차원의 수\n",
        "print(a.shape) # 형태\n",
        "print(a.dtype) # element 타입\n",
        "print(a.size) # element 총 개수\n",
        "print(a.itemsize) # 메모리 사이즈\n",
        "print(a.nbytes) # 메모리 사이즈 * element 총 개수\n",
        "```"
      ]
    },
    {
      "cell_type": "code",
      "source": [
        "a = np.arange(10)\n",
        "print(a)\n",
        "print(a.ndim) # 차원의 수\n",
        "print(a.shape) # 형태\n",
        "print(a.dtype) # element 타입\n",
        "print(a.size) # element 총 개수\n",
        "print(a.itemsize) # 메모리 사이즈\n",
        "print(a.nbytes) # 메모리 사이즈 * element 총 개수"
      ],
      "metadata": {
        "id": "_dSqxyxUk44g",
        "colab": {
          "base_uri": "https://localhost:8080/"
        },
        "outputId": "687e1191-adcb-455b-af7b-7d9edca73b42"
      },
      "execution_count": 6,
      "outputs": [
        {
          "output_type": "stream",
          "name": "stdout",
          "text": [
            "[0 1 2 3 4 5 6 7 8 9]\n",
            "1\n",
            "(10,)\n",
            "int64\n",
            "10\n",
            "8\n",
            "80\n"
          ]
        }
      ]
    },
    {
      "cell_type": "markdown",
      "source": [
        "#### **| 인덱싱**\n",
        "\n",
        "배열의 인덱싱은 기본적으로 파이썬 리스트와 동일합니다. 다만 넘파이 배열에서는 차원에 대한 인덱싱을 콤마(,)를 이용합니다.\n",
        "\n",
        "아래와 같이 리스트 `l`과 배열 `a`가 주어 졌을 때 데이터 `2`를 출력해 봅시다.\n",
        "\n",
        "배열을 사용할 땐 보통 `a[0,1]` 과 같이 각 차원에 대해 콤마(`,`)로 구분합니다. \n",
        "\n",
        "```\n",
        "l = [[1,2,3],[4,5,6]]\n",
        "a = np.array(l)\n",
        "print(a)\n",
        "\n",
        "l[0][1], a[0][1], a[0,1]\n",
        "```"
      ],
      "metadata": {
        "id": "NQ_GbYiXLN2i"
      }
    },
    {
      "cell_type": "code",
      "source": [
        "l =[[1,2,3],[4,5,6]]\n",
        "a = np.array(l)\n",
        "print(a)\n",
        "l[0][1], a[0][1],a[0,1]"
      ],
      "metadata": {
        "id": "XzFGRGdoj7jD",
        "colab": {
          "base_uri": "https://localhost:8080/"
        },
        "outputId": "ba317c95-5887-4862-9057-0dc24c5c88d9"
      },
      "execution_count": 18,
      "outputs": [
        {
          "output_type": "stream",
          "name": "stdout",
          "text": [
            "[[1 2 3]\n",
            " [4 5 6]]\n"
          ]
        },
        {
          "output_type": "execute_result",
          "data": {
            "text/plain": [
              "(2, 2, 2)"
            ]
          },
          "metadata": {},
          "execution_count": 18
        }
      ]
    },
    {
      "cell_type": "markdown",
      "source": [
        "#### **| 슬라이싱**\n",
        "\n",
        "슬라이싱 또한 기본적으로 파이썬 리스트와 동일하며 다른점은 콤마(,)를 이용한다는 것입니다. \n",
        "\n",
        "우선 슬라이싱을 이용해 리스트 `l`에서 리스트 `[[1,2],[4,5]]`을 출력해 봅시다.\n",
        "\n",
        "```\n",
        "[[1,2],\n",
        " [4,5]]\n",
        "```\n",
        "\n"
      ],
      "metadata": {
        "id": "hoFFULJRj8mU"
      }
    },
    {
      "cell_type": "code",
      "source": [
        "for i in range(len(l)):\n",
        "    "
      ],
      "metadata": {
        "id": "dYLhCvEqj8mV",
        "colab": {
          "base_uri": "https://localhost:8080/",
          "height": 190
        },
        "outputId": "87b0a2f4-af26-497a-8742-9f7e3c42fbea"
      },
      "execution_count": 25,
      "outputs": [
        {
          "output_type": "error",
          "ename": "TypeError",
          "evalue": "ignored",
          "traceback": [
            "\u001b[0;31m---------------------------------------------------------------------------\u001b[0m",
            "\u001b[0;31mTypeError\u001b[0m                                 Traceback (most recent call last)",
            "\u001b[0;32m<ipython-input-25-3d3c6c297856>\u001b[0m in \u001b[0;36m<module>\u001b[0;34m()\u001b[0m\n\u001b[1;32m      1\u001b[0m \u001b[0ml\u001b[0m\u001b[0;34m\u001b[0m\u001b[0;34m\u001b[0m\u001b[0m\n\u001b[0;32m----> 2\u001b[0;31m \u001b[0ml\u001b[0m\u001b[0;34m[\u001b[0m\u001b[0;34m:\u001b[0m\u001b[0;34m,\u001b[0m\u001b[0;34m:\u001b[0m\u001b[0;36m2\u001b[0m\u001b[0;34m]\u001b[0m\u001b[0;34m\u001b[0m\u001b[0;34m\u001b[0m\u001b[0m\n\u001b[0m",
            "\u001b[0;31mTypeError\u001b[0m: list indices must be integers or slices, not tuple"
          ]
        }
      ]
    },
    {
      "cell_type": "markdown",
      "source": [
        "이번엔 배열 `a`에서 배열 `[[1,2],[4,5]]`을 출력해 봅시다. "
      ],
      "metadata": {
        "id": "oVZRxzcyoWsD"
      }
    },
    {
      "cell_type": "code",
      "source": [
        "a\n",
        "a[:,:2] # (행에 대한 슬라이싱, 열에 대한 슬라이싱)"
      ],
      "metadata": {
        "id": "S64FExzsoBBg",
        "colab": {
          "base_uri": "https://localhost:8080/"
        },
        "outputId": "7cfaf09b-58c4-4af9-bbc4-7f683de476d1"
      },
      "execution_count": 27,
      "outputs": [
        {
          "output_type": "execute_result",
          "data": {
            "text/plain": [
              "array([[1, 2],\n",
              "       [4, 5]])"
            ]
          },
          "metadata": {},
          "execution_count": 27
        }
      ]
    },
    {
      "cell_type": "markdown",
      "source": [
        "이처럼 리스트에서는 제한적인 슬라이싱을 넘파이 배열을 통해서는 자유롭게 슬라이싱이 가능합니다. "
      ],
      "metadata": {
        "id": "BJPqOH9FooVQ"
      }
    },
    {
      "cell_type": "markdown",
      "source": [
        "#### **| 연습문제**\n",
        "\n",
        "연습을 위해 아래 그림과 같은 2차원 배열을 생성하고 `a2`로 바인딩 하세요.\n",
        "\n",
        "<p align='center'>\n",
        "<img src=https://github.com/yebiny/SkillTreePython-DataAnalysis/blob/main/imgs/ch0103-01.png?raw=true width=240>\n",
        "</p>\n",
        "\n",
        "```\n",
        "a2 = np.arange(1, 26).reshape(5,5)\n",
        "```"
      ],
      "metadata": {
        "id": "hzWZ5G7mo2PR"
      }
    },
    {
      "cell_type": "code",
      "source": [
        "a2 = np.arange(1,26).reshape(5,5)\n",
        "a2"
      ],
      "metadata": {
        "id": "peNsBPQcrggt",
        "colab": {
          "base_uri": "https://localhost:8080/"
        },
        "outputId": "40435080-9d87-4bd6-ce0c-b127606b9389"
      },
      "execution_count": 29,
      "outputs": [
        {
          "output_type": "execute_result",
          "data": {
            "text/plain": [
              "array([[ 1,  2,  3,  4,  5],\n",
              "       [ 6,  7,  8,  9, 10],\n",
              "       [11, 12, 13, 14, 15],\n",
              "       [16, 17, 18, 19, 20],\n",
              "       [21, 22, 23, 24, 25]])"
            ]
          },
          "metadata": {},
          "execution_count": 29
        }
      ]
    },
    {
      "cell_type": "markdown",
      "source": [
        "**연습 01**\n",
        "\n",
        "인덱싱을 이용해 `a2`의 4, 13, 25를 각각 출력하세요. \n"
      ],
      "metadata": {
        "id": "ey_R7ZgXnHdp"
      }
    },
    {
      "cell_type": "code",
      "source": [
        "a2[0,3], a2[2,2], a2[4,4]\n",
        "a2[(0,2,4),(3,2,4)]"
      ],
      "metadata": {
        "id": "XUKKRTSJAsMa",
        "colab": {
          "base_uri": "https://localhost:8080/"
        },
        "outputId": "4ddf7eb6-bded-4514-af9b-86fa3c1a7757"
      },
      "execution_count": 34,
      "outputs": [
        {
          "output_type": "execute_result",
          "data": {
            "text/plain": [
              "array([ 4, 13, 25])"
            ]
          },
          "metadata": {},
          "execution_count": 34
        }
      ]
    },
    {
      "cell_type": "markdown",
      "source": [
        "**연습 02**\n",
        "\n",
        "슬라이싱을 이용해 파란색 값으로 이루어진 배열을 출력하세요.\n",
        "\n",
        "<p align='center'>\n",
        "<img src=https://github.com/yebiny/SkillTreePython-DataAnalysis/blob/main/imgs/ch0103-02.png?raw=true width=240>\n",
        "</p>\n"
      ],
      "metadata": {
        "id": "osSECfAyqBln"
      }
    },
    {
      "cell_type": "code",
      "source": [
        "a2[1:,1]"
      ],
      "metadata": {
        "id": "4f6g4MUhqBlu",
        "colab": {
          "base_uri": "https://localhost:8080/"
        },
        "outputId": "a730ae14-1d48-4a46-d0c9-4713e80f9181"
      },
      "execution_count": 31,
      "outputs": [
        {
          "output_type": "execute_result",
          "data": {
            "text/plain": [
              "array([ 7, 12, 17, 22])"
            ]
          },
          "metadata": {},
          "execution_count": 31
        }
      ]
    },
    {
      "cell_type": "markdown",
      "source": [
        "**연습 03**\n",
        "\n",
        "슬라이싱을 이용해 파란색 값으로 이루어진 배열을 출력하세요.\n",
        "\n",
        "<p align='center'>\n",
        "<img src=https://github.com/yebiny/SkillTreePython-DataAnalysis/blob/main/imgs/ch0103-03.png?raw=true width=240>\n",
        "</p>\n"
      ],
      "metadata": {
        "id": "5frFtw8dqJth"
      }
    },
    {
      "cell_type": "code",
      "source": [
        "a2[1:4,1:4]"
      ],
      "metadata": {
        "id": "VrPumy5wqJth",
        "colab": {
          "base_uri": "https://localhost:8080/"
        },
        "outputId": "0600a052-3a31-472b-b6ce-cd2618b74345"
      },
      "execution_count": 32,
      "outputs": [
        {
          "output_type": "execute_result",
          "data": {
            "text/plain": [
              "array([[ 7,  8,  9],\n",
              "       [12, 13, 14],\n",
              "       [17, 18, 19]])"
            ]
          },
          "metadata": {},
          "execution_count": 32
        }
      ]
    },
    {
      "cell_type": "markdown",
      "source": [
        "---\n",
        "### **(2) 다양한 인덱싱**\n",
        "---\n"
      ],
      "metadata": {
        "id": "CrNPIU4P7gb4"
      }
    },
    {
      "cell_type": "markdown",
      "source": [
        "#### **| 팬시 인덱싱(Fancy indexing)**\n",
        "\n",
        "아래그림과 같이 `a2`의 대각선 값인 `[1,7,13,19,25]`만 슬라이싱 하려면 어떻게 할까요? 이 경우 인덱스가 이어져 있지 않기 때문에 위에서 배운 방법만으로는 어렵습니다. \n",
        "\n",
        "<p align='center'>\n",
        "<img src=https://github.com/yebiny/SkillTreePython-DataAnalysis/blob/main/imgs/ch0103-04.png?raw=true width=240>\n",
        "</p>\n",
        "\n",
        "\n",
        "이럴 때 유용하게 사용할 수 있는게 팬시 인덱싱 입니다. 팬시 인덱싱은 배열 값의 선택 여부를 인덱스로 지정합니다. \n",
        "\n",
        "\n",
        "```\n",
        "a2[(0,1,2,3,4),(0,1,2,3,4)]\n",
        "```\n",
        "위 코드는 행, 열로 바꿔 생각하면 `(0,0)`, `(1,1)`, `(2,2)`, `(3,3)`, `(4,4)` 위치에 있는 값들을 인덱싱 한것과 동일합니다. \n"
      ],
      "metadata": {
        "id": "2DTdJiChrkHg"
      }
    },
    {
      "cell_type": "code",
      "source": [
        "a2[(0,1,2,3,4),(0,1,2,3,4)]"
      ],
      "metadata": {
        "id": "R6XxUzsPrkHh",
        "colab": {
          "base_uri": "https://localhost:8080/"
        },
        "outputId": "98d03bcf-bdd9-4bc8-fa86-bfb27aad4bec"
      },
      "execution_count": 35,
      "outputs": [
        {
          "output_type": "execute_result",
          "data": {
            "text/plain": [
              "array([ 1,  7, 13, 19, 25])"
            ]
          },
          "metadata": {},
          "execution_count": 35
        }
      ]
    },
    {
      "cell_type": "markdown",
      "source": [
        "#### **| 불리언 인덱싱(Fancy indexing)**\n",
        "\n",
        "불리언 인덱싱은 배열 값의 선택 여부를 불리언(boolian) 을 이용해 지정합니다. 불리언 인덱싱을 사용하기 위해서는 인덱스 할 배열과 똑같은 크기에 `True`혹은 `False` 값만 들어있는 배열이 필요합니다. \n",
        "\n",
        "따라서 위에서 처럼 대각값을 슬라이싱 하기 위해서는 아래와 같은 작업이 필요합니다. \n",
        "\n",
        "```\n",
        "mask  = np.array([[True, False, False, False, False,],\n",
        "                [False, True, False, False, False,],\n",
        "                [False, False, True, False, False,],\n",
        "                [False, False, False, True, False,],\n",
        "                [False, False, False, False, True,]])\n",
        "\n",
        "mask  = np.array([[1,0,0,0,0],\n",
        "                 [0,1,0,0,0],\n",
        "                 [0,0,1,0,0],\n",
        "                 [0,0,0,1,0],\n",
        "                 [0,0,0,0,1]], dtype=bool)\n",
        "print(mask)\n",
        "\n",
        "a2[mask]\n",
        "```\n"
      ],
      "metadata": {
        "id": "fl73JgeJrrwQ"
      }
    },
    {
      "cell_type": "code",
      "source": [
        "mask  = np.array([[True, False, False, False, False,],\n",
        "                [False, True, False, False, False,],\n",
        "                [False, False, True, False, False,],\n",
        "                [False, False, False, True, False,],\n",
        "                [False, False, False, False, True,]])\n",
        "print(mask)\n",
        "a2[mask]"
      ],
      "metadata": {
        "id": "nfRZ8261rrwR",
        "colab": {
          "base_uri": "https://localhost:8080/"
        },
        "outputId": "b1261a40-c5b9-4e66-ebf5-48e5f67ead8b"
      },
      "execution_count": 38,
      "outputs": [
        {
          "output_type": "stream",
          "name": "stdout",
          "text": [
            "[[ True False False False False]\n",
            " [False  True False False False]\n",
            " [False False  True False False]\n",
            " [False False False  True False]\n",
            " [False False False False  True]]\n"
          ]
        },
        {
          "output_type": "execute_result",
          "data": {
            "text/plain": [
              "array([ 1,  7, 13, 19, 25])"
            ]
          },
          "metadata": {},
          "execution_count": 38
        }
      ]
    },
    {
      "cell_type": "code",
      "source": [
        "mask  = np.array([[1,0,0,0,0],\n",
        "                 [0,1,0,0,0],\n",
        "                 [0,0,1,0,0],\n",
        "                 [0,0,0,1,0],\n",
        "                 [0,0,0,0,1]], dtype=bool)\n",
        "print(mask)\n",
        "\n",
        "a2[mask]    # filter되서 주건에 맞는 값을 추출하듯이"
      ],
      "metadata": {
        "colab": {
          "base_uri": "https://localhost:8080/"
        },
        "id": "FmY0J9FjPtjC",
        "outputId": "9a7ddc41-0e0b-469d-e223-54a6ca6ad057"
      },
      "execution_count": 40,
      "outputs": [
        {
          "output_type": "stream",
          "name": "stdout",
          "text": [
            "[[ True False False False False]\n",
            " [False  True False False False]\n",
            " [False False  True False False]\n",
            " [False False False  True False]\n",
            " [False False False False  True]]\n"
          ]
        },
        {
          "output_type": "execute_result",
          "data": {
            "text/plain": [
              "array([ 1,  7, 13, 19, 25])"
            ]
          },
          "metadata": {},
          "execution_count": 40
        }
      ]
    },
    {
      "cell_type": "markdown",
      "source": [
        "불리언 인덱싱이 불필요해 보이지만 유용하게 사용될 때가 있습니다. 아직 연산에 대해 배우지 않았지만 예시를 들어보겠습니다. \n",
        "\n",
        "`a2`에서 `15`보다 큰값만 슬라이싱 하려 합니다. 이 때 불리언 인덱싱을 이용해 `mask`를 다음과 같이 정의할 수 있습니다. \n",
        "\n",
        "```\n",
        "mask = a2>15\n",
        "print(mask)\n",
        "a2[mask]\n",
        "```"
      ],
      "metadata": {
        "id": "yDnEg3ZHtHEO"
      }
    },
    {
      "cell_type": "code",
      "source": [
        "mask = a2>15    # 배열과 숫자가 비교가 가능합니다.(broadcastiong)\n",
        "print(mask)\n",
        "a2[mask]"
      ],
      "metadata": {
        "id": "Pd6HybTdtlsO",
        "colab": {
          "base_uri": "https://localhost:8080/"
        },
        "outputId": "e238d810-2194-4dec-d099-17e0a9194aaa"
      },
      "execution_count": 41,
      "outputs": [
        {
          "output_type": "stream",
          "name": "stdout",
          "text": [
            "[[False False False False False]\n",
            " [False False False False False]\n",
            " [False False False False False]\n",
            " [ True  True  True  True  True]\n",
            " [ True  True  True  True  True]]\n"
          ]
        },
        {
          "output_type": "execute_result",
          "data": {
            "text/plain": [
              "array([16, 17, 18, 19, 20, 21, 22, 23, 24, 25])"
            ]
          },
          "metadata": {},
          "execution_count": 41
        }
      ]
    },
    {
      "cell_type": "markdown",
      "source": [
        "#### **| 연습문제**\n",
        "\n",
        "**연습 04**\n",
        "\n",
        "아래 그림에서 색깔별로 해당하는 값들을 인덱싱 하여 각각 새로운 배열로 만드세요.\n",
        "\n",
        "\n",
        "<p align='center'>\n",
        "<img src=https://github.com/yebiny/SkillTreePython-DataAnalysis/blob/main/imgs/ch0103-05.png?raw=true width=240>\n",
        "</p>\n",
        "\n"
      ],
      "metadata": {
        "id": "3OohVJBBt5XQ"
      }
    },
    {
      "cell_type": "code",
      "source": [
        "print(a2[(0,2,3),(0,1,3)])\n",
        "print(a2[(0,0,1,1,2,2),(2,4,2,4,2,4)])\n",
        "print(a2[:3,(2,4)]) # 팬시 인덱싱이랑 섞을 수 있습니다.\n",
        "print(a2[4,0:])\n",
        "a_red = a2>20\n",
        "print(a_red)"
      ],
      "metadata": {
        "id": "i0Mc-XWQvJ_d",
        "colab": {
          "base_uri": "https://localhost:8080/"
        },
        "outputId": "ef3b399e-2e4c-4c4c-ec61-130e55c18d17"
      },
      "execution_count": 49,
      "outputs": [
        {
          "output_type": "stream",
          "name": "stdout",
          "text": [
            "[ 1 12 19]\n",
            "[ 3  5  8 10 13 15]\n",
            "[[ 3  5]\n",
            " [ 8 10]\n",
            " [13 15]]\n",
            "[21 22 23 24 25]\n",
            "[[False False False False False]\n",
            " [False False False False False]\n",
            " [False False False False False]\n",
            " [False False False False False]\n",
            " [ True  True  True  True  True]]\n"
          ]
        }
      ]
    },
    {
      "cell_type": "markdown",
      "source": [
        "---\n",
        "### **(3) 배열 값 변경**\n",
        "---\n"
      ],
      "metadata": {
        "id": "20us_Tx577JL"
      }
    },
    {
      "cell_type": "markdown",
      "source": [
        "#### **| 수정**\n",
        "\n",
        "배열 값의 수정은 기본적으로 인덱싱을 이용합니다. 리스트의 수정과 마찬가지로 인덱싱으로 특정값에 접근하고 바인딩을 이용해 값을 수정합니다. \n",
        "\n",
        "\n",
        "```\n",
        "a = np.arange(10)\n",
        "print(a)\n",
        "a[0]=100\n",
        "print(a)\n",
        "```"
      ],
      "metadata": {
        "id": "xW7UPAFY77JR"
      }
    },
    {
      "cell_type": "code",
      "source": [
        "a = np.arange(10)\n",
        "print(a)\n",
        "a[0]=100\n",
        "print(a)"
      ],
      "metadata": {
        "id": "VwBnNgLT77xV",
        "colab": {
          "base_uri": "https://localhost:8080/"
        },
        "outputId": "5ea978d1-9789-4324-80ae-1d3454b823fb"
      },
      "execution_count": 52,
      "outputs": [
        {
          "output_type": "stream",
          "name": "stdout",
          "text": [
            "[0 1 2 3 4 5 6 7 8 9]\n",
            "[100   1   2   3   4   5   6   7   8   9]\n"
          ]
        }
      ]
    },
    {
      "cell_type": "markdown",
      "source": [
        "#### **| 삽입**\n",
        "\n",
        "* `b = np.insert(a, index, element, axis=n)` : \n",
        "값을 추가한 새로운 배열을 반환합니다. 원본 배열은 변경되지 않습니다. \n",
        "\n",
        "`insert` 메서드를 이용하여 배열의 특정 위치에 값을 추가할 수 있습니다. 이 때 값을 추가할 차원 축 (axis)를 지정해야 하며, 지정하지 않으면 1차원 배열을 반환합니다. \n",
        "\n",
        "```\n",
        "a = np.zeros((3,3))\n",
        "print(a)\n",
        "\n",
        "print(np.insert(a, 0, 1, axis=0))\n",
        "print(np.insert(a, 0, 1, axis=1))\n",
        "print(np.insert(a, 0, 1))\n",
        "```"
      ],
      "metadata": {
        "id": "eKawM5an8mZx"
      }
    },
    {
      "cell_type": "code",
      "source": [
        "a = np.zeros((3,3))\n",
        "print(a)\n",
        "\n",
        "print(np.insert(a, 0, 1, axis=0)) # a의 0번째(행)에 1을 삽입합니다. 차원을 보존하고 싶으면 axis를 사용합니다.\n",
        "print(np.insert(a, 0, 1, axis=1)) # a의 1번째(열)에 1을 삽입합니다.\n",
        "print(np.insert(a, 0, 1))"
      ],
      "metadata": {
        "id": "IkvNkInb8mZx",
        "colab": {
          "base_uri": "https://localhost:8080/"
        },
        "outputId": "b694d805-473b-4c29-c77b-04d41389aef1"
      },
      "execution_count": 57,
      "outputs": [
        {
          "output_type": "stream",
          "name": "stdout",
          "text": [
            "[[0. 0. 0.]\n",
            " [0. 0. 0.]\n",
            " [0. 0. 0.]]\n",
            "[[1. 1. 1.]\n",
            " [0. 0. 0.]\n",
            " [0. 0. 0.]\n",
            " [0. 0. 0.]]\n",
            "[[1. 0. 0. 0.]\n",
            " [1. 0. 0. 0.]\n",
            " [1. 0. 0. 0.]]\n",
            "[1. 0. 0. 0. 0. 0. 0. 0. 0. 0.]\n"
          ]
        }
      ]
    },
    {
      "cell_type": "markdown",
      "source": [
        "#### **| 연습문제**\n",
        "\n"
      ],
      "metadata": {
        "id": "h_cUD4FQ-oAo"
      }
    },
    {
      "cell_type": "markdown",
      "source": [
        "**연습 05**\n",
        "\n",
        "위에서 정의한 `a`에 `insert`를 사용하여 아래 그림과 같은 배열을 출력하세요.\n",
        "\n",
        "<p align='center'>\n",
        "<img src=https://github.com/yebiny/SkillTreePython-DataAnalysis/blob/main/imgs/ch0103-06.png?raw=true width=150>\n",
        "</p>"
      ],
      "metadata": {
        "id": "Rw32D58m-t1t"
      }
    },
    {
      "cell_type": "code",
      "source": [
        "a = np.zeros((3,3))\n",
        "print(np.insert(a, 2,1, axis=0)) # (a, idx,넣을 값, axis=0(행) or 1(열))"
      ],
      "metadata": {
        "id": "nK3awP18-oAp",
        "colab": {
          "base_uri": "https://localhost:8080/"
        },
        "outputId": "9175465c-b5da-4e2a-9d9b-9b4eb3b6dd51"
      },
      "execution_count": 85,
      "outputs": [
        {
          "output_type": "stream",
          "name": "stdout",
          "text": [
            "[[0. 0. 0.]\n",
            " [0. 0. 0.]\n",
            " [1. 1. 1.]\n",
            " [0. 0. 0.]]\n"
          ]
        }
      ]
    },
    {
      "cell_type": "markdown",
      "source": [
        "**연습 06**\n",
        "\n",
        "위에서 정의한 `a`에 `insert`를 사용하여 아래 그림과 같은 배열을 출력하세요.\n",
        "\n",
        "<p align='center'>\n",
        "<img src=https://github.com/yebiny/SkillTreePython-DataAnalysis/blob/main/imgs/ch0103-07.png?raw=true width=210>\n",
        "</p>"
      ],
      "metadata": {
        "id": "Bza20EHW_lXI"
      }
    },
    {
      "cell_type": "code",
      "source": [
        "a = np.zeros((3,3))\n",
        "print(np.insert(a, 1,(1,2,3), axis=1))"
      ],
      "metadata": {
        "id": "hSvLOhwAZA_r",
        "colab": {
          "base_uri": "https://localhost:8080/"
        },
        "outputId": "1b0d86d4-7fbc-4228-983d-51b646affc27"
      },
      "execution_count": 88,
      "outputs": [
        {
          "output_type": "stream",
          "name": "stdout",
          "text": [
            "[[0. 1. 0. 0.]\n",
            " [0. 2. 0. 0.]\n",
            " [0. 3. 0. 0.]]\n"
          ]
        }
      ]
    },
    {
      "cell_type": "markdown",
      "source": [
        "#### **| 삭제**\n",
        "\n",
        "* `b = np.delete(a, index, axis=n)` : \n",
        "값을 추가한 새로운 배열을 반환합니다. 원본 배열은 변경되지 않습니다. \n",
        "\n",
        "`delete` 메서드는 배열의 특정 위치 값을 삭제합니다. 이 때 값을 추가할 차원 축 (axis)를 지정해야 하며, 지정하지 않으면 1차원 배열을 반환합니다. \n",
        "\n",
        "```\n",
        "a = np.zeros((3,3))\n",
        "print(a)\n",
        "\n",
        "print(np.delete(a, 0, axis=0))\n",
        "print(np.delete(a, 0, axis=1))\n",
        "print(np.delete(a, 0))\n",
        "``` "
      ],
      "metadata": {
        "id": "I1w7yFZkPcI5"
      }
    },
    {
      "cell_type": "code",
      "metadata": {
        "id": "m7oidORKPcI9",
        "colab": {
          "base_uri": "https://localhost:8080/"
        },
        "outputId": "9c5c0140-fcf3-4668-a42a-0bd53730f319"
      },
      "source": [
        "a = np.zeros((3,3))\n",
        "print(a)\n",
        "print(np.delete(a,0,axis=0))\n",
        "print(np.delete(a,0,axis=1))\n",
        "print(np.delete(a, 0))"
      ],
      "execution_count": 93,
      "outputs": [
        {
          "output_type": "stream",
          "name": "stdout",
          "text": [
            "[[0. 0. 0.]\n",
            " [0. 0. 0.]\n",
            " [0. 0. 0.]]\n",
            "[[0. 0. 0.]\n",
            " [0. 0. 0.]]\n",
            "[[0. 0.]\n",
            " [0. 0.]\n",
            " [0. 0.]]\n",
            "[0. 0. 0. 0. 0. 0. 0. 0.]\n"
          ]
        }
      ]
    },
    {
      "cell_type": "markdown",
      "source": [
        "#### **| 복사**\n",
        "\n",
        "* `b = np.copy(a)` : 배열 `a`를 복사하여 `b`로 반환합니다. \n",
        "\n",
        "\n",
        "\n",
        "\n",
        "\n",
        "\n"
      ],
      "metadata": {
        "id": "3TdSoq9shmbV"
      }
    },
    {
      "cell_type": "code",
      "source": [
        "b = np.copy(a)"
      ],
      "metadata": {
        "id": "VeCwYgn4Bhpk"
      },
      "execution_count": 95,
      "outputs": []
    },
    {
      "cell_type": "markdown",
      "source": [
        "`np.copy`를 이용해 배열을 복사하면 `b` 값이 변경되더라도 원본 배열 `a`는 보존됩니다.\n",
        "```\n",
        "b[1,1]=1\n",
        "print(a)\n",
        "print(b)\n",
        "```"
      ],
      "metadata": {
        "id": "LOw4Y58XByIA"
      }
    },
    {
      "cell_type": "code",
      "source": [
        "b[1,1]=1\n",
        "print(a)\n",
        "print(b)\n",
        "\n",
        "a =np.zeros((3,3))\n",
        "print(a)\n"
      ],
      "metadata": {
        "id": "U4yvdZKABraW",
        "colab": {
          "base_uri": "https://localhost:8080/"
        },
        "outputId": "8dc3c50f-99d7-4b58-a352-896e0f5544d1"
      },
      "execution_count": 98,
      "outputs": [
        {
          "output_type": "stream",
          "name": "stdout",
          "text": [
            "[[0. 0. 0.]\n",
            " [0. 0. 0.]\n",
            " [0. 0. 0.]]\n",
            "[[0. 0. 0.]\n",
            " [0. 1. 0.]\n",
            " [0. 0. 0.]]\n",
            "[[0. 0. 0.]\n",
            " [0. 0. 0.]\n",
            " [0. 0. 0.]]\n"
          ]
        }
      ]
    },
    {
      "cell_type": "markdown",
      "source": [
        "만약 슬라이싱으로 배열을 복사하게 되면 원본 배열 `a`가 보존되지 않습니다.\n",
        "\n",
        "```\n",
        "b = a[:]\n",
        "print(a)\n",
        "print(b)\n",
        "print('b값을 변경')\n",
        "b[1,1]=1\n",
        "print(a)\n",
        "print(b)\n",
        "```\n"
      ],
      "metadata": {
        "id": "1mSHucaqhkFu"
      }
    },
    {
      "cell_type": "code",
      "metadata": {
        "id": "2DxXadB1VgBQ",
        "colab": {
          "base_uri": "https://localhost:8080/"
        },
        "outputId": "bcd633eb-5a95-44cf-f1e9-a0b502084325"
      },
      "source": [
        "b=a[:]\n",
        "print(a)\n",
        "print(b)\n",
        "print('b값을 변경')\n",
        "b[1,1]\n",
        "print(a)\n",
        "print(b)"
      ],
      "execution_count": 99,
      "outputs": [
        {
          "output_type": "stream",
          "name": "stdout",
          "text": [
            "[[0. 0. 0.]\n",
            " [0. 0. 0.]\n",
            " [0. 0. 0.]]\n",
            "[[0. 0. 0.]\n",
            " [0. 0. 0.]\n",
            " [0. 0. 0.]]\n",
            "b값을 변경\n",
            "[[0. 0. 0.]\n",
            " [0. 0. 0.]\n",
            " [0. 0. 0.]]\n",
            "[[0. 0. 0.]\n",
            " [0. 0. 0.]\n",
            " [0. 0. 0.]]\n"
          ]
        }
      ]
    },
    {
      "cell_type": "markdown",
      "source": [
        "## 문제풀이\n",
        "---\n"
      ],
      "metadata": {
        "id": "1Zo86GIRD8iE"
      }
    },
    {
      "cell_type": "markdown",
      "source": [
        "아래 그림과 같은 배열을 각각 `a1`, `a2`, `a3` 로 정의하세요. `a3` 그림에서 뒤쪽에 있는 숫자들은 앞에 값과 동일합니다.\n",
        "\n",
        "<p align='center'>\n",
        "<img src=https://github.com/yebiny/SkillTreePython-DataAnalysis/blob/main/imgs/ch0103-08.png?raw=true width=620>\n",
        "</p>"
      ],
      "metadata": {
        "id": "BJNPI5t15M4P"
      }
    },
    {
      "cell_type": "code",
      "source": [
        "a1 = np.array([2,4,1,3])\n",
        "a2 = [[0,1,2],\n",
        "      [10,11,12],\n",
        "      [20,21,22],\n",
        "      [30,31,32],\n",
        "      [40,41,42]]\n",
        "a2 = np.array(a2)\n",
        "a3 = [[[0,1],\n",
        "       [10,11]],\n",
        "      [[0,1],\n",
        "       [10,11]],\n",
        "      [[0,1],\n",
        "       [10,11]]]\n",
        "a3 =np.array(a3)\n",
        "print(a1)\n",
        "print(a2)\n",
        "print(a3)"
      ],
      "metadata": {
        "id": "0VcVNdbm5M1J",
        "colab": {
          "base_uri": "https://localhost:8080/"
        },
        "outputId": "478033b6-02a8-4be1-fd5b-871fe27b96ba"
      },
      "execution_count": 124,
      "outputs": [
        {
          "output_type": "stream",
          "name": "stdout",
          "text": [
            "[2 4 1 3]\n",
            "[[ 0  1  2]\n",
            " [10 11 12]\n",
            " [20 21 22]\n",
            " [30 31 32]\n",
            " [40 41 42]]\n",
            "[[[ 0  1]\n",
            "  [10 11]]\n",
            "\n",
            " [[ 0  1]\n",
            "  [10 11]]\n",
            "\n",
            " [[ 0  1]\n",
            "  [10 11]]]\n"
          ]
        }
      ]
    },
    {
      "cell_type": "markdown",
      "source": [
        "**예제 01**\n",
        "\n",
        "`a1`의 3을 인덱싱 하세요"
      ],
      "metadata": {
        "id": "cTtCSNxFmxsL"
      }
    },
    {
      "cell_type": "code",
      "source": [
        "a1[-1]"
      ],
      "metadata": {
        "id": "X2FslwXL_hSE",
        "colab": {
          "base_uri": "https://localhost:8080/"
        },
        "outputId": "6ada45bb-5821-4d60-88cb-547d011c4d64"
      },
      "execution_count": 125,
      "outputs": [
        {
          "output_type": "execute_result",
          "data": {
            "text/plain": [
              "3"
            ]
          },
          "metadata": {},
          "execution_count": 125
        }
      ]
    },
    {
      "cell_type": "markdown",
      "source": [
        "**예제 02**\n",
        "\n",
        "`a2`의 2와 30을 인덱싱 하세요."
      ],
      "metadata": {
        "id": "mQqp_GvL_nqZ"
      }
    },
    {
      "cell_type": "code",
      "source": [
        "a2[(0,3),(2,0)]"
      ],
      "metadata": {
        "id": "afH2M561_nqa",
        "colab": {
          "base_uri": "https://localhost:8080/"
        },
        "outputId": "fd008e95-6e53-4e58-c454-544e88aba2a0"
      },
      "execution_count": 126,
      "outputs": [
        {
          "output_type": "execute_result",
          "data": {
            "text/plain": [
              "array([ 2, 30])"
            ]
          },
          "metadata": {},
          "execution_count": 126
        }
      ]
    },
    {
      "cell_type": "markdown",
      "source": [
        "**예제 03**\n",
        "\n",
        "`a3`의 10을 모두 인덱싱 하세요."
      ],
      "metadata": {
        "id": "t_ryizEe_rvF"
      }
    },
    {
      "cell_type": "code",
      "source": [
        "mask=a3==10\n",
        "print(mask)\n",
        "a3[mask]"
      ],
      "metadata": {
        "id": "EM_B1GhA_rvG",
        "colab": {
          "base_uri": "https://localhost:8080/"
        },
        "outputId": "074f1942-a4eb-4003-a617-76d4ac184a46"
      },
      "execution_count": 136,
      "outputs": [
        {
          "output_type": "stream",
          "name": "stdout",
          "text": [
            "[[[False False]\n",
            "  [False False]]\n",
            "\n",
            " [[False False]\n",
            "  [False False]]\n",
            "\n",
            " [[False False]\n",
            "  [False False]]]\n"
          ]
        },
        {
          "output_type": "execute_result",
          "data": {
            "text/plain": [
              "array([], dtype=bool)"
            ]
          },
          "metadata": {},
          "execution_count": 136
        }
      ]
    },
    {
      "cell_type": "markdown",
      "source": [
        "**예제 04**\n",
        "\n",
        "`a2`에서 아래 그림에 해당하는 값을 펜시 인덱싱과 불리언 인덱싱을 각각 이용하여 새로운 배열로 만드세요.\n",
        "\n",
        "<p align='center'>\n",
        "<img src=https://github.com/yebiny/SkillTreePython-DataAnalysis/blob/main/imgs/ch0103-09.png?raw=true width=150>\n",
        "</p>"
      ],
      "metadata": {
        "id": "joLrAHQjAO-u"
      }
    },
    {
      "cell_type": "code",
      "source": [
        "print(a2[(2,4,2,4),(0,0,2,2)])\n",
        "mask = np.array([[0,0,0],\n",
        "                 [0,0,0],\n",
        "                 [1,0,1],\n",
        "                 [0,0,0],\n",
        "                 [1,0,1]], dtype=bool)\n",
        "a2[mask]"
      ],
      "metadata": {
        "id": "2XxmQEyRAO-v",
        "colab": {
          "base_uri": "https://localhost:8080/"
        },
        "outputId": "a6db03bb-6b43-4735-dfa0-2f3874a27eac"
      },
      "execution_count": 143,
      "outputs": [
        {
          "output_type": "stream",
          "name": "stdout",
          "text": [
            "[20 40 22 42]\n"
          ]
        },
        {
          "output_type": "execute_result",
          "data": {
            "text/plain": [
              "array([20, 22, 40, 42])"
            ]
          },
          "metadata": {},
          "execution_count": 143
        }
      ]
    },
    {
      "cell_type": "markdown",
      "source": [
        "**예제 05**\n",
        "\n",
        "`a2`에서 아래 그림에 해당하는 값을 펜시 인덱싱과 불리언 인덱싱을 각각 이용하여 새로운 배열로 만드세요.\n",
        "\n",
        "\n",
        "<p align='center'>\n",
        "<img src=https://github.com/yebiny/SkillTreePython-DataAnalysis/blob/main/imgs/ch0103-10.png?raw=true width=150>\n",
        "</p>"
      ],
      "metadata": {
        "id": "SfR9Wjh-6wpK"
      }
    },
    {
      "cell_type": "code",
      "source": [
        "print(a2[(0,0,1,1,2,2),(0,2,0,2,0,2)])\n",
        "mask = np.array([[1,0,1],\n",
        "                 [1,0,1],\n",
        "                 [1,0,1],\n",
        "                 [0,0,0],\n",
        "                 [0,0,0]], dtype=bool)\n",
        "a2[mask]"
      ],
      "metadata": {
        "id": "gCQwBtin6wpP",
        "colab": {
          "base_uri": "https://localhost:8080/"
        },
        "outputId": "13059756-c2ef-4400-a76d-50110ac0d6a2"
      },
      "execution_count": 145,
      "outputs": [
        {
          "output_type": "stream",
          "name": "stdout",
          "text": [
            "[ 0  2 10 12 20 22]\n"
          ]
        },
        {
          "output_type": "execute_result",
          "data": {
            "text/plain": [
              "array([ 0,  2, 10, 12, 20, 22])"
            ]
          },
          "metadata": {},
          "execution_count": 145
        }
      ]
    },
    {
      "cell_type": "markdown",
      "source": [
        "**예제 06**\n",
        "\n",
        "`a2`에서 아래 그림에 해당하는 값을 펜시 인덱싱과 불리언 인덱싱을 각각 이용하여 새로운 배열로 만드세요.\n",
        "\n",
        "\n",
        "<p align='center'>\n",
        "<img src=https://github.com/yebiny/SkillTreePython-DataAnalysis/blob/main/imgs/ch0103-11.png?raw=true width=150>\n",
        "</p>"
      ],
      "metadata": {
        "id": "xiltaKm27A0k"
      }
    },
    {
      "cell_type": "code",
      "source": [
        "print(a2[(2,2,2,3,4),(0,1,2,1,1)])\n",
        "mask = np.array([[0,0,0],\n",
        "                 [0,0,0],\n",
        "                 [1,1,1],\n",
        "                 [0,1,0],\n",
        "                 [0,1,0]], dtype=bool)\n",
        "a2[mask]"
      ],
      "metadata": {
        "id": "vddom3tb7A0l",
        "colab": {
          "base_uri": "https://localhost:8080/"
        },
        "outputId": "9fb93c43-e09b-4d59-a7a2-9aa16d7ceca0"
      },
      "execution_count": 147,
      "outputs": [
        {
          "output_type": "stream",
          "name": "stdout",
          "text": [
            "[20 21 22 31 41]\n"
          ]
        },
        {
          "output_type": "execute_result",
          "data": {
            "text/plain": [
              "array([20, 21, 22, 31, 41])"
            ]
          },
          "metadata": {},
          "execution_count": 147
        }
      ]
    },
    {
      "cell_type": "markdown",
      "source": [
        "**예제 07**\n",
        "\n",
        "`a3`에서 1에 해당하는 값만 모아 새로운 배열로 만드세요."
      ],
      "metadata": {
        "id": "V8tbSZZN62na"
      }
    },
    {
      "cell_type": "code",
      "source": [
        "a3 = [[[0,1],\n",
        "       [10,11]],\n",
        "      [[0,1],\n",
        "       [10,11]],\n",
        "      [[0,1],\n",
        "       [10,11]]]\n",
        "a3 =np.array(a3)\n",
        "print(a3)\n",
        "b = a3==1\n",
        "print(b)\n",
        "a3[0,0,1],a3[1,0,1],a3[2,0,1]"
      ],
      "metadata": {
        "id": "5meyjfby62nb",
        "colab": {
          "base_uri": "https://localhost:8080/"
        },
        "outputId": "5988fd0a-8ba6-495f-8046-86eee4a410c2"
      },
      "execution_count": 153,
      "outputs": [
        {
          "output_type": "stream",
          "name": "stdout",
          "text": [
            "[[[ 0  1]\n",
            "  [10 11]]\n",
            "\n",
            " [[ 0  1]\n",
            "  [10 11]]\n",
            "\n",
            " [[ 0  1]\n",
            "  [10 11]]]\n",
            "[[[False  True]\n",
            "  [False False]]\n",
            "\n",
            " [[False  True]\n",
            "  [False False]]\n",
            "\n",
            " [[False  True]\n",
            "  [False False]]]\n"
          ]
        },
        {
          "output_type": "execute_result",
          "data": {
            "text/plain": [
              "(1, 1, 1)"
            ]
          },
          "metadata": {},
          "execution_count": 153
        }
      ]
    },
    {
      "cell_type": "markdown",
      "metadata": {
        "id": "KrDsXKO0BvN9"
      },
      "source": [
        "**예제 08**\n",
        "\n",
        "`a2`를 복사하여 `b2`로 바인딩하세요.\n"
      ]
    },
    {
      "cell_type": "code",
      "source": [
        "b2 = np.copy(a2)\n",
        "b2"
      ],
      "metadata": {
        "id": "Cw7MAmI8BvN-",
        "colab": {
          "base_uri": "https://localhost:8080/"
        },
        "outputId": "be4112b4-b2e4-43e5-daad-d503391f14c0"
      },
      "execution_count": 155,
      "outputs": [
        {
          "output_type": "execute_result",
          "data": {
            "text/plain": [
              "array([[ 0,  1,  2],\n",
              "       [10, 11, 12],\n",
              "       [20, 21, 22],\n",
              "       [30, 31, 32],\n",
              "       [40, 41, 42]])"
            ]
          },
          "metadata": {},
          "execution_count": 155
        }
      ]
    },
    {
      "cell_type": "markdown",
      "source": [
        "a = np.zeros((3,3))\n",
        "\n",
        "print(a)\n",
        "\n",
        "print(np.insert(a, 0, 1, axis=0))\n",
        "\n",
        "print(np.insert(a, 0, 1, axis=1))\n",
        "\n",
        "print(np.insert(a, 0, 1))"
      ],
      "metadata": {
        "id": "JLb_g--Khsyj"
      }
    },
    {
      "cell_type": "markdown",
      "source": [
        "**예제 09**\n",
        "\n",
        "`b2`를 아래 그림과 같이 수정하세요.\n",
        "\n",
        "\n",
        "<p align='center'>\n",
        "<img src=https://github.com/yebiny/SkillTreePython-DataAnalysis/blob/main/imgs/ch0103-12.png?raw=true width=150>\n",
        "</p>"
      ],
      "metadata": {
        "id": "Kxa9RJw8N1k4"
      }
    },
    {
      "cell_type": "code",
      "source": [
        "b2 = [[0,1,2],\n",
        "      [100,100,100],\n",
        "      [20,21,22],\n",
        "      [100,100,100],\n",
        "      [40,41,42]]\n",
        "b2=np.array(b2)\n",
        "b2"
      ],
      "metadata": {
        "id": "TuKu3G0COHTx",
        "colab": {
          "base_uri": "https://localhost:8080/"
        },
        "outputId": "50619745-61e8-41c6-88e9-c5088fcde03c"
      },
      "execution_count": 199,
      "outputs": [
        {
          "output_type": "execute_result",
          "data": {
            "text/plain": [
              "array([[  0,   1,   2],\n",
              "       [100, 100, 100],\n",
              "       [ 20,  21,  22],\n",
              "       [100, 100, 100],\n",
              "       [ 40,  41,  42]])"
            ]
          },
          "metadata": {},
          "execution_count": 199
        }
      ]
    },
    {
      "cell_type": "markdown",
      "source": [
        "**예제 10**\n",
        "\n",
        "이어서 `b2`를 아래 그림과 같이 수정하세요.\n",
        "\n",
        "\n",
        "<p align='center'>\n",
        "<img src=https://github.com/yebiny/SkillTreePython-DataAnalysis/blob/main/imgs/ch0103-13.png?raw=true width=150>\n",
        "</p>"
      ],
      "metadata": {
        "id": "uDYC2aemC4FW"
      }
    },
    {
      "cell_type": "code",
      "source": [
        "b2[0,2] = 200\n",
        "b2[2,2] = 200\n",
        "b2[4,2] = 200\n",
        "b2"
      ],
      "metadata": {
        "id": "9qhPnPtoC4FX",
        "colab": {
          "base_uri": "https://localhost:8080/"
        },
        "outputId": "a30de985-bd5b-4871-8bad-8c70231a8f03"
      },
      "execution_count": 205,
      "outputs": [
        {
          "output_type": "execute_result",
          "data": {
            "text/plain": [
              "array([[  0,   1, 200],\n",
              "       [100, 100, 100],\n",
              "       [ 20,  21, 200],\n",
              "       [100, 100, 100],\n",
              "       [ 40,  41, 200]])"
            ]
          },
          "metadata": {},
          "execution_count": 205
        }
      ]
    },
    {
      "cell_type": "markdown",
      "source": [
        "a = np.zeros((3,3))\n",
        "\n",
        "print(a)\n",
        "\n",
        "\n",
        "print(np.insert(a, 0, 1, axis=0))\n",
        "\n",
        "print(np.insert(a, 0, 1, axis=1))\n",
        "\n",
        "print(np.insert(a, 0, 1))"
      ],
      "metadata": {
        "id": "gbCsZnynnoDF"
      }
    },
    {
      "cell_type": "markdown",
      "source": [
        "**예제 11**\n",
        "\n",
        "이어서 `b2`에 값을 아래와 같이 삽입하세요.\n",
        "\n",
        "\n",
        "<p align='center'>\n",
        "<img src=https://github.com/yebiny/SkillTreePython-DataAnalysis/blob/main/imgs/ch0103-14.png?raw=true width=180>\n",
        "</p>"
      ],
      "metadata": {
        "id": "1fpupocGOYlz"
      }
    },
    {
      "cell_type": "code",
      "source": [
        "print(np.insert(b2,2,0,axis=1))"
      ],
      "metadata": {
        "id": "F3AcVlSCOYl0",
        "colab": {
          "base_uri": "https://localhost:8080/"
        },
        "outputId": "16d3a548-abf6-4091-9f03-dcd336df2455"
      },
      "execution_count": 207,
      "outputs": [
        {
          "output_type": "stream",
          "name": "stdout",
          "text": [
            "[[  0   1   0 200]\n",
            " [100 100   0 100]\n",
            " [ 20  21   0 200]\n",
            " [100 100   0 100]\n",
            " [ 40  41   0 200]]\n"
          ]
        }
      ]
    },
    {
      "cell_type": "markdown",
      "source": [
        "**예제 12**\n",
        "\n",
        "이어서 `b2`의 값을 아래와 같이 삭제하세요.\n",
        "\n",
        "\n",
        "<p align='center'>\n",
        "<img src=https://github.com/yebiny/SkillTreePython-DataAnalysis/blob/main/imgs/ch0103-15.png?raw=true width=180>\n",
        "</p>"
      ],
      "metadata": {
        "id": "RV92_ziYDFAG"
      }
    },
    {
      "cell_type": "code",
      "source": [
        "b2 = np.insert(b2,2,0,axis=1)\n",
        "print(np.delete(b2,(2,4), axis=0))"
      ],
      "metadata": {
        "id": "oGk3Z4NCDFAH",
        "colab": {
          "base_uri": "https://localhost:8080/"
        },
        "outputId": "c0e7adbc-7c82-4e90-ceaa-9c1fe31917cb"
      },
      "execution_count": 212,
      "outputs": [
        {
          "output_type": "stream",
          "name": "stdout",
          "text": [
            "[[  0   1   0 200]\n",
            " [100 100   0 100]\n",
            " [100 100   0 100]]\n"
          ]
        }
      ]
    }
  ]
}