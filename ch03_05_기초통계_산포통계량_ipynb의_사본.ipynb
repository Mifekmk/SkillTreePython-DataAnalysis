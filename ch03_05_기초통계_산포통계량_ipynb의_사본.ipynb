{
  "nbformat": 4,
  "nbformat_minor": 0,
  "metadata": {
    "colab": {
      "name": "ch03_05_기초통계-산포통계량.ipynb의 사본",
      "provenance": [],
      "collapsed_sections": [],
      "include_colab_link": true
    },
    "kernelspec": {
      "name": "python3",
      "display_name": "Python 3"
    },
    "language_info": {
      "name": "python"
    }
  },
  "cells": [
    {
      "cell_type": "markdown",
      "metadata": {
        "id": "view-in-github",
        "colab_type": "text"
      },
      "source": [
        "<a href=\"https://colab.research.google.com/github/Mifekmk/SkillTreePython-DataAnalysis/blob/main/ch03_05_%EA%B8%B0%EC%B4%88%ED%86%B5%EA%B3%84_%EC%82%B0%ED%8F%AC%ED%86%B5%EA%B3%84%EB%9F%89_ipynb%EC%9D%98_%EC%82%AC%EB%B3%B8.ipynb\" target=\"_parent\"><img src=\"https://colab.research.google.com/assets/colab-badge.svg\" alt=\"Open In Colab\"/></a>"
      ]
    },
    {
      "cell_type": "markdown",
      "source": [
        "# ch03.05. 기초통계 - 산포통계량\n",
        "---\n",
        "* 날짜: 2022-05-09\n",
        "* 이름: 김민규\n",
        "\n",
        "## 학습내용\n",
        "    * 산포 통계량\n",
        "      - 분산\n",
        "      - 표준편차\n",
        "      - 변동계수\n",
        "      - 스케일링\n",
        "      - 범위와 사분위 범위"
      ],
      "metadata": {
        "id": "wWpXZc2fi39U"
      }
    },
    {
      "cell_type": "code",
      "source": [
        "import numpy as np\n",
        "import matplotlib.pyplot as plt\n",
        "import pandas as pd\n",
        "import seaborn as sns"
      ],
      "metadata": {
        "id": "uYLRSgCqw4YZ"
      },
      "execution_count": 1,
      "outputs": []
    },
    {
      "cell_type": "markdown",
      "source": [
        "##  산포 통계\n",
        "---\n",
        "\n",
        "* 산포란 데이터가 얼마나 퍼져있는지를 의미\n",
        "\n",
        "* 따라서 산포 통계량이란 데이터의 산포를 나타내는 통계량이라 할 수 있다."
      ],
      "metadata": {
        "id": "rx3G1AI_nCTw"
      }
    },
    {
      "cell_type": "markdown",
      "source": [
        "### **| 데이터 생성**\n",
        "\n",
        "```\n",
        "# 아래의 함수는 정규분포를 따르는 랜덤한 실수를 반환합니다.\n",
        "np.random.normal(loc, scale, size)\n",
        "# loc = 평균\n",
        "# scale = 표준편차\n",
        "# size = 추출할 데이터(표본)의 크기\n",
        "```\n"
      ],
      "metadata": {
        "id": "Qamnn6ffuxFL"
      }
    },
    {
      "cell_type": "markdown",
      "source": [
        "* 평균 0, 표준편차 1인 정규분포 데이터 1000개를 생성하기"
      ],
      "metadata": {
        "id": "T8BAXON4vIxO"
      }
    },
    {
      "cell_type": "code",
      "source": [
        "# 넘파이 랜덤 시드 0으로 설정\n",
        "np.random.normal(0, 1, 1000)\n",
        "# 넘파이 배열 `a1`로 바인딩\n",
        "a1 = np.random.normal(0, 1, 1000)\n",
        "# 판다스 시리즈 `s1`로 바인딩\n",
        "s1 = pd.Series(a1)"
      ],
      "metadata": {
        "id": "QGUgicvFFpBp"
      },
      "execution_count": 7,
      "outputs": []
    },
    {
      "cell_type": "markdown",
      "source": [
        "* 평균 0, 표준편차 3인 정규분포 데이터 1000개를 생성하기"
      ],
      "metadata": {
        "id": "AS6fAssFvJdi"
      }
    },
    {
      "cell_type": "code",
      "source": [
        "# 넘파이 랜덤 시드 0으로 설정\n",
        "np.random.normal(0,3,1000)\n",
        "# 넘파이 배열 `a3`로 바인딩\n",
        "a3 = np.random.normal(0,3,1000)\n",
        "# 판다스 시리즈 `s3`로 바인딩\n",
        "s3 = pd.Series(a3)"
      ],
      "metadata": {
        "id": "4L4smlIDvPA5"
      },
      "execution_count": 12,
      "outputs": []
    },
    {
      "cell_type": "markdown",
      "source": [
        "* `a1`와 `a3`의 분포 그리기"
      ],
      "metadata": {
        "id": "tiM7-w9kvR7W"
      }
    },
    {
      "cell_type": "code",
      "source": [
        "print(sns.distplot(a1))\n",
        "print(sns.distplot(a3))"
      ],
      "metadata": {
        "id": "gz9cjV1FwGQH",
        "colab": {
          "base_uri": "https://localhost:8080/",
          "height": 395
        },
        "outputId": "9740984e-cd45-49c7-b76b-dd648b78e383"
      },
      "execution_count": 15,
      "outputs": [
        {
          "output_type": "stream",
          "name": "stderr",
          "text": [
            "/usr/local/lib/python3.7/dist-packages/seaborn/distributions.py:2619: FutureWarning: `distplot` is a deprecated function and will be removed in a future version. Please adapt your code to use either `displot` (a figure-level function with similar flexibility) or `histplot` (an axes-level function for histograms).\n",
            "  warnings.warn(msg, FutureWarning)\n",
            "/usr/local/lib/python3.7/dist-packages/seaborn/distributions.py:2619: FutureWarning: `distplot` is a deprecated function and will be removed in a future version. Please adapt your code to use either `displot` (a figure-level function with similar flexibility) or `histplot` (an axes-level function for histograms).\n",
            "  warnings.warn(msg, FutureWarning)\n"
          ]
        },
        {
          "output_type": "stream",
          "name": "stdout",
          "text": [
            "AxesSubplot(0.125,0.125;0.775x0.755)\n",
            "AxesSubplot(0.125,0.125;0.775x0.755)\n"
          ]
        },
        {
          "output_type": "display_data",
          "data": {
            "text/plain": [
              "<Figure size 432x288 with 1 Axes>"
            ],
            "image/png": "[encoded data removed]"
          },
          "metadata": {
            "needs_background": "light"
          }
        }
      ]
    },
    {
      "cell_type": "markdown",
      "metadata": {
        "id": "YUHtaUMySASi"
      },
      "source": [
        "### **| 분산**\n",
        "\n",
        "\\begin{align}\n",
        "var(x) = \\frac{\\sum^{n}_{i=1}(x_i-\\mu)^2}{n-1} \n",
        "\\end{align}\n",
        "\\begin{align}\n",
        " & \\\\\n",
        " & x_i :? \\\\\n",
        " & \\mu : ?\\\\\n",
        " & n : ?\\\\ \n",
        "\\end{align}\n",
        "\n",
        "\n",
        "```\n",
        "np.var(a, ddof) \n",
        "a.var(ddof)\n",
        "s.var(ddof)\n",
        "```"
      ]
    },
    {
      "cell_type": "markdown",
      "source": [
        "* `a1`과 `a3`의 분산을 계산"
      ],
      "metadata": {
        "id": "XsFgISoBwYFX"
      }
    },
    {
      "cell_type": "code",
      "execution_count": 23,
      "metadata": {
        "id": "SXfmaEFfSASj",
        "colab": {
          "base_uri": "https://localhost:8080/"
        },
        "outputId": "e2242070-b083-421f-e116-c37105586709"
      },
      "outputs": [
        {
          "output_type": "stream",
          "name": "stdout",
          "text": [
            "0.9789658707846777\n",
            "9.753242976808142\n"
          ]
        }
      ],
      "source": [
        "print(np.var(a1,ddof=1))\n",
        "print(a3.var(ddof=3))"
      ]
    },
    {
      "cell_type": "markdown",
      "metadata": {
        "id": "Nx5x3UnTSASk"
      },
      "source": [
        "### **| 표준편차**\n",
        "\n",
        "\n",
        "\\begin{align}\n",
        "std(x)= \\sqrt{var(x)} = \n",
        "\\sqrt{\\frac{\\sum^{n}_{i=1}(x_i-\\mu)^2}{n-1}} \n",
        "\\end{align}\n",
        "\\begin{align}\n",
        " & \\\\\n",
        " & x_i : ? \\\\\n",
        " & \\mu : ?\\\\\n",
        " & n : ?\\\\ \n",
        "\\end{align}\n",
        "\n",
        "\n",
        "```\n",
        "np.std(a, ddof) \n",
        "a.std(ddof)\n",
        "s.std(ddof)\n",
        "```"
      ]
    },
    {
      "cell_type": "markdown",
      "source": [
        "* `a1`과 `a3`의 표준편차 계산"
      ],
      "metadata": {
        "id": "JS7Nh7HIwx3l"
      }
    },
    {
      "cell_type": "code",
      "execution_count": 26,
      "metadata": {
        "id": "dXnFgMtnwx3m",
        "colab": {
          "base_uri": "https://localhost:8080/"
        },
        "outputId": "acbf626f-050b-468f-f5f0-157e6e77270f"
      },
      "outputs": [
        {
          "output_type": "stream",
          "name": "stdout",
          "text": [
            "0.9894270416683979\n",
            "3.12301824791469\n"
          ]
        }
      ],
      "source": [
        "print(np.std(a1,ddof=1))\n",
        "print(a3.std(ddof=3))"
      ]
    },
    {
      "cell_type": "markdown",
      "source": [
        "* `a1`의 분산과 `a1`의 표준편차제곱을 비교"
      ],
      "metadata": {
        "id": "KTIXQnIkw9iQ"
      }
    },
    {
      "cell_type": "code",
      "source": [
        "print(np.var(a1,ddof=1))  # a1의 분산\n",
        "print(np.std(a1,ddof=1**2)) # a1의 표준편차제곱"
      ],
      "metadata": {
        "id": "R7gkCYF1xC06",
        "colab": {
          "base_uri": "https://localhost:8080/"
        },
        "outputId": "49243027-f922-49ef-93ab-5682e9dff4dc"
      },
      "execution_count": 30,
      "outputs": [
        {
          "output_type": "stream",
          "name": "stdout",
          "text": [
            "0.9789658707846777\n",
            "0.9894270416683979\n"
          ]
        }
      ]
    },
    {
      "cell_type": "markdown",
      "source": [
        "### **| 변동계수**\n",
        "\n",
        "분산 혹은 표준편차를 스케일에 영향을 받지 않도록 데이터를 스케일링 한 후 분산 혹은 표준편차를 계산\n",
        "\n",
        "\n",
        "\\begin{align}\n",
        "변동계수 = \\frac{var(x) \\ or \\ std(x) }{Scale(x)} \n",
        "\\end{align}\n"
      ],
      "metadata": {
        "id": "G6ilAY14xkFc"
      }
    },
    {
      "cell_type": "markdown",
      "metadata": {
        "id": "KY2wlX1ASASl"
      },
      "source": [
        "#### **변동계수의 필요성**"
      ]
    },
    {
      "cell_type": "markdown",
      "source": [
        "* `a1`의 모든 요소에 10을 곱한 배열 `a10`을 생성"
      ],
      "metadata": {
        "id": "QFH6d7L9xSK9"
      }
    },
    {
      "cell_type": "code",
      "execution_count": 34,
      "metadata": {
        "scrolled": true,
        "id": "m5lYDjtESASm"
      },
      "outputs": [],
      "source": [
        "a10=10*a1"
      ]
    },
    {
      "cell_type": "markdown",
      "source": [
        "* `a1`과 `a10`의 분산 계산"
      ],
      "metadata": {
        "id": "2MWKjJX0xki1"
      }
    },
    {
      "cell_type": "code",
      "source": [
        "print(np.var(a1,ddof=1))\n",
        "print(np.var(a10,ddof=10))"
      ],
      "metadata": {
        "id": "sgoJOUH3xopo",
        "colab": {
          "base_uri": "https://localhost:8080/"
        },
        "outputId": "86a9c5be-9ce6-48ec-e1ee-abf33163899c"
      },
      "execution_count": 71,
      "outputs": [
        {
          "output_type": "stream",
          "name": "stdout",
          "text": [
            "0    0.978966\n",
            "dtype: float64\n",
            "98.78655605190839\n"
          ]
        }
      ]
    },
    {
      "cell_type": "markdown",
      "metadata": {
        "id": "MdTQTl-ZSASo"
      },
      "source": [
        "#### **스케일링: min-max**\n",
        "\n",
        "**min-max scaling** : 최대값을 1로, 최소값을 0으로 스켕일링 하는  기법.\n",
        "\n",
        "\\begin{align}\n",
        "minmax(x)=\\frac{x-min(x)}{max(x)-min(x)}\n",
        "\\end{align}\n",
        "\n",
        "\\begin{align}\n",
        " & \\\\\n",
        " & x : ? \\\\\n",
        " & min(x) : ?\\\\\n",
        " & max(x) : ?\\\\ \n",
        "\\end{align}\n",
        "\n"
      ]
    },
    {
      "cell_type": "code",
      "source": [
        "x = [1,2,3,4,5]\n",
        "min(x)"
      ],
      "metadata": {
        "colab": {
          "base_uri": "https://localhost:8080/"
        },
        "id": "t3Z56eZkL_lh",
        "outputId": "e880cba4-95b0-4b71-8b6e-2cd0aefab95d"
      },
      "execution_count": 72,
      "outputs": [
        {
          "output_type": "execute_result",
          "data": {
            "text/plain": [
              "1"
            ]
          },
          "metadata": {},
          "execution_count": 72
        }
      ]
    },
    {
      "cell_type": "markdown",
      "source": [
        "* min-max 함수 생성"
      ],
      "metadata": {
        "id": "ZtfohRLysjzk"
      }
    },
    {
      "cell_type": "code",
      "source": [
        "a1.max(), a1.min()"
      ],
      "metadata": {
        "colab": {
          "base_uri": "https://localhost:8080/"
        },
        "id": "eoOfCIicO1gK",
        "outputId": "7a06175c-bdcd-4988-f7b2-d17ecdea13ce"
      },
      "execution_count": 73,
      "outputs": [
        {
          "output_type": "execute_result",
          "data": {
            "text/plain": [
              "(0    3.245165\n",
              " dtype: float64, 0   -3.207279\n",
              " dtype: float64)"
            ]
          },
          "metadata": {},
          "execution_count": 73
        }
      ]
    },
    {
      "cell_type": "code",
      "source": [
        "def minmax(x):\n",
        "    xx = (x-x.max())/(x.max()-x.min())\n",
        "    return xx"
      ],
      "metadata": {
        "id": "q1AKcTKTo_oF"
      },
      "execution_count": 74,
      "outputs": []
    },
    {
      "cell_type": "markdown",
      "source": [
        "* `a1`을 min-max scaling 하여 `a1_minmax` 로 바인딩"
      ],
      "metadata": {
        "id": "y2-9KhEksc2A"
      }
    },
    {
      "cell_type": "code",
      "execution_count": 75,
      "metadata": {
        "id": "xTMzYDPHSASo"
      },
      "outputs": [],
      "source": [
        "a1_minmax = minmax(a1)"
      ]
    },
    {
      "cell_type": "markdown",
      "source": [
        "* `a10`을 min-max scaling 하여 `a10_minmax` 로 바인딩"
      ],
      "metadata": {
        "id": "k_Ci-tvAyC1W"
      }
    },
    {
      "cell_type": "code",
      "execution_count": 77,
      "metadata": {
        "id": "ceA7GBikyC1W"
      },
      "outputs": [],
      "source": [
        "a10_minmax = minmax(a10)"
      ]
    },
    {
      "cell_type": "markdown",
      "source": [
        "* `a1`과 `a1_minmax`의 분포를 (1x2) 플롯에 그려 비교하기"
      ],
      "metadata": {
        "id": "hpHAqKBZyIee"
      }
    },
    {
      "cell_type": "code",
      "source": [
        "plt.figure(figsize=(8,3))\n",
        "plt.subplot(1,2,1)\n",
        "sns.distplot(a1)\n",
        "plt.subplot(1,2,2)\n",
        "sns.distplot(a1_minmax)"
      ],
      "metadata": {
        "id": "ZHJYrPCSyO4a",
        "colab": {
          "base_uri": "https://localhost:8080/",
          "height": 323
        },
        "outputId": "57b6572f-0b8e-4ef7-8c27-cb48a0652487"
      },
      "execution_count": 82,
      "outputs": [
        {
          "output_type": "stream",
          "name": "stderr",
          "text": [
            "/usr/local/lib/python3.7/dist-packages/seaborn/distributions.py:2619: FutureWarning: `distplot` is a deprecated function and will be removed in a future version. Please adapt your code to use either `displot` (a figure-level function with similar flexibility) or `histplot` (an axes-level function for histograms).\n",
            "  warnings.warn(msg, FutureWarning)\n",
            "/usr/local/lib/python3.7/dist-packages/seaborn/distributions.py:2619: FutureWarning: `distplot` is a deprecated function and will be removed in a future version. Please adapt your code to use either `displot` (a figure-level function with similar flexibility) or `histplot` (an axes-level function for histograms).\n",
            "  warnings.warn(msg, FutureWarning)\n"
          ]
        },
        {
          "output_type": "execute_result",
          "data": {
            "text/plain": [
              "<matplotlib.axes._subplots.AxesSubplot at 0x7f09b773f690>"
            ]
          },
          "metadata": {},
          "execution_count": 82
        },
        {
          "output_type": "display_data",
          "data": {
            "text/plain": [
              "<Figure size 576x216 with 2 Axes>"
            ],
            "image/png": "[encoded data removed]"
          },
          "metadata": {
            "needs_background": "light"
          }
        }
      ]
    },
    {
      "cell_type": "markdown",
      "source": [
        "* `a10`과 `a10_minmax`의 분포를 (1x2) 플롯에 그려 비교하기"
      ],
      "metadata": {
        "id": "ZfJ52b-iysv1"
      }
    },
    {
      "cell_type": "code",
      "source": [
        "plt.figure(figsize=(8,3))\n",
        "plt.subplot(1,2,1)\n",
        "sns.distplot(a10)\n",
        "plt.subplot(1,2,2)\n",
        "sns.distplot(a10_minmax)"
      ],
      "metadata": {
        "id": "vrBzYymhysv1",
        "colab": {
          "base_uri": "https://localhost:8080/",
          "height": 323
        },
        "outputId": "b9fe17ad-1d05-4893-f652-c5cb23866c2f"
      },
      "execution_count": 83,
      "outputs": [
        {
          "output_type": "stream",
          "name": "stderr",
          "text": [
            "/usr/local/lib/python3.7/dist-packages/seaborn/distributions.py:2619: FutureWarning: `distplot` is a deprecated function and will be removed in a future version. Please adapt your code to use either `displot` (a figure-level function with similar flexibility) or `histplot` (an axes-level function for histograms).\n",
            "  warnings.warn(msg, FutureWarning)\n",
            "/usr/local/lib/python3.7/dist-packages/seaborn/distributions.py:2619: FutureWarning: `distplot` is a deprecated function and will be removed in a future version. Please adapt your code to use either `displot` (a figure-level function with similar flexibility) or `histplot` (an axes-level function for histograms).\n",
            "  warnings.warn(msg, FutureWarning)\n"
          ]
        },
        {
          "output_type": "execute_result",
          "data": {
            "text/plain": [
              "<matplotlib.axes._subplots.AxesSubplot at 0x7f09b7056a10>"
            ]
          },
          "metadata": {},
          "execution_count": 83
        },
        {
          "output_type": "display_data",
          "data": {
            "text/plain": [
              "<Figure size 576x216 with 2 Axes>"
            ],
            "image/png": "[encoded data removed]"
          },
          "metadata": {
            "needs_background": "light"
          }
        }
      ]
    },
    {
      "cell_type": "markdown",
      "source": [
        "* `a1`과 `a10` 두 데이터의 스케일링 전, 후 데이터가 가지는 값의 범위를 요약하기"
      ],
      "metadata": {
        "id": "GxWolaowzd7X"
      }
    },
    {
      "cell_type": "code",
      "source": [
        "print(a1.max()-a1.min())\n",
        "print(a10.max()-a10.min())\n",
        "# a1과 a10의 단위가 완전히 다르기 때문에 굉장히 큰 수 차이가 나는 것을 확인 할 수 있습니다."
      ],
      "metadata": {
        "id": "dLdhab_DznRS",
        "colab": {
          "base_uri": "https://localhost:8080/"
        },
        "outputId": "0dab2554-0c58-433e-b1de-b77fdbec9f07"
      },
      "execution_count": 90,
      "outputs": [
        {
          "output_type": "stream",
          "name": "stdout",
          "text": [
            "0    6.452444\n",
            "dtype: float64\n",
            "64.52443845014308\n"
          ]
        }
      ]
    },
    {
      "cell_type": "markdown",
      "source": [
        "* 스케일링 후 `a1_minmax`, `a10_minmax`의 분산 구하기"
      ],
      "metadata": {
        "id": "hBPs1JzyzuM9"
      }
    },
    {
      "cell_type": "code",
      "source": [
        "print(a1_minmax.var() , a10_minmax.var())"
      ],
      "metadata": {
        "id": "11gRv_kUzztl",
        "colab": {
          "base_uri": "https://localhost:8080/"
        },
        "outputId": "a0b0de84-a8f5-4fed-f4b8-4415798c00e5"
      },
      "execution_count": 93,
      "outputs": [
        {
          "output_type": "stream",
          "name": "stdout",
          "text": [
            "0    0.023514\n",
            "dtype: float64 0.023490084144208716\n"
          ]
        }
      ]
    },
    {
      "cell_type": "markdown",
      "metadata": {
        "id": "URGjKjGdsoqV"
      },
      "source": [
        "#### **스케일링: z-score**\n",
        "\n",
        "**standard(z-socre) scaling** : 최대값을 1로, 최소값을 0으로 스켕일링 하는  기법.\n",
        "\n",
        "\\begin{align}\n",
        "\\\\\n",
        "standard(x)=\\frac{x-\\mu}{\\sigma}\n",
        "\\end{align}\n",
        "\\begin{align}\n",
        " & \\\\\n",
        " & x : ? \\\\\n",
        " & \\mu : ?\\\\\n",
        " & \\sigma : ?\\\\ \n",
        "\\end{align}\n"
      ]
    },
    {
      "cell_type": "markdown",
      "source": [
        "* standard 함수 생성"
      ],
      "metadata": {
        "id": "-m5HGk_QsoqV"
      }
    },
    {
      "cell_type": "code",
      "source": [
        "import math\n",
        "def standard(x):\n",
        "    stan_a = x-np.mean(x)/np.std(x)\n",
        "    return stan_a"
      ],
      "metadata": {
        "id": "jLIfy5MYsoqW"
      },
      "execution_count": 100,
      "outputs": []
    },
    {
      "cell_type": "markdown",
      "source": [
        "* `a1`을 standard 하여 `a1_standard` 로 바인딩"
      ],
      "metadata": {
        "id": "MLhSVJcJz_Ie"
      }
    },
    {
      "cell_type": "code",
      "execution_count": 102,
      "metadata": {
        "id": "phcra2xpz_If"
      },
      "outputs": [],
      "source": [
        "a1_standard = standard(a1)"
      ]
    },
    {
      "cell_type": "markdown",
      "source": [
        "* `a10`을 standard 하여 `a10_standard` 로 바인딩"
      ],
      "metadata": {
        "id": "CXVTHP-2z_If"
      }
    },
    {
      "cell_type": "code",
      "execution_count": 103,
      "metadata": {
        "id": "7xBnlZmIz_If"
      },
      "outputs": [],
      "source": [
        "a10_standard = standard(a10)"
      ]
    },
    {
      "cell_type": "markdown",
      "source": [
        "* `a1`과 `a10_standard`의 분포를 (1x2) 플롯에 그려 비교하기"
      ],
      "metadata": {
        "id": "G-zv1Y9Wz_If"
      }
    },
    {
      "cell_type": "code",
      "source": [
        "plt.figure(figsize=(8,4))\n",
        "plt.subplot(1,2,1)\n",
        "sns.distplot(a1)\n",
        "plt.subplot(1,2,2)\n",
        "sns.distplot(a10_standard)"
      ],
      "metadata": {
        "id": "vl70HGvqz_If",
        "colab": {
          "base_uri": "https://localhost:8080/",
          "height": 377
        },
        "outputId": "12e69757-ddf8-4639-f43c-999770fbd7ff"
      },
      "execution_count": 107,
      "outputs": [
        {
          "output_type": "stream",
          "name": "stderr",
          "text": [
            "/usr/local/lib/python3.7/dist-packages/seaborn/distributions.py:2619: FutureWarning: `distplot` is a deprecated function and will be removed in a future version. Please adapt your code to use either `displot` (a figure-level function with similar flexibility) or `histplot` (an axes-level function for histograms).\n",
            "  warnings.warn(msg, FutureWarning)\n",
            "/usr/local/lib/python3.7/dist-packages/seaborn/distributions.py:2619: FutureWarning: `distplot` is a deprecated function and will be removed in a future version. Please adapt your code to use either `displot` (a figure-level function with similar flexibility) or `histplot` (an axes-level function for histograms).\n",
            "  warnings.warn(msg, FutureWarning)\n"
          ]
        },
        {
          "output_type": "execute_result",
          "data": {
            "text/plain": [
              "<matplotlib.axes._subplots.AxesSubplot at 0x7f09b6b2ff10>"
            ]
          },
          "metadata": {},
          "execution_count": 107
        },
        {
          "output_type": "display_data",
          "data": {
            "text/plain": [
              "<Figure size 576x288 with 2 Axes>"
            ],
            "image/png": "[encoded data removed]"
          },
          "metadata": {
            "needs_background": "light"
          }
        }
      ]
    },
    {
      "cell_type": "markdown",
      "source": [
        "* `a10`과 `a10_standard`의 분포를 (1x2) 플롯에 그려 비교하기"
      ],
      "metadata": {
        "id": "PE9kVQfkz_If"
      }
    },
    {
      "cell_type": "code",
      "source": [
        "plt.figure(figsize=(8,4))\n",
        "plt.subplot(1,2,1)\n",
        "sns.distplot(a10)\n",
        "plt.subplot(1,2,2)\n",
        "sns.distplot(a10_standard)"
      ],
      "metadata": {
        "id": "t5G7ewP2z_Ig",
        "colab": {
          "base_uri": "https://localhost:8080/",
          "height": 377
        },
        "outputId": "b2406846-07a3-4892-c627-f120d9a86c59"
      },
      "execution_count": 108,
      "outputs": [
        {
          "output_type": "stream",
          "name": "stderr",
          "text": [
            "/usr/local/lib/python3.7/dist-packages/seaborn/distributions.py:2619: FutureWarning: `distplot` is a deprecated function and will be removed in a future version. Please adapt your code to use either `displot` (a figure-level function with similar flexibility) or `histplot` (an axes-level function for histograms).\n",
            "  warnings.warn(msg, FutureWarning)\n",
            "/usr/local/lib/python3.7/dist-packages/seaborn/distributions.py:2619: FutureWarning: `distplot` is a deprecated function and will be removed in a future version. Please adapt your code to use either `displot` (a figure-level function with similar flexibility) or `histplot` (an axes-level function for histograms).\n",
            "  warnings.warn(msg, FutureWarning)\n"
          ]
        },
        {
          "output_type": "execute_result",
          "data": {
            "text/plain": [
              "<matplotlib.axes._subplots.AxesSubplot at 0x7f09b69c3b10>"
            ]
          },
          "metadata": {},
          "execution_count": 108
        },
        {
          "output_type": "display_data",
          "data": {
            "text/plain": [
              "<Figure size 576x288 with 2 Axes>"
            ],
            "image/png": "[encoded data removed]"
          },
          "metadata": {
            "needs_background": "light"
          }
        }
      ]
    },
    {
      "cell_type": "markdown",
      "source": [
        "* `a1`과 `a10` 두 데이터의 스케일링 전, 후 데이터가 가지는 값의 범위를 요약하기"
      ],
      "metadata": {
        "id": "UhZ-Wploz_Ig"
      }
    },
    {
      "cell_type": "code",
      "source": [
        "print(a1.max()-a1.min(), a10.max()-a10.min())"
      ],
      "metadata": {
        "id": "wHVML9Zpz_Ig",
        "colab": {
          "base_uri": "https://localhost:8080/"
        },
        "outputId": "7b2cb331-8521-4cf4-d10b-a6ec85270fee"
      },
      "execution_count": 110,
      "outputs": [
        {
          "output_type": "stream",
          "name": "stdout",
          "text": [
            "0    6.452444\n",
            "dtype: float64 64.52443845014308\n"
          ]
        }
      ]
    },
    {
      "cell_type": "markdown",
      "source": [
        "* 스케일링 후 `a1_standard`, `a10_standard`의 분산 구하기"
      ],
      "metadata": {
        "id": "Za5xe-lDz_Ig"
      }
    },
    {
      "cell_type": "code",
      "source": [
        "a1_standard.var(), a10_standard.var()"
      ],
      "metadata": {
        "id": "xjgMc74tz_Ig",
        "colab": {
          "base_uri": "https://localhost:8080/"
        },
        "outputId": "be5c84fc-14d4-4ea0-908d-ab7329258db3"
      },
      "execution_count": 112,
      "outputs": [
        {
          "output_type": "execute_result",
          "data": {
            "text/plain": [
              "(0    0.978966\n",
              " dtype: float64, 97.79869049138931)"
            ]
          },
          "metadata": {},
          "execution_count": 112
        }
      ]
    },
    {
      "cell_type": "markdown",
      "metadata": {
        "id": "Af9cq1EnSASr"
      },
      "source": [
        "### **| 범위와 사분위 범위**\n",
        "\n",
        "<p align='center'>\n",
        "<img src=https://github.com/yebiny/SkillTreePython-DataAnalysis/blob/main/imgs/ch0305-01.png?raw=true?raw=true width=800>\n",
        "</p>\n"
      ]
    },
    {
      "cell_type": "markdown",
      "source": [
        "* `a10` 의 분포 그리기"
      ],
      "metadata": {
        "id": "h-PX4Us32keF"
      }
    },
    {
      "cell_type": "code",
      "execution_count": 113,
      "metadata": {
        "id": "zwnSE67dSASr",
        "colab": {
          "base_uri": "https://localhost:8080/",
          "height": 340
        },
        "outputId": "054c8e77-af1b-4e20-9b5f-89330a97535a"
      },
      "outputs": [
        {
          "output_type": "stream",
          "name": "stderr",
          "text": [
            "/usr/local/lib/python3.7/dist-packages/seaborn/distributions.py:2619: FutureWarning: `distplot` is a deprecated function and will be removed in a future version. Please adapt your code to use either `displot` (a figure-level function with similar flexibility) or `histplot` (an axes-level function for histograms).\n",
            "  warnings.warn(msg, FutureWarning)\n"
          ]
        },
        {
          "output_type": "execute_result",
          "data": {
            "text/plain": [
              "<matplotlib.axes._subplots.AxesSubplot at 0x7f09b6e6ef10>"
            ]
          },
          "metadata": {},
          "execution_count": 113
        },
        {
          "output_type": "display_data",
          "data": {
            "text/plain": [
              "<Figure size 432x288 with 1 Axes>"
            ],
            "image/png": "[encoded data removed]"
          },
          "metadata": {
            "needs_background": "light"
          }
        }
      ],
      "source": [
        "sns.distplot(a10)"
      ]
    },
    {
      "cell_type": "markdown",
      "source": [
        "#### **범위**\n",
        "\n",
        "\\begin{align}\n",
        "\\\\\n",
        "범위 = max(x)-min(x)\n",
        "\\end{align}\n",
        "\n",
        "```\n",
        "np.ptp(x)\n",
        "```"
      ],
      "metadata": {
        "id": "_RZq1F5xzdbT"
      }
    },
    {
      "cell_type": "markdown",
      "source": [
        "* `a10`의 범위 구하기"
      ],
      "metadata": {
        "id": "E21v3wDg3nZy"
      }
    },
    {
      "cell_type": "code",
      "execution_count": 115,
      "metadata": {
        "id": "XC2V_offSASr",
        "colab": {
          "base_uri": "https://localhost:8080/"
        },
        "outputId": "eb369f76-f9ba-4dee-8cd9-829a5f118b10"
      },
      "outputs": [
        {
          "output_type": "stream",
          "name": "stdout",
          "text": [
            "64.52443845014308\n",
            "64.52443845014308\n"
          ]
        }
      ],
      "source": [
        "# np.ptp 사용\n",
        "print(np.ptp(a10))\n",
        "# max-min 사용\n",
        "print(a10.max()-a10.min())"
      ]
    },
    {
      "cell_type": "markdown",
      "source": [
        "\n",
        "#### **사분위 범위**\n",
        "\n",
        "\\begin{align}\n",
        "\\\\\n",
        "사분위 범위 = 3사분위수 - 1사분위수 = 하위 75 \\% 수 - 하위 25\\% 수\n",
        "\\end{align}\n",
        "\n",
        "```\n",
        "np.quntile(x, percent)\n",
        "```"
      ],
      "metadata": {
        "id": "LgpC0EN1zjmc"
      }
    },
    {
      "cell_type": "markdown",
      "source": [
        "* `a10`의 사분위 범위 구하기"
      ],
      "metadata": {
        "id": "x3nqHdR54ILX"
      }
    },
    {
      "cell_type": "code",
      "execution_count": 117,
      "metadata": {
        "id": "Y857hyZ3SASr",
        "colab": {
          "base_uri": "https://localhost:8080/"
        },
        "outputId": "5edd028d-f37a-4e63-8b86-86c18ed733f9"
      },
      "outputs": [
        {
          "output_type": "execute_result",
          "data": {
            "text/plain": [
              "(2.0, 4.0)"
            ]
          },
          "metadata": {},
          "execution_count": 117
        }
      ],
      "source": [
        "np.quantile(x,0.25), np.quantile(x,0.75)"
      ]
    }
  ]
}