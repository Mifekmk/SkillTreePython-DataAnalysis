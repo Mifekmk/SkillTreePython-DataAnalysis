{
  "cells": [
    {
      "cell_type": "markdown",
      "metadata": {
        "id": "view-in-github",
        "colab_type": "text"
      },
      "source": [
        "<a href=\"https://colab.research.google.com/github/Mifekmk/SkillTreePython-DataAnalysis/blob/main/%ED%98%BC%EC%9E%90_%ED%95%B4%EB%B3%B4%EB%8A%94_%EB%8D%B0%EC%9D%B4%ED%84%B0_%EC%8B%9C%EA%B0%81%ED%99%94.ipynb\" target=\"_parent\"><img src=\"https://colab.research.google.com/assets/colab-badge.svg\" alt=\"Open In Colab\"/></a>"
      ]
    },
    {
      "cell_type": "code",
      "execution_count": null,
      "id": "b98a6a52",
      "metadata": {
        "id": "b98a6a52"
      },
      "outputs": [],
      "source": [
        "import numpy as np\n",
        "import pandas as pd\n",
        "import seaborn as sns\n",
        "import matplotlib.pyplot as pyplot\n",
        "import matplotlib as mpl\n",
        "import glob, os # 파일 경로에 관한 라이브러리\n",
        "import matplotlib.pylab as plt"
      ]
    },
    {
      "cell_type": "code",
      "execution_count": null,
      "id": "95b80821",
      "metadata": {
        "id": "95b80821"
      },
      "outputs": [],
      "source": [
        "# 한글 글자폰트 확인\n",
        "mpl.rcParams['font.family']='Malgun Gothic'\n",
        "mpl.rcParams['font.size']= 16\n",
        "mpl.rcParams['figure.figsize'] = (14,4)\n",
        "\n",
        "plt.rcParams['axes.unicode_minus']=False"
      ]
    },
    {
      "cell_type": "code",
      "execution_count": null,
      "id": "735d2eae",
      "metadata": {
        "id": "735d2eae"
      },
      "outputs": [],
      "source": [
        "df_path = r'C:\\Users\\HKIT\\Desktop\\재정데이터 시각화모델 경진대회 데이터_열린재정\\4. 채무 및 수지'"
      ]
    },
    {
      "cell_type": "code",
      "execution_count": null,
      "id": "ca1e78b0",
      "metadata": {
        "id": "ca1e78b0"
      },
      "outputs": [],
      "source": [
        "df = pd.read_excel('4-1-2. 월별 국가채무(중앙정부).xlsx',sheet_name='Sheet0')"
      ]
    },
    {
      "cell_type": "code",
      "execution_count": null,
      "id": "b100fc72",
      "metadata": {
        "id": "b100fc72",
        "outputId": "b7356251-c5bf-4a87-fc43-de74878e8e3c"
      },
      "outputs": [
        {
          "data": {
            "text/plain": [
              "(89, 9)"
            ]
          },
          "execution_count": 12,
          "metadata": {},
          "output_type": "execute_result"
        }
      ],
      "source": [
        "df.shape"
      ]
    },
    {
      "cell_type": "code",
      "execution_count": null,
      "id": "b2c4d5ec",
      "metadata": {
        "id": "b2c4d5ec",
        "outputId": "86d02b3b-b948-411b-86f3-29825118b80f"
      },
      "outputs": [
        {
          "data": {
            "text/plain": [
              "<bound method DataFrame.info of     기준년도   기준월  국가채무총계(조원)  국채 합계(조원)  국고채권(조원)  국민주택채권(조원)  외평채권(조원)  \\\n",
              "0   2021   1.0       835.9      832.1     742.0        80.3       9.7   \n",
              "1   2021   2.0       853.6      849.8     759.4        80.7       9.7   \n",
              "2   2021   3.0       862.1      858.5     769.3        79.3       9.8   \n",
              "3   2021   4.0       880.4      877.0     787.3        80.0       9.7   \n",
              "4   2021   5.0       899.8      896.6     806.2        80.6       9.8   \n",
              "..   ...   ...         ...        ...       ...         ...       ...   \n",
              "84  2014   8.0       511.1      505.9     444.6        53.7       7.6   \n",
              "85  2014   9.0       496.2      491.0     430.7        53.5       6.8   \n",
              "86  2014  10.0       502.9      497.5     436.8        53.9       6.8   \n",
              "87  2014  11.0       509.0      504.4     442.6        54.8       7.1   \n",
              "88  2014  12.0       503.0      498.1     438.3        52.8       7.0   \n",
              "\n",
              "    차입금(조원)  국고채무부담행위(조원)  \n",
              "0       3.1           0.7  \n",
              "1       3.1           0.7  \n",
              "2       3.0           0.7  \n",
              "3       2.8           0.7  \n",
              "4       2.6           0.7  \n",
              "..      ...           ...  \n",
              "84      2.3           2.9  \n",
              "85      2.3           2.9  \n",
              "86      2.4           2.9  \n",
              "87      2.4           2.1  \n",
              "88      2.6           2.4  \n",
              "\n",
              "[89 rows x 9 columns]>"
            ]
          },
          "execution_count": 13,
          "metadata": {},
          "output_type": "execute_result"
        }
      ],
      "source": [
        "df.info"
      ]
    },
    {
      "cell_type": "code",
      "execution_count": null,
      "id": "52ac4583",
      "metadata": {
        "id": "52ac4583"
      },
      "outputs": [],
      "source": [
        "total_financial = df.groupby(['기준년도'])['국가채무총계(조원)'].sum()"
      ]
    },
    {
      "cell_type": "code",
      "execution_count": null,
      "id": "4ec2b6a8",
      "metadata": {
        "id": "4ec2b6a8"
      },
      "outputs": [],
      "source": [
        "kukmin_jutaek_chaegwon = df.groupby(['기준년도'])['국민주택채권(조원)'].sum()"
      ]
    },
    {
      "cell_type": "code",
      "execution_count": null,
      "id": "affa2fc4",
      "metadata": {
        "id": "affa2fc4"
      },
      "outputs": [],
      "source": [
        "haeng_wi = df.groupby(['기준년도'])['국고채무부담행위(조원)'].sum()"
      ]
    },
    {
      "cell_type": "code",
      "execution_count": null,
      "id": "351e7727",
      "metadata": {
        "id": "351e7727"
      },
      "outputs": [],
      "source": [
        "chaipgeum = df.groupby(['기준년도'])['차입금(조원)'].sum()"
      ]
    },
    {
      "cell_type": "code",
      "execution_count": null,
      "id": "f21ed9fc",
      "metadata": {
        "id": "f21ed9fc"
      },
      "outputs": [],
      "source": [
        "ratio_1 = pd.DataFrame(kukmin_jutaek_chaegwon/total_financial)"
      ]
    },
    {
      "cell_type": "code",
      "execution_count": null,
      "id": "5f77efba",
      "metadata": {
        "id": "5f77efba"
      },
      "outputs": [],
      "source": [
        "ratio_2 = pd.DataFrame(haeng_wi/total_financial)"
      ]
    },
    {
      "cell_type": "code",
      "execution_count": null,
      "id": "0950da8a",
      "metadata": {
        "id": "0950da8a"
      },
      "outputs": [],
      "source": [
        "ratio_3 = pd.DataFrame(haeng_wi/kukmin_jutaek_chaegwon)"
      ]
    },
    {
      "cell_type": "code",
      "execution_count": null,
      "id": "4ddf39be",
      "metadata": {
        "id": "4ddf39be",
        "outputId": "90cca38c-91dc-4dbf-eaa3-497a90e0d225"
      },
      "outputs": [
        {
          "data": {
            "text/plain": [
              "기준년도\n",
              "2014    5920.8\n",
              "2015    6471.2\n",
              "2016    7079.7\n",
              "2017    7500.0\n",
              "2018    7942.6\n",
              "2019    8235.3\n",
              "2020    9276.9\n",
              "2021    4331.8\n",
              "Name: 국가채무총계(조원), dtype: float64"
            ]
          },
          "execution_count": 31,
          "metadata": {},
          "output_type": "execute_result"
        }
      ],
      "source": [
        "total_financial"
      ]
    },
    {
      "cell_type": "code",
      "execution_count": null,
      "id": "6387af9a",
      "metadata": {
        "id": "6387af9a",
        "outputId": "14832a04-ba42-40ca-974b-fdf679cbae77"
      },
      "outputs": [
        {
          "data": {
            "text/plain": [
              "Text(0.5, 1.0, '기준년도 별 국가재무총계(조원)')"
            ]
          },
          "execution_count": 120,
          "metadata": {},
          "output_type": "execute_result"
        },
        {
          "data": {
            "image/png": "[encoded data removed]",
            "text/plain": [
              "<Figure size 1008x288 with 1 Axes>"
            ]
          },
          "metadata": {
            "needs_background": "light"
          },
          "output_type": "display_data"
        }
      ],
      "source": [
        "plt.bar(x=[2014,2015,2016,2017,2018,2019,2020,2021],height=total_financial, color='violet', alpha=0.5)\n",
        "plt.grid(True)\n",
        "plt.xlabel('기준년도')\n",
        "plt.ylabel('국가재무총계(조원)')\n",
        "plt.title('기준년도 별 국가재무총계(조원)')\n",
        "# [2014,2015,2016,2017,2018,2019,2020,2021]\n",
        "# 2021년은 5개월 밖에 조사 되지 않았기 때문에 시각화 자료에서는 가장 작은 값이 나오게 되었습니다.\n",
        "# 국가재무총계는 년도가 갈수록 점차 많아짐을 알 수 있습니다."
      ]
    },
    {
      "cell_type": "code",
      "execution_count": null,
      "id": "5f9cf51f",
      "metadata": {
        "id": "5f9cf51f",
        "outputId": "5078c184-6187-4afe-db73-a77a0cd4ab8a"
      },
      "outputs": [
        {
          "data": {
            "text/plain": [
              "기준년도\n",
              "2014    634.9\n",
              "2015    683.0\n",
              "2016    753.1\n",
              "2017    797.4\n",
              "2018    854.4\n",
              "2019    903.3\n",
              "2020    930.8\n",
              "2021    400.9\n",
              "Name: 국민주택채권(조원), dtype: float64"
            ]
          },
          "execution_count": 52,
          "metadata": {},
          "output_type": "execute_result"
        }
      ],
      "source": [
        "kukmin_jutaek_chaegwon"
      ]
    },
    {
      "cell_type": "code",
      "execution_count": null,
      "id": "b64b5f91",
      "metadata": {
        "id": "b64b5f91",
        "outputId": "89be2ad4-b25e-478b-ad79-d976e30d8b27"
      },
      "outputs": [
        {
          "data": {
            "text/plain": [
              "Text(0.5, 1.0, '기준년도 별 국민주택채권(조원)')"
            ]
          },
          "execution_count": 122,
          "metadata": {},
          "output_type": "execute_result"
        },
        {
          "data": {
            "image/png": "[encoded data removed]",
            "text/plain": [
              "<Figure size 1008x288 with 1 Axes>"
            ]
          },
          "metadata": {
            "needs_background": "light"
          },
          "output_type": "display_data"
        }
      ],
      "source": [
        "plt.bar(x=[2014,2015,2016,2017,2018,2019,2020,2021],height=kukmin_jutaek_chaegwon, color='r',alpha=0.5,\n",
        "       )\n",
        "plt.grid(True)\n",
        "plt.xlabel('기준년도')\n",
        "plt.ylabel('국민주택채권(조원)')\n",
        "plt.title('기준년도 별 국민주택채권(조원)')\n",
        "# 국민주택채권은 년도가 갈수록 점차 증가하고 있음을 알 수 있습니다."
      ]
    },
    {
      "cell_type": "code",
      "execution_count": null,
      "id": "8f44e6bb",
      "metadata": {
        "id": "8f44e6bb",
        "outputId": "c4bfa592-7b48-47ea-c006-000428b57a2f"
      },
      "outputs": [
        {
          "data": {
            "text/plain": [
              "기준년도\n",
              "2014    32.6\n",
              "2015    27.3\n",
              "2016    17.6\n",
              "2017     4.7\n",
              "2018     2.4\n",
              "2019     2.3\n",
              "2020     1.8\n",
              "2021     3.5\n",
              "Name: 국고채무부담행위(조원), dtype: float64"
            ]
          },
          "execution_count": 60,
          "metadata": {},
          "output_type": "execute_result"
        }
      ],
      "source": [
        "haeng_wi"
      ]
    },
    {
      "cell_type": "code",
      "execution_count": null,
      "id": "8101e11a",
      "metadata": {
        "id": "8101e11a",
        "outputId": "632fd36a-c08e-4c7a-bd98-d9884cf39aa6"
      },
      "outputs": [
        {
          "data": {
            "text/plain": [
              "Text(0.5, 1.0, '기준년도 별 국고채무부담행위(조원)')"
            ]
          },
          "execution_count": 123,
          "metadata": {},
          "output_type": "execute_result"
        },
        {
          "data": {
            "image/png": "[encoded data removed]",
            "text/plain": [
              "<Figure size 1008x288 with 1 Axes>"
            ]
          },
          "metadata": {
            "needs_background": "light"
          },
          "output_type": "display_data"
        }
      ],
      "source": [
        "plt.bar(x=[2014,2015,2016,2017,2018,2019,2020,2021],height=haeng_wi, color='y', alpha=0.5)\n",
        "plt.grid(True)\n",
        "plt.xlabel('기준년도')\n",
        "plt.ylabel('국고채무부담행위(조원)')\n",
        "plt.title('기준년도 별 국고채무부담행위(조원)')\n",
        "# 국고채무부담행위는 년도가 갈수록 감소하는 경향이 있습니다. 2021년 소폭 오른것을 확인 할 수 있습니다."
      ]
    },
    {
      "cell_type": "code",
      "execution_count": null,
      "id": "65b53f06",
      "metadata": {
        "id": "65b53f06",
        "outputId": "6f4d81dc-2e54-49be-c980-1718bd922cc8"
      },
      "outputs": [
        {
          "data": {
            "text/plain": [
              "Text(0.5, 1.0, '기준년도 별 차입금(조원)')"
            ]
          },
          "execution_count": 124,
          "metadata": {},
          "output_type": "execute_result"
        },
        {
          "data": {
            "image/png": "[encoded data removed]",
            "text/plain": [
              "<Figure size 1008x288 with 1 Axes>"
            ]
          },
          "metadata": {
            "needs_background": "light"
          },
          "output_type": "display_data"
        }
      ],
      "source": [
        "plt.bar(x=[2014,2015,2016,2017,2018,2019,2020,2021],height=chaipgeum, color='g', alpha=0.5)\n",
        "plt.grid(True)\n",
        "plt.xlabel('기준년도')\n",
        "plt.ylabel('차입금(조원)')\n",
        "plt.title('기준년도 별 차입금(조원)')\n",
        "# 2016, 2017, 2018년 차입금이 가장 높았던 것을 알 수 있습니다."
      ]
    },
    {
      "cell_type": "code",
      "execution_count": null,
      "id": "952350cf",
      "metadata": {
        "id": "952350cf",
        "outputId": "3048a09a-d84a-49a2-8d5e-7e9ae39a1245"
      },
      "outputs": [
        {
          "data": {
            "text/plain": [
              "국가채무총계(조원)  국채 합계(조원)  국고채권(조원)  국민주택채권(조원)  외평채권(조원)  차입금(조원)  국고채무부담행위(조원)\n",
              "472.4       467.8      408.2     52.0        7.7       1.9      2.7             2014.0\n",
              "474.9       470.2      410.5     52.1        7.6       2.0      2.7             2014.0\n",
              "480.9       476.4      416.9     51.9        7.6       1.9      2.7             2014.0\n",
              "481.7       476.8      418.8     52.2        5.8       2.1      2.7             2014.0\n",
              "490.7       485.8      427.6     52.5        5.7       2.2      2.8             2014.0\n",
              "                                                                                 ...  \n",
              "835.9       832.1      742.0     80.3        9.7       3.1      0.7             2021.0\n",
              "853.6       849.8      759.4     80.7        9.7       3.1      0.7             2021.0\n",
              "862.1       858.5      769.3     79.3        9.8       3.0      0.7             2021.0\n",
              "880.4       877.0      787.3     80.0        9.7       2.8      0.7             2021.0\n",
              "899.8       896.6      806.2     80.6        9.8       2.6      0.7             2021.0\n",
              "Name: 기준년도, Length: 89, dtype: float64"
            ]
          },
          "execution_count": 74,
          "metadata": {},
          "output_type": "execute_result"
        }
      ],
      "source": [
        "df.groupby(['국가채무총계(조원)','국채 합계(조원)','국고채권(조원)','국민주택채권(조원)','외평채권(조원)','차입금(조원)',\n",
        "'국고채무부담행위(조원)'])['기준년도'].aggregate('mean')"
      ]
    },
    {
      "cell_type": "code",
      "execution_count": null,
      "id": "499b8dcc",
      "metadata": {
        "id": "499b8dcc",
        "outputId": "6edc01bc-bc1a-419c-cda4-f450acbad4b7"
      },
      "outputs": [
        {
          "data": {
            "text/html": [
              "<div>\n",
              "<style scoped>\n",
              "    .dataframe tbody tr th:only-of-type {\n",
              "        vertical-align: middle;\n",
              "    }\n",
              "\n",
              "    .dataframe tbody tr th {\n",
              "        vertical-align: top;\n",
              "    }\n",
              "\n",
              "    .dataframe thead th {\n",
              "        text-align: right;\n",
              "    }\n",
              "</style>\n",
              "<table border=\"1\" class=\"dataframe\">\n",
              "  <thead>\n",
              "    <tr style=\"text-align: right;\">\n",
              "      <th></th>\n",
              "      <th></th>\n",
              "      <th></th>\n",
              "      <th></th>\n",
              "      <th></th>\n",
              "      <th></th>\n",
              "      <th></th>\n",
              "      <th>기준년도</th>\n",
              "    </tr>\n",
              "    <tr>\n",
              "      <th>국가채무총계(조원)</th>\n",
              "      <th>국채 합계(조원)</th>\n",
              "      <th>국고채권(조원)</th>\n",
              "      <th>국민주택채권(조원)</th>\n",
              "      <th>외평채권(조원)</th>\n",
              "      <th>차입금(조원)</th>\n",
              "      <th>국고채무부담행위(조원)</th>\n",
              "      <th></th>\n",
              "    </tr>\n",
              "  </thead>\n",
              "  <tbody>\n",
              "    <tr>\n",
              "      <th>472.4</th>\n",
              "      <th>467.8</th>\n",
              "      <th>408.2</th>\n",
              "      <th>52.0</th>\n",
              "      <th>7.7</th>\n",
              "      <th>1.9</th>\n",
              "      <th>2.7</th>\n",
              "      <td>2014</td>\n",
              "    </tr>\n",
              "    <tr>\n",
              "      <th>474.9</th>\n",
              "      <th>470.2</th>\n",
              "      <th>410.5</th>\n",
              "      <th>52.1</th>\n",
              "      <th>7.6</th>\n",
              "      <th>2.0</th>\n",
              "      <th>2.7</th>\n",
              "      <td>2014</td>\n",
              "    </tr>\n",
              "    <tr>\n",
              "      <th>480.9</th>\n",
              "      <th>476.4</th>\n",
              "      <th>416.9</th>\n",
              "      <th>51.9</th>\n",
              "      <th>7.6</th>\n",
              "      <th>1.9</th>\n",
              "      <th>2.7</th>\n",
              "      <td>2014</td>\n",
              "    </tr>\n",
              "    <tr>\n",
              "      <th>481.7</th>\n",
              "      <th>476.8</th>\n",
              "      <th>418.8</th>\n",
              "      <th>52.2</th>\n",
              "      <th>5.8</th>\n",
              "      <th>2.1</th>\n",
              "      <th>2.7</th>\n",
              "      <td>2014</td>\n",
              "    </tr>\n",
              "    <tr>\n",
              "      <th>490.7</th>\n",
              "      <th>485.8</th>\n",
              "      <th>427.6</th>\n",
              "      <th>52.5</th>\n",
              "      <th>5.7</th>\n",
              "      <th>2.2</th>\n",
              "      <th>2.8</th>\n",
              "      <td>2014</td>\n",
              "    </tr>\n",
              "    <tr>\n",
              "      <th>...</th>\n",
              "      <th>...</th>\n",
              "      <th>...</th>\n",
              "      <th>...</th>\n",
              "      <th>...</th>\n",
              "      <th>...</th>\n",
              "      <th>...</th>\n",
              "      <td>...</td>\n",
              "    </tr>\n",
              "    <tr>\n",
              "      <th>835.9</th>\n",
              "      <th>832.1</th>\n",
              "      <th>742.0</th>\n",
              "      <th>80.3</th>\n",
              "      <th>9.7</th>\n",
              "      <th>3.1</th>\n",
              "      <th>0.7</th>\n",
              "      <td>2021</td>\n",
              "    </tr>\n",
              "    <tr>\n",
              "      <th>853.6</th>\n",
              "      <th>849.8</th>\n",
              "      <th>759.4</th>\n",
              "      <th>80.7</th>\n",
              "      <th>9.7</th>\n",
              "      <th>3.1</th>\n",
              "      <th>0.7</th>\n",
              "      <td>2021</td>\n",
              "    </tr>\n",
              "    <tr>\n",
              "      <th>862.1</th>\n",
              "      <th>858.5</th>\n",
              "      <th>769.3</th>\n",
              "      <th>79.3</th>\n",
              "      <th>9.8</th>\n",
              "      <th>3.0</th>\n",
              "      <th>0.7</th>\n",
              "      <td>2021</td>\n",
              "    </tr>\n",
              "    <tr>\n",
              "      <th>880.4</th>\n",
              "      <th>877.0</th>\n",
              "      <th>787.3</th>\n",
              "      <th>80.0</th>\n",
              "      <th>9.7</th>\n",
              "      <th>2.8</th>\n",
              "      <th>0.7</th>\n",
              "      <td>2021</td>\n",
              "    </tr>\n",
              "    <tr>\n",
              "      <th>899.8</th>\n",
              "      <th>896.6</th>\n",
              "      <th>806.2</th>\n",
              "      <th>80.6</th>\n",
              "      <th>9.8</th>\n",
              "      <th>2.6</th>\n",
              "      <th>0.7</th>\n",
              "      <td>2021</td>\n",
              "    </tr>\n",
              "  </tbody>\n",
              "</table>\n",
              "<p>89 rows × 1 columns</p>\n",
              "</div>"
            ],
            "text/plain": [
              "                                                                        기준년도\n",
              "국가채무총계(조원) 국채 합계(조원) 국고채권(조원) 국민주택채권(조원) 외평채권(조원) 차입금(조원) 국고채무부담행위(조원)      \n",
              "472.4      467.8     408.2    52.0       7.7      1.9     2.7           2014\n",
              "474.9      470.2     410.5    52.1       7.6      2.0     2.7           2014\n",
              "480.9      476.4     416.9    51.9       7.6      1.9     2.7           2014\n",
              "481.7      476.8     418.8    52.2       5.8      2.1     2.7           2014\n",
              "490.7      485.8     427.6    52.5       5.7      2.2     2.8           2014\n",
              "...                                                                      ...\n",
              "835.9      832.1     742.0    80.3       9.7      3.1     0.7           2021\n",
              "853.6      849.8     759.4    80.7       9.7      3.1     0.7           2021\n",
              "862.1      858.5     769.3    79.3       9.8      3.0     0.7           2021\n",
              "880.4      877.0     787.3    80.0       9.7      2.8     0.7           2021\n",
              "899.8      896.6     806.2    80.6       9.8      2.6     0.7           2021\n",
              "\n",
              "[89 rows x 1 columns]"
            ]
          },
          "execution_count": 118,
          "metadata": {},
          "output_type": "execute_result"
        }
      ],
      "source": [
        "df.pivot_table('기준년도',['국가채무총계(조원)','국채 합계(조원)','국고채권(조원)','국민주택채권(조원)','외평채권(조원)','차입금(조원)',\n",
        "'국고채무부담행위(조원)'])"
      ]
    },
    {
      "cell_type": "code",
      "execution_count": null,
      "id": "8bed455c",
      "metadata": {
        "scrolled": false,
        "id": "8bed455c",
        "outputId": "8902e7f1-35a2-4199-dad0-93154f8d990e"
      },
      "outputs": [
        {
          "data": {
            "text/html": [
              "<div>\n",
              "<style scoped>\n",
              "    .dataframe tbody tr th:only-of-type {\n",
              "        vertical-align: middle;\n",
              "    }\n",
              "\n",
              "    .dataframe tbody tr th {\n",
              "        vertical-align: top;\n",
              "    }\n",
              "\n",
              "    .dataframe thead th {\n",
              "        text-align: right;\n",
              "    }\n",
              "</style>\n",
              "<table border=\"1\" class=\"dataframe\">\n",
              "  <thead>\n",
              "    <tr style=\"text-align: right;\">\n",
              "      <th></th>\n",
              "      <th>기준년도</th>\n",
              "      <th>기준월</th>\n",
              "      <th>국가채무총계(조원)</th>\n",
              "      <th>국채 합계(조원)</th>\n",
              "      <th>국고채권(조원)</th>\n",
              "      <th>국민주택채권(조원)</th>\n",
              "      <th>외평채권(조원)</th>\n",
              "      <th>차입금(조원)</th>\n",
              "      <th>국고채무부담행위(조원)</th>\n",
              "    </tr>\n",
              "  </thead>\n",
              "  <tbody>\n",
              "    <tr>\n",
              "      <th>기준년도</th>\n",
              "      <td>1.000000</td>\n",
              "      <td>-0.099621</td>\n",
              "      <td>0.965993</td>\n",
              "      <td>0.967029</td>\n",
              "      <td>0.960799</td>\n",
              "      <td>0.983569</td>\n",
              "      <td>0.786910</td>\n",
              "      <td>0.206048</td>\n",
              "      <td>-0.858797</td>\n",
              "    </tr>\n",
              "    <tr>\n",
              "      <th>기준월</th>\n",
              "      <td>-0.099621</td>\n",
              "      <td>1.000000</td>\n",
              "      <td>0.009593</td>\n",
              "      <td>0.009108</td>\n",
              "      <td>0.006191</td>\n",
              "      <td>0.039325</td>\n",
              "      <td>-0.000260</td>\n",
              "      <td>0.118055</td>\n",
              "      <td>-0.027795</td>\n",
              "    </tr>\n",
              "    <tr>\n",
              "      <th>국가채무총계(조원)</th>\n",
              "      <td>0.965993</td>\n",
              "      <td>0.009593</td>\n",
              "      <td>1.000000</td>\n",
              "      <td>0.999986</td>\n",
              "      <td>0.999685</td>\n",
              "      <td>0.950640</td>\n",
              "      <td>0.832326</td>\n",
              "      <td>0.214263</td>\n",
              "      <td>-0.773783</td>\n",
              "    </tr>\n",
              "    <tr>\n",
              "      <th>국채 합계(조원)</th>\n",
              "      <td>0.967029</td>\n",
              "      <td>0.009108</td>\n",
              "      <td>0.999986</td>\n",
              "      <td>1.000000</td>\n",
              "      <td>0.999593</td>\n",
              "      <td>0.951727</td>\n",
              "      <td>0.832718</td>\n",
              "      <td>0.212363</td>\n",
              "      <td>-0.775701</td>\n",
              "    </tr>\n",
              "    <tr>\n",
              "      <th>국고채권(조원)</th>\n",
              "      <td>0.960799</td>\n",
              "      <td>0.006191</td>\n",
              "      <td>0.999685</td>\n",
              "      <td>0.999593</td>\n",
              "      <td>1.000000</td>\n",
              "      <td>0.942749</td>\n",
              "      <td>0.832967</td>\n",
              "      <td>0.208039</td>\n",
              "      <td>-0.761641</td>\n",
              "    </tr>\n",
              "    <tr>\n",
              "      <th>국민주택채권(조원)</th>\n",
              "      <td>0.983569</td>\n",
              "      <td>0.039325</td>\n",
              "      <td>0.950640</td>\n",
              "      <td>0.951727</td>\n",
              "      <td>0.942749</td>\n",
              "      <td>1.000000</td>\n",
              "      <td>0.753874</td>\n",
              "      <td>0.276708</td>\n",
              "      <td>-0.895651</td>\n",
              "    </tr>\n",
              "    <tr>\n",
              "      <th>외평채권(조원)</th>\n",
              "      <td>0.786910</td>\n",
              "      <td>-0.000260</td>\n",
              "      <td>0.832326</td>\n",
              "      <td>0.832718</td>\n",
              "      <td>0.832967</td>\n",
              "      <td>0.753874</td>\n",
              "      <td>1.000000</td>\n",
              "      <td>-0.112376</td>\n",
              "      <td>-0.520899</td>\n",
              "    </tr>\n",
              "    <tr>\n",
              "      <th>차입금(조원)</th>\n",
              "      <td>0.206048</td>\n",
              "      <td>0.118055</td>\n",
              "      <td>0.214263</td>\n",
              "      <td>0.212363</td>\n",
              "      <td>0.208039</td>\n",
              "      <td>0.276708</td>\n",
              "      <td>-0.112376</td>\n",
              "      <td>1.000000</td>\n",
              "      <td>-0.507695</td>\n",
              "    </tr>\n",
              "    <tr>\n",
              "      <th>국고채무부담행위(조원)</th>\n",
              "      <td>-0.858797</td>\n",
              "      <td>-0.027795</td>\n",
              "      <td>-0.773783</td>\n",
              "      <td>-0.775701</td>\n",
              "      <td>-0.761641</td>\n",
              "      <td>-0.895651</td>\n",
              "      <td>-0.520899</td>\n",
              "      <td>-0.507695</td>\n",
              "      <td>1.000000</td>\n",
              "    </tr>\n",
              "  </tbody>\n",
              "</table>\n",
              "</div>"
            ],
            "text/plain": [
              "                  기준년도       기준월  국가채무총계(조원)  국채 합계(조원)  국고채권(조원)  국민주택채권(조원)  \\\n",
              "기준년도          1.000000 -0.099621    0.965993   0.967029  0.960799    0.983569   \n",
              "기준월          -0.099621  1.000000    0.009593   0.009108  0.006191    0.039325   \n",
              "국가채무총계(조원)    0.965993  0.009593    1.000000   0.999986  0.999685    0.950640   \n",
              "국채 합계(조원)     0.967029  0.009108    0.999986   1.000000  0.999593    0.951727   \n",
              "국고채권(조원)      0.960799  0.006191    0.999685   0.999593  1.000000    0.942749   \n",
              "국민주택채권(조원)    0.983569  0.039325    0.950640   0.951727  0.942749    1.000000   \n",
              "외평채권(조원)      0.786910 -0.000260    0.832326   0.832718  0.832967    0.753874   \n",
              "차입금(조원)       0.206048  0.118055    0.214263   0.212363  0.208039    0.276708   \n",
              "국고채무부담행위(조원) -0.858797 -0.027795   -0.773783  -0.775701 -0.761641   -0.895651   \n",
              "\n",
              "              외평채권(조원)   차입금(조원)  국고채무부담행위(조원)  \n",
              "기준년도          0.786910  0.206048     -0.858797  \n",
              "기준월          -0.000260  0.118055     -0.027795  \n",
              "국가채무총계(조원)    0.832326  0.214263     -0.773783  \n",
              "국채 합계(조원)     0.832718  0.212363     -0.775701  \n",
              "국고채권(조원)      0.832967  0.208039     -0.761641  \n",
              "국민주택채권(조원)    0.753874  0.276708     -0.895651  \n",
              "외평채권(조원)      1.000000 -0.112376     -0.520899  \n",
              "차입금(조원)      -0.112376  1.000000     -0.507695  \n",
              "국고채무부담행위(조원) -0.520899 -0.507695      1.000000  "
            ]
          },
          "execution_count": 86,
          "metadata": {},
          "output_type": "execute_result"
        }
      ],
      "source": [
        "df.corr()"
      ]
    },
    {
      "cell_type": "code",
      "execution_count": null,
      "id": "ba66a65b",
      "metadata": {
        "id": "ba66a65b"
      },
      "outputs": [],
      "source": [
        "df_cor=df.corr()"
      ]
    },
    {
      "cell_type": "code",
      "execution_count": null,
      "id": "67e0d319",
      "metadata": {
        "id": "67e0d319",
        "outputId": "1a5ecc18-c619-49c0-a9a2-057ddf41a6cf"
      },
      "outputs": [
        {
          "data": {
            "text/plain": [
              "<AxesSubplot:>"
            ]
          },
          "execution_count": 90,
          "metadata": {},
          "output_type": "execute_result"
        },
        {
          "data": {
            "image/png": "[encoded data removed]",
            "text/plain": [
              "<Figure size 1008x288 with 2 Axes>"
            ]
          },
          "metadata": {
            "needs_background": "light"
          },
          "output_type": "display_data"
        }
      ],
      "source": [
        "sns.heatmap(data=df_cor, annot=True, fmt='.5f',linewidths=0.5,cmap='viridis')\n",
        "# 상관관계를 조사하였습니다. "
      ]
    },
    {
      "cell_type": "code",
      "execution_count": null,
      "id": "2bd0b710",
      "metadata": {
        "id": "2bd0b710",
        "outputId": "4e568d08-19f3-44ba-c744-4354130ca961"
      },
      "outputs": [
        {
          "data": {
            "text/html": [
              "<div>\n",
              "<style scoped>\n",
              "    .dataframe tbody tr th:only-of-type {\n",
              "        vertical-align: middle;\n",
              "    }\n",
              "\n",
              "    .dataframe tbody tr th {\n",
              "        vertical-align: top;\n",
              "    }\n",
              "\n",
              "    .dataframe thead th {\n",
              "        text-align: right;\n",
              "    }\n",
              "</style>\n",
              "<table border=\"1\" class=\"dataframe\">\n",
              "  <thead>\n",
              "    <tr style=\"text-align: right;\">\n",
              "      <th></th>\n",
              "      <th>0</th>\n",
              "    </tr>\n",
              "    <tr>\n",
              "      <th>기준년도</th>\n",
              "      <th></th>\n",
              "    </tr>\n",
              "  </thead>\n",
              "  <tbody>\n",
              "    <tr>\n",
              "      <th>2014</th>\n",
              "      <td>0.107232</td>\n",
              "    </tr>\n",
              "    <tr>\n",
              "      <th>2015</th>\n",
              "      <td>0.105545</td>\n",
              "    </tr>\n",
              "    <tr>\n",
              "      <th>2016</th>\n",
              "      <td>0.106375</td>\n",
              "    </tr>\n",
              "    <tr>\n",
              "      <th>2017</th>\n",
              "      <td>0.106320</td>\n",
              "    </tr>\n",
              "    <tr>\n",
              "      <th>2018</th>\n",
              "      <td>0.107572</td>\n",
              "    </tr>\n",
              "    <tr>\n",
              "      <th>2019</th>\n",
              "      <td>0.109686</td>\n",
              "    </tr>\n",
              "    <tr>\n",
              "      <th>2020</th>\n",
              "      <td>0.100335</td>\n",
              "    </tr>\n",
              "    <tr>\n",
              "      <th>2021</th>\n",
              "      <td>0.092548</td>\n",
              "    </tr>\n",
              "  </tbody>\n",
              "</table>\n",
              "</div>"
            ],
            "text/plain": [
              "             0\n",
              "기준년도          \n",
              "2014  0.107232\n",
              "2015  0.105545\n",
              "2016  0.106375\n",
              "2017  0.106320\n",
              "2018  0.107572\n",
              "2019  0.109686\n",
              "2020  0.100335\n",
              "2021  0.092548"
            ]
          },
          "execution_count": 93,
          "metadata": {},
          "output_type": "execute_result"
        }
      ],
      "source": [
        "ratio_1"
      ]
    },
    {
      "cell_type": "code",
      "execution_count": null,
      "id": "ebe7cc4b",
      "metadata": {
        "id": "ebe7cc4b",
        "outputId": "81ccabd1-c6b4-4489-a127-db310c3e80aa"
      },
      "outputs": [
        {
          "data": {
            "text/html": [
              "<div>\n",
              "<style scoped>\n",
              "    .dataframe tbody tr th:only-of-type {\n",
              "        vertical-align: middle;\n",
              "    }\n",
              "\n",
              "    .dataframe tbody tr th {\n",
              "        vertical-align: top;\n",
              "    }\n",
              "\n",
              "    .dataframe thead th {\n",
              "        text-align: right;\n",
              "    }\n",
              "</style>\n",
              "<table border=\"1\" class=\"dataframe\">\n",
              "  <thead>\n",
              "    <tr style=\"text-align: right;\">\n",
              "      <th></th>\n",
              "      <th>0</th>\n",
              "    </tr>\n",
              "    <tr>\n",
              "      <th>기준년도</th>\n",
              "      <th></th>\n",
              "    </tr>\n",
              "  </thead>\n",
              "  <tbody>\n",
              "    <tr>\n",
              "      <th>2014</th>\n",
              "      <td>0.005506</td>\n",
              "    </tr>\n",
              "    <tr>\n",
              "      <th>2015</th>\n",
              "      <td>0.004219</td>\n",
              "    </tr>\n",
              "    <tr>\n",
              "      <th>2016</th>\n",
              "      <td>0.002486</td>\n",
              "    </tr>\n",
              "    <tr>\n",
              "      <th>2017</th>\n",
              "      <td>0.000627</td>\n",
              "    </tr>\n",
              "    <tr>\n",
              "      <th>2018</th>\n",
              "      <td>0.000302</td>\n",
              "    </tr>\n",
              "    <tr>\n",
              "      <th>2019</th>\n",
              "      <td>0.000279</td>\n",
              "    </tr>\n",
              "    <tr>\n",
              "      <th>2020</th>\n",
              "      <td>0.000194</td>\n",
              "    </tr>\n",
              "    <tr>\n",
              "      <th>2021</th>\n",
              "      <td>0.000808</td>\n",
              "    </tr>\n",
              "  </tbody>\n",
              "</table>\n",
              "</div>"
            ],
            "text/plain": [
              "             0\n",
              "기준년도          \n",
              "2014  0.005506\n",
              "2015  0.004219\n",
              "2016  0.002486\n",
              "2017  0.000627\n",
              "2018  0.000302\n",
              "2019  0.000279\n",
              "2020  0.000194\n",
              "2021  0.000808"
            ]
          },
          "execution_count": 99,
          "metadata": {},
          "output_type": "execute_result"
        }
      ],
      "source": [
        "ratio_2"
      ]
    },
    {
      "cell_type": "code",
      "execution_count": null,
      "id": "3bb89006",
      "metadata": {
        "id": "3bb89006",
        "outputId": "363e4327-cd41-4946-83bc-aa22202edd4a"
      },
      "outputs": [
        {
          "data": {
            "text/html": [
              "<div>\n",
              "<style scoped>\n",
              "    .dataframe tbody tr th:only-of-type {\n",
              "        vertical-align: middle;\n",
              "    }\n",
              "\n",
              "    .dataframe tbody tr th {\n",
              "        vertical-align: top;\n",
              "    }\n",
              "\n",
              "    .dataframe thead th {\n",
              "        text-align: right;\n",
              "    }\n",
              "</style>\n",
              "<table border=\"1\" class=\"dataframe\">\n",
              "  <thead>\n",
              "    <tr style=\"text-align: right;\">\n",
              "      <th></th>\n",
              "      <th>0</th>\n",
              "    </tr>\n",
              "    <tr>\n",
              "      <th>기준년도</th>\n",
              "      <th></th>\n",
              "    </tr>\n",
              "  </thead>\n",
              "  <tbody>\n",
              "    <tr>\n",
              "      <th>2014</th>\n",
              "      <td>0.051347</td>\n",
              "    </tr>\n",
              "    <tr>\n",
              "      <th>2015</th>\n",
              "      <td>0.039971</td>\n",
              "    </tr>\n",
              "    <tr>\n",
              "      <th>2016</th>\n",
              "      <td>0.023370</td>\n",
              "    </tr>\n",
              "    <tr>\n",
              "      <th>2017</th>\n",
              "      <td>0.005894</td>\n",
              "    </tr>\n",
              "    <tr>\n",
              "      <th>2018</th>\n",
              "      <td>0.002809</td>\n",
              "    </tr>\n",
              "    <tr>\n",
              "      <th>2019</th>\n",
              "      <td>0.002546</td>\n",
              "    </tr>\n",
              "    <tr>\n",
              "      <th>2020</th>\n",
              "      <td>0.001934</td>\n",
              "    </tr>\n",
              "    <tr>\n",
              "      <th>2021</th>\n",
              "      <td>0.008730</td>\n",
              "    </tr>\n",
              "  </tbody>\n",
              "</table>\n",
              "</div>"
            ],
            "text/plain": [
              "             0\n",
              "기준년도          \n",
              "2014  0.051347\n",
              "2015  0.039971\n",
              "2016  0.023370\n",
              "2017  0.005894\n",
              "2018  0.002809\n",
              "2019  0.002546\n",
              "2020  0.001934\n",
              "2021  0.008730"
            ]
          },
          "execution_count": 102,
          "metadata": {},
          "output_type": "execute_result"
        }
      ],
      "source": [
        "ratio_3"
      ]
    },
    {
      "cell_type": "code",
      "execution_count": null,
      "id": "cfe44a28",
      "metadata": {
        "id": "cfe44a28"
      },
      "outputs": [],
      "source": [
        "0.107232\n",
        "0.105545\n",
        "0.106375\n",
        "0.106320\n",
        "0.107572\n",
        "0.109686\n",
        "0.100335\n",
        "0.092548"
      ]
    },
    {
      "cell_type": "code",
      "execution_count": null,
      "id": "8a21dba9",
      "metadata": {
        "id": "8a21dba9",
        "outputId": "e737fd71-8d8e-4e90-88a8-7cb4eb1d0b41"
      },
      "outputs": [
        {
          "name": "stderr",
          "output_type": "stream",
          "text": [
            "C:\\Users\\HKIT\\AppData\\Local\\Temp/ipykernel_8012/1909307093.py:6: MatplotlibDeprecationWarning: normalize=None does not normalize if the sum is less than 1 but this behavior is deprecated since 3.3 until two minor releases later. After the deprecation period the default value will be normalize=True. To prevent normalization pass normalize=False \n",
            "  plt.pie(ratio_1, labels=labels,autopct='%.1f%%')\n"
          ]
        },
        {
          "data": {
            "image/png": "[encoded data removed]",
            "text/plain": [
              "<Figure size 1008x288 with 1 Axes>"
            ]
          },
          "metadata": {},
          "output_type": "display_data"
        }
      ],
      "source": [
        "palette = sns.color_palette(\"bright\")\n",
        "sns.set_palette('Paired')\n",
        "ratio_1 = ['0.107232','0.105545','0.106375','0.106320','0.107572','0.109686','0.100335','0.092548']\n",
        "labels=['2014','2015','2016','2017','2018','2019','2020','2021']\n",
        "\n",
        "plt.pie(ratio_1, labels=labels,autopct='%.1f%%')\n",
        "plt.show()"
      ]
    },
    {
      "cell_type": "code",
      "execution_count": null,
      "id": "18a3d8cd",
      "metadata": {
        "id": "18a3d8cd"
      },
      "outputs": [],
      "source": [
        "## 두 번째 혼자 해보는 데이터 시각화"
      ]
    },
    {
      "cell_type": "code",
      "execution_count": null,
      "id": "e3f24ad2",
      "metadata": {
        "id": "e3f24ad2"
      },
      "outputs": [],
      "source": [
        "df_path = r'C:\\Users\\HKIT\\Desktop\\분야별 재정지출'"
      ]
    },
    {
      "cell_type": "code",
      "execution_count": null,
      "id": "36db2438",
      "metadata": {
        "id": "36db2438"
      },
      "outputs": [],
      "source": [
        "fields = os.listdir(df_path)\n",
        "fields = ['공공질서 및 안전 분야',\n",
        " '과학기술 분야',\n",
        " '교육 분야',\n",
        " '교통 및 물류 분야',\n",
        " '국방 분야',\n",
        " '국토 및 지역개발 분야',\n",
        " '농림수산 분야',\n",
        " '문화 및 관광 분야',\n",
        " '보건 분야',\n",
        " '사회복지 분야',\n",
        " '산업·중소기업 및 에너지 분야',\n",
        " '일반·지방행정 분야',\n",
        " '통신 분야',\n",
        " '통일·외교 분야',\n",
        " '환경 분야']"
      ]
    },
    {
      "cell_type": "code",
      "execution_count": null,
      "id": "c0e59f7b",
      "metadata": {
        "id": "c0e59f7b",
        "outputId": "6f1e3e5c-f6e5-4d16-b75d-1a064df2e6f1"
      },
      "outputs": [
        {
          "name": "stdout",
          "output_type": "stream",
          "text": [
            "공공질서 및 안전 분야 :C:\\Users\\HKIT\\Desktop\\분야별 재정지출/공공질서 및 안전 분야/공공질서 및 안전 분야 국고보조금 추이.CSV\n",
            "True\n",
            "Y\n",
            "과학기술 분야 :C:\\Users\\HKIT\\Desktop\\분야별 재정지출/과학기술 분야/과학기술 분야 국고보조금 추이.CSV\n",
            "True\n",
            "Y\n",
            "교육 분야 :C:\\Users\\HKIT\\Desktop\\분야별 재정지출/교육 분야/교육 분야 국고보조금 추이.CSV\n",
            "True\n",
            "Y\n",
            "교통 및 물류 분야 :C:\\Users\\HKIT\\Desktop\\분야별 재정지출/교통 및 물류 분야/교통 및 물류 분야 국고보조금 추이.CSV\n",
            "True\n",
            "Y\n",
            "국방 분야 :C:\\Users\\HKIT\\Desktop\\분야별 재정지출/국방 분야/국방 분야 국고보조금 추이.CSV\n",
            "True\n",
            "Y\n",
            "국토 및 지역개발 분야 :C:\\Users\\HKIT\\Desktop\\분야별 재정지출/국토 및 지역개발 분야/국토 및 지역개발 분야 국고보조금 추이.CSV\n",
            "True\n",
            "Y\n",
            "농림수산 분야 :C:\\Users\\HKIT\\Desktop\\분야별 재정지출/농림수산 분야/농림수산 분야 국고보조금 추이.CSV\n",
            "True\n",
            "Y\n",
            "문화 및 관광 분야 :C:\\Users\\HKIT\\Desktop\\분야별 재정지출/문화 및 관광 분야/문화 및 관광 분야 국고보조금 추이.CSV\n",
            "True\n",
            "Y\n",
            "보건 분야 :C:\\Users\\HKIT\\Desktop\\분야별 재정지출/보건 분야/보건 분야 국고보조금 추이.CSV\n",
            "True\n",
            "Y\n",
            "사회복지 분야 :C:\\Users\\HKIT\\Desktop\\분야별 재정지출/사회복지 분야/사회복지 분야 국고보조금 추이.CSV\n",
            "True\n",
            "Y\n",
            "산업·중소기업 및 에너지 분야 :C:\\Users\\HKIT\\Desktop\\분야별 재정지출/산업·중소기업 및 에너지 분야/산업·중소기업 및 에너지 분야 국고보조금 추이.CSV\n",
            "True\n",
            "Y\n",
            "일반·지방행정 분야 :C:\\Users\\HKIT\\Desktop\\분야별 재정지출/일반·지방행정 분야/일반·지방행정 분야 국고보조금 추이.CSV\n",
            "True\n",
            "Y\n",
            "통신 분야 :C:\\Users\\HKIT\\Desktop\\분야별 재정지출/통신 분야/통신 분야 국고보조금 추이.CSV\n",
            "True\n",
            "Y\n",
            "통일·외교 분야 :C:\\Users\\HKIT\\Desktop\\분야별 재정지출/통일·외교 분야/통일·외교 분야 국고보조금 추이.CSV\n",
            "True\n",
            "Y\n",
            "환경 분야 :C:\\Users\\HKIT\\Desktop\\분야별 재정지출/환경 분야/환경 분야 국고보조금 추이.CSV\n",
            "True\n",
            "Y\n"
          ]
        }
      ],
      "source": [
        "dfs = []\n",
        "for field in fields:\n",
        "    print(field, end=' :')\n",
        "\n",
        "    f = f'{df_path}/{field}/{field} 국고보조금 추이.CSV'\n",
        "    print(f)\n",
        "    print(os.path.isfile(f))\n",
        "    if os.path.isfile(f):\n",
        "        dfs.append(pd.read_csv(f, encoding='CP949'))\n",
        "        print('Y')\n",
        "    else:\n",
        "        print('N')"
      ]
    },
    {
      "cell_type": "code",
      "execution_count": null,
      "id": "5c6fbf3f",
      "metadata": {
        "id": "5c6fbf3f",
        "outputId": "55f3b9f1-cffd-420c-9ce2-c09f27bffbee"
      },
      "outputs": [
        {
          "name": "stdout",
          "output_type": "stream",
          "text": [
            "공공질서 및 안전 분야\n",
            "     연도   기준  민간_경상보조(억원)  민간_자본보조(억원)  지자체_경상보조(억원)  지자체_자본보조(억원)\n",
            "0  2015   결산         1136           52           995         10178\n",
            "1  2016   결산         1275            0           971          8947\n",
            "2  2017   결산         1540            3           947          8569\n",
            "3  2018   결산         1574            4          1006          8505\n",
            "4  2019   결산         2178           39          1368         13508\n",
            "5  2020  본예산         2397            8          1124          5504\n",
            "6  2021  본예산         2558            2          1154         14514\n",
            "과학기술 분야\n",
            "     연도   기준  민간_경상보조(억원)  민간_자본보조(억원)  지자체_경상보조(억원)  지자체_자본보조(억원)\n",
            "0  2015   결산          483          149            54           275\n",
            "1  2016   결산          447           65            53           431\n",
            "2  2017   결산          521          103            52           247\n",
            "3  2018   결산          528            0            53           376\n",
            "4  2019   결산          280            0            71            92\n",
            "5  2020  본예산          285           37            71           158\n",
            "6  2021  본예산          279           40            62           167\n",
            "교육 분야\n",
            "     연도   기준  민간_경상보조(억원)  민간_자본보조(억원)  지자체_경상보조(억원)  지자체_자본보조(억원)\n",
            "0  2015   결산         1748           20          5121             0\n",
            "1  2016   결산         1577           54           284          4624\n",
            "2  2017   결산         1285           81            38            81\n",
            "3  2018   결산         2108            0           221             0\n",
            "4  2019   결산         2192            0           231           109\n",
            "5  2020  본예산         3473            2           236             0\n",
            "6  2021  본예산         5078           44          1307             0\n",
            "교통 및 물류 분야\n",
            "     연도   기준  민간_경상보조(억원)  민간_자본보조(억원)  지자체_경상보조(억원)  지자체_자본보조(억원)\n",
            "0  2015   결산        10896         3480          1175         20314\n",
            "1  2016   결산        12237         3770          1034         15910\n",
            "2  2017   결산        10820         2241           974         14900\n",
            "3  2018   결산        10849         2173          1217         12815\n",
            "4  2019   결산        11436         1641          1783         11511\n",
            "5  2020  본예산        13060         3901          2543         16987\n",
            "6  2021  본예산         9747         4428          3761         20663\n",
            "국방 분야\n",
            "     연도   기준  민간_경상보조(억원)  민간_자본보조(억원)  지자체_자본보조(억원)\n",
            "0  2015   결산         1499            0            35\n",
            "1  2016   결산          963            0            15\n",
            "2  2017   결산          971            0            57\n",
            "3  2018   결산          974            0           106\n",
            "4  2019   결산          992           44            50\n",
            "5  2020  본예산         1126            0             0\n",
            "6  2021  본예산          373           44             0\n",
            "국토 및 지역개발 분야\n",
            "     연도   기준  민간_경상보조(억원)  민간_자본보조(억원)  지자체_경상보조(억원)  지자체_자본보조(억원)\n",
            "0  2015   결산         3149           45           171         15361\n",
            "1  2016   결산           50          210           188         14684\n",
            "2  2017   결산           62            0           183         13114\n",
            "3  2018   결산           69            0           336         15115\n",
            "4  2019   결산          204          238           409         19042\n",
            "5  2020  본예산          199          378           841         13690\n",
            "6  2021  본예산         2415          506          1532         17371\n",
            "농림수산 분야\n",
            "     연도   기준  민간_경상보조(억원)  민간_자본보조(억원)  지자체_경상보조(억원)  지자체_자본보조(억원)\n",
            "0  2015   결산        16757        15857         22635         35950\n",
            "1  2016   결산        17388         9736         22846         38112\n",
            "2  2017   결산        15898        11177         22666         33458\n",
            "3  2018   결산        16533        13525         22711         34050\n",
            "4  2019   결산        16949        11072         24243         38506\n",
            "5  2020  본예산        20201        11276         37149         30738\n",
            "6  2021  본예산        22298        12035         38060         34533\n",
            "문화 및 관광 분야\n",
            "     연도   기준  민간_경상보조(억원)  민간_자본보조(억원)  지자체_경상보조(억원)  지자체_자본보조(억원)\n",
            "0  2015   결산        20914         1532          2931         15120\n",
            "1  2016   결산        20432         2223          3359         18751\n",
            "2  2017   결산        22025         1942          4402         17977\n",
            "3  2018   결산        22470          724          4177         13360\n",
            "4  2019   결산        24020          748          4678         17514\n",
            "5  2020  본예산        26481         1185          4336         17643\n",
            "6  2021  본예산        29284          971          5112         16667\n",
            "보건 분야\n",
            "     연도   기준  민간_경상보조(억원)  민간_자본보조(억원)  지자체_경상보조(억원)  지자체_자본보조(억원)\n",
            "0  2015   결산         2827         1152          8499          2332\n",
            "1  2016   결산         2832          456          8912          1601\n",
            "2  2017   결산         3088          497          9707          1331\n",
            "3  2018   결산         3574          764          9450          1168\n",
            "4  2019   결산         4156          689          9585          1812\n",
            "5  2020  본예산         4512          702         10207          1976\n",
            "6  2021  본예산         4515          534         11704          3249\n",
            "사회복지 분야\n",
            "     연도   기준  민간_경상보조(억원)  민간_자본보조(억원)  지자체_경상보조(억원)  지자체_자본보조(억원)\n",
            "0  2015   결산        21688          396        250061          5594\n",
            "1  2016   결산        23751          424        266201          5105\n",
            "2  2017   결산        23460          278        280832          8826\n",
            "3  2018   결산        57384          404        313619          9222\n",
            "4  2019   결산        72283          328        387980         13089\n",
            "5  2020  본예산        72281         1047        425608         12880\n",
            "6  2021  본예산        75642          816        464067         19882\n",
            "산업·중소기업 및 에너지 분야\n",
            "     연도   기준  민간_경상보조(억원)  민간_자본보조(억원)  지자체_경상보조(억원)  지자체_자본보조(억원)\n",
            "0  2015   결산        23333          751          5100          4046\n",
            "1  2016   결산        24698          537          3564          4312\n",
            "2  2017   결산        23133          564          3298          3458\n",
            "3  2018   결산        26118          512          3099          3397\n",
            "4  2019   결산        29216          951          3005          5443\n",
            "5  2020  본예산        34848         1353          2138          4909\n",
            "6  2021  본예산        43068         2039          5096          5237\n",
            "일반·지방행정 분야\n",
            "     연도   기준  민간_경상보조(억원)  민간_자본보조(억원)  지자체_경상보조(억원)  지자체_자본보조(억원)\n",
            "0  2015   결산         1030           40          1966          5108\n",
            "1  2016   결산         1481            6          1940          5187\n",
            "2  2017   결산         1570            9          1850          4536\n",
            "3  2018   결산         1640            9          1842          4410\n",
            "4  2019   결산         1291           24          2750          4174\n",
            "5  2020  본예산         1924           22          3103          4086\n",
            "6  2021  본예산         1491           32         13469          4474\n",
            "통신 분야\n",
            "     연도   기준  민간_경상보조(억원)  민간_자본보조(억원)\n",
            "0  2015   결산         1507           80\n",
            "1  2016   결산         1535           85\n",
            "2  2017   결산         1723           81\n",
            "3  2018   결산         1867           65\n",
            "4  2019   결산         3837           47\n",
            "5  2020  본예산         1270           37\n",
            "6  2021  본예산         1838           35\n",
            "통일·외교 분야\n",
            "     연도   기준  민간_경상보조(억원)  지자체_경상보조(억원)  지자체_자본보조(억원)\n",
            "0  2015   결산          931           118             0\n",
            "1  2016   결산         1316           114             0\n",
            "2  2017   결산         1576           114             0\n",
            "3  2018   결산         1311           120             0\n",
            "4  2019   결산         1194           140            72\n",
            "5  2020  본예산         8527           142            20\n",
            "6  2021  본예산         8972           143            66\n",
            "환경 분야\n",
            "     연도   기준  민간_경상보조(억원)  민간_자본보조(억원)  지자체_경상보조(억원)  지자체_자본보조(억원)\n",
            "0  2015   결산          488          150          5480         40725\n",
            "1  2016   결산          735          104          5464         40674\n",
            "2  2017   결산          729           93          5359         41081\n",
            "3  2018   결산          579          161          5051         40278\n",
            "4  2019   결산         1157          611          6164         49276\n",
            "5  2020  본예산          538          402          6676         53193\n",
            "6  2021  본예산          508          936         10627         55100\n"
          ]
        }
      ],
      "source": [
        "for field, df in zip(fields, dfs):\n",
        "    print(field)\n",
        "    print(df)"
      ]
    },
    {
      "cell_type": "code",
      "execution_count": null,
      "id": "4dad5bc7",
      "metadata": {
        "id": "4dad5bc7",
        "outputId": "7ed73583-c64d-4a34-ec3a-f88c7b9bbae8"
      },
      "outputs": [
        {
          "data": {
            "text/html": [
              "<div>\n",
              "<style scoped>\n",
              "    .dataframe tbody tr th:only-of-type {\n",
              "        vertical-align: middle;\n",
              "    }\n",
              "\n",
              "    .dataframe tbody tr th {\n",
              "        vertical-align: top;\n",
              "    }\n",
              "\n",
              "    .dataframe thead th {\n",
              "        text-align: right;\n",
              "    }\n",
              "</style>\n",
              "<table border=\"1\" class=\"dataframe\">\n",
              "  <thead>\n",
              "    <tr style=\"text-align: right;\">\n",
              "      <th></th>\n",
              "      <th>연도</th>\n",
              "      <th>기준</th>\n",
              "      <th>민간_경상보조(억원)</th>\n",
              "      <th>민간_자본보조(억원)</th>\n",
              "      <th>지자체_경상보조(억원)</th>\n",
              "      <th>지자체_자본보조(억원)</th>\n",
              "    </tr>\n",
              "  </thead>\n",
              "  <tbody>\n",
              "    <tr>\n",
              "      <th>0</th>\n",
              "      <td>2015</td>\n",
              "      <td>결산</td>\n",
              "      <td>1136</td>\n",
              "      <td>52.0</td>\n",
              "      <td>995.0</td>\n",
              "      <td>10178.0</td>\n",
              "    </tr>\n",
              "    <tr>\n",
              "      <th>1</th>\n",
              "      <td>2016</td>\n",
              "      <td>결산</td>\n",
              "      <td>1275</td>\n",
              "      <td>0.0</td>\n",
              "      <td>971.0</td>\n",
              "      <td>8947.0</td>\n",
              "    </tr>\n",
              "    <tr>\n",
              "      <th>2</th>\n",
              "      <td>2017</td>\n",
              "      <td>결산</td>\n",
              "      <td>1540</td>\n",
              "      <td>3.0</td>\n",
              "      <td>947.0</td>\n",
              "      <td>8569.0</td>\n",
              "    </tr>\n",
              "    <tr>\n",
              "      <th>3</th>\n",
              "      <td>2018</td>\n",
              "      <td>결산</td>\n",
              "      <td>1574</td>\n",
              "      <td>4.0</td>\n",
              "      <td>1006.0</td>\n",
              "      <td>8505.0</td>\n",
              "    </tr>\n",
              "    <tr>\n",
              "      <th>4</th>\n",
              "      <td>2019</td>\n",
              "      <td>결산</td>\n",
              "      <td>2178</td>\n",
              "      <td>39.0</td>\n",
              "      <td>1368.0</td>\n",
              "      <td>13508.0</td>\n",
              "    </tr>\n",
              "    <tr>\n",
              "      <th>5</th>\n",
              "      <td>2020</td>\n",
              "      <td>본예산</td>\n",
              "      <td>2397</td>\n",
              "      <td>8.0</td>\n",
              "      <td>1124.0</td>\n",
              "      <td>5504.0</td>\n",
              "    </tr>\n",
              "    <tr>\n",
              "      <th>6</th>\n",
              "      <td>2021</td>\n",
              "      <td>본예산</td>\n",
              "      <td>2558</td>\n",
              "      <td>2.0</td>\n",
              "      <td>1154.0</td>\n",
              "      <td>14514.0</td>\n",
              "    </tr>\n",
              "    <tr>\n",
              "      <th>7</th>\n",
              "      <td>2015</td>\n",
              "      <td>결산</td>\n",
              "      <td>483</td>\n",
              "      <td>149.0</td>\n",
              "      <td>54.0</td>\n",
              "      <td>275.0</td>\n",
              "    </tr>\n",
              "    <tr>\n",
              "      <th>8</th>\n",
              "      <td>2016</td>\n",
              "      <td>결산</td>\n",
              "      <td>447</td>\n",
              "      <td>65.0</td>\n",
              "      <td>53.0</td>\n",
              "      <td>431.0</td>\n",
              "    </tr>\n",
              "    <tr>\n",
              "      <th>9</th>\n",
              "      <td>2017</td>\n",
              "      <td>결산</td>\n",
              "      <td>521</td>\n",
              "      <td>103.0</td>\n",
              "      <td>52.0</td>\n",
              "      <td>247.0</td>\n",
              "    </tr>\n",
              "    <tr>\n",
              "      <th>10</th>\n",
              "      <td>2018</td>\n",
              "      <td>결산</td>\n",
              "      <td>528</td>\n",
              "      <td>0.0</td>\n",
              "      <td>53.0</td>\n",
              "      <td>376.0</td>\n",
              "    </tr>\n",
              "    <tr>\n",
              "      <th>11</th>\n",
              "      <td>2019</td>\n",
              "      <td>결산</td>\n",
              "      <td>280</td>\n",
              "      <td>0.0</td>\n",
              "      <td>71.0</td>\n",
              "      <td>92.0</td>\n",
              "    </tr>\n",
              "    <tr>\n",
              "      <th>12</th>\n",
              "      <td>2020</td>\n",
              "      <td>본예산</td>\n",
              "      <td>285</td>\n",
              "      <td>37.0</td>\n",
              "      <td>71.0</td>\n",
              "      <td>158.0</td>\n",
              "    </tr>\n",
              "    <tr>\n",
              "      <th>13</th>\n",
              "      <td>2021</td>\n",
              "      <td>본예산</td>\n",
              "      <td>279</td>\n",
              "      <td>40.0</td>\n",
              "      <td>62.0</td>\n",
              "      <td>167.0</td>\n",
              "    </tr>\n",
              "    <tr>\n",
              "      <th>14</th>\n",
              "      <td>2015</td>\n",
              "      <td>결산</td>\n",
              "      <td>1748</td>\n",
              "      <td>20.0</td>\n",
              "      <td>5121.0</td>\n",
              "      <td>0.0</td>\n",
              "    </tr>\n",
              "  </tbody>\n",
              "</table>\n",
              "</div>"
            ],
            "text/plain": [
              "      연도   기준  민간_경상보조(억원)  민간_자본보조(억원)  지자체_경상보조(억원)  지자체_자본보조(억원)\n",
              "0   2015   결산         1136         52.0         995.0       10178.0\n",
              "1   2016   결산         1275          0.0         971.0        8947.0\n",
              "2   2017   결산         1540          3.0         947.0        8569.0\n",
              "3   2018   결산         1574          4.0        1006.0        8505.0\n",
              "4   2019   결산         2178         39.0        1368.0       13508.0\n",
              "5   2020  본예산         2397          8.0        1124.0        5504.0\n",
              "6   2021  본예산         2558          2.0        1154.0       14514.0\n",
              "7   2015   결산          483        149.0          54.0         275.0\n",
              "8   2016   결산          447         65.0          53.0         431.0\n",
              "9   2017   결산          521        103.0          52.0         247.0\n",
              "10  2018   결산          528          0.0          53.0         376.0\n",
              "11  2019   결산          280          0.0          71.0          92.0\n",
              "12  2020  본예산          285         37.0          71.0         158.0\n",
              "13  2021  본예산          279         40.0          62.0         167.0\n",
              "14  2015   결산         1748         20.0        5121.0           0.0"
            ]
          },
          "execution_count": 141,
          "metadata": {},
          "output_type": "execute_result"
        }
      ],
      "source": [
        "df = pd.concat(dfs, axis=0, ignore_index=True)\n",
        "df.head(15)"
      ]
    },
    {
      "cell_type": "code",
      "execution_count": null,
      "id": "94917cfb",
      "metadata": {
        "id": "94917cfb",
        "outputId": "cf1983be-fc79-4543-e78f-d4c8a4df9633"
      },
      "outputs": [
        {
          "data": {
            "text/plain": [
              "['공공질서 및 안전 분야',\n",
              " '과학기술 분야',\n",
              " '교육 분야',\n",
              " '교통 및 물류 분야',\n",
              " '국방 분야',\n",
              " '국토 및 지역개발 분야',\n",
              " '농림수산 분야',\n",
              " '문화 및 관광 분야',\n",
              " '보건 분야',\n",
              " '사회복지 분야',\n",
              " '산업·중소기업 및 에너지 분야',\n",
              " '일반·지방행정 분야',\n",
              " '통신 분야',\n",
              " '통일·외교 분야',\n",
              " '환경 분야']"
            ]
          },
          "execution_count": 149,
          "metadata": {},
          "output_type": "execute_result"
        }
      ],
      "source": [
        "fields"
      ]
    },
    {
      "cell_type": "code",
      "execution_count": null,
      "id": "8dc0070d",
      "metadata": {
        "id": "8dc0070d",
        "outputId": "d236d704-417e-4285-b3c0-7ad8425632a0"
      },
      "outputs": [
        {
          "data": {
            "text/html": [
              "<div>\n",
              "<style scoped>\n",
              "    .dataframe tbody tr th:only-of-type {\n",
              "        vertical-align: middle;\n",
              "    }\n",
              "\n",
              "    .dataframe tbody tr th {\n",
              "        vertical-align: top;\n",
              "    }\n",
              "\n",
              "    .dataframe thead th {\n",
              "        text-align: right;\n",
              "    }\n",
              "</style>\n",
              "<table border=\"1\" class=\"dataframe\">\n",
              "  <thead>\n",
              "    <tr style=\"text-align: right;\">\n",
              "      <th></th>\n",
              "      <th>연도</th>\n",
              "      <th>기준</th>\n",
              "      <th>민간_경상보조(억원)</th>\n",
              "      <th>민간_자본보조(억원)</th>\n",
              "      <th>지자체_경상보조(억원)</th>\n",
              "      <th>지자체_자본보조(억원)</th>\n",
              "      <th>분야</th>\n",
              "    </tr>\n",
              "  </thead>\n",
              "  <tbody>\n",
              "    <tr>\n",
              "      <th>0</th>\n",
              "      <td>공공질서 및 안전 분야</td>\n",
              "      <td>결산</td>\n",
              "      <td>1136</td>\n",
              "      <td>52.0</td>\n",
              "      <td>995.0</td>\n",
              "      <td>10178.0</td>\n",
              "      <td>공공질서 및 안전 분야</td>\n",
              "    </tr>\n",
              "    <tr>\n",
              "      <th>1</th>\n",
              "      <td>공공질서 및 안전 분야</td>\n",
              "      <td>결산</td>\n",
              "      <td>1275</td>\n",
              "      <td>0.0</td>\n",
              "      <td>971.0</td>\n",
              "      <td>8947.0</td>\n",
              "      <td>공공질서 및 안전 분야</td>\n",
              "    </tr>\n",
              "    <tr>\n",
              "      <th>2</th>\n",
              "      <td>공공질서 및 안전 분야</td>\n",
              "      <td>결산</td>\n",
              "      <td>1540</td>\n",
              "      <td>3.0</td>\n",
              "      <td>947.0</td>\n",
              "      <td>8569.0</td>\n",
              "      <td>공공질서 및 안전 분야</td>\n",
              "    </tr>\n",
              "    <tr>\n",
              "      <th>3</th>\n",
              "      <td>공공질서 및 안전 분야</td>\n",
              "      <td>결산</td>\n",
              "      <td>1574</td>\n",
              "      <td>4.0</td>\n",
              "      <td>1006.0</td>\n",
              "      <td>8505.0</td>\n",
              "      <td>공공질서 및 안전 분야</td>\n",
              "    </tr>\n",
              "    <tr>\n",
              "      <th>4</th>\n",
              "      <td>공공질서 및 안전 분야</td>\n",
              "      <td>결산</td>\n",
              "      <td>2178</td>\n",
              "      <td>39.0</td>\n",
              "      <td>1368.0</td>\n",
              "      <td>13508.0</td>\n",
              "      <td>공공질서 및 안전 분야</td>\n",
              "    </tr>\n",
              "    <tr>\n",
              "      <th>5</th>\n",
              "      <td>공공질서 및 안전 분야</td>\n",
              "      <td>본예산</td>\n",
              "      <td>2397</td>\n",
              "      <td>8.0</td>\n",
              "      <td>1124.0</td>\n",
              "      <td>5504.0</td>\n",
              "      <td>공공질서 및 안전 분야</td>\n",
              "    </tr>\n",
              "    <tr>\n",
              "      <th>6</th>\n",
              "      <td>공공질서 및 안전 분야</td>\n",
              "      <td>본예산</td>\n",
              "      <td>2558</td>\n",
              "      <td>2.0</td>\n",
              "      <td>1154.0</td>\n",
              "      <td>14514.0</td>\n",
              "      <td>공공질서 및 안전 분야</td>\n",
              "    </tr>\n",
              "    <tr>\n",
              "      <th>7</th>\n",
              "      <td>과학기술 분야</td>\n",
              "      <td>결산</td>\n",
              "      <td>483</td>\n",
              "      <td>149.0</td>\n",
              "      <td>54.0</td>\n",
              "      <td>275.0</td>\n",
              "      <td>과학기술 분야</td>\n",
              "    </tr>\n",
              "    <tr>\n",
              "      <th>8</th>\n",
              "      <td>과학기술 분야</td>\n",
              "      <td>결산</td>\n",
              "      <td>447</td>\n",
              "      <td>65.0</td>\n",
              "      <td>53.0</td>\n",
              "      <td>431.0</td>\n",
              "      <td>과학기술 분야</td>\n",
              "    </tr>\n",
              "    <tr>\n",
              "      <th>9</th>\n",
              "      <td>과학기술 분야</td>\n",
              "      <td>결산</td>\n",
              "      <td>521</td>\n",
              "      <td>103.0</td>\n",
              "      <td>52.0</td>\n",
              "      <td>247.0</td>\n",
              "      <td>과학기술 분야</td>\n",
              "    </tr>\n",
              "  </tbody>\n",
              "</table>\n",
              "</div>"
            ],
            "text/plain": [
              "             연도   기준  민간_경상보조(억원)  민간_자본보조(억원)  지자체_경상보조(억원)  지자체_자본보조(억원)  \\\n",
              "0  공공질서 및 안전 분야   결산         1136         52.0         995.0       10178.0   \n",
              "1  공공질서 및 안전 분야   결산         1275          0.0         971.0        8947.0   \n",
              "2  공공질서 및 안전 분야   결산         1540          3.0         947.0        8569.0   \n",
              "3  공공질서 및 안전 분야   결산         1574          4.0        1006.0        8505.0   \n",
              "4  공공질서 및 안전 분야   결산         2178         39.0        1368.0       13508.0   \n",
              "5  공공질서 및 안전 분야  본예산         2397          8.0        1124.0        5504.0   \n",
              "6  공공질서 및 안전 분야  본예산         2558          2.0        1154.0       14514.0   \n",
              "7       과학기술 분야   결산          483        149.0          54.0         275.0   \n",
              "8       과학기술 분야   결산          447         65.0          53.0         431.0   \n",
              "9       과학기술 분야   결산          521        103.0          52.0         247.0   \n",
              "\n",
              "             분야  \n",
              "0  공공질서 및 안전 분야  \n",
              "1  공공질서 및 안전 분야  \n",
              "2  공공질서 및 안전 분야  \n",
              "3  공공질서 및 안전 분야  \n",
              "4  공공질서 및 안전 분야  \n",
              "5  공공질서 및 안전 분야  \n",
              "6  공공질서 및 안전 분야  \n",
              "7       과학기술 분야  \n",
              "8       과학기술 분야  \n",
              "9       과학기술 분야  "
            ]
          },
          "execution_count": 150,
          "metadata": {},
          "output_type": "execute_result"
        }
      ],
      "source": [
        "df['분야'] = [field for field in fields for i in range(7)]\n",
        "df.head(10)"
      ]
    },
    {
      "cell_type": "code",
      "execution_count": null,
      "id": "42dc256e",
      "metadata": {
        "id": "42dc256e",
        "outputId": "811eb47d-98c4-485a-9549-de441dcd79e9"
      },
      "outputs": [
        {
          "name": "stdout",
          "output_type": "stream",
          "text": [
            "                  민간_경상보조(억원)  민간_자본보조(억원)  지자체_경상보조(억원)  지자체_자본보조(억원)\n",
            "분야                                                                    \n",
            "과학기술 분야                  2823        394.0         416.0        1746.0\n",
            "교육 분야                   17461        201.0        7438.0        4814.0\n",
            "교통 및 물류 분야              79045      21634.0       12487.0      113100.0\n",
            "국방 분야                    6898         88.0           0.0         263.0\n",
            "국토 및 지역개발 분야             6148       1377.0        3660.0      108377.0\n",
            "농림수산 분야                126024      84678.0      190310.0      245347.0\n",
            "문화 및 관광 분야             165626       9325.0       28995.0      117032.0\n",
            "보건 분야                   25504       4794.0       68064.0       13469.0\n",
            "사회복지 분야                346489       3693.0     2388368.0       74598.0\n",
            "산업·중소기업 및 에너지 분야       204414       6707.0       25300.0       30802.0\n",
            "일반·지방행정 분야              10427        142.0       26920.0       31975.0\n",
            "통신 분야                   13577        430.0           0.0           0.0\n",
            "통일·외교 분야                23827          0.0         891.0         158.0\n",
            "환경 분야                    4734       2457.0       44821.0      320327.0\n"
          ]
        },
        {
          "data": {
            "text/plain": [
              "(array([-2.,  0.,  2.,  4.,  6.,  8., 10., 12., 14.]),\n",
              " [Text(-2.0, 0, '통일·외교 분야'),\n",
              "  Text(0.0, 0, '과학기술 분야'),\n",
              "  Text(2.0, 0, '교통 및 물류 분야'),\n",
              "  Text(4.0, 0, '국토 및 지역개발 분야'),\n",
              "  Text(6.0, 0, '문화 및 관광 분야'),\n",
              "  Text(8.0, 0, '사회복지 분야'),\n",
              "  Text(10.0, 0, '일반·지방행정 분야'),\n",
              "  Text(12.0, 0, '통일·외교 분야'),\n",
              "  Text(14.0, 0, '')])"
            ]
          },
          "execution_count": 180,
          "metadata": {},
          "output_type": "execute_result"
        },
        {
          "data": {
            "image/png": "[encoded data removed]",
            "text/plain": [
              "<Figure size 1008x288 with 1 Axes>"
            ]
          },
          "metadata": {
            "needs_background": "light"
          },
          "output_type": "display_data"
        }
      ],
      "source": [
        "gru = df.groupby('분야').sum().iloc[1:]\n",
        "print(gru)\n",
        "gru.plot(marker='o')\n",
        "plt.xticks(rotation=45)"
      ]
    },
    {
      "cell_type": "code",
      "execution_count": null,
      "id": "70558a52",
      "metadata": {
        "id": "70558a52",
        "outputId": "122516bd-a629-4d9c-b65c-8b99bdb54e67"
      },
      "outputs": [
        {
          "data": {
            "text/plain": [
              "Index(['연도', '기준', '민간_경상보조(억원)', '민간_자본보조(억원)', '지자체_경상보조(억원)',\n",
              "       '지자체_자본보조(억원)', '분야'],\n",
              "      dtype='object')"
            ]
          },
          "execution_count": 186,
          "metadata": {},
          "output_type": "execute_result"
        }
      ],
      "source": [
        "df.columns.unique()"
      ]
    },
    {
      "cell_type": "code",
      "execution_count": null,
      "id": "a0bf7cb2",
      "metadata": {
        "id": "a0bf7cb2",
        "outputId": "87922914-6ac2-4a65-8f40-c3a69ac3f0ce"
      },
      "outputs": [
        {
          "data": {
            "text/html": [
              "<div>\n",
              "<style scoped>\n",
              "    .dataframe tbody tr th:only-of-type {\n",
              "        vertical-align: middle;\n",
              "    }\n",
              "\n",
              "    .dataframe tbody tr th {\n",
              "        vertical-align: top;\n",
              "    }\n",
              "\n",
              "    .dataframe thead th {\n",
              "        text-align: right;\n",
              "    }\n",
              "</style>\n",
              "<table border=\"1\" class=\"dataframe\">\n",
              "  <thead>\n",
              "    <tr style=\"text-align: right;\">\n",
              "      <th></th>\n",
              "      <th>연도</th>\n",
              "      <th>기준</th>\n",
              "      <th>민간_경상보조(억원)</th>\n",
              "      <th>민간_자본보조(억원)</th>\n",
              "      <th>지자체_경상보조(억원)</th>\n",
              "      <th>지자체_자본보조(억원)</th>\n",
              "      <th>분야</th>\n",
              "    </tr>\n",
              "  </thead>\n",
              "  <tbody>\n",
              "    <tr>\n",
              "      <th>0</th>\n",
              "      <td>공공질서 및 안전 분야</td>\n",
              "      <td>결산</td>\n",
              "      <td>1136</td>\n",
              "      <td>52.0</td>\n",
              "      <td>995.0</td>\n",
              "      <td>10178.0</td>\n",
              "      <td>공공질서 및 안전 분야</td>\n",
              "    </tr>\n",
              "    <tr>\n",
              "      <th>1</th>\n",
              "      <td>공공질서 및 안전 분야</td>\n",
              "      <td>결산</td>\n",
              "      <td>1275</td>\n",
              "      <td>0.0</td>\n",
              "      <td>971.0</td>\n",
              "      <td>8947.0</td>\n",
              "      <td>공공질서 및 안전 분야</td>\n",
              "    </tr>\n",
              "    <tr>\n",
              "      <th>2</th>\n",
              "      <td>공공질서 및 안전 분야</td>\n",
              "      <td>결산</td>\n",
              "      <td>1540</td>\n",
              "      <td>3.0</td>\n",
              "      <td>947.0</td>\n",
              "      <td>8569.0</td>\n",
              "      <td>공공질서 및 안전 분야</td>\n",
              "    </tr>\n",
              "    <tr>\n",
              "      <th>3</th>\n",
              "      <td>공공질서 및 안전 분야</td>\n",
              "      <td>결산</td>\n",
              "      <td>1574</td>\n",
              "      <td>4.0</td>\n",
              "      <td>1006.0</td>\n",
              "      <td>8505.0</td>\n",
              "      <td>공공질서 및 안전 분야</td>\n",
              "    </tr>\n",
              "    <tr>\n",
              "      <th>4</th>\n",
              "      <td>공공질서 및 안전 분야</td>\n",
              "      <td>결산</td>\n",
              "      <td>2178</td>\n",
              "      <td>39.0</td>\n",
              "      <td>1368.0</td>\n",
              "      <td>13508.0</td>\n",
              "      <td>공공질서 및 안전 분야</td>\n",
              "    </tr>\n",
              "    <tr>\n",
              "      <th>...</th>\n",
              "      <td>...</td>\n",
              "      <td>...</td>\n",
              "      <td>...</td>\n",
              "      <td>...</td>\n",
              "      <td>...</td>\n",
              "      <td>...</td>\n",
              "      <td>...</td>\n",
              "    </tr>\n",
              "    <tr>\n",
              "      <th>100</th>\n",
              "      <td>환경 분야</td>\n",
              "      <td>결산</td>\n",
              "      <td>729</td>\n",
              "      <td>93.0</td>\n",
              "      <td>5359.0</td>\n",
              "      <td>41081.0</td>\n",
              "      <td>환경 분야</td>\n",
              "    </tr>\n",
              "    <tr>\n",
              "      <th>101</th>\n",
              "      <td>환경 분야</td>\n",
              "      <td>결산</td>\n",
              "      <td>579</td>\n",
              "      <td>161.0</td>\n",
              "      <td>5051.0</td>\n",
              "      <td>40278.0</td>\n",
              "      <td>환경 분야</td>\n",
              "    </tr>\n",
              "    <tr>\n",
              "      <th>102</th>\n",
              "      <td>환경 분야</td>\n",
              "      <td>결산</td>\n",
              "      <td>1157</td>\n",
              "      <td>611.0</td>\n",
              "      <td>6164.0</td>\n",
              "      <td>49276.0</td>\n",
              "      <td>환경 분야</td>\n",
              "    </tr>\n",
              "    <tr>\n",
              "      <th>103</th>\n",
              "      <td>환경 분야</td>\n",
              "      <td>본예산</td>\n",
              "      <td>538</td>\n",
              "      <td>402.0</td>\n",
              "      <td>6676.0</td>\n",
              "      <td>53193.0</td>\n",
              "      <td>환경 분야</td>\n",
              "    </tr>\n",
              "    <tr>\n",
              "      <th>104</th>\n",
              "      <td>환경 분야</td>\n",
              "      <td>본예산</td>\n",
              "      <td>508</td>\n",
              "      <td>936.0</td>\n",
              "      <td>10627.0</td>\n",
              "      <td>55100.0</td>\n",
              "      <td>환경 분야</td>\n",
              "    </tr>\n",
              "  </tbody>\n",
              "</table>\n",
              "<p>105 rows × 7 columns</p>\n",
              "</div>"
            ],
            "text/plain": [
              "               연도   기준  민간_경상보조(억원)  민간_자본보조(억원)  지자체_경상보조(억원)  지자체_자본보조(억원)  \\\n",
              "0    공공질서 및 안전 분야   결산         1136         52.0         995.0       10178.0   \n",
              "1    공공질서 및 안전 분야   결산         1275          0.0         971.0        8947.0   \n",
              "2    공공질서 및 안전 분야   결산         1540          3.0         947.0        8569.0   \n",
              "3    공공질서 및 안전 분야   결산         1574          4.0        1006.0        8505.0   \n",
              "4    공공질서 및 안전 분야   결산         2178         39.0        1368.0       13508.0   \n",
              "..            ...  ...          ...          ...           ...           ...   \n",
              "100         환경 분야   결산          729         93.0        5359.0       41081.0   \n",
              "101         환경 분야   결산          579        161.0        5051.0       40278.0   \n",
              "102         환경 분야   결산         1157        611.0        6164.0       49276.0   \n",
              "103         환경 분야  본예산          538        402.0        6676.0       53193.0   \n",
              "104         환경 분야  본예산          508        936.0       10627.0       55100.0   \n",
              "\n",
              "               분야  \n",
              "0    공공질서 및 안전 분야  \n",
              "1    공공질서 및 안전 분야  \n",
              "2    공공질서 및 안전 분야  \n",
              "3    공공질서 및 안전 분야  \n",
              "4    공공질서 및 안전 분야  \n",
              "..            ...  \n",
              "100         환경 분야  \n",
              "101         환경 분야  \n",
              "102         환경 분야  \n",
              "103         환경 분야  \n",
              "104         환경 분야  \n",
              "\n",
              "[105 rows x 7 columns]"
            ]
          },
          "execution_count": 156,
          "metadata": {},
          "output_type": "execute_result"
        }
      ],
      "source": [
        "df"
      ]
    },
    {
      "cell_type": "code",
      "execution_count": null,
      "id": "b1ba619e",
      "metadata": {
        "id": "b1ba619e"
      },
      "outputs": [],
      "source": [
        "df_1=df.groupby('분야').sum()\n",
        "df_2=df.groupby('분야').mean()"
      ]
    },
    {
      "cell_type": "code",
      "execution_count": null,
      "id": "0943d170",
      "metadata": {
        "id": "0943d170"
      },
      "outputs": [],
      "source": [
        "df_3 = df.corr()"
      ]
    },
    {
      "cell_type": "code",
      "execution_count": null,
      "id": "1f048f18",
      "metadata": {
        "id": "1f048f18",
        "outputId": "8063f831-04fc-4b52-b900-0c0569854780"
      },
      "outputs": [
        {
          "data": {
            "text/plain": [
              "<AxesSubplot:>"
            ]
          },
          "execution_count": 177,
          "metadata": {},
          "output_type": "execute_result"
        },
        {
          "data": {
            "image/png": "[encoded data removed]",
            "text/plain": [
              "<Figure size 1008x288 with 2 Axes>"
            ]
          },
          "metadata": {
            "needs_background": "light"
          },
          "output_type": "display_data"
        }
      ],
      "source": [
        "sns.heatmap(df_3,annot=True)"
      ]
    }
  ],
  "metadata": {
    "kernelspec": {
      "display_name": "Python 3 (ipykernel)",
      "language": "python",
      "name": "python3"
    },
    "language_info": {
      "codemirror_mode": {
        "name": "ipython",
        "version": 3
      },
      "file_extension": ".py",
      "mimetype": "text/x-python",
      "name": "python",
      "nbconvert_exporter": "python",
      "pygments_lexer": "ipython3",
      "version": "3.9.7"
    },
    "colab": {
      "name": "혼자 해보는 데이터 시각화.ipynb",
      "provenance": [],
      "include_colab_link": true
    }
  },
  "nbformat": 4,
  "nbformat_minor": 5
}