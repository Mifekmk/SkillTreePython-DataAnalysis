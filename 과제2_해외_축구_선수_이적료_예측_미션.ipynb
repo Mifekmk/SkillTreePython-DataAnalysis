{
  "nbformat": 4,
  "nbformat_minor": 0,
  "metadata": {
    "colab": {
      "name": "과제2: 해외 축구 선수 이적료 예측 미션.ipynb",
      "provenance": [],
      "collapsed_sections": [],
      "authorship_tag": "ABX9TyOIO9OSb5gF5K/Icf1v5NMQ",
      "include_colab_link": true
    },
    "kernelspec": {
      "name": "python3",
      "display_name": "Python 3"
    },
    "language_info": {
      "name": "python"
    }
  },
  "cells": [
    {
      "cell_type": "markdown",
      "metadata": {
        "id": "view-in-github",
        "colab_type": "text"
      },
      "source": [
        "<a href=\"https://colab.research.google.com/github/Mifekmk/SkillTreePython-DataAnalysis/blob/main/%EA%B3%BC%EC%A0%9C2_%ED%95%B4%EC%99%B8_%EC%B6%95%EA%B5%AC_%EC%84%A0%EC%88%98_%EC%9D%B4%EC%A0%81%EB%A3%8C_%EC%98%88%EC%B8%A1_%EB%AF%B8%EC%85%98.ipynb\" target=\"_parent\"><img src=\"https://colab.research.google.com/assets/colab-badge.svg\" alt=\"Open In Colab\"/></a>"
      ]
    },
    {
      "cell_type": "code",
      "execution_count": null,
      "metadata": {
        "colab": {
          "base_uri": "https://localhost:8080/"
        },
        "id": "V0mPI8_Ul-Jj",
        "outputId": "cfa819dc-be6c-42cf-9a5e-85e125a36a6f"
      },
      "outputs": [
        {
          "output_type": "stream",
          "name": "stdout",
          "text": [
            "(3828, 11) (8932, 12) (3828, 2)\n",
            "id 8932\n",
            "name 8932\n",
            "age 25\n",
            "continent 5\n",
            "contract_until 17\n",
            "position 4\n",
            "prefer_foot 2\n",
            "reputation 5\n",
            "stat_overall 46\n",
            "stat_potential 45\n",
            "stat_skill_moves 5\n",
            "value 198\n"
          ]
        }
      ],
      "source": [
        "import pandas as pd\n",
        "import csv\n",
        "import numpy as np\n",
        "import pandas as pd\n",
        "import seaborn as sns\n",
        "import matplotlib.pyplot as plt\n",
        "\n",
        "test=pd.read_csv('/content/FIFA_test.csv', encoding='utf-8')\n",
        "train = pd.read_csv('/content/FIFA_train.csv', encoding='utf-8')\n",
        "submission = pd.read_csv('/content/submission.csv',encoding='utf-8')\n",
        "print(test.shape, train.shape, submission.shape)\n",
        "\n",
        "for col in train.columns:\n",
        "  n_unique = len(train[col].unique()) # 고유값 개수\n",
        "  print( col, n_unique ) # 컬럼명과 고유값 개수 출력"
      ]
    },
    {
      "cell_type": "code",
      "source": [
        "train.info()"
      ],
      "metadata": {
        "colab": {
          "base_uri": "https://localhost:8080/"
        },
        "id": "e0ssKcBQmosL",
        "outputId": "581ce0e7-b2fd-4ee2-8cc3-d3dfe2519273"
      },
      "execution_count": null,
      "outputs": [
        {
          "output_type": "stream",
          "name": "stdout",
          "text": [
            "<class 'pandas.core.frame.DataFrame'>\n",
            "RangeIndex: 8932 entries, 0 to 8931\n",
            "Data columns (total 12 columns):\n",
            " #   Column            Non-Null Count  Dtype  \n",
            "---  ------            --------------  -----  \n",
            " 0   id                8932 non-null   int64  \n",
            " 1   name              8932 non-null   object \n",
            " 2   age               8932 non-null   int64  \n",
            " 3   continent         8932 non-null   object \n",
            " 4   contract_until    8932 non-null   object \n",
            " 5   position          8932 non-null   object \n",
            " 6   prefer_foot       8932 non-null   object \n",
            " 7   reputation        8932 non-null   float64\n",
            " 8   stat_overall      8932 non-null   int64  \n",
            " 9   stat_potential    8932 non-null   int64  \n",
            " 10  stat_skill_moves  8932 non-null   float64\n",
            " 11  value             8932 non-null   float64\n",
            "dtypes: float64(3), int64(4), object(5)\n",
            "memory usage: 837.5+ KB\n"
          ]
        }
      ]
    },
    {
      "cell_type": "code",
      "source": [
        "train.corr().style.background_gradient(cmap='Blues_r')"
      ],
      "metadata": {
        "colab": {
          "base_uri": "https://localhost:8080/",
          "height": 269
        },
        "id": "ppKKQdVbwRB5",
        "outputId": "18e193ef-cd67-449c-e137-657284f2f602"
      },
      "execution_count": null,
      "outputs": [
        {
          "output_type": "execute_result",
          "data": {
            "text/plain": [
              "<pandas.io.formats.style.Styler at 0x7f4ab18b8290>"
            ],
            "text/html": [
              "<style type=\"text/css\">\n",
              "#T_fcc0d_row0_col0, #T_fcc0d_row1_col1, #T_fcc0d_row2_col2, #T_fcc0d_row3_col3, #T_fcc0d_row4_col4, #T_fcc0d_row5_col5, #T_fcc0d_row6_col6 {\n",
              "  background-color: #f7fbff;\n",
              "  color: #000000;\n",
              "}\n",
              "#T_fcc0d_row0_col1, #T_fcc0d_row0_col2, #T_fcc0d_row0_col3, #T_fcc0d_row0_col4, #T_fcc0d_row0_col5, #T_fcc0d_row0_col6, #T_fcc0d_row3_col0 {\n",
              "  background-color: #08306b;\n",
              "  color: #f1f1f1;\n",
              "}\n",
              "#T_fcc0d_row1_col0 {\n",
              "  background-color: #2171b5;\n",
              "  color: #f1f1f1;\n",
              "}\n",
              "#T_fcc0d_row1_col2 {\n",
              "  background-color: #65aad4;\n",
              "  color: #f1f1f1;\n",
              "}\n",
              "#T_fcc0d_row1_col3 {\n",
              "  background-color: #bfd8ed;\n",
              "  color: #000000;\n",
              "}\n",
              "#T_fcc0d_row1_col4 {\n",
              "  background-color: #206fb4;\n",
              "  color: #f1f1f1;\n",
              "}\n",
              "#T_fcc0d_row1_col5 {\n",
              "  background-color: #3282be;\n",
              "  color: #f1f1f1;\n",
              "}\n",
              "#T_fcc0d_row1_col6 {\n",
              "  background-color: #4d99ca;\n",
              "  color: #f1f1f1;\n",
              "}\n",
              "#T_fcc0d_row2_col0 {\n",
              "  background-color: #2979b9;\n",
              "  color: #f1f1f1;\n",
              "}\n",
              "#T_fcc0d_row2_col1 {\n",
              "  background-color: #6caed6;\n",
              "  color: #f1f1f1;\n",
              "}\n",
              "#T_fcc0d_row2_col3 {\n",
              "  background-color: #c7dcef;\n",
              "  color: #000000;\n",
              "}\n",
              "#T_fcc0d_row2_col4 {\n",
              "  background-color: #a0cbe2;\n",
              "  color: #000000;\n",
              "}\n",
              "#T_fcc0d_row2_col5 {\n",
              "  background-color: #539ecd;\n",
              "  color: #f1f1f1;\n",
              "}\n",
              "#T_fcc0d_row2_col6 {\n",
              "  background-color: #cddff1;\n",
              "  color: #000000;\n",
              "}\n",
              "#T_fcc0d_row3_col1 {\n",
              "  background-color: #a3cce3;\n",
              "  color: #000000;\n",
              "}\n",
              "#T_fcc0d_row3_col2 {\n",
              "  background-color: #aacfe5;\n",
              "  color: #000000;\n",
              "}\n",
              "#T_fcc0d_row3_col4 {\n",
              "  background-color: #cfe1f2;\n",
              "  color: #000000;\n",
              "}\n",
              "#T_fcc0d_row3_col5 {\n",
              "  background-color: #89bedc;\n",
              "  color: #000000;\n",
              "}\n",
              "#T_fcc0d_row3_col6 {\n",
              "  background-color: #ccdff1;\n",
              "  color: #000000;\n",
              "}\n",
              "#T_fcc0d_row4_col0 {\n",
              "  background-color: #125da6;\n",
              "  color: #f1f1f1;\n",
              "}\n",
              "#T_fcc0d_row4_col1 {\n",
              "  background-color: #105ba4;\n",
              "  color: #f1f1f1;\n",
              "}\n",
              "#T_fcc0d_row4_col2 {\n",
              "  background-color: #8abfdd;\n",
              "  color: #000000;\n",
              "}\n",
              "#T_fcc0d_row4_col3 {\n",
              "  background-color: #d6e5f4;\n",
              "  color: #000000;\n",
              "}\n",
              "#T_fcc0d_row4_col5 {\n",
              "  background-color: #75b4d8;\n",
              "  color: #000000;\n",
              "}\n",
              "#T_fcc0d_row4_col6 {\n",
              "  background-color: #c6dbef;\n",
              "  color: #000000;\n",
              "}\n",
              "#T_fcc0d_row5_col0 {\n",
              "  background-color: #2b7bba;\n",
              "  color: #f1f1f1;\n",
              "}\n",
              "#T_fcc0d_row5_col1 {\n",
              "  background-color: #3b8bc2;\n",
              "  color: #f1f1f1;\n",
              "}\n",
              "#T_fcc0d_row5_col2 {\n",
              "  background-color: #56a0ce;\n",
              "  color: #f1f1f1;\n",
              "}\n",
              "#T_fcc0d_row5_col3 {\n",
              "  background-color: #b5d4e9;\n",
              "  color: #000000;\n",
              "}\n",
              "#T_fcc0d_row5_col4 {\n",
              "  background-color: #91c3de;\n",
              "  color: #000000;\n",
              "}\n",
              "#T_fcc0d_row5_col6 {\n",
              "  background-color: #7db8da;\n",
              "  color: #000000;\n",
              "}\n",
              "#T_fcc0d_row6_col0 {\n",
              "  background-color: #1a68ae;\n",
              "  color: #f1f1f1;\n",
              "}\n",
              "#T_fcc0d_row6_col1 {\n",
              "  background-color: #4493c7;\n",
              "  color: #f1f1f1;\n",
              "}\n",
              "#T_fcc0d_row6_col2, #T_fcc0d_row6_col4 {\n",
              "  background-color: #c9ddf0;\n",
              "  color: #000000;\n",
              "}\n",
              "#T_fcc0d_row6_col3 {\n",
              "  background-color: #d5e5f4;\n",
              "  color: #000000;\n",
              "}\n",
              "#T_fcc0d_row6_col5 {\n",
              "  background-color: #6aaed6;\n",
              "  color: #f1f1f1;\n",
              "}\n",
              "</style>\n",
              "<table id=\"T_fcc0d_\" class=\"dataframe\">\n",
              "  <thead>\n",
              "    <tr>\n",
              "      <th class=\"blank level0\" >&nbsp;</th>\n",
              "      <th class=\"col_heading level0 col0\" >id</th>\n",
              "      <th class=\"col_heading level0 col1\" >age</th>\n",
              "      <th class=\"col_heading level0 col2\" >reputation</th>\n",
              "      <th class=\"col_heading level0 col3\" >stat_overall</th>\n",
              "      <th class=\"col_heading level0 col4\" >stat_potential</th>\n",
              "      <th class=\"col_heading level0 col5\" >stat_skill_moves</th>\n",
              "      <th class=\"col_heading level0 col6\" >value</th>\n",
              "    </tr>\n",
              "  </thead>\n",
              "  <tbody>\n",
              "    <tr>\n",
              "      <th id=\"T_fcc0d_level0_row0\" class=\"row_heading level0 row0\" >id</th>\n",
              "      <td id=\"T_fcc0d_row0_col0\" class=\"data row0 col0\" >1.000000</td>\n",
              "      <td id=\"T_fcc0d_row0_col1\" class=\"data row0 col1\" >-0.475785</td>\n",
              "      <td id=\"T_fcc0d_row0_col2\" class=\"data row0 col2\" >-0.423739</td>\n",
              "      <td id=\"T_fcc0d_row0_col3\" class=\"data row0 col3\" >-0.972374</td>\n",
              "      <td id=\"T_fcc0d_row0_col4\" class=\"data row0 col4\" >-0.630199</td>\n",
              "      <td id=\"T_fcc0d_row0_col5\" class=\"data row0 col5\" >-0.402455</td>\n",
              "      <td id=\"T_fcc0d_row0_col6\" class=\"data row0 col6\" >-0.544280</td>\n",
              "    </tr>\n",
              "    <tr>\n",
              "      <th id=\"T_fcc0d_level0_row1\" class=\"row_heading level0 row1\" >age</th>\n",
              "      <td id=\"T_fcc0d_row1_col0\" class=\"data row1 col0\" >-0.475785</td>\n",
              "      <td id=\"T_fcc0d_row1_col1\" class=\"data row1 col1\" >1.000000</td>\n",
              "      <td id=\"T_fcc0d_row1_col2\" class=\"data row1 col2\" >0.263468</td>\n",
              "      <td id=\"T_fcc0d_row1_col3\" class=\"data row1 col3\" >0.467345</td>\n",
              "      <td id=\"T_fcc0d_row1_col4\" class=\"data row1 col4\" >-0.231303</td>\n",
              "      <td id=\"T_fcc0d_row1_col5\" class=\"data row1 col5\" >0.039362</td>\n",
              "      <td id=\"T_fcc0d_row1_col6\" class=\"data row1 col6\" >0.087319</td>\n",
              "    </tr>\n",
              "    <tr>\n",
              "      <th id=\"T_fcc0d_level0_row2\" class=\"row_heading level0 row2\" >reputation</th>\n",
              "      <td id=\"T_fcc0d_row2_col0\" class=\"data row2 col0\" >-0.423739</td>\n",
              "      <td id=\"T_fcc0d_row2_col1\" class=\"data row2 col1\" >0.263468</td>\n",
              "      <td id=\"T_fcc0d_row2_col2\" class=\"data row2 col2\" >1.000000</td>\n",
              "      <td id=\"T_fcc0d_row2_col3\" class=\"data row2 col3\" >0.521389</td>\n",
              "      <td id=\"T_fcc0d_row2_col4\" class=\"data row2 col4\" >0.399183</td>\n",
              "      <td id=\"T_fcc0d_row2_col5\" class=\"data row2 col5\" >0.196582</td>\n",
              "      <td id=\"T_fcc0d_row2_col6\" class=\"data row2 col6\" >0.665982</td>\n",
              "    </tr>\n",
              "    <tr>\n",
              "      <th id=\"T_fcc0d_level0_row3\" class=\"row_heading level0 row3\" >stat_overall</th>\n",
              "      <td id=\"T_fcc0d_row3_col0\" class=\"data row3 col0\" >-0.972374</td>\n",
              "      <td id=\"T_fcc0d_row3_col1\" class=\"data row3 col1\" >0.467345</td>\n",
              "      <td id=\"T_fcc0d_row3_col2\" class=\"data row3 col2\" >0.521389</td>\n",
              "      <td id=\"T_fcc0d_row3_col3\" class=\"data row3 col3\" >1.000000</td>\n",
              "      <td id=\"T_fcc0d_row3_col4\" class=\"data row3 col4\" >0.665453</td>\n",
              "      <td id=\"T_fcc0d_row3_col5\" class=\"data row3 col5\" >0.400164</td>\n",
              "      <td id=\"T_fcc0d_row3_col6\" class=\"data row3 col6\" >0.658444</td>\n",
              "    </tr>\n",
              "    <tr>\n",
              "      <th id=\"T_fcc0d_level0_row4\" class=\"row_heading level0 row4\" >stat_potential</th>\n",
              "      <td id=\"T_fcc0d_row4_col0\" class=\"data row4 col0\" >-0.630199</td>\n",
              "      <td id=\"T_fcc0d_row4_col1\" class=\"data row4 col1\" >-0.231303</td>\n",
              "      <td id=\"T_fcc0d_row4_col2\" class=\"data row4 col2\" >0.399183</td>\n",
              "      <td id=\"T_fcc0d_row4_col3\" class=\"data row4 col3\" >0.665453</td>\n",
              "      <td id=\"T_fcc0d_row4_col4\" class=\"data row4 col4\" >1.000000</td>\n",
              "      <td id=\"T_fcc0d_row4_col5\" class=\"data row4 col5\" >0.332578</td>\n",
              "      <td id=\"T_fcc0d_row4_col6\" class=\"data row4 col6\" >0.611907</td>\n",
              "    </tr>\n",
              "    <tr>\n",
              "      <th id=\"T_fcc0d_level0_row5\" class=\"row_heading level0 row5\" >stat_skill_moves</th>\n",
              "      <td id=\"T_fcc0d_row5_col0\" class=\"data row5 col0\" >-0.402455</td>\n",
              "      <td id=\"T_fcc0d_row5_col1\" class=\"data row5 col1\" >0.039362</td>\n",
              "      <td id=\"T_fcc0d_row5_col2\" class=\"data row5 col2\" >0.196582</td>\n",
              "      <td id=\"T_fcc0d_row5_col3\" class=\"data row5 col3\" >0.400164</td>\n",
              "      <td id=\"T_fcc0d_row5_col4\" class=\"data row5 col4\" >0.332578</td>\n",
              "      <td id=\"T_fcc0d_row5_col5\" class=\"data row5 col5\" >1.000000</td>\n",
              "      <td id=\"T_fcc0d_row5_col6\" class=\"data row5 col6\" >0.298500</td>\n",
              "    </tr>\n",
              "    <tr>\n",
              "      <th id=\"T_fcc0d_level0_row6\" class=\"row_heading level0 row6\" >value</th>\n",
              "      <td id=\"T_fcc0d_row6_col0\" class=\"data row6 col0\" >-0.544280</td>\n",
              "      <td id=\"T_fcc0d_row6_col1\" class=\"data row6 col1\" >0.087319</td>\n",
              "      <td id=\"T_fcc0d_row6_col2\" class=\"data row6 col2\" >0.665982</td>\n",
              "      <td id=\"T_fcc0d_row6_col3\" class=\"data row6 col3\" >0.658444</td>\n",
              "      <td id=\"T_fcc0d_row6_col4\" class=\"data row6 col4\" >0.611907</td>\n",
              "      <td id=\"T_fcc0d_row6_col5\" class=\"data row6 col5\" >0.298500</td>\n",
              "      <td id=\"T_fcc0d_row6_col6\" class=\"data row6 col6\" >1.000000</td>\n",
              "    </tr>\n",
              "  </tbody>\n",
              "</table>\n"
            ]
          },
          "metadata": {},
          "execution_count": 49
        }
      ]
    },
    {
      "cell_type": "markdown",
      "source": [
        "# reputation과 stat_overall이 상관관계를 가집니다."
      ],
      "metadata": {
        "id": "KwXqIlM9wmCi"
      }
    },
    {
      "cell_type": "code",
      "source": [
        "train.drop(['id','name'],axis=1,inplace=True) # 필요없는 데이터 삭제\n",
        "test.drop(['id','name'],axis=1, inplace=True)"
      ],
      "metadata": {
        "id": "9fujEeemne56"
      },
      "execution_count": null,
      "outputs": []
    },
    {
      "cell_type": "code",
      "source": [
        "train.contract_until.value_counts() # 계약기간 값들을 정렬할 수 있습니다.\n",
        "# value_counts()는 각 종류별로 몇 개의 데이터가 있는지 세어주는 것입니다."
      ],
      "metadata": {
        "colab": {
          "base_uri": "https://localhost:8080/"
        },
        "id": "YIzxdQwYoBHC",
        "outputId": "a2033a6f-472a-460e-ea50-a56fead16a11"
      },
      "execution_count": null,
      "outputs": [
        {
          "output_type": "execute_result",
          "data": {
            "text/plain": [
              "2019            2366\n",
              "2021            2308\n",
              "2020            2041\n",
              "2022             761\n",
              "2023             506\n",
              "Jun 30, 2019     501\n",
              "2018             327\n",
              "Dec 31, 2018      64\n",
              "May 31, 2019      19\n",
              "2024              12\n",
              "Jan 31, 2019      10\n",
              "Jun 30, 2020       9\n",
              "2025               3\n",
              "Jan 1, 2019        2\n",
              "2026               1\n",
              "May 31, 2020       1\n",
              "Jan 12, 2019       1\n",
              "Name: contract_until, dtype: int64"
            ]
          },
          "metadata": {},
          "execution_count": 51
        }
      ]
    },
    {
      "cell_type": "code",
      "source": [
        "# 계약 연도만 추출\n",
        "def func(string:object) -> int:\n",
        "    \"\"\"계약 연도만 추출하여 int로 반환\"\"\"\n",
        "    string = string[-4:] # 계약연도가 보통 제일 끝에 있으므로 or 단독으로 쓰이므로 뒤에서 4번째부터 가지고 와줍니다.\n",
        "    return int(string)\n",
        "\n",
        "train['contract_until'] = train['contract_until'].apply(func)\n",
        "test['contract_until'] = test['contract_until'].apply(func)"
      ],
      "metadata": {
        "id": "8B8eei7togID"
      },
      "execution_count": null,
      "outputs": []
    },
    {
      "cell_type": "code",
      "source": [
        "train.info(),test.info()"
      ],
      "metadata": {
        "colab": {
          "base_uri": "https://localhost:8080/"
        },
        "id": "aBRHwo3nopqU",
        "outputId": "2aeb78f5-bbb7-4198-c8fc-bd012949cef4"
      },
      "execution_count": null,
      "outputs": [
        {
          "output_type": "stream",
          "name": "stdout",
          "text": [
            "<class 'pandas.core.frame.DataFrame'>\n",
            "RangeIndex: 8932 entries, 0 to 8931\n",
            "Data columns (total 10 columns):\n",
            " #   Column            Non-Null Count  Dtype  \n",
            "---  ------            --------------  -----  \n",
            " 0   age               8932 non-null   int64  \n",
            " 1   continent         8932 non-null   object \n",
            " 2   contract_until    8932 non-null   int64  \n",
            " 3   position          8932 non-null   object \n",
            " 4   prefer_foot       8932 non-null   object \n",
            " 5   reputation        8932 non-null   float64\n",
            " 6   stat_overall      8932 non-null   int64  \n",
            " 7   stat_potential    8932 non-null   int64  \n",
            " 8   stat_skill_moves  8932 non-null   float64\n",
            " 9   value             8932 non-null   float64\n",
            "dtypes: float64(3), int64(4), object(3)\n",
            "memory usage: 697.9+ KB\n",
            "<class 'pandas.core.frame.DataFrame'>\n",
            "RangeIndex: 3828 entries, 0 to 3827\n",
            "Data columns (total 9 columns):\n",
            " #   Column            Non-Null Count  Dtype  \n",
            "---  ------            --------------  -----  \n",
            " 0   age               3828 non-null   int64  \n",
            " 1   continent         3828 non-null   object \n",
            " 2   contract_until    3828 non-null   int64  \n",
            " 3   position          3828 non-null   object \n",
            " 4   prefer_foot       3828 non-null   object \n",
            " 5   reputation        3828 non-null   float64\n",
            " 6   stat_overall      3828 non-null   int64  \n",
            " 7   stat_potential    3828 non-null   int64  \n",
            " 8   stat_skill_moves  3828 non-null   float64\n",
            "dtypes: float64(2), int64(4), object(3)\n",
            "memory usage: 269.3+ KB\n"
          ]
        },
        {
          "output_type": "execute_result",
          "data": {
            "text/plain": [
              "(None, None)"
            ]
          },
          "metadata": {},
          "execution_count": 53
        }
      ]
    },
    {
      "cell_type": "code",
      "source": [
        "# 문자형 변수 label 인코딩 진행\n",
        "train['continent']=train['continent'].astype('category').cat.codes\n",
        "test['continent'] = test['continent'].astype('category').cat.codes\n",
        "\n",
        "train['position'] = train['position'].astype('category').cat.codes\n",
        "test['position'] = test['position'].astype('category').cat.codes\n",
        "\n",
        "train['prefer_foot'] = train['prefer_foot'].astype('category').cat.codes\n",
        "test['prefer_foot'] = test['prefer_foot'].astype('category').cat.codes"
      ],
      "metadata": {
        "id": "ZsXa1juRplOK"
      },
      "execution_count": null,
      "outputs": []
    },
    {
      "cell_type": "code",
      "source": [
        "train.info(), test.info()\n",
        "\n",
        "from sklearn.model_selection import train_test_split\n",
        "X = train.drop(['value'],axis=1)\n",
        "y = train['value']\n",
        "\n",
        "# train_test_split\n",
        "X_train, X_test, y_train, y_test = train_test_split(X, y, test_size=0.2)"
      ],
      "metadata": {
        "colab": {
          "base_uri": "https://localhost:8080/"
        },
        "id": "lEUKxyYdp6Oz",
        "outputId": "3e7e6314-b98d-41a0-cef2-4b00fd02b2c9"
      },
      "execution_count": null,
      "outputs": [
        {
          "output_type": "stream",
          "name": "stdout",
          "text": [
            "<class 'pandas.core.frame.DataFrame'>\n",
            "RangeIndex: 8932 entries, 0 to 8931\n",
            "Data columns (total 10 columns):\n",
            " #   Column            Non-Null Count  Dtype  \n",
            "---  ------            --------------  -----  \n",
            " 0   age               8932 non-null   int64  \n",
            " 1   continent         8932 non-null   int8   \n",
            " 2   contract_until    8932 non-null   int64  \n",
            " 3   position          8932 non-null   int8   \n",
            " 4   prefer_foot       8932 non-null   int8   \n",
            " 5   reputation        8932 non-null   float64\n",
            " 6   stat_overall      8932 non-null   int64  \n",
            " 7   stat_potential    8932 non-null   int64  \n",
            " 8   stat_skill_moves  8932 non-null   float64\n",
            " 9   value             8932 non-null   float64\n",
            "dtypes: float64(3), int64(4), int8(3)\n",
            "memory usage: 514.8 KB\n",
            "<class 'pandas.core.frame.DataFrame'>\n",
            "RangeIndex: 3828 entries, 0 to 3827\n",
            "Data columns (total 9 columns):\n",
            " #   Column            Non-Null Count  Dtype  \n",
            "---  ------            --------------  -----  \n",
            " 0   age               3828 non-null   int64  \n",
            " 1   continent         3828 non-null   int8   \n",
            " 2   contract_until    3828 non-null   int64  \n",
            " 3   position          3828 non-null   int8   \n",
            " 4   prefer_foot       3828 non-null   int8   \n",
            " 5   reputation        3828 non-null   float64\n",
            " 6   stat_overall      3828 non-null   int64  \n",
            " 7   stat_potential    3828 non-null   int64  \n",
            " 8   stat_skill_moves  3828 non-null   float64\n",
            "dtypes: float64(2), int64(4), int8(3)\n",
            "memory usage: 190.8 KB\n"
          ]
        }
      ]
    },
    {
      "cell_type": "code",
      "source": [
        "f, axes = plt.subplots(3,3, figsize=(30,10)) # 변수가 10개 이므로 subplots을 (2,5) 로 설정해주었습니다.\n",
        "axes = axes.flatten()\n",
        "for col,ax in zip(X.columns, axes):\n",
        "    sns.histplot(data = X, x=col, ax=ax, alpha=0.6, kde=True)\n",
        "plt.show()"
      ],
      "metadata": {
        "colab": {
          "base_uri": "https://localhost:8080/",
          "height": 338
        },
        "id": "XAGFaY_bsOXU",
        "outputId": "30376903-01f7-4816-d415-104370a87d71"
      },
      "execution_count": null,
      "outputs": [
        {
          "output_type": "display_data",
          "data": {
            "text/plain": [
              "<Figure size 2160x720 with 9 Axes>"
            ],
            "image/png": "[encoded data removed]"
          },
          "metadata": {
            "needs_background": "light"
          }
        }
      ]
    },
    {
      "cell_type": "code",
      "source": [
        "X.corr().style.background_gradient(cmap='Blues')"
      ],
      "metadata": {
        "colab": {
          "base_uri": "https://localhost:8080/",
          "height": 351
        },
        "id": "0hEb5WtntVME",
        "outputId": "e791d0d7-5e2a-4a33-92eb-7dd7da78c19e"
      },
      "execution_count": null,
      "outputs": [
        {
          "output_type": "execute_result",
          "data": {
            "text/plain": [
              "<pandas.io.formats.style.Styler at 0x7f4ab15e0a50>"
            ],
            "text/html": [
              "<style type=\"text/css\">\n",
              "#T_8aeda_row0_col0, #T_8aeda_row1_col1, #T_8aeda_row2_col2, #T_8aeda_row3_col3, #T_8aeda_row4_col4, #T_8aeda_row5_col5, #T_8aeda_row6_col6, #T_8aeda_row7_col7, #T_8aeda_row8_col8 {\n",
              "  background-color: #08306b;\n",
              "  color: #f1f1f1;\n",
              "}\n",
              "#T_8aeda_row0_col1 {\n",
              "  background-color: #e2edf8;\n",
              "  color: #000000;\n",
              "}\n",
              "#T_8aeda_row0_col2, #T_8aeda_row0_col3, #T_8aeda_row0_col7, #T_8aeda_row3_col1, #T_8aeda_row4_col1, #T_8aeda_row4_col5, #T_8aeda_row4_col6, #T_8aeda_row4_col8, #T_8aeda_row7_col0, #T_8aeda_row8_col4 {\n",
              "  background-color: #f7fbff;\n",
              "  color: #000000;\n",
              "}\n",
              "#T_8aeda_row0_col4, #T_8aeda_row5_col3, #T_8aeda_row5_col4 {\n",
              "  background-color: #e3eef8;\n",
              "  color: #000000;\n",
              "}\n",
              "#T_8aeda_row0_col5 {\n",
              "  background-color: #c3daee;\n",
              "  color: #000000;\n",
              "}\n",
              "#T_8aeda_row0_col6 {\n",
              "  background-color: #71b1d7;\n",
              "  color: #f1f1f1;\n",
              "}\n",
              "#T_8aeda_row0_col8, #T_8aeda_row3_col2 {\n",
              "  background-color: #dceaf6;\n",
              "  color: #000000;\n",
              "}\n",
              "#T_8aeda_row1_col0 {\n",
              "  background-color: #c2d9ee;\n",
              "  color: #000000;\n",
              "}\n",
              "#T_8aeda_row1_col2 {\n",
              "  background-color: #d9e7f5;\n",
              "  color: #000000;\n",
              "}\n",
              "#T_8aeda_row1_col3 {\n",
              "  background-color: #ecf4fb;\n",
              "  color: #000000;\n",
              "}\n",
              "#T_8aeda_row1_col4, #T_8aeda_row2_col0 {\n",
              "  background-color: #e7f1fa;\n",
              "  color: #000000;\n",
              "}\n",
              "#T_8aeda_row1_col5 {\n",
              "  background-color: #f5fafe;\n",
              "  color: #000000;\n",
              "}\n",
              "#T_8aeda_row1_col6 {\n",
              "  background-color: #ddeaf7;\n",
              "  color: #000000;\n",
              "}\n",
              "#T_8aeda_row1_col7 {\n",
              "  background-color: #c7dbef;\n",
              "  color: #000000;\n",
              "}\n",
              "#T_8aeda_row1_col8, #T_8aeda_row4_col2 {\n",
              "  background-color: #e1edf8;\n",
              "  color: #000000;\n",
              "}\n",
              "#T_8aeda_row2_col1 {\n",
              "  background-color: #ebf3fb;\n",
              "  color: #000000;\n",
              "}\n",
              "#T_8aeda_row2_col3, #T_8aeda_row7_col1 {\n",
              "  background-color: #e5eff9;\n",
              "  color: #000000;\n",
              "}\n",
              "#T_8aeda_row2_col4 {\n",
              "  background-color: #e4eff9;\n",
              "  color: #000000;\n",
              "}\n",
              "#T_8aeda_row2_col5 {\n",
              "  background-color: #eaf2fb;\n",
              "  color: #000000;\n",
              "}\n",
              "#T_8aeda_row2_col6 {\n",
              "  background-color: #d3e3f3;\n",
              "  color: #000000;\n",
              "}\n",
              "#T_8aeda_row2_col7, #T_8aeda_row7_col5, #T_8aeda_row7_col8 {\n",
              "  background-color: #95c5df;\n",
              "  color: #000000;\n",
              "}\n",
              "#T_8aeda_row2_col8 {\n",
              "  background-color: #d5e5f4;\n",
              "  color: #000000;\n",
              "}\n",
              "#T_8aeda_row3_col0 {\n",
              "  background-color: #dfebf7;\n",
              "  color: #000000;\n",
              "}\n",
              "#T_8aeda_row3_col4, #T_8aeda_row4_col0, #T_8aeda_row8_col5 {\n",
              "  background-color: #d1e2f3;\n",
              "  color: #000000;\n",
              "}\n",
              "#T_8aeda_row3_col5 {\n",
              "  background-color: #f2f7fd;\n",
              "  color: #000000;\n",
              "}\n",
              "#T_8aeda_row3_col6 {\n",
              "  background-color: #eef5fc;\n",
              "  color: #000000;\n",
              "}\n",
              "#T_8aeda_row3_col7 {\n",
              "  background-color: #c7dcef;\n",
              "  color: #000000;\n",
              "}\n",
              "#T_8aeda_row3_col8 {\n",
              "  background-color: #82bbdb;\n",
              "  color: #000000;\n",
              "}\n",
              "#T_8aeda_row4_col3 {\n",
              "  background-color: #d6e5f4;\n",
              "  color: #000000;\n",
              "}\n",
              "#T_8aeda_row4_col7 {\n",
              "  background-color: #d6e6f4;\n",
              "  color: #000000;\n",
              "}\n",
              "#T_8aeda_row5_col0 {\n",
              "  background-color: #94c4df;\n",
              "  color: #000000;\n",
              "}\n",
              "#T_8aeda_row5_col1, #T_8aeda_row8_col1 {\n",
              "  background-color: #f1f7fd;\n",
              "  color: #000000;\n",
              "}\n",
              "#T_8aeda_row5_col2 {\n",
              "  background-color: #d4e4f4;\n",
              "  color: #000000;\n",
              "}\n",
              "#T_8aeda_row5_col6 {\n",
              "  background-color: #5fa6d1;\n",
              "  color: #f1f1f1;\n",
              "}\n",
              "#T_8aeda_row5_col7 {\n",
              "  background-color: #66abd4;\n",
              "  color: #f1f1f1;\n",
              "}\n",
              "#T_8aeda_row5_col8 {\n",
              "  background-color: #bed8ec;\n",
              "  color: #000000;\n",
              "}\n",
              "#T_8aeda_row6_col0 {\n",
              "  background-color: #549fcd;\n",
              "  color: #f1f1f1;\n",
              "}\n",
              "#T_8aeda_row6_col1 {\n",
              "  background-color: #dfecf7;\n",
              "  color: #000000;\n",
              "}\n",
              "#T_8aeda_row6_col2 {\n",
              "  background-color: #c4daee;\n",
              "  color: #000000;\n",
              "}\n",
              "#T_8aeda_row6_col3 {\n",
              "  background-color: #e6f0f9;\n",
              "  color: #000000;\n",
              "}\n",
              "#T_8aeda_row6_col4 {\n",
              "  background-color: #eaf3fb;\n",
              "  color: #000000;\n",
              "}\n",
              "#T_8aeda_row6_col5 {\n",
              "  background-color: #64a9d3;\n",
              "  color: #f1f1f1;\n",
              "}\n",
              "#T_8aeda_row6_col7 {\n",
              "  background-color: #2676b8;\n",
              "  color: #f1f1f1;\n",
              "}\n",
              "#T_8aeda_row6_col8, #T_8aeda_row8_col7 {\n",
              "  background-color: #7cb7da;\n",
              "  color: #000000;\n",
              "}\n",
              "#T_8aeda_row7_col2 {\n",
              "  background-color: #a8cee4;\n",
              "  color: #000000;\n",
              "}\n",
              "#T_8aeda_row7_col3 {\n",
              "  background-color: #dce9f6;\n",
              "  color: #000000;\n",
              "}\n",
              "#T_8aeda_row7_col4 {\n",
              "  background-color: #e9f2fa;\n",
              "  color: #000000;\n",
              "}\n",
              "#T_8aeda_row7_col6 {\n",
              "  background-color: #3484bf;\n",
              "  color: #f1f1f1;\n",
              "}\n",
              "#T_8aeda_row8_col0 {\n",
              "  background-color: #ccdff1;\n",
              "  color: #000000;\n",
              "}\n",
              "#T_8aeda_row8_col2 {\n",
              "  background-color: #d2e3f3;\n",
              "  color: #000000;\n",
              "}\n",
              "#T_8aeda_row8_col3 {\n",
              "  background-color: #89bedc;\n",
              "  color: #000000;\n",
              "}\n",
              "#T_8aeda_row8_col6 {\n",
              "  background-color: #8cc0dd;\n",
              "  color: #000000;\n",
              "}\n",
              "</style>\n",
              "<table id=\"T_8aeda_\" class=\"dataframe\">\n",
              "  <thead>\n",
              "    <tr>\n",
              "      <th class=\"blank level0\" >&nbsp;</th>\n",
              "      <th class=\"col_heading level0 col0\" >age</th>\n",
              "      <th class=\"col_heading level0 col1\" >continent</th>\n",
              "      <th class=\"col_heading level0 col2\" >contract_until</th>\n",
              "      <th class=\"col_heading level0 col3\" >position</th>\n",
              "      <th class=\"col_heading level0 col4\" >prefer_foot</th>\n",
              "      <th class=\"col_heading level0 col5\" >reputation</th>\n",
              "      <th class=\"col_heading level0 col6\" >stat_overall</th>\n",
              "      <th class=\"col_heading level0 col7\" >stat_potential</th>\n",
              "      <th class=\"col_heading level0 col8\" >stat_skill_moves</th>\n",
              "    </tr>\n",
              "  </thead>\n",
              "  <tbody>\n",
              "    <tr>\n",
              "      <th id=\"T_8aeda_level0_row0\" class=\"row_heading level0 row0\" >age</th>\n",
              "      <td id=\"T_8aeda_row0_col0\" class=\"data row0 col0\" >1.000000</td>\n",
              "      <td id=\"T_8aeda_row0_col1\" class=\"data row0 col1\" >0.091028</td>\n",
              "      <td id=\"T_8aeda_row0_col2\" class=\"data row0 col2\" >-0.132052</td>\n",
              "      <td id=\"T_8aeda_row0_col3\" class=\"data row0 col3\" >-0.079128</td>\n",
              "      <td id=\"T_8aeda_row0_col4\" class=\"data row0 col4\" >0.007760</td>\n",
              "      <td id=\"T_8aeda_row0_col5\" class=\"data row0 col5\" >0.263468</td>\n",
              "      <td id=\"T_8aeda_row0_col6\" class=\"data row0 col6\" >0.467345</td>\n",
              "      <td id=\"T_8aeda_row0_col7\" class=\"data row0 col7\" >-0.231303</td>\n",
              "      <td id=\"T_8aeda_row0_col8\" class=\"data row0 col8\" >0.039362</td>\n",
              "    </tr>\n",
              "    <tr>\n",
              "      <th id=\"T_8aeda_level0_row1\" class=\"row_heading level0 row1\" >continent</th>\n",
              "      <td id=\"T_8aeda_row1_col0\" class=\"data row1 col0\" >0.091028</td>\n",
              "      <td id=\"T_8aeda_row1_col1\" class=\"data row1 col1\" >1.000000</td>\n",
              "      <td id=\"T_8aeda_row1_col2\" class=\"data row1 col2\" >0.040910</td>\n",
              "      <td id=\"T_8aeda_row1_col3\" class=\"data row1 col3\" >-0.020053</td>\n",
              "      <td id=\"T_8aeda_row1_col4\" class=\"data row1 col4\" >-0.019312</td>\n",
              "      <td id=\"T_8aeda_row1_col5\" class=\"data row1 col5\" >0.012608</td>\n",
              "      <td id=\"T_8aeda_row1_col6\" class=\"data row1 col6\" >0.099486</td>\n",
              "      <td id=\"T_8aeda_row1_col7\" class=\"data row1 col7\" >0.072312</td>\n",
              "      <td id=\"T_8aeda_row1_col8\" class=\"data row1 col8\" >0.012365</td>\n",
              "    </tr>\n",
              "    <tr>\n",
              "      <th id=\"T_8aeda_level0_row2\" class=\"row_heading level0 row2\" >contract_until</th>\n",
              "      <td id=\"T_8aeda_row2_col0\" class=\"data row2 col0\" >-0.132052</td>\n",
              "      <td id=\"T_8aeda_row2_col1\" class=\"data row2 col1\" >0.040910</td>\n",
              "      <td id=\"T_8aeda_row2_col2\" class=\"data row2 col2\" >1.000000</td>\n",
              "      <td id=\"T_8aeda_row2_col3\" class=\"data row2 col3\" >0.020076</td>\n",
              "      <td id=\"T_8aeda_row2_col4\" class=\"data row2 col4\" >-0.004760</td>\n",
              "      <td id=\"T_8aeda_row2_col5\" class=\"data row2 col5\" >0.070446</td>\n",
              "      <td id=\"T_8aeda_row2_col6\" class=\"data row2 col6\" >0.156983</td>\n",
              "      <td id=\"T_8aeda_row2_col7\" class=\"data row2 col7\" >0.258477</td>\n",
              "      <td id=\"T_8aeda_row2_col8\" class=\"data row2 col8\" >0.082641</td>\n",
              "    </tr>\n",
              "    <tr>\n",
              "      <th id=\"T_8aeda_level0_row3\" class=\"row_heading level0 row3\" >position</th>\n",
              "      <td id=\"T_8aeda_row3_col0\" class=\"data row3 col0\" >-0.079128</td>\n",
              "      <td id=\"T_8aeda_row3_col1\" class=\"data row3 col1\" >-0.020053</td>\n",
              "      <td id=\"T_8aeda_row3_col2\" class=\"data row3 col2\" >0.020076</td>\n",
              "      <td id=\"T_8aeda_row3_col3\" class=\"data row3 col3\" >1.000000</td>\n",
              "      <td id=\"T_8aeda_row3_col4\" class=\"data row3 col4\" >0.105502</td>\n",
              "      <td id=\"T_8aeda_row3_col5\" class=\"data row3 col5\" >0.031215</td>\n",
              "      <td id=\"T_8aeda_row3_col6\" class=\"data row3 col6\" >0.015825</td>\n",
              "      <td id=\"T_8aeda_row3_col7\" class=\"data row3 col7\" >0.069233</td>\n",
              "      <td id=\"T_8aeda_row3_col8\" class=\"data row3 col8\" >0.384022</td>\n",
              "    </tr>\n",
              "    <tr>\n",
              "      <th id=\"T_8aeda_level0_row4\" class=\"row_heading level0 row4\" >prefer_foot</th>\n",
              "      <td id=\"T_8aeda_row4_col0\" class=\"data row4 col0\" >0.007760</td>\n",
              "      <td id=\"T_8aeda_row4_col1\" class=\"data row4 col1\" >-0.019312</td>\n",
              "      <td id=\"T_8aeda_row4_col2\" class=\"data row4 col2\" >-0.004760</td>\n",
              "      <td id=\"T_8aeda_row4_col3\" class=\"data row4 col3\" >0.105502</td>\n",
              "      <td id=\"T_8aeda_row4_col4\" class=\"data row4 col4\" >1.000000</td>\n",
              "      <td id=\"T_8aeda_row4_col5\" class=\"data row4 col5\" >0.003859</td>\n",
              "      <td id=\"T_8aeda_row4_col6\" class=\"data row4 col6\" >-0.036585</td>\n",
              "      <td id=\"T_8aeda_row4_col7\" class=\"data row4 col7\" >-0.029030</td>\n",
              "      <td id=\"T_8aeda_row4_col8\" class=\"data row4 col8\" >-0.109107</td>\n",
              "    </tr>\n",
              "    <tr>\n",
              "      <th id=\"T_8aeda_level0_row5\" class=\"row_heading level0 row5\" >reputation</th>\n",
              "      <td id=\"T_8aeda_row5_col0\" class=\"data row5 col0\" >0.263468</td>\n",
              "      <td id=\"T_8aeda_row5_col1\" class=\"data row5 col1\" >0.012608</td>\n",
              "      <td id=\"T_8aeda_row5_col2\" class=\"data row5 col2\" >0.070446</td>\n",
              "      <td id=\"T_8aeda_row5_col3\" class=\"data row5 col3\" >0.031215</td>\n",
              "      <td id=\"T_8aeda_row5_col4\" class=\"data row5 col4\" >0.003859</td>\n",
              "      <td id=\"T_8aeda_row5_col5\" class=\"data row5 col5\" >1.000000</td>\n",
              "      <td id=\"T_8aeda_row5_col6\" class=\"data row5 col6\" >0.521389</td>\n",
              "      <td id=\"T_8aeda_row5_col7\" class=\"data row5 col7\" >0.399183</td>\n",
              "      <td id=\"T_8aeda_row5_col8\" class=\"data row5 col8\" >0.196582</td>\n",
              "    </tr>\n",
              "    <tr>\n",
              "      <th id=\"T_8aeda_level0_row6\" class=\"row_heading level0 row6\" >stat_overall</th>\n",
              "      <td id=\"T_8aeda_row6_col0\" class=\"data row6 col0\" >0.467345</td>\n",
              "      <td id=\"T_8aeda_row6_col1\" class=\"data row6 col1\" >0.099486</td>\n",
              "      <td id=\"T_8aeda_row6_col2\" class=\"data row6 col2\" >0.156983</td>\n",
              "      <td id=\"T_8aeda_row6_col3\" class=\"data row6 col3\" >0.015825</td>\n",
              "      <td id=\"T_8aeda_row6_col4\" class=\"data row6 col4\" >-0.036585</td>\n",
              "      <td id=\"T_8aeda_row6_col5\" class=\"data row6 col5\" >0.521389</td>\n",
              "      <td id=\"T_8aeda_row6_col6\" class=\"data row6 col6\" >1.000000</td>\n",
              "      <td id=\"T_8aeda_row6_col7\" class=\"data row6 col7\" >0.665453</td>\n",
              "      <td id=\"T_8aeda_row6_col8\" class=\"data row6 col8\" >0.400164</td>\n",
              "    </tr>\n",
              "    <tr>\n",
              "      <th id=\"T_8aeda_level0_row7\" class=\"row_heading level0 row7\" >stat_potential</th>\n",
              "      <td id=\"T_8aeda_row7_col0\" class=\"data row7 col0\" >-0.231303</td>\n",
              "      <td id=\"T_8aeda_row7_col1\" class=\"data row7 col1\" >0.072312</td>\n",
              "      <td id=\"T_8aeda_row7_col2\" class=\"data row7 col2\" >0.258477</td>\n",
              "      <td id=\"T_8aeda_row7_col3\" class=\"data row7 col3\" >0.069233</td>\n",
              "      <td id=\"T_8aeda_row7_col4\" class=\"data row7 col4\" >-0.029030</td>\n",
              "      <td id=\"T_8aeda_row7_col5\" class=\"data row7 col5\" >0.399183</td>\n",
              "      <td id=\"T_8aeda_row7_col6\" class=\"data row7 col6\" >0.665453</td>\n",
              "      <td id=\"T_8aeda_row7_col7\" class=\"data row7 col7\" >1.000000</td>\n",
              "      <td id=\"T_8aeda_row7_col8\" class=\"data row7 col8\" >0.332578</td>\n",
              "    </tr>\n",
              "    <tr>\n",
              "      <th id=\"T_8aeda_level0_row8\" class=\"row_heading level0 row8\" >stat_skill_moves</th>\n",
              "      <td id=\"T_8aeda_row8_col0\" class=\"data row8 col0\" >0.039362</td>\n",
              "      <td id=\"T_8aeda_row8_col1\" class=\"data row8 col1\" >0.012365</td>\n",
              "      <td id=\"T_8aeda_row8_col2\" class=\"data row8 col2\" >0.082641</td>\n",
              "      <td id=\"T_8aeda_row8_col3\" class=\"data row8 col3\" >0.384022</td>\n",
              "      <td id=\"T_8aeda_row8_col4\" class=\"data row8 col4\" >-0.109107</td>\n",
              "      <td id=\"T_8aeda_row8_col5\" class=\"data row8 col5\" >0.196582</td>\n",
              "      <td id=\"T_8aeda_row8_col6\" class=\"data row8 col6\" >0.400164</td>\n",
              "      <td id=\"T_8aeda_row8_col7\" class=\"data row8 col7\" >0.332578</td>\n",
              "      <td id=\"T_8aeda_row8_col8\" class=\"data row8 col8\" >1.000000</td>\n",
              "    </tr>\n",
              "  </tbody>\n",
              "</table>\n"
            ]
          },
          "metadata": {},
          "execution_count": 58
        }
      ]
    },
    {
      "cell_type": "code",
      "source": [
        "plt.figure(figsize=(30,6))\n",
        "sns.heatmap(X.corr(), cmap='coolwarm', annot=True, vmin=-1, vmax=1)\n",
        "plt.show()"
      ],
      "metadata": {
        "colab": {
          "base_uri": "https://localhost:8080/",
          "height": 233
        },
        "id": "cmz2PbA0tezS",
        "outputId": "ab026d76-c7be-48f1-c4d6-8aa6c828353c"
      },
      "execution_count": null,
      "outputs": [
        {
          "output_type": "display_data",
          "data": {
            "text/plain": [
              "<Figure size 2160x432 with 2 Axes>"
            ],
            "image/png": "[encoded data removed]"
          },
          "metadata": {
            "needs_background": "light"
          }
        }
      ]
    },
    {
      "cell_type": "code",
      "source": [
        "train.columns"
      ],
      "metadata": {
        "colab": {
          "base_uri": "https://localhost:8080/"
        },
        "id": "gcmXsMwP6ISw",
        "outputId": "af62650c-e61c-45a5-ef49-1454e1a84fcb"
      },
      "execution_count": null,
      "outputs": [
        {
          "output_type": "execute_result",
          "data": {
            "text/plain": [
              "Index(['age', 'continent', 'contract_until', 'position', 'prefer_foot',\n",
              "       'reputation', 'stat_overall', 'stat_potential', 'stat_skill_moves',\n",
              "       'value'],\n",
              "      dtype='object')"
            ]
          },
          "metadata": {},
          "execution_count": 60
        }
      ]
    },
    {
      "cell_type": "code",
      "source": [
        "X = train['reputation'].values\n",
        "X = X.reshape(-1,1)\n",
        "X.shape"
      ],
      "metadata": {
        "colab": {
          "base_uri": "https://localhost:8080/"
        },
        "id": "IR0D_t3L6C2j",
        "outputId": "7d0b33e2-2500-4608-af7d-8e891f636b60"
      },
      "execution_count": null,
      "outputs": [
        {
          "output_type": "execute_result",
          "data": {
            "text/plain": [
              "(8932, 1)"
            ]
          },
          "metadata": {},
          "execution_count": 61
        }
      ]
    },
    {
      "cell_type": "code",
      "source": [
        "y = train['value'].values\n",
        "y = y.reshape(-1,1)\n",
        "y.shape"
      ],
      "metadata": {
        "colab": {
          "base_uri": "https://localhost:8080/"
        },
        "id": "9K_VNyAT6StX",
        "outputId": "aed89ab9-e2ab-49fc-b76a-ed9c77015741"
      },
      "execution_count": null,
      "outputs": [
        {
          "output_type": "execute_result",
          "data": {
            "text/plain": [
              "(8932, 1)"
            ]
          },
          "metadata": {},
          "execution_count": 62
        }
      ]
    },
    {
      "cell_type": "code",
      "source": [
        "from sklearn.model_selection import train_test_split\n",
        "X_train, X_test, y_train, y_test = train_test_split(X,y, test_size=0.2, random_state=1)\n",
        "X_train.shape, X_test.shape, y_train.shape, y_test.shape"
      ],
      "metadata": {
        "colab": {
          "base_uri": "https://localhost:8080/"
        },
        "id": "SbsWRzST6uNy",
        "outputId": "b0bc6f63-de59-4d11-981a-e5839cf48e56"
      },
      "execution_count": null,
      "outputs": [
        {
          "output_type": "execute_result",
          "data": {
            "text/plain": [
              "((7145, 1), (1787, 1), (7145, 1), (1787, 1))"
            ]
          },
          "metadata": {},
          "execution_count": 63
        }
      ]
    },
    {
      "cell_type": "code",
      "source": [
        "def draw_data():\n",
        "  plt.scatter(X_train, y_train, label='Trainset', color='lightgray')\n",
        "  plt.scatter(X_test, y_test, label='Testset', color='lightgreen')\n",
        "  plt.xlabel('Player Value Factors[reputation]')\n",
        "  plt.ylabel('value')\n",
        "  plt.legend()\n",
        "draw_data()"
      ],
      "metadata": {
        "colab": {
          "base_uri": "https://localhost:8080/",
          "height": 290
        },
        "id": "6ykI_slI6xgC",
        "outputId": "12721727-232e-47b7-c2ea-315f423ea755"
      },
      "execution_count": null,
      "outputs": [
        {
          "output_type": "display_data",
          "data": {
            "text/plain": [
              "<Figure size 432x288 with 1 Axes>"
            ],
            "image/png": "[encoded data removed]"
          },
          "metadata": {
            "needs_background": "light"
          }
        }
      ]
    },
    {
      "cell_type": "code",
      "source": [
        "X = train['stat_overall'].values\n",
        "X = X.reshape(-1,1)\n",
        "X.shape"
      ],
      "metadata": {
        "colab": {
          "base_uri": "https://localhost:8080/"
        },
        "id": "CSHcJgwz7Jo2",
        "outputId": "03ef7d09-afa4-4152-99f3-a4df4b46a08c"
      },
      "execution_count": null,
      "outputs": [
        {
          "output_type": "execute_result",
          "data": {
            "text/plain": [
              "(8932, 1)"
            ]
          },
          "metadata": {},
          "execution_count": 65
        }
      ]
    },
    {
      "cell_type": "code",
      "source": [
        "y = train['value'].values\n",
        "y = y.reshape(-1,1)\n",
        "y.shape"
      ],
      "metadata": {
        "colab": {
          "base_uri": "https://localhost:8080/"
        },
        "id": "KAhY82mT7PAm",
        "outputId": "a7516cb2-f77a-44e0-f9e5-5dbd26a39c33"
      },
      "execution_count": null,
      "outputs": [
        {
          "output_type": "execute_result",
          "data": {
            "text/plain": [
              "(8932, 1)"
            ]
          },
          "metadata": {},
          "execution_count": 66
        }
      ]
    },
    {
      "cell_type": "code",
      "source": [
        "from sklearn.model_selection import train_test_split\n",
        "X_train, X_test, y_train, y_test = train_test_split(X,y, test_size=0.2, random_state=1)\n",
        "X_train.shape, X_test.shape, y_train.shape, y_test.shape"
      ],
      "metadata": {
        "colab": {
          "base_uri": "https://localhost:8080/"
        },
        "id": "yx0vvQQk7RFO",
        "outputId": "09d03ee9-5f47-4663-d62d-835bdbf42b6b"
      },
      "execution_count": null,
      "outputs": [
        {
          "output_type": "execute_result",
          "data": {
            "text/plain": [
              "((7145, 1), (1787, 1), (7145, 1), (1787, 1))"
            ]
          },
          "metadata": {},
          "execution_count": 67
        }
      ]
    },
    {
      "cell_type": "code",
      "source": [
        "def draw_data():\n",
        "  plt.scatter(X_train, y_train, label='Trainset', color='lightgray')\n",
        "  plt.scatter(X_test, y_test, label='Testset', color='lightgreen')\n",
        "  plt.xlabel('Player Value Factors[stat_overall]')\n",
        "  plt.ylabel('value')\n",
        "  plt.legend()\n",
        "draw_data()"
      ],
      "metadata": {
        "colab": {
          "base_uri": "https://localhost:8080/",
          "height": 291
        },
        "id": "yzBZvCGh7TCn",
        "outputId": "6fb79b16-0bc6-48a9-f00b-ba44cb3907ff"
      },
      "execution_count": null,
      "outputs": [
        {
          "output_type": "display_data",
          "data": {
            "text/plain": [
              "<Figure size 432x288 with 1 Axes>"
            ],
            "image/png": "[encoded data removed]"
          },
          "metadata": {
            "needs_background": "light"
          }
        }
      ]
    },
    {
      "cell_type": "code",
      "source": [
        "from sklearn.preprocessing import PolynomialFeatures\n",
        "# X가 1차항 -> 다차항으로 변환\n",
        "quad = PolynomialFeatures(degree=2) # 차수 지정(2차항)\n",
        "# X 변환\n",
        "X_quad = quad.fit_transform(X)\n",
        "X.shape, X_quad.shape"
      ],
      "metadata": {
        "colab": {
          "base_uri": "https://localhost:8080/"
        },
        "id": "zB0TCety9taW",
        "outputId": "e66ecd4a-f7e9-4d4f-ada9-cd7437ff5cd4"
      },
      "execution_count": null,
      "outputs": [
        {
          "output_type": "execute_result",
          "data": {
            "text/plain": [
              "((8932, 1), (8932, 3))"
            ]
          },
          "metadata": {},
          "execution_count": 69
        }
      ]
    },
    {
      "cell_type": "code",
      "source": [
        "from sklearn.model_selection import train_test_split\n",
        "X_train, X_test, y_train, y_test = train_test_split(X,y, test_size=0.2, random_state=1)\n",
        "X_train.shape, X_test.shape, y_train.shape, y_test.shape"
      ],
      "metadata": {
        "colab": {
          "base_uri": "https://localhost:8080/"
        },
        "id": "l8znJXKc98A4",
        "outputId": "ba74f7a4-66dd-47ee-f46f-fe8e91015b71"
      },
      "execution_count": null,
      "outputs": [
        {
          "output_type": "execute_result",
          "data": {
            "text/plain": [
              "((7145, 1), (1787, 1), (7145, 1), (1787, 1))"
            ]
          },
          "metadata": {},
          "execution_count": 70
        }
      ]
    },
    {
      "cell_type": "code",
      "source": [
        "from sklearn.preprocessing import StandardScaler\n",
        "\n",
        "sc_x = StandardScaler()\n",
        "sc_y = StandardScaler()\n",
        "sc_x.fit(X_train)\n",
        "sc_y.fit(y_train[:np.newaxis])"
      ],
      "metadata": {
        "colab": {
          "base_uri": "https://localhost:8080/"
        },
        "id": "5Lnme5F894hB",
        "outputId": "1a61ecf8-3781-4c82-9688-f0f650c6d848"
      },
      "execution_count": null,
      "outputs": [
        {
          "output_type": "execute_result",
          "data": {
            "text/plain": [
              "StandardScaler()"
            ]
          },
          "metadata": {},
          "execution_count": 71
        }
      ]
    },
    {
      "cell_type": "code",
      "source": [
        "X_train = sc_x.fit_transform(X_train)\n",
        "y_train = sc_y.fit_transform(y_train[:np.newaxis]).flatten() # .flatten으로 한 방향으로 쭉 나열해줍니다.\n",
        "print(X_train.shape, y_train.shape)"
      ],
      "metadata": {
        "colab": {
          "base_uri": "https://localhost:8080/"
        },
        "id": "cA58FE4--B4q",
        "outputId": "a3127d46-14d1-496d-e2c8-0c3411542e62"
      },
      "execution_count": null,
      "outputs": [
        {
          "output_type": "stream",
          "name": "stdout",
          "text": [
            "(7145, 1) (7145,)\n"
          ]
        }
      ]
    },
    {
      "cell_type": "code",
      "source": [
        "X_test = sc_x.fit_transform(X_test)\n",
        "y_test = sc_y.fit_transform(y_test[:np.newaxis]).flatten()\n",
        "print(X_test.shape, y_test.shape)"
      ],
      "metadata": {
        "colab": {
          "base_uri": "https://localhost:8080/"
        },
        "id": "2y-cd5z7-FJa",
        "outputId": "6ee40bfc-de27-4439-97a3-b37bd1da615e"
      },
      "execution_count": null,
      "outputs": [
        {
          "output_type": "stream",
          "name": "stdout",
          "text": [
            "(1787, 1) (1787,)\n"
          ]
        }
      ]
    },
    {
      "cell_type": "code",
      "source": [
        "from sklearn.linear_model import LinearRegression\n",
        "lr1 = LinearRegression()\n",
        "lr1.fit(X_train, y_train)"
      ],
      "metadata": {
        "colab": {
          "base_uri": "https://localhost:8080/"
        },
        "id": "92srcLhz7Y8r",
        "outputId": "b9356cbf-9c58-477a-ddd3-87c822900f0a"
      },
      "execution_count": null,
      "outputs": [
        {
          "output_type": "execute_result",
          "data": {
            "text/plain": [
              "LinearRegression()"
            ]
          },
          "metadata": {},
          "execution_count": 74
        }
      ]
    },
    {
      "cell_type": "code",
      "source": [
        "lr2 = LinearRegression()\n",
        "quad =  PolynomialFeatures(degree=2)\n",
        "X_quad = quad.fit_transform(X_train)\n",
        "lr2.fit(X_quad, y_train)"
      ],
      "metadata": {
        "colab": {
          "base_uri": "https://localhost:8080/"
        },
        "id": "PilFU0qs7ccM",
        "outputId": "d6656cab-9048-4514-ad88-71ae9e75c228"
      },
      "execution_count": null,
      "outputs": [
        {
          "output_type": "execute_result",
          "data": {
            "text/plain": [
              "LinearRegression()"
            ]
          },
          "metadata": {},
          "execution_count": 75
        }
      ]
    },
    {
      "cell_type": "code",
      "source": [
        "# 모델링 \n",
        "from sklearn.preprocessing import PolynomialFeatures\n",
        "from sklearn.ensemble import RandomForestRegressor\n",
        "train_x = train.drop('value', axis=1)\n",
        "train_y = train['value']\n",
        "\n",
        "model = RandomForestRegressor()\n",
        "model.fit(train_x, train_y)\n",
        "\n",
        "lr3 = LinearRegression()\n",
        "cubic = PolynomialFeatures(degree=3)\n",
        "X_cubic = cubic.fit_transform(X_train)\n",
        "lr3.fit(X_cubic, y_train)\n",
        "\n",
        "pred = model.predict(test)\n",
        "submission['value'] = pred\n",
        "submission.head()"
      ],
      "metadata": {
        "colab": {
          "base_uri": "https://localhost:8080/",
          "height": 206
        },
        "id": "-U01GH0rA29P",
        "outputId": "089d428c-aa14-4805-a722-8cab01032ef8"
      },
      "execution_count": null,
      "outputs": [
        {
          "output_type": "execute_result",
          "data": {
            "text/plain": [
              "   id       value\n",
              "0   1  75870000.0\n",
              "1   2  77355000.0\n",
              "2   4  68010000.0\n",
              "3   5  70030000.0\n",
              "4   6  61010000.0"
            ],
            "text/html": [
              "\n",
              "  <div id=\"df-71cc5b3d-9492-48e6-a383-4e05e4f8ba46\">\n",
              "    <div class=\"colab-df-container\">\n",
              "      <div>\n",
              "<style scoped>\n",
              "    .dataframe tbody tr th:only-of-type {\n",
              "        vertical-align: middle;\n",
              "    }\n",
              "\n",
              "    .dataframe tbody tr th {\n",
              "        vertical-align: top;\n",
              "    }\n",
              "\n",
              "    .dataframe thead th {\n",
              "        text-align: right;\n",
              "    }\n",
              "</style>\n",
              "<table border=\"1\" class=\"dataframe\">\n",
              "  <thead>\n",
              "    <tr style=\"text-align: right;\">\n",
              "      <th></th>\n",
              "      <th>id</th>\n",
              "      <th>value</th>\n",
              "    </tr>\n",
              "  </thead>\n",
              "  <tbody>\n",
              "    <tr>\n",
              "      <th>0</th>\n",
              "      <td>1</td>\n",
              "      <td>75870000.0</td>\n",
              "    </tr>\n",
              "    <tr>\n",
              "      <th>1</th>\n",
              "      <td>2</td>\n",
              "      <td>77355000.0</td>\n",
              "    </tr>\n",
              "    <tr>\n",
              "      <th>2</th>\n",
              "      <td>4</td>\n",
              "      <td>68010000.0</td>\n",
              "    </tr>\n",
              "    <tr>\n",
              "      <th>3</th>\n",
              "      <td>5</td>\n",
              "      <td>70030000.0</td>\n",
              "    </tr>\n",
              "    <tr>\n",
              "      <th>4</th>\n",
              "      <td>6</td>\n",
              "      <td>61010000.0</td>\n",
              "    </tr>\n",
              "  </tbody>\n",
              "</table>\n",
              "</div>\n",
              "      <button class=\"colab-df-convert\" onclick=\"convertToInteractive('df-71cc5b3d-9492-48e6-a383-4e05e4f8ba46')\"\n",
              "              title=\"Convert this dataframe to an interactive table.\"\n",
              "              style=\"display:none;\">\n",
              "        \n",
              "  <svg xmlns=\"http://www.w3.org/2000/svg\" height=\"24px\"viewBox=\"0 0 24 24\"\n",
              "       width=\"24px\">\n",
              "    <path d=\"M0 0h24v24H0V0z\" fill=\"none\"/>\n",
              "    <path d=\"M18.56 5.44l.94 2.06.94-2.06 2.06-.94-2.06-.94-.94-2.06-.94 2.06-2.06.94zm-11 1L8.5 8.5l.94-2.06 2.06-.94-2.06-.94L8.5 2.5l-.94 2.06-2.06.94zm10 10l.94 2.06.94-2.06 2.06-.94-2.06-.94-.94-2.06-.94 2.06-2.06.94z\"/><path d=\"M17.41 7.96l-1.37-1.37c-.4-.4-.92-.59-1.43-.59-.52 0-1.04.2-1.43.59L10.3 9.45l-7.72 7.72c-.78.78-.78 2.05 0 2.83L4 21.41c.39.39.9.59 1.41.59.51 0 1.02-.2 1.41-.59l7.78-7.78 2.81-2.81c.8-.78.8-2.07 0-2.86zM5.41 20L4 18.59l7.72-7.72 1.47 1.35L5.41 20z\"/>\n",
              "  </svg>\n",
              "      </button>\n",
              "      \n",
              "  <style>\n",
              "    .colab-df-container {\n",
              "      display:flex;\n",
              "      flex-wrap:wrap;\n",
              "      gap: 12px;\n",
              "    }\n",
              "\n",
              "    .colab-df-convert {\n",
              "      background-color: #E8F0FE;\n",
              "      border: none;\n",
              "      border-radius: 50%;\n",
              "      cursor: pointer;\n",
              "      display: none;\n",
              "      fill: #1967D2;\n",
              "      height: 32px;\n",
              "      padding: 0 0 0 0;\n",
              "      width: 32px;\n",
              "    }\n",
              "\n",
              "    .colab-df-convert:hover {\n",
              "      background-color: #E2EBFA;\n",
              "      box-shadow: 0px 1px 2px rgba(60, 64, 67, 0.3), 0px 1px 3px 1px rgba(60, 64, 67, 0.15);\n",
              "      fill: #174EA6;\n",
              "    }\n",
              "\n",
              "    [theme=dark] .colab-df-convert {\n",
              "      background-color: #3B4455;\n",
              "      fill: #D2E3FC;\n",
              "    }\n",
              "\n",
              "    [theme=dark] .colab-df-convert:hover {\n",
              "      background-color: #434B5C;\n",
              "      box-shadow: 0px 1px 3px 1px rgba(0, 0, 0, 0.15);\n",
              "      filter: drop-shadow(0px 1px 2px rgba(0, 0, 0, 0.3));\n",
              "      fill: #FFFFFF;\n",
              "    }\n",
              "  </style>\n",
              "\n",
              "      <script>\n",
              "        const buttonEl =\n",
              "          document.querySelector('#df-71cc5b3d-9492-48e6-a383-4e05e4f8ba46 button.colab-df-convert');\n",
              "        buttonEl.style.display =\n",
              "          google.colab.kernel.accessAllowed ? 'block' : 'none';\n",
              "\n",
              "        async function convertToInteractive(key) {\n",
              "          const element = document.querySelector('#df-71cc5b3d-9492-48e6-a383-4e05e4f8ba46');\n",
              "          const dataTable =\n",
              "            await google.colab.kernel.invokeFunction('convertToInteractive',\n",
              "                                                     [key], {});\n",
              "          if (!dataTable) return;\n",
              "\n",
              "          const docLinkHtml = 'Like what you see? Visit the ' +\n",
              "            '<a target=\"_blank\" href=https://colab.research.google.com/notebooks/data_table.ipynb>data table notebook</a>'\n",
              "            + ' to learn more about interactive tables.';\n",
              "          element.innerHTML = '';\n",
              "          dataTable['output_type'] = 'display_data';\n",
              "          await google.colab.output.renderOutput(dataTable, element);\n",
              "          const docLink = document.createElement('div');\n",
              "          docLink.innerHTML = docLinkHtml;\n",
              "          element.appendChild(docLink);\n",
              "        }\n",
              "      </script>\n",
              "    </div>\n",
              "  </div>\n",
              "  "
            ]
          },
          "metadata": {},
          "execution_count": 76
        }
      ]
    },
    {
      "cell_type": "code",
      "source": [
        "lr3 = LinearRegression()\n",
        "cubic = PolynomialFeatures(degree=3)\n",
        "X_cubic = cubic.fit_transform(X_train)\n",
        "lr3.fit(X_cubic, y_train)"
      ],
      "metadata": {
        "colab": {
          "base_uri": "https://localhost:8080/"
        },
        "id": "9HGgzn9B7esT",
        "outputId": "ef33579d-46c6-42da-cc27-dadc44b2f780"
      },
      "execution_count": null,
      "outputs": [
        {
          "output_type": "execute_result",
          "data": {
            "text/plain": [
              "LinearRegression()"
            ]
          },
          "metadata": {},
          "execution_count": 77
        }
      ]
    },
    {
      "cell_type": "code",
      "source": [
        "pred = model.predict(test)\n",
        "submission['value'] = pred\n",
        "submission.head()"
      ],
      "metadata": {
        "colab": {
          "base_uri": "https://localhost:8080/",
          "height": 206
        },
        "id": "IlbezNGFBbK3",
        "outputId": "d483b86e-3f87-4263-dafd-8da1b207127e"
      },
      "execution_count": null,
      "outputs": [
        {
          "output_type": "execute_result",
          "data": {
            "text/plain": [
              "   id       value\n",
              "0   1  75870000.0\n",
              "1   2  77355000.0\n",
              "2   4  68010000.0\n",
              "3   5  70030000.0\n",
              "4   6  61010000.0"
            ],
            "text/html": [
              "\n",
              "  <div id=\"df-811efc4f-af97-4557-8407-996ce9b1b429\">\n",
              "    <div class=\"colab-df-container\">\n",
              "      <div>\n",
              "<style scoped>\n",
              "    .dataframe tbody tr th:only-of-type {\n",
              "        vertical-align: middle;\n",
              "    }\n",
              "\n",
              "    .dataframe tbody tr th {\n",
              "        vertical-align: top;\n",
              "    }\n",
              "\n",
              "    .dataframe thead th {\n",
              "        text-align: right;\n",
              "    }\n",
              "</style>\n",
              "<table border=\"1\" class=\"dataframe\">\n",
              "  <thead>\n",
              "    <tr style=\"text-align: right;\">\n",
              "      <th></th>\n",
              "      <th>id</th>\n",
              "      <th>value</th>\n",
              "    </tr>\n",
              "  </thead>\n",
              "  <tbody>\n",
              "    <tr>\n",
              "      <th>0</th>\n",
              "      <td>1</td>\n",
              "      <td>75870000.0</td>\n",
              "    </tr>\n",
              "    <tr>\n",
              "      <th>1</th>\n",
              "      <td>2</td>\n",
              "      <td>77355000.0</td>\n",
              "    </tr>\n",
              "    <tr>\n",
              "      <th>2</th>\n",
              "      <td>4</td>\n",
              "      <td>68010000.0</td>\n",
              "    </tr>\n",
              "    <tr>\n",
              "      <th>3</th>\n",
              "      <td>5</td>\n",
              "      <td>70030000.0</td>\n",
              "    </tr>\n",
              "    <tr>\n",
              "      <th>4</th>\n",
              "      <td>6</td>\n",
              "      <td>61010000.0</td>\n",
              "    </tr>\n",
              "  </tbody>\n",
              "</table>\n",
              "</div>\n",
              "      <button class=\"colab-df-convert\" onclick=\"convertToInteractive('df-811efc4f-af97-4557-8407-996ce9b1b429')\"\n",
              "              title=\"Convert this dataframe to an interactive table.\"\n",
              "              style=\"display:none;\">\n",
              "        \n",
              "  <svg xmlns=\"http://www.w3.org/2000/svg\" height=\"24px\"viewBox=\"0 0 24 24\"\n",
              "       width=\"24px\">\n",
              "    <path d=\"M0 0h24v24H0V0z\" fill=\"none\"/>\n",
              "    <path d=\"M18.56 5.44l.94 2.06.94-2.06 2.06-.94-2.06-.94-.94-2.06-.94 2.06-2.06.94zm-11 1L8.5 8.5l.94-2.06 2.06-.94-2.06-.94L8.5 2.5l-.94 2.06-2.06.94zm10 10l.94 2.06.94-2.06 2.06-.94-2.06-.94-.94-2.06-.94 2.06-2.06.94z\"/><path d=\"M17.41 7.96l-1.37-1.37c-.4-.4-.92-.59-1.43-.59-.52 0-1.04.2-1.43.59L10.3 9.45l-7.72 7.72c-.78.78-.78 2.05 0 2.83L4 21.41c.39.39.9.59 1.41.59.51 0 1.02-.2 1.41-.59l7.78-7.78 2.81-2.81c.8-.78.8-2.07 0-2.86zM5.41 20L4 18.59l7.72-7.72 1.47 1.35L5.41 20z\"/>\n",
              "  </svg>\n",
              "      </button>\n",
              "      \n",
              "  <style>\n",
              "    .colab-df-container {\n",
              "      display:flex;\n",
              "      flex-wrap:wrap;\n",
              "      gap: 12px;\n",
              "    }\n",
              "\n",
              "    .colab-df-convert {\n",
              "      background-color: #E8F0FE;\n",
              "      border: none;\n",
              "      border-radius: 50%;\n",
              "      cursor: pointer;\n",
              "      display: none;\n",
              "      fill: #1967D2;\n",
              "      height: 32px;\n",
              "      padding: 0 0 0 0;\n",
              "      width: 32px;\n",
              "    }\n",
              "\n",
              "    .colab-df-convert:hover {\n",
              "      background-color: #E2EBFA;\n",
              "      box-shadow: 0px 1px 2px rgba(60, 64, 67, 0.3), 0px 1px 3px 1px rgba(60, 64, 67, 0.15);\n",
              "      fill: #174EA6;\n",
              "    }\n",
              "\n",
              "    [theme=dark] .colab-df-convert {\n",
              "      background-color: #3B4455;\n",
              "      fill: #D2E3FC;\n",
              "    }\n",
              "\n",
              "    [theme=dark] .colab-df-convert:hover {\n",
              "      background-color: #434B5C;\n",
              "      box-shadow: 0px 1px 3px 1px rgba(0, 0, 0, 0.15);\n",
              "      filter: drop-shadow(0px 1px 2px rgba(0, 0, 0, 0.3));\n",
              "      fill: #FFFFFF;\n",
              "    }\n",
              "  </style>\n",
              "\n",
              "      <script>\n",
              "        const buttonEl =\n",
              "          document.querySelector('#df-811efc4f-af97-4557-8407-996ce9b1b429 button.colab-df-convert');\n",
              "        buttonEl.style.display =\n",
              "          google.colab.kernel.accessAllowed ? 'block' : 'none';\n",
              "\n",
              "        async function convertToInteractive(key) {\n",
              "          const element = document.querySelector('#df-811efc4f-af97-4557-8407-996ce9b1b429');\n",
              "          const dataTable =\n",
              "            await google.colab.kernel.invokeFunction('convertToInteractive',\n",
              "                                                     [key], {});\n",
              "          if (!dataTable) return;\n",
              "\n",
              "          const docLinkHtml = 'Like what you see? Visit the ' +\n",
              "            '<a target=\"_blank\" href=https://colab.research.google.com/notebooks/data_table.ipynb>data table notebook</a>'\n",
              "            + ' to learn more about interactive tables.';\n",
              "          element.innerHTML = '';\n",
              "          dataTable['output_type'] = 'display_data';\n",
              "          await google.colab.output.renderOutput(dataTable, element);\n",
              "          const docLink = document.createElement('div');\n",
              "          docLink.innerHTML = docLinkHtml;\n",
              "          element.appendChild(docLink);\n",
              "        }\n",
              "      </script>\n",
              "    </div>\n",
              "  </div>\n",
              "  "
            ]
          },
          "metadata": {},
          "execution_count": 78
        }
      ]
    },
    {
      "cell_type": "code",
      "source": [
        "from sklearn.preprocessing import StandardScaler\n",
        "from sklearn.model_selection import train_test_split\n",
        "import pandas as pd\n",
        "import numpy as np\n",
        "\n",
        "# 함수정리\n",
        "from sklearn.metrics import mean_squared_error, mean_absolute_error, r2_score\n",
        "\n",
        "def mean_absolute_percentage_error(y_true, y_pred):\n",
        "  y_true, y_pred = np.array(y_true), np.array(y_pred)\n",
        "  return np.mean(np.abs(y_true-y_pred) / y_true) * 100\n",
        "\n",
        "def norm_mean_absolute_error(y_true, y_pred):\n",
        "  return mean_absolute_error(y_true, y_pred)/np.mean(np.abs(y_true))\n",
        "\n",
        "def regression_scores(y_true,y_pred):\n",
        "  mse = mean_squared_error(y_true, y_pred)\n",
        "  rmse = np.sqrt(mean_squared_error(y_true, y_pred))\n",
        "  mae = mean_absolute_error(y_true, y_pred)\n",
        "  nmae = norm_mean_absolute_error(y_true, y_pred)\n",
        "  mape = mean_absolute_percentage_error(y_true, y_pred)\n",
        "  r2 = r2_score(y_true, y_pred)\n",
        "  return {'mse':np.round(mse,3), 'rmse':np.round(rmse,3), 'mae':np.round(mae,3), 'nmae':np.round(nmae,3), 'mape':np.round(mape,3), 'r2':np.round(r2,3) }"
      ],
      "metadata": {
        "id": "UcS_pMEs8L3Z"
      },
      "execution_count": null,
      "outputs": []
    },
    {
      "cell_type": "code",
      "source": [
        "import numpy as np\n",
        "from sklearn.linear_model import LinearRegression\n",
        "\n",
        "y_pred1 = lr1.predict(X_test)\n",
        "y_pred2 = lr2.predict(quad.fit_transform(X_test))\n",
        "y_pred3 = lr3.predict(cubic.fit_transform(X_test))\n",
        "\n",
        "l1_scores = regression_scores(y_test, y_pred1)\n",
        "l2_scores = regression_scores(y_test, y_pred2)\n",
        "l3_scores = regression_scores(y_test, y_pred3)\n",
        "\n",
        "df_score = pd.DataFrame([l1_scores,l2_scores,l3_scores], index=['linear', 'quadratic', 'cubic'])\n",
        "df_score.style.background_gradient()\n",
        "\n"
      ],
      "metadata": {
        "colab": {
          "base_uri": "https://localhost:8080/",
          "height": 143
        },
        "id": "Br9bw2i_7xrn",
        "outputId": "dc8207de-7e5b-43aa-91a7-59a0236e8810"
      },
      "execution_count": null,
      "outputs": [
        {
          "output_type": "execute_result",
          "data": {
            "text/plain": [
              "<pandas.io.formats.style.Styler at 0x7f4ab1799550>"
            ],
            "text/html": [
              "<style type=\"text/css\">\n",
              "#T_4853c_row0_col0, #T_4853c_row0_col1, #T_4853c_row0_col2, #T_4853c_row0_col3, #T_4853c_row2_col4, #T_4853c_row2_col5 {\n",
              "  background-color: #023858;\n",
              "  color: #f1f1f1;\n",
              "}\n",
              "#T_4853c_row0_col4, #T_4853c_row0_col5, #T_4853c_row2_col0, #T_4853c_row2_col1, #T_4853c_row2_col2, #T_4853c_row2_col3 {\n",
              "  background-color: #fff7fb;\n",
              "  color: #000000;\n",
              "}\n",
              "#T_4853c_row1_col0, #T_4853c_row1_col4 {\n",
              "  background-color: #d8d7e9;\n",
              "  color: #000000;\n",
              "}\n",
              "#T_4853c_row1_col1 {\n",
              "  background-color: #bfc9e1;\n",
              "  color: #000000;\n",
              "}\n",
              "#T_4853c_row1_col2 {\n",
              "  background-color: #99b8d8;\n",
              "  color: #000000;\n",
              "}\n",
              "#T_4853c_row1_col3 {\n",
              "  background-color: #97b7d7;\n",
              "  color: #000000;\n",
              "}\n",
              "#T_4853c_row1_col5 {\n",
              "  background-color: #056aa6;\n",
              "  color: #f1f1f1;\n",
              "}\n",
              "</style>\n",
              "<table id=\"T_4853c_\" class=\"dataframe\">\n",
              "  <thead>\n",
              "    <tr>\n",
              "      <th class=\"blank level0\" >&nbsp;</th>\n",
              "      <th class=\"col_heading level0 col0\" >mse</th>\n",
              "      <th class=\"col_heading level0 col1\" >rmse</th>\n",
              "      <th class=\"col_heading level0 col2\" >mae</th>\n",
              "      <th class=\"col_heading level0 col3\" >nmae</th>\n",
              "      <th class=\"col_heading level0 col4\" >mape</th>\n",
              "      <th class=\"col_heading level0 col5\" >r2</th>\n",
              "    </tr>\n",
              "  </thead>\n",
              "  <tbody>\n",
              "    <tr>\n",
              "      <th id=\"T_4853c_level0_row0\" class=\"row_heading level0 row0\" >linear</th>\n",
              "      <td id=\"T_4853c_row0_col0\" class=\"data row0 col0\" >0.558000</td>\n",
              "      <td id=\"T_4853c_row0_col1\" class=\"data row0 col1\" >0.747000</td>\n",
              "      <td id=\"T_4853c_row0_col2\" class=\"data row0 col2\" >0.420000</td>\n",
              "      <td id=\"T_4853c_row0_col3\" class=\"data row0 col3\" >0.800000</td>\n",
              "      <td id=\"T_4853c_row0_col4\" class=\"data row0 col4\" >-13.124000</td>\n",
              "      <td id=\"T_4853c_row0_col5\" class=\"data row0 col5\" >0.442000</td>\n",
              "    </tr>\n",
              "    <tr>\n",
              "      <th id=\"T_4853c_level0_row1\" class=\"row_heading level0 row1\" >quadratic</th>\n",
              "      <td id=\"T_4853c_row1_col0\" class=\"data row1 col0\" >0.198000</td>\n",
              "      <td id=\"T_4853c_row1_col1\" class=\"data row1 col1\" >0.445000</td>\n",
              "      <td id=\"T_4853c_row1_col2\" class=\"data row1 col2\" >0.256000</td>\n",
              "      <td id=\"T_4853c_row1_col3\" class=\"data row1 col3\" >0.488000</td>\n",
              "      <td id=\"T_4853c_row1_col4\" class=\"data row1 col4\" >-8.851000</td>\n",
              "      <td id=\"T_4853c_row1_col5\" class=\"data row1 col5\" >0.802000</td>\n",
              "    </tr>\n",
              "    <tr>\n",
              "      <th id=\"T_4853c_level0_row2\" class=\"row_heading level0 row2\" >cubic</th>\n",
              "      <td id=\"T_4853c_row2_col0\" class=\"data row2 col0\" >0.098000</td>\n",
              "      <td id=\"T_4853c_row2_col1\" class=\"data row2 col1\" >0.313000</td>\n",
              "      <td id=\"T_4853c_row2_col2\" class=\"data row2 col2\" >0.142000</td>\n",
              "      <td id=\"T_4853c_row2_col3\" class=\"data row2 col3\" >0.271000</td>\n",
              "      <td id=\"T_4853c_row2_col4\" class=\"data row2 col4\" >6.585000</td>\n",
              "      <td id=\"T_4853c_row2_col5\" class=\"data row2 col5\" >0.902000</td>\n",
              "    </tr>\n",
              "  </tbody>\n",
              "</table>\n"
            ]
          },
          "metadata": {},
          "execution_count": 80
        }
      ]
    },
    {
      "cell_type": "code",
      "source": [
        "draw_data()\n",
        "x_every = np.arange(-5,5,0.01).reshape(-1,1)\n",
        "plt.plot(x_every, lr1.predict(x_every),\n",
        "         label='Linear',\n",
        "         linewidth=3, linestyle=':') # 1차항\n",
        "\n",
        "plt.plot(x_every, lr2.predict(quad.fit_transform(x_every)),\n",
        "         label='Quadratic',\n",
        "         linewidth=3) # 2차항\n",
        "\n",
        "plt.plot(x_every, lr3.predict(cubic.fit_transform(x_every)),\n",
        "         label='Cubic',\n",
        "         linewidth=3, linestyle='--') # 3차항\n",
        "plt.legend()\n",
        "plt.show()"
      ],
      "metadata": {
        "colab": {
          "base_uri": "https://localhost:8080/",
          "height": 280
        },
        "id": "xgqr6XQD8igZ",
        "outputId": "ed449467-102e-4311-e620-6935dbd3dc3f"
      },
      "execution_count": null,
      "outputs": [
        {
          "output_type": "display_data",
          "data": {
            "text/plain": [
              "<Figure size 432x288 with 1 Axes>"
            ],
            "image/png": "[encoded data removed]"
          },
          "metadata": {
            "needs_background": "light"
          }
        }
      ]
    },
    {
      "cell_type": "code",
      "source": [
        "# 결정트리 회귀\n",
        "from sklearn.tree import DecisionTreeRegressor\n",
        "\n",
        "tree = DecisionTreeRegressor(random_state=1,\n",
        "                             max_depth=3)\n",
        "tree.fit(X_train, y_train)"
      ],
      "metadata": {
        "colab": {
          "base_uri": "https://localhost:8080/"
        },
        "id": "1Yl2SKHI80Kp",
        "outputId": "e5450bed-0882-44d3-85b1-0e82de7d6872"
      },
      "execution_count": null,
      "outputs": [
        {
          "output_type": "execute_result",
          "data": {
            "text/plain": [
              "DecisionTreeRegressor(max_depth=3, random_state=1)"
            ]
          },
          "metadata": {},
          "execution_count": 82
        }
      ]
    },
    {
      "cell_type": "code",
      "source": [
        "y_pred = tree.predict(X_test)\n",
        "score = regression_scores(y_test, y_pred)\n",
        "score\n",
        "df_score.loc['tree'] = score # 행 추가\n",
        "df_score.style.background_gradient(cmap='Blues_r')"
      ],
      "metadata": {
        "colab": {
          "base_uri": "https://localhost:8080/",
          "height": 175
        },
        "id": "tOU7q60l83jE",
        "outputId": "144e8603-bfe7-4407-e7f1-8d2fd34b083d"
      },
      "execution_count": null,
      "outputs": [
        {
          "output_type": "execute_result",
          "data": {
            "text/plain": [
              "<pandas.io.formats.style.Styler at 0x7f4ab1799810>"
            ],
            "text/html": [
              "<style type=\"text/css\">\n",
              "#T_18c25_row0_col0, #T_18c25_row0_col1, #T_18c25_row0_col2, #T_18c25_row0_col3, #T_18c25_row2_col4, #T_18c25_row2_col5 {\n",
              "  background-color: #f7fbff;\n",
              "  color: #000000;\n",
              "}\n",
              "#T_18c25_row0_col4, #T_18c25_row0_col5, #T_18c25_row2_col0, #T_18c25_row2_col1, #T_18c25_row2_col2, #T_18c25_row2_col3 {\n",
              "  background-color: #08306b;\n",
              "  color: #f1f1f1;\n",
              "}\n",
              "#T_18c25_row1_col0, #T_18c25_row1_col4 {\n",
              "  background-color: #1a68ae;\n",
              "  color: #f1f1f1;\n",
              "}\n",
              "#T_18c25_row1_col1 {\n",
              "  background-color: #2f7fbc;\n",
              "  color: #f1f1f1;\n",
              "}\n",
              "#T_18c25_row1_col2 {\n",
              "  background-color: #4d99ca;\n",
              "  color: #f1f1f1;\n",
              "}\n",
              "#T_18c25_row1_col3 {\n",
              "  background-color: #4e9acb;\n",
              "  color: #f1f1f1;\n",
              "}\n",
              "#T_18c25_row1_col5 {\n",
              "  background-color: #cddff1;\n",
              "  color: #000000;\n",
              "}\n",
              "#T_18c25_row3_col0 {\n",
              "  background-color: #08458a;\n",
              "  color: #f1f1f1;\n",
              "}\n",
              "#T_18c25_row3_col1 {\n",
              "  background-color: #08509b;\n",
              "  color: #f1f1f1;\n",
              "}\n",
              "#T_18c25_row3_col2, #T_18c25_row3_col3 {\n",
              "  background-color: #083c7d;\n",
              "  color: #f1f1f1;\n",
              "}\n",
              "#T_18c25_row3_col4 {\n",
              "  background-color: #bad6eb;\n",
              "  color: #000000;\n",
              "}\n",
              "#T_18c25_row3_col5 {\n",
              "  background-color: #e7f1fa;\n",
              "  color: #000000;\n",
              "}\n",
              "</style>\n",
              "<table id=\"T_18c25_\" class=\"dataframe\">\n",
              "  <thead>\n",
              "    <tr>\n",
              "      <th class=\"blank level0\" >&nbsp;</th>\n",
              "      <th class=\"col_heading level0 col0\" >mse</th>\n",
              "      <th class=\"col_heading level0 col1\" >rmse</th>\n",
              "      <th class=\"col_heading level0 col2\" >mae</th>\n",
              "      <th class=\"col_heading level0 col3\" >nmae</th>\n",
              "      <th class=\"col_heading level0 col4\" >mape</th>\n",
              "      <th class=\"col_heading level0 col5\" >r2</th>\n",
              "    </tr>\n",
              "  </thead>\n",
              "  <tbody>\n",
              "    <tr>\n",
              "      <th id=\"T_18c25_level0_row0\" class=\"row_heading level0 row0\" >linear</th>\n",
              "      <td id=\"T_18c25_row0_col0\" class=\"data row0 col0\" >0.558000</td>\n",
              "      <td id=\"T_18c25_row0_col1\" class=\"data row0 col1\" >0.747000</td>\n",
              "      <td id=\"T_18c25_row0_col2\" class=\"data row0 col2\" >0.420000</td>\n",
              "      <td id=\"T_18c25_row0_col3\" class=\"data row0 col3\" >0.800000</td>\n",
              "      <td id=\"T_18c25_row0_col4\" class=\"data row0 col4\" >-13.124000</td>\n",
              "      <td id=\"T_18c25_row0_col5\" class=\"data row0 col5\" >0.442000</td>\n",
              "    </tr>\n",
              "    <tr>\n",
              "      <th id=\"T_18c25_level0_row1\" class=\"row_heading level0 row1\" >quadratic</th>\n",
              "      <td id=\"T_18c25_row1_col0\" class=\"data row1 col0\" >0.198000</td>\n",
              "      <td id=\"T_18c25_row1_col1\" class=\"data row1 col1\" >0.445000</td>\n",
              "      <td id=\"T_18c25_row1_col2\" class=\"data row1 col2\" >0.256000</td>\n",
              "      <td id=\"T_18c25_row1_col3\" class=\"data row1 col3\" >0.488000</td>\n",
              "      <td id=\"T_18c25_row1_col4\" class=\"data row1 col4\" >-8.851000</td>\n",
              "      <td id=\"T_18c25_row1_col5\" class=\"data row1 col5\" >0.802000</td>\n",
              "    </tr>\n",
              "    <tr>\n",
              "      <th id=\"T_18c25_level0_row2\" class=\"row_heading level0 row2\" >cubic</th>\n",
              "      <td id=\"T_18c25_row2_col0\" class=\"data row2 col0\" >0.098000</td>\n",
              "      <td id=\"T_18c25_row2_col1\" class=\"data row2 col1\" >0.313000</td>\n",
              "      <td id=\"T_18c25_row2_col2\" class=\"data row2 col2\" >0.142000</td>\n",
              "      <td id=\"T_18c25_row2_col3\" class=\"data row2 col3\" >0.271000</td>\n",
              "      <td id=\"T_18c25_row2_col4\" class=\"data row2 col4\" >6.585000</td>\n",
              "      <td id=\"T_18c25_row2_col5\" class=\"data row2 col5\" >0.902000</td>\n",
              "    </tr>\n",
              "    <tr>\n",
              "      <th id=\"T_18c25_level0_row3\" class=\"row_heading level0 row3\" >tree</th>\n",
              "      <td id=\"T_18c25_row3_col0\" class=\"data row3 col0\" >0.135000</td>\n",
              "      <td id=\"T_18c25_row3_col1\" class=\"data row3 col1\" >0.367000</td>\n",
              "      <td id=\"T_18c25_row3_col2\" class=\"data row3 col2\" >0.156000</td>\n",
              "      <td id=\"T_18c25_row3_col3\" class=\"data row3 col3\" >0.297000</td>\n",
              "      <td id=\"T_18c25_row3_col4\" class=\"data row3 col4\" >0.894000</td>\n",
              "      <td id=\"T_18c25_row3_col5\" class=\"data row3 col5\" >0.865000</td>\n",
              "    </tr>\n",
              "  </tbody>\n",
              "</table>\n"
            ]
          },
          "metadata": {},
          "execution_count": 84
        }
      ]
    },
    {
      "cell_type": "code",
      "source": [
        "draw_data()\n",
        "plt.plot(x_every, tree.predict(x_every), lw=3)\n",
        "plt.show()"
      ],
      "metadata": {
        "colab": {
          "base_uri": "https://localhost:8080/",
          "height": 280
        },
        "id": "UAYCEio986X2",
        "outputId": "b619ee99-cf8a-4f15-a7eb-f25686cc3491"
      },
      "execution_count": null,
      "outputs": [
        {
          "output_type": "display_data",
          "data": {
            "text/plain": [
              "<Figure size 432x288 with 1 Axes>"
            ],
            "image/png": "[encoded data removed]"
          },
          "metadata": {
            "needs_background": "light"
          }
        }
      ]
    },
    {
      "cell_type": "code",
      "source": [
        "# 랜덤 포레스트 회귀(Random Forest Reegression)\n",
        "from sklearn.ensemble import RandomForestRegressor\n",
        "\n",
        "forest = RandomForestRegressor(random_state=1)\n",
        "forest.fit(X_train, y_train)"
      ],
      "metadata": {
        "colab": {
          "base_uri": "https://localhost:8080/"
        },
        "id": "7Sihm-HK895H",
        "outputId": "6641f63a-56f2-4533-b948-43d7b349e190"
      },
      "execution_count": null,
      "outputs": [
        {
          "output_type": "execute_result",
          "data": {
            "text/plain": [
              "RandomForestRegressor(random_state=1)"
            ]
          },
          "metadata": {},
          "execution_count": 86
        }
      ]
    },
    {
      "cell_type": "code",
      "source": [
        "y_pred = forest.predict(X_test)\n",
        "score = regression_scores(y_test, y_pred)\n",
        "df_score.loc['forest'] = score\n",
        "df_score.style.background_gradient(cmap='Blues_r')"
      ],
      "metadata": {
        "colab": {
          "base_uri": "https://localhost:8080/",
          "height": 206
        },
        "id": "K5pTxX_Z9D3z",
        "outputId": "f1aa8444-764a-4bdc-c539-b4e567bbe992"
      },
      "execution_count": null,
      "outputs": [
        {
          "output_type": "execute_result",
          "data": {
            "text/plain": [
              "<pandas.io.formats.style.Styler at 0x7f4ab1a825d0>"
            ],
            "text/html": [
              "<style type=\"text/css\">\n",
              "#T_9dccc_row0_col0, #T_9dccc_row0_col1, #T_9dccc_row0_col2, #T_9dccc_row0_col3, #T_9dccc_row2_col5, #T_9dccc_row4_col4 {\n",
              "  background-color: #f7fbff;\n",
              "  color: #000000;\n",
              "}\n",
              "#T_9dccc_row0_col4, #T_9dccc_row0_col5, #T_9dccc_row2_col0, #T_9dccc_row2_col1, #T_9dccc_row4_col2, #T_9dccc_row4_col3 {\n",
              "  background-color: #08306b;\n",
              "  color: #f1f1f1;\n",
              "}\n",
              "#T_9dccc_row1_col0 {\n",
              "  background-color: #1a68ae;\n",
              "  color: #f1f1f1;\n",
              "}\n",
              "#T_9dccc_row1_col1 {\n",
              "  background-color: #2f7fbc;\n",
              "  color: #f1f1f1;\n",
              "}\n",
              "#T_9dccc_row1_col2, #T_9dccc_row1_col3 {\n",
              "  background-color: #5aa2cf;\n",
              "  color: #f1f1f1;\n",
              "}\n",
              "#T_9dccc_row1_col4 {\n",
              "  background-color: #135fa7;\n",
              "  color: #f1f1f1;\n",
              "}\n",
              "#T_9dccc_row1_col5 {\n",
              "  background-color: #cddff1;\n",
              "  color: #000000;\n",
              "}\n",
              "#T_9dccc_row2_col2, #T_9dccc_row2_col3 {\n",
              "  background-color: #084184;\n",
              "  color: #f1f1f1;\n",
              "}\n",
              "#T_9dccc_row2_col4 {\n",
              "  background-color: #d9e7f5;\n",
              "  color: #000000;\n",
              "}\n",
              "#T_9dccc_row3_col0 {\n",
              "  background-color: #08458a;\n",
              "  color: #f1f1f1;\n",
              "}\n",
              "#T_9dccc_row3_col1 {\n",
              "  background-color: #08509b;\n",
              "  color: #f1f1f1;\n",
              "}\n",
              "#T_9dccc_row3_col2, #T_9dccc_row3_col3 {\n",
              "  background-color: #084d96;\n",
              "  color: #f1f1f1;\n",
              "}\n",
              "#T_9dccc_row3_col4 {\n",
              "  background-color: #94c4df;\n",
              "  color: #000000;\n",
              "}\n",
              "#T_9dccc_row3_col5 {\n",
              "  background-color: #e7f1fa;\n",
              "  color: #000000;\n",
              "}\n",
              "#T_9dccc_row4_col0 {\n",
              "  background-color: #083573;\n",
              "  color: #f1f1f1;\n",
              "}\n",
              "#T_9dccc_row4_col1 {\n",
              "  background-color: #083776;\n",
              "  color: #f1f1f1;\n",
              "}\n",
              "#T_9dccc_row4_col5 {\n",
              "  background-color: #f3f8fe;\n",
              "  color: #000000;\n",
              "}\n",
              "</style>\n",
              "<table id=\"T_9dccc_\" class=\"dataframe\">\n",
              "  <thead>\n",
              "    <tr>\n",
              "      <th class=\"blank level0\" >&nbsp;</th>\n",
              "      <th class=\"col_heading level0 col0\" >mse</th>\n",
              "      <th class=\"col_heading level0 col1\" >rmse</th>\n",
              "      <th class=\"col_heading level0 col2\" >mae</th>\n",
              "      <th class=\"col_heading level0 col3\" >nmae</th>\n",
              "      <th class=\"col_heading level0 col4\" >mape</th>\n",
              "      <th class=\"col_heading level0 col5\" >r2</th>\n",
              "    </tr>\n",
              "  </thead>\n",
              "  <tbody>\n",
              "    <tr>\n",
              "      <th id=\"T_9dccc_level0_row0\" class=\"row_heading level0 row0\" >linear</th>\n",
              "      <td id=\"T_9dccc_row0_col0\" class=\"data row0 col0\" >0.558000</td>\n",
              "      <td id=\"T_9dccc_row0_col1\" class=\"data row0 col1\" >0.747000</td>\n",
              "      <td id=\"T_9dccc_row0_col2\" class=\"data row0 col2\" >0.420000</td>\n",
              "      <td id=\"T_9dccc_row0_col3\" class=\"data row0 col3\" >0.800000</td>\n",
              "      <td id=\"T_9dccc_row0_col4\" class=\"data row0 col4\" >-13.124000</td>\n",
              "      <td id=\"T_9dccc_row0_col5\" class=\"data row0 col5\" >0.442000</td>\n",
              "    </tr>\n",
              "    <tr>\n",
              "      <th id=\"T_9dccc_level0_row1\" class=\"row_heading level0 row1\" >quadratic</th>\n",
              "      <td id=\"T_9dccc_row1_col0\" class=\"data row1 col0\" >0.198000</td>\n",
              "      <td id=\"T_9dccc_row1_col1\" class=\"data row1 col1\" >0.445000</td>\n",
              "      <td id=\"T_9dccc_row1_col2\" class=\"data row1 col2\" >0.256000</td>\n",
              "      <td id=\"T_9dccc_row1_col3\" class=\"data row1 col3\" >0.488000</td>\n",
              "      <td id=\"T_9dccc_row1_col4\" class=\"data row1 col4\" >-8.851000</td>\n",
              "      <td id=\"T_9dccc_row1_col5\" class=\"data row1 col5\" >0.802000</td>\n",
              "    </tr>\n",
              "    <tr>\n",
              "      <th id=\"T_9dccc_level0_row2\" class=\"row_heading level0 row2\" >cubic</th>\n",
              "      <td id=\"T_9dccc_row2_col0\" class=\"data row2 col0\" >0.098000</td>\n",
              "      <td id=\"T_9dccc_row2_col1\" class=\"data row2 col1\" >0.313000</td>\n",
              "      <td id=\"T_9dccc_row2_col2\" class=\"data row2 col2\" >0.142000</td>\n",
              "      <td id=\"T_9dccc_row2_col3\" class=\"data row2 col3\" >0.271000</td>\n",
              "      <td id=\"T_9dccc_row2_col4\" class=\"data row2 col4\" >6.585000</td>\n",
              "      <td id=\"T_9dccc_row2_col5\" class=\"data row2 col5\" >0.902000</td>\n",
              "    </tr>\n",
              "    <tr>\n",
              "      <th id=\"T_9dccc_level0_row3\" class=\"row_heading level0 row3\" >tree</th>\n",
              "      <td id=\"T_9dccc_row3_col0\" class=\"data row3 col0\" >0.135000</td>\n",
              "      <td id=\"T_9dccc_row3_col1\" class=\"data row3 col1\" >0.367000</td>\n",
              "      <td id=\"T_9dccc_row3_col2\" class=\"data row3 col2\" >0.156000</td>\n",
              "      <td id=\"T_9dccc_row3_col3\" class=\"data row3 col3\" >0.297000</td>\n",
              "      <td id=\"T_9dccc_row3_col4\" class=\"data row3 col4\" >0.894000</td>\n",
              "      <td id=\"T_9dccc_row3_col5\" class=\"data row3 col5\" >0.865000</td>\n",
              "    </tr>\n",
              "    <tr>\n",
              "      <th id=\"T_9dccc_level0_row4\" class=\"row_heading level0 row4\" >forest</th>\n",
              "      <td id=\"T_9dccc_row4_col0\" class=\"data row4 col0\" >0.107000</td>\n",
              "      <td id=\"T_9dccc_row4_col1\" class=\"data row4 col1\" >0.326000</td>\n",
              "      <td id=\"T_9dccc_row4_col2\" class=\"data row4 col2\" >0.123000</td>\n",
              "      <td id=\"T_9dccc_row4_col3\" class=\"data row4 col3\" >0.234000</td>\n",
              "      <td id=\"T_9dccc_row4_col4\" class=\"data row4 col4\" >10.188000</td>\n",
              "      <td id=\"T_9dccc_row4_col5\" class=\"data row4 col5\" >0.893000</td>\n",
              "    </tr>\n",
              "  </tbody>\n",
              "</table>\n"
            ]
          },
          "metadata": {},
          "execution_count": 87
        }
      ]
    },
    {
      "cell_type": "code",
      "source": [
        "draw_data()\n",
        "plt.plot(x_every, forest.predict(x_every), lw=3)\n",
        "plt.show()"
      ],
      "metadata": {
        "colab": {
          "base_uri": "https://localhost:8080/",
          "height": 280
        },
        "id": "EnjHZ3FX9E-6",
        "outputId": "49a8ea3d-a3db-4104-d156-57e332ecaab8"
      },
      "execution_count": null,
      "outputs": [
        {
          "output_type": "display_data",
          "data": {
            "text/plain": [
              "<Figure size 432x288 with 1 Axes>"
            ],
            "image/png": "[encoded data removed]"
          },
          "metadata": {
            "needs_background": "light"
          }
        }
      ]
    },
    {
      "cell_type": "code",
      "source": [
        "# 엑스트라 트리\n",
        "from sklearn.ensemble import ExtraTreesRegressor\n",
        "\n",
        "et = ExtraTreesRegressor(random_state=1)\n",
        "et.fit(X_train, y_train)"
      ],
      "metadata": {
        "colab": {
          "base_uri": "https://localhost:8080/"
        },
        "id": "jyyoQGlV9G84",
        "outputId": "ac533d5f-ec48-45f3-98f5-3a666326ed1d"
      },
      "execution_count": null,
      "outputs": [
        {
          "output_type": "execute_result",
          "data": {
            "text/plain": [
              "ExtraTreesRegressor(random_state=1)"
            ]
          },
          "metadata": {},
          "execution_count": 89
        }
      ]
    },
    {
      "cell_type": "code",
      "source": [
        "y_pred = et.predict(X_test)\n",
        "score = regression_scores(y_test, y_pred)\n",
        "score\n",
        "df_score.loc['et'] = score # 행 추가\n",
        "df_score.style.background_gradient(cmap='Blues_r')"
      ],
      "metadata": {
        "colab": {
          "base_uri": "https://localhost:8080/",
          "height": 237
        },
        "id": "m6CW_04G9KOF",
        "outputId": "0da20884-da78-4fdb-d6f7-9c9aee09487d"
      },
      "execution_count": null,
      "outputs": [
        {
          "output_type": "execute_result",
          "data": {
            "text/plain": [
              "<pandas.io.formats.style.Styler at 0x7f4ab2933e90>"
            ],
            "text/html": [
              "<style type=\"text/css\">\n",
              "#T_621bf_row0_col0, #T_621bf_row0_col1, #T_621bf_row0_col2, #T_621bf_row0_col3, #T_621bf_row2_col5, #T_621bf_row5_col4 {\n",
              "  background-color: #f7fbff;\n",
              "  color: #000000;\n",
              "}\n",
              "#T_621bf_row0_col4, #T_621bf_row0_col5, #T_621bf_row2_col0, #T_621bf_row2_col1, #T_621bf_row5_col2, #T_621bf_row5_col3 {\n",
              "  background-color: #08306b;\n",
              "  color: #f1f1f1;\n",
              "}\n",
              "#T_621bf_row1_col0 {\n",
              "  background-color: #1a68ae;\n",
              "  color: #f1f1f1;\n",
              "}\n",
              "#T_621bf_row1_col1 {\n",
              "  background-color: #2f7fbc;\n",
              "  color: #f1f1f1;\n",
              "}\n",
              "#T_621bf_row1_col2, #T_621bf_row1_col3 {\n",
              "  background-color: #5ba3d0;\n",
              "  color: #f1f1f1;\n",
              "}\n",
              "#T_621bf_row1_col4 {\n",
              "  background-color: #135fa7;\n",
              "  color: #f1f1f1;\n",
              "}\n",
              "#T_621bf_row1_col5 {\n",
              "  background-color: #cddff1;\n",
              "  color: #000000;\n",
              "}\n",
              "#T_621bf_row2_col2, #T_621bf_row2_col3 {\n",
              "  background-color: #084285;\n",
              "  color: #f1f1f1;\n",
              "}\n",
              "#T_621bf_row2_col4 {\n",
              "  background-color: #d8e7f5;\n",
              "  color: #000000;\n",
              "}\n",
              "#T_621bf_row3_col0 {\n",
              "  background-color: #08458a;\n",
              "  color: #f1f1f1;\n",
              "}\n",
              "#T_621bf_row3_col1 {\n",
              "  background-color: #08509b;\n",
              "  color: #f1f1f1;\n",
              "}\n",
              "#T_621bf_row3_col2, #T_621bf_row3_col3 {\n",
              "  background-color: #084e98;\n",
              "  color: #f1f1f1;\n",
              "}\n",
              "#T_621bf_row3_col4 {\n",
              "  background-color: #94c4df;\n",
              "  color: #000000;\n",
              "}\n",
              "#T_621bf_row3_col5 {\n",
              "  background-color: #e7f1fa;\n",
              "  color: #000000;\n",
              "}\n",
              "#T_621bf_row4_col0, #T_621bf_row5_col1 {\n",
              "  background-color: #083573;\n",
              "  color: #f1f1f1;\n",
              "}\n",
              "#T_621bf_row4_col1 {\n",
              "  background-color: #083776;\n",
              "  color: #f1f1f1;\n",
              "}\n",
              "#T_621bf_row4_col2, #T_621bf_row4_col3 {\n",
              "  background-color: #08316d;\n",
              "  color: #f1f1f1;\n",
              "}\n",
              "#T_621bf_row4_col4 {\n",
              "  background-color: #f6faff;\n",
              "  color: #000000;\n",
              "}\n",
              "#T_621bf_row4_col5 {\n",
              "  background-color: #f3f8fe;\n",
              "  color: #000000;\n",
              "}\n",
              "#T_621bf_row5_col0 {\n",
              "  background-color: #083370;\n",
              "  color: #f1f1f1;\n",
              "}\n",
              "#T_621bf_row5_col5 {\n",
              "  background-color: #f5f9fe;\n",
              "  color: #000000;\n",
              "}\n",
              "</style>\n",
              "<table id=\"T_621bf_\" class=\"dataframe\">\n",
              "  <thead>\n",
              "    <tr>\n",
              "      <th class=\"blank level0\" >&nbsp;</th>\n",
              "      <th class=\"col_heading level0 col0\" >mse</th>\n",
              "      <th class=\"col_heading level0 col1\" >rmse</th>\n",
              "      <th class=\"col_heading level0 col2\" >mae</th>\n",
              "      <th class=\"col_heading level0 col3\" >nmae</th>\n",
              "      <th class=\"col_heading level0 col4\" >mape</th>\n",
              "      <th class=\"col_heading level0 col5\" >r2</th>\n",
              "    </tr>\n",
              "  </thead>\n",
              "  <tbody>\n",
              "    <tr>\n",
              "      <th id=\"T_621bf_level0_row0\" class=\"row_heading level0 row0\" >linear</th>\n",
              "      <td id=\"T_621bf_row0_col0\" class=\"data row0 col0\" >0.558000</td>\n",
              "      <td id=\"T_621bf_row0_col1\" class=\"data row0 col1\" >0.747000</td>\n",
              "      <td id=\"T_621bf_row0_col2\" class=\"data row0 col2\" >0.420000</td>\n",
              "      <td id=\"T_621bf_row0_col3\" class=\"data row0 col3\" >0.800000</td>\n",
              "      <td id=\"T_621bf_row0_col4\" class=\"data row0 col4\" >-13.124000</td>\n",
              "      <td id=\"T_621bf_row0_col5\" class=\"data row0 col5\" >0.442000</td>\n",
              "    </tr>\n",
              "    <tr>\n",
              "      <th id=\"T_621bf_level0_row1\" class=\"row_heading level0 row1\" >quadratic</th>\n",
              "      <td id=\"T_621bf_row1_col0\" class=\"data row1 col0\" >0.198000</td>\n",
              "      <td id=\"T_621bf_row1_col1\" class=\"data row1 col1\" >0.445000</td>\n",
              "      <td id=\"T_621bf_row1_col2\" class=\"data row1 col2\" >0.256000</td>\n",
              "      <td id=\"T_621bf_row1_col3\" class=\"data row1 col3\" >0.488000</td>\n",
              "      <td id=\"T_621bf_row1_col4\" class=\"data row1 col4\" >-8.851000</td>\n",
              "      <td id=\"T_621bf_row1_col5\" class=\"data row1 col5\" >0.802000</td>\n",
              "    </tr>\n",
              "    <tr>\n",
              "      <th id=\"T_621bf_level0_row2\" class=\"row_heading level0 row2\" >cubic</th>\n",
              "      <td id=\"T_621bf_row2_col0\" class=\"data row2 col0\" >0.098000</td>\n",
              "      <td id=\"T_621bf_row2_col1\" class=\"data row2 col1\" >0.313000</td>\n",
              "      <td id=\"T_621bf_row2_col2\" class=\"data row2 col2\" >0.142000</td>\n",
              "      <td id=\"T_621bf_row2_col3\" class=\"data row2 col3\" >0.271000</td>\n",
              "      <td id=\"T_621bf_row2_col4\" class=\"data row2 col4\" >6.585000</td>\n",
              "      <td id=\"T_621bf_row2_col5\" class=\"data row2 col5\" >0.902000</td>\n",
              "    </tr>\n",
              "    <tr>\n",
              "      <th id=\"T_621bf_level0_row3\" class=\"row_heading level0 row3\" >tree</th>\n",
              "      <td id=\"T_621bf_row3_col0\" class=\"data row3 col0\" >0.135000</td>\n",
              "      <td id=\"T_621bf_row3_col1\" class=\"data row3 col1\" >0.367000</td>\n",
              "      <td id=\"T_621bf_row3_col2\" class=\"data row3 col2\" >0.156000</td>\n",
              "      <td id=\"T_621bf_row3_col3\" class=\"data row3 col3\" >0.297000</td>\n",
              "      <td id=\"T_621bf_row3_col4\" class=\"data row3 col4\" >0.894000</td>\n",
              "      <td id=\"T_621bf_row3_col5\" class=\"data row3 col5\" >0.865000</td>\n",
              "    </tr>\n",
              "    <tr>\n",
              "      <th id=\"T_621bf_level0_row4\" class=\"row_heading level0 row4\" >forest</th>\n",
              "      <td id=\"T_621bf_row4_col0\" class=\"data row4 col0\" >0.107000</td>\n",
              "      <td id=\"T_621bf_row4_col1\" class=\"data row4 col1\" >0.326000</td>\n",
              "      <td id=\"T_621bf_row4_col2\" class=\"data row4 col2\" >0.123000</td>\n",
              "      <td id=\"T_621bf_row4_col3\" class=\"data row4 col3\" >0.234000</td>\n",
              "      <td id=\"T_621bf_row4_col4\" class=\"data row4 col4\" >10.188000</td>\n",
              "      <td id=\"T_621bf_row4_col5\" class=\"data row4 col5\" >0.893000</td>\n",
              "    </tr>\n",
              "    <tr>\n",
              "      <th id=\"T_621bf_level0_row5\" class=\"row_heading level0 row5\" >et</th>\n",
              "      <td id=\"T_621bf_row5_col0\" class=\"data row5 col0\" >0.104000</td>\n",
              "      <td id=\"T_621bf_row5_col1\" class=\"data row5 col1\" >0.322000</td>\n",
              "      <td id=\"T_621bf_row5_col2\" class=\"data row5 col2\" >0.121000</td>\n",
              "      <td id=\"T_621bf_row5_col3\" class=\"data row5 col3\" >0.231000</td>\n",
              "      <td id=\"T_621bf_row5_col4\" class=\"data row5 col4\" >10.330000</td>\n",
              "      <td id=\"T_621bf_row5_col5\" class=\"data row5 col5\" >0.896000</td>\n",
              "    </tr>\n",
              "  </tbody>\n",
              "</table>\n"
            ]
          },
          "metadata": {},
          "execution_count": 90
        }
      ]
    },
    {
      "cell_type": "code",
      "source": [
        "draw_data()\n",
        "plt.plot(x_every, et.predict(x_every), lw=3)\n",
        "plt.show()"
      ],
      "metadata": {
        "colab": {
          "base_uri": "https://localhost:8080/",
          "height": 280
        },
        "id": "SHqQ_Yn49MNB",
        "outputId": "8ea4dce2-f414-4538-a758-522df435cdc1"
      },
      "execution_count": null,
      "outputs": [
        {
          "output_type": "display_data",
          "data": {
            "text/plain": [
              "<Figure size 432x288 with 1 Axes>"
            ],
            "image/png": "[encoded data removed]"
          },
          "metadata": {
            "needs_background": "light"
          }
        }
      ]
    },
    {
      "cell_type": "code",
      "source": [
        "# Gradient Boosting Regressor\n",
        "from sklearn.ensemble import GradientBoostingRegressor\n",
        "gb = GradientBoostingRegressor(random_state=1)\n",
        "gb.fit(X_train,y_train)"
      ],
      "metadata": {
        "colab": {
          "base_uri": "https://localhost:8080/"
        },
        "id": "Mfkpmkdi-c5S",
        "outputId": "cd44b4be-9f87-4e17-cf7b-f55f1d249fb5"
      },
      "execution_count": null,
      "outputs": [
        {
          "output_type": "execute_result",
          "data": {
            "text/plain": [
              "GradientBoostingRegressor(random_state=1)"
            ]
          },
          "metadata": {},
          "execution_count": 92
        }
      ]
    },
    {
      "cell_type": "code",
      "source": [
        "y_pred = gb.predict(X_test)\n",
        "score = regression_scores(y_test, y_pred)\n",
        "df_score.loc['GradientBoostingRegressor'] = score\n",
        "df_score.style.background_gradient(cmap='Blues_r')"
      ],
      "metadata": {
        "colab": {
          "base_uri": "https://localhost:8080/",
          "height": 269
        },
        "id": "nXZ7ngps-jQ1",
        "outputId": "e16ba295-a206-4f66-dd63-e6199e0df9ac"
      },
      "execution_count": null,
      "outputs": [
        {
          "output_type": "execute_result",
          "data": {
            "text/plain": [
              "<pandas.io.formats.style.Styler at 0x7f4ab15825d0>"
            ],
            "text/html": [
              "<style type=\"text/css\">\n",
              "#T_c6a5b_row0_col0, #T_c6a5b_row0_col1, #T_c6a5b_row0_col2, #T_c6a5b_row0_col3, #T_c6a5b_row2_col5, #T_c6a5b_row5_col4 {\n",
              "  background-color: #f7fbff;\n",
              "  color: #000000;\n",
              "}\n",
              "#T_c6a5b_row0_col4, #T_c6a5b_row0_col5, #T_c6a5b_row2_col0, #T_c6a5b_row2_col1, #T_c6a5b_row5_col2, #T_c6a5b_row5_col3, #T_c6a5b_row6_col3 {\n",
              "  background-color: #08306b;\n",
              "  color: #f1f1f1;\n",
              "}\n",
              "#T_c6a5b_row1_col0 {\n",
              "  background-color: #1a68ae;\n",
              "  color: #f1f1f1;\n",
              "}\n",
              "#T_c6a5b_row1_col1 {\n",
              "  background-color: #2f7fbc;\n",
              "  color: #f1f1f1;\n",
              "}\n",
              "#T_c6a5b_row1_col2, #T_c6a5b_row1_col3 {\n",
              "  background-color: #5ba3d0;\n",
              "  color: #f1f1f1;\n",
              "}\n",
              "#T_c6a5b_row1_col4 {\n",
              "  background-color: #135fa7;\n",
              "  color: #f1f1f1;\n",
              "}\n",
              "#T_c6a5b_row1_col5 {\n",
              "  background-color: #cddff1;\n",
              "  color: #000000;\n",
              "}\n",
              "#T_c6a5b_row2_col2, #T_c6a5b_row2_col3 {\n",
              "  background-color: #084285;\n",
              "  color: #f1f1f1;\n",
              "}\n",
              "#T_c6a5b_row2_col4 {\n",
              "  background-color: #d8e7f5;\n",
              "  color: #000000;\n",
              "}\n",
              "#T_c6a5b_row3_col0 {\n",
              "  background-color: #08458a;\n",
              "  color: #f1f1f1;\n",
              "}\n",
              "#T_c6a5b_row3_col1 {\n",
              "  background-color: #08509b;\n",
              "  color: #f1f1f1;\n",
              "}\n",
              "#T_c6a5b_row3_col2, #T_c6a5b_row3_col3 {\n",
              "  background-color: #084e98;\n",
              "  color: #f1f1f1;\n",
              "}\n",
              "#T_c6a5b_row3_col4 {\n",
              "  background-color: #94c4df;\n",
              "  color: #000000;\n",
              "}\n",
              "#T_c6a5b_row3_col5 {\n",
              "  background-color: #e7f1fa;\n",
              "  color: #000000;\n",
              "}\n",
              "#T_c6a5b_row4_col0, #T_c6a5b_row5_col1 {\n",
              "  background-color: #083573;\n",
              "  color: #f1f1f1;\n",
              "}\n",
              "#T_c6a5b_row4_col1 {\n",
              "  background-color: #083776;\n",
              "  color: #f1f1f1;\n",
              "}\n",
              "#T_c6a5b_row4_col2, #T_c6a5b_row4_col3, #T_c6a5b_row6_col2 {\n",
              "  background-color: #08316d;\n",
              "  color: #f1f1f1;\n",
              "}\n",
              "#T_c6a5b_row4_col4, #T_c6a5b_row6_col4 {\n",
              "  background-color: #f6faff;\n",
              "  color: #000000;\n",
              "}\n",
              "#T_c6a5b_row4_col5 {\n",
              "  background-color: #f3f8fe;\n",
              "  color: #000000;\n",
              "}\n",
              "#T_c6a5b_row5_col0, #T_c6a5b_row6_col0 {\n",
              "  background-color: #083370;\n",
              "  color: #f1f1f1;\n",
              "}\n",
              "#T_c6a5b_row5_col5, #T_c6a5b_row6_col5 {\n",
              "  background-color: #f5f9fe;\n",
              "  color: #000000;\n",
              "}\n",
              "#T_c6a5b_row6_col1 {\n",
              "  background-color: #083674;\n",
              "  color: #f1f1f1;\n",
              "}\n",
              "</style>\n",
              "<table id=\"T_c6a5b_\" class=\"dataframe\">\n",
              "  <thead>\n",
              "    <tr>\n",
              "      <th class=\"blank level0\" >&nbsp;</th>\n",
              "      <th class=\"col_heading level0 col0\" >mse</th>\n",
              "      <th class=\"col_heading level0 col1\" >rmse</th>\n",
              "      <th class=\"col_heading level0 col2\" >mae</th>\n",
              "      <th class=\"col_heading level0 col3\" >nmae</th>\n",
              "      <th class=\"col_heading level0 col4\" >mape</th>\n",
              "      <th class=\"col_heading level0 col5\" >r2</th>\n",
              "    </tr>\n",
              "  </thead>\n",
              "  <tbody>\n",
              "    <tr>\n",
              "      <th id=\"T_c6a5b_level0_row0\" class=\"row_heading level0 row0\" >linear</th>\n",
              "      <td id=\"T_c6a5b_row0_col0\" class=\"data row0 col0\" >0.558000</td>\n",
              "      <td id=\"T_c6a5b_row0_col1\" class=\"data row0 col1\" >0.747000</td>\n",
              "      <td id=\"T_c6a5b_row0_col2\" class=\"data row0 col2\" >0.420000</td>\n",
              "      <td id=\"T_c6a5b_row0_col3\" class=\"data row0 col3\" >0.800000</td>\n",
              "      <td id=\"T_c6a5b_row0_col4\" class=\"data row0 col4\" >-13.124000</td>\n",
              "      <td id=\"T_c6a5b_row0_col5\" class=\"data row0 col5\" >0.442000</td>\n",
              "    </tr>\n",
              "    <tr>\n",
              "      <th id=\"T_c6a5b_level0_row1\" class=\"row_heading level0 row1\" >quadratic</th>\n",
              "      <td id=\"T_c6a5b_row1_col0\" class=\"data row1 col0\" >0.198000</td>\n",
              "      <td id=\"T_c6a5b_row1_col1\" class=\"data row1 col1\" >0.445000</td>\n",
              "      <td id=\"T_c6a5b_row1_col2\" class=\"data row1 col2\" >0.256000</td>\n",
              "      <td id=\"T_c6a5b_row1_col3\" class=\"data row1 col3\" >0.488000</td>\n",
              "      <td id=\"T_c6a5b_row1_col4\" class=\"data row1 col4\" >-8.851000</td>\n",
              "      <td id=\"T_c6a5b_row1_col5\" class=\"data row1 col5\" >0.802000</td>\n",
              "    </tr>\n",
              "    <tr>\n",
              "      <th id=\"T_c6a5b_level0_row2\" class=\"row_heading level0 row2\" >cubic</th>\n",
              "      <td id=\"T_c6a5b_row2_col0\" class=\"data row2 col0\" >0.098000</td>\n",
              "      <td id=\"T_c6a5b_row2_col1\" class=\"data row2 col1\" >0.313000</td>\n",
              "      <td id=\"T_c6a5b_row2_col2\" class=\"data row2 col2\" >0.142000</td>\n",
              "      <td id=\"T_c6a5b_row2_col3\" class=\"data row2 col3\" >0.271000</td>\n",
              "      <td id=\"T_c6a5b_row2_col4\" class=\"data row2 col4\" >6.585000</td>\n",
              "      <td id=\"T_c6a5b_row2_col5\" class=\"data row2 col5\" >0.902000</td>\n",
              "    </tr>\n",
              "    <tr>\n",
              "      <th id=\"T_c6a5b_level0_row3\" class=\"row_heading level0 row3\" >tree</th>\n",
              "      <td id=\"T_c6a5b_row3_col0\" class=\"data row3 col0\" >0.135000</td>\n",
              "      <td id=\"T_c6a5b_row3_col1\" class=\"data row3 col1\" >0.367000</td>\n",
              "      <td id=\"T_c6a5b_row3_col2\" class=\"data row3 col2\" >0.156000</td>\n",
              "      <td id=\"T_c6a5b_row3_col3\" class=\"data row3 col3\" >0.297000</td>\n",
              "      <td id=\"T_c6a5b_row3_col4\" class=\"data row3 col4\" >0.894000</td>\n",
              "      <td id=\"T_c6a5b_row3_col5\" class=\"data row3 col5\" >0.865000</td>\n",
              "    </tr>\n",
              "    <tr>\n",
              "      <th id=\"T_c6a5b_level0_row4\" class=\"row_heading level0 row4\" >forest</th>\n",
              "      <td id=\"T_c6a5b_row4_col0\" class=\"data row4 col0\" >0.107000</td>\n",
              "      <td id=\"T_c6a5b_row4_col1\" class=\"data row4 col1\" >0.326000</td>\n",
              "      <td id=\"T_c6a5b_row4_col2\" class=\"data row4 col2\" >0.123000</td>\n",
              "      <td id=\"T_c6a5b_row4_col3\" class=\"data row4 col3\" >0.234000</td>\n",
              "      <td id=\"T_c6a5b_row4_col4\" class=\"data row4 col4\" >10.188000</td>\n",
              "      <td id=\"T_c6a5b_row4_col5\" class=\"data row4 col5\" >0.893000</td>\n",
              "    </tr>\n",
              "    <tr>\n",
              "      <th id=\"T_c6a5b_level0_row5\" class=\"row_heading level0 row5\" >et</th>\n",
              "      <td id=\"T_c6a5b_row5_col0\" class=\"data row5 col0\" >0.104000</td>\n",
              "      <td id=\"T_c6a5b_row5_col1\" class=\"data row5 col1\" >0.322000</td>\n",
              "      <td id=\"T_c6a5b_row5_col2\" class=\"data row5 col2\" >0.121000</td>\n",
              "      <td id=\"T_c6a5b_row5_col3\" class=\"data row5 col3\" >0.231000</td>\n",
              "      <td id=\"T_c6a5b_row5_col4\" class=\"data row5 col4\" >10.330000</td>\n",
              "      <td id=\"T_c6a5b_row5_col5\" class=\"data row5 col5\" >0.896000</td>\n",
              "    </tr>\n",
              "    <tr>\n",
              "      <th id=\"T_c6a5b_level0_row6\" class=\"row_heading level0 row6\" >GradientBoostingRegressor</th>\n",
              "      <td id=\"T_c6a5b_row6_col0\" class=\"data row6 col0\" >0.105000</td>\n",
              "      <td id=\"T_c6a5b_row6_col1\" class=\"data row6 col1\" >0.324000</td>\n",
              "      <td id=\"T_c6a5b_row6_col2\" class=\"data row6 col2\" >0.123000</td>\n",
              "      <td id=\"T_c6a5b_row6_col3\" class=\"data row6 col3\" >0.233000</td>\n",
              "      <td id=\"T_c6a5b_row6_col4\" class=\"data row6 col4\" >10.227000</td>\n",
              "      <td id=\"T_c6a5b_row6_col5\" class=\"data row6 col5\" >0.895000</td>\n",
              "    </tr>\n",
              "  </tbody>\n",
              "</table>\n"
            ]
          },
          "metadata": {},
          "execution_count": 93
        }
      ]
    },
    {
      "cell_type": "code",
      "source": [
        "draw_data()\n",
        "plt.plot(x_every, gb.predict(x_every), lw=3)\n",
        "plt.show()"
      ],
      "metadata": {
        "colab": {
          "base_uri": "https://localhost:8080/",
          "height": 280
        },
        "id": "S-1irlLt-k0p",
        "outputId": "914ca77e-2851-4aea-d470-c95b77db4f99"
      },
      "execution_count": null,
      "outputs": [
        {
          "output_type": "display_data",
          "data": {
            "text/plain": [
              "<Figure size 432x288 with 1 Axes>"
            ],
            "image/png": "[encoded data removed]"
          },
          "metadata": {
            "needs_background": "light"
          }
        }
      ]
    },
    {
      "cell_type": "code",
      "source": [
        "# XGBoost Regressor\n",
        "from xgboost import XGBRegressor\n",
        "\n",
        "xgb = XGBRegressor(random_state=1)\n",
        "xgb.fit(X_train, y_train)"
      ],
      "metadata": {
        "colab": {
          "base_uri": "https://localhost:8080/"
        },
        "id": "qLIxCAy0-m57",
        "outputId": "f013e3cf-96c6-4e69-8a66-ac70f896b1c5"
      },
      "execution_count": null,
      "outputs": [
        {
          "output_type": "stream",
          "name": "stdout",
          "text": [
            "[04:37:10] WARNING: /workspace/src/objective/regression_obj.cu:152: reg:linear is now deprecated in favor of reg:squarederror.\n"
          ]
        },
        {
          "output_type": "execute_result",
          "data": {
            "text/plain": [
              "XGBRegressor(random_state=1)"
            ]
          },
          "metadata": {},
          "execution_count": 95
        }
      ]
    },
    {
      "cell_type": "code",
      "source": [
        "y_pred = xgb.predict(X_test)\n",
        "score = regression_scores(y_test, y_pred)\n",
        "df_score.loc['xgb'] = score\n",
        "df_score.style.background_gradient(cmap='Blues_r')"
      ],
      "metadata": {
        "colab": {
          "base_uri": "https://localhost:8080/",
          "height": 300
        },
        "id": "_TSFBsl0-q7e",
        "outputId": "deb44004-7b30-4e0d-fbcb-f51da5e33cce"
      },
      "execution_count": null,
      "outputs": [
        {
          "output_type": "execute_result",
          "data": {
            "text/plain": [
              "<pandas.io.formats.style.Styler at 0x7f4ab1582a50>"
            ],
            "text/html": [
              "<style type=\"text/css\">\n",
              "#T_3ab0e_row0_col0, #T_3ab0e_row0_col1, #T_3ab0e_row0_col2, #T_3ab0e_row0_col3, #T_3ab0e_row2_col5, #T_3ab0e_row5_col4 {\n",
              "  background-color: #f7fbff;\n",
              "  color: #000000;\n",
              "}\n",
              "#T_3ab0e_row0_col4, #T_3ab0e_row0_col5, #T_3ab0e_row2_col0, #T_3ab0e_row2_col1, #T_3ab0e_row5_col2, #T_3ab0e_row5_col3, #T_3ab0e_row6_col3, #T_3ab0e_row7_col3 {\n",
              "  background-color: #08306b;\n",
              "  color: #f1f1f1;\n",
              "}\n",
              "#T_3ab0e_row1_col0 {\n",
              "  background-color: #1a68ae;\n",
              "  color: #f1f1f1;\n",
              "}\n",
              "#T_3ab0e_row1_col1 {\n",
              "  background-color: #2f7fbc;\n",
              "  color: #f1f1f1;\n",
              "}\n",
              "#T_3ab0e_row1_col2, #T_3ab0e_row1_col3 {\n",
              "  background-color: #5ba3d0;\n",
              "  color: #f1f1f1;\n",
              "}\n",
              "#T_3ab0e_row1_col4 {\n",
              "  background-color: #135fa7;\n",
              "  color: #f1f1f1;\n",
              "}\n",
              "#T_3ab0e_row1_col5 {\n",
              "  background-color: #cddff1;\n",
              "  color: #000000;\n",
              "}\n",
              "#T_3ab0e_row2_col2, #T_3ab0e_row2_col3 {\n",
              "  background-color: #084285;\n",
              "  color: #f1f1f1;\n",
              "}\n",
              "#T_3ab0e_row2_col4 {\n",
              "  background-color: #d8e7f5;\n",
              "  color: #000000;\n",
              "}\n",
              "#T_3ab0e_row3_col0 {\n",
              "  background-color: #08458a;\n",
              "  color: #f1f1f1;\n",
              "}\n",
              "#T_3ab0e_row3_col1 {\n",
              "  background-color: #08509b;\n",
              "  color: #f1f1f1;\n",
              "}\n",
              "#T_3ab0e_row3_col2, #T_3ab0e_row3_col3 {\n",
              "  background-color: #084e98;\n",
              "  color: #f1f1f1;\n",
              "}\n",
              "#T_3ab0e_row3_col4 {\n",
              "  background-color: #94c4df;\n",
              "  color: #000000;\n",
              "}\n",
              "#T_3ab0e_row3_col5 {\n",
              "  background-color: #e7f1fa;\n",
              "  color: #000000;\n",
              "}\n",
              "#T_3ab0e_row4_col0, #T_3ab0e_row5_col1, #T_3ab0e_row7_col1 {\n",
              "  background-color: #083573;\n",
              "  color: #f1f1f1;\n",
              "}\n",
              "#T_3ab0e_row4_col1 {\n",
              "  background-color: #083776;\n",
              "  color: #f1f1f1;\n",
              "}\n",
              "#T_3ab0e_row4_col2, #T_3ab0e_row4_col3, #T_3ab0e_row6_col2, #T_3ab0e_row7_col2 {\n",
              "  background-color: #08316d;\n",
              "  color: #f1f1f1;\n",
              "}\n",
              "#T_3ab0e_row4_col4, #T_3ab0e_row6_col4, #T_3ab0e_row7_col4 {\n",
              "  background-color: #f6faff;\n",
              "  color: #000000;\n",
              "}\n",
              "#T_3ab0e_row4_col5 {\n",
              "  background-color: #f3f8fe;\n",
              "  color: #000000;\n",
              "}\n",
              "#T_3ab0e_row5_col0, #T_3ab0e_row6_col0, #T_3ab0e_row7_col0 {\n",
              "  background-color: #083370;\n",
              "  color: #f1f1f1;\n",
              "}\n",
              "#T_3ab0e_row5_col5, #T_3ab0e_row6_col5, #T_3ab0e_row7_col5 {\n",
              "  background-color: #f5f9fe;\n",
              "  color: #000000;\n",
              "}\n",
              "#T_3ab0e_row6_col1 {\n",
              "  background-color: #083674;\n",
              "  color: #f1f1f1;\n",
              "}\n",
              "</style>\n",
              "<table id=\"T_3ab0e_\" class=\"dataframe\">\n",
              "  <thead>\n",
              "    <tr>\n",
              "      <th class=\"blank level0\" >&nbsp;</th>\n",
              "      <th class=\"col_heading level0 col0\" >mse</th>\n",
              "      <th class=\"col_heading level0 col1\" >rmse</th>\n",
              "      <th class=\"col_heading level0 col2\" >mae</th>\n",
              "      <th class=\"col_heading level0 col3\" >nmae</th>\n",
              "      <th class=\"col_heading level0 col4\" >mape</th>\n",
              "      <th class=\"col_heading level0 col5\" >r2</th>\n",
              "    </tr>\n",
              "  </thead>\n",
              "  <tbody>\n",
              "    <tr>\n",
              "      <th id=\"T_3ab0e_level0_row0\" class=\"row_heading level0 row0\" >linear</th>\n",
              "      <td id=\"T_3ab0e_row0_col0\" class=\"data row0 col0\" >0.558000</td>\n",
              "      <td id=\"T_3ab0e_row0_col1\" class=\"data row0 col1\" >0.747000</td>\n",
              "      <td id=\"T_3ab0e_row0_col2\" class=\"data row0 col2\" >0.420000</td>\n",
              "      <td id=\"T_3ab0e_row0_col3\" class=\"data row0 col3\" >0.800000</td>\n",
              "      <td id=\"T_3ab0e_row0_col4\" class=\"data row0 col4\" >-13.124000</td>\n",
              "      <td id=\"T_3ab0e_row0_col5\" class=\"data row0 col5\" >0.442000</td>\n",
              "    </tr>\n",
              "    <tr>\n",
              "      <th id=\"T_3ab0e_level0_row1\" class=\"row_heading level0 row1\" >quadratic</th>\n",
              "      <td id=\"T_3ab0e_row1_col0\" class=\"data row1 col0\" >0.198000</td>\n",
              "      <td id=\"T_3ab0e_row1_col1\" class=\"data row1 col1\" >0.445000</td>\n",
              "      <td id=\"T_3ab0e_row1_col2\" class=\"data row1 col2\" >0.256000</td>\n",
              "      <td id=\"T_3ab0e_row1_col3\" class=\"data row1 col3\" >0.488000</td>\n",
              "      <td id=\"T_3ab0e_row1_col4\" class=\"data row1 col4\" >-8.851000</td>\n",
              "      <td id=\"T_3ab0e_row1_col5\" class=\"data row1 col5\" >0.802000</td>\n",
              "    </tr>\n",
              "    <tr>\n",
              "      <th id=\"T_3ab0e_level0_row2\" class=\"row_heading level0 row2\" >cubic</th>\n",
              "      <td id=\"T_3ab0e_row2_col0\" class=\"data row2 col0\" >0.098000</td>\n",
              "      <td id=\"T_3ab0e_row2_col1\" class=\"data row2 col1\" >0.313000</td>\n",
              "      <td id=\"T_3ab0e_row2_col2\" class=\"data row2 col2\" >0.142000</td>\n",
              "      <td id=\"T_3ab0e_row2_col3\" class=\"data row2 col3\" >0.271000</td>\n",
              "      <td id=\"T_3ab0e_row2_col4\" class=\"data row2 col4\" >6.585000</td>\n",
              "      <td id=\"T_3ab0e_row2_col5\" class=\"data row2 col5\" >0.902000</td>\n",
              "    </tr>\n",
              "    <tr>\n",
              "      <th id=\"T_3ab0e_level0_row3\" class=\"row_heading level0 row3\" >tree</th>\n",
              "      <td id=\"T_3ab0e_row3_col0\" class=\"data row3 col0\" >0.135000</td>\n",
              "      <td id=\"T_3ab0e_row3_col1\" class=\"data row3 col1\" >0.367000</td>\n",
              "      <td id=\"T_3ab0e_row3_col2\" class=\"data row3 col2\" >0.156000</td>\n",
              "      <td id=\"T_3ab0e_row3_col3\" class=\"data row3 col3\" >0.297000</td>\n",
              "      <td id=\"T_3ab0e_row3_col4\" class=\"data row3 col4\" >0.894000</td>\n",
              "      <td id=\"T_3ab0e_row3_col5\" class=\"data row3 col5\" >0.865000</td>\n",
              "    </tr>\n",
              "    <tr>\n",
              "      <th id=\"T_3ab0e_level0_row4\" class=\"row_heading level0 row4\" >forest</th>\n",
              "      <td id=\"T_3ab0e_row4_col0\" class=\"data row4 col0\" >0.107000</td>\n",
              "      <td id=\"T_3ab0e_row4_col1\" class=\"data row4 col1\" >0.326000</td>\n",
              "      <td id=\"T_3ab0e_row4_col2\" class=\"data row4 col2\" >0.123000</td>\n",
              "      <td id=\"T_3ab0e_row4_col3\" class=\"data row4 col3\" >0.234000</td>\n",
              "      <td id=\"T_3ab0e_row4_col4\" class=\"data row4 col4\" >10.188000</td>\n",
              "      <td id=\"T_3ab0e_row4_col5\" class=\"data row4 col5\" >0.893000</td>\n",
              "    </tr>\n",
              "    <tr>\n",
              "      <th id=\"T_3ab0e_level0_row5\" class=\"row_heading level0 row5\" >et</th>\n",
              "      <td id=\"T_3ab0e_row5_col0\" class=\"data row5 col0\" >0.104000</td>\n",
              "      <td id=\"T_3ab0e_row5_col1\" class=\"data row5 col1\" >0.322000</td>\n",
              "      <td id=\"T_3ab0e_row5_col2\" class=\"data row5 col2\" >0.121000</td>\n",
              "      <td id=\"T_3ab0e_row5_col3\" class=\"data row5 col3\" >0.231000</td>\n",
              "      <td id=\"T_3ab0e_row5_col4\" class=\"data row5 col4\" >10.330000</td>\n",
              "      <td id=\"T_3ab0e_row5_col5\" class=\"data row5 col5\" >0.896000</td>\n",
              "    </tr>\n",
              "    <tr>\n",
              "      <th id=\"T_3ab0e_level0_row6\" class=\"row_heading level0 row6\" >GradientBoostingRegressor</th>\n",
              "      <td id=\"T_3ab0e_row6_col0\" class=\"data row6 col0\" >0.105000</td>\n",
              "      <td id=\"T_3ab0e_row6_col1\" class=\"data row6 col1\" >0.324000</td>\n",
              "      <td id=\"T_3ab0e_row6_col2\" class=\"data row6 col2\" >0.123000</td>\n",
              "      <td id=\"T_3ab0e_row6_col3\" class=\"data row6 col3\" >0.233000</td>\n",
              "      <td id=\"T_3ab0e_row6_col4\" class=\"data row6 col4\" >10.227000</td>\n",
              "      <td id=\"T_3ab0e_row6_col5\" class=\"data row6 col5\" >0.895000</td>\n",
              "    </tr>\n",
              "    <tr>\n",
              "      <th id=\"T_3ab0e_level0_row7\" class=\"row_heading level0 row7\" >xgb</th>\n",
              "      <td id=\"T_3ab0e_row7_col0\" class=\"data row7 col0\" >0.105000</td>\n",
              "      <td id=\"T_3ab0e_row7_col1\" class=\"data row7 col1\" >0.323000</td>\n",
              "      <td id=\"T_3ab0e_row7_col2\" class=\"data row7 col2\" >0.123000</td>\n",
              "      <td id=\"T_3ab0e_row7_col3\" class=\"data row7 col3\" >0.233000</td>\n",
              "      <td id=\"T_3ab0e_row7_col4\" class=\"data row7 col4\" >10.220000</td>\n",
              "      <td id=\"T_3ab0e_row7_col5\" class=\"data row7 col5\" >0.895000</td>\n",
              "    </tr>\n",
              "  </tbody>\n",
              "</table>\n"
            ]
          },
          "metadata": {},
          "execution_count": 96
        }
      ]
    },
    {
      "cell_type": "code",
      "source": [
        "draw_data()\n",
        "plt.plot(x_every, xgb.predict(x_every), lw=3)\n",
        "plt.show()"
      ],
      "metadata": {
        "colab": {
          "base_uri": "https://localhost:8080/",
          "height": 280
        },
        "id": "A_HA790q-s_x",
        "outputId": "7c385470-61c5-4318-aecd-995e665999b3"
      },
      "execution_count": null,
      "outputs": [
        {
          "output_type": "display_data",
          "data": {
            "text/plain": [
              "<Figure size 432x288 with 1 Axes>"
            ],
            "image/png": "[encoded data removed]"
          },
          "metadata": {
            "needs_background": "light"
          }
        }
      ]
    },
    {
      "cell_type": "code",
      "source": [
        "pred = model.predict(test)"
      ],
      "metadata": {
        "id": "wAbyr5y3-yyJ"
      },
      "execution_count": null,
      "outputs": []
    },
    {
      "cell_type": "code",
      "source": [
        "submission['value'] = pred"
      ],
      "metadata": {
        "id": "IlO0suqK_C06"
      },
      "execution_count": null,
      "outputs": []
    },
    {
      "cell_type": "code",
      "source": [
        "submission.head() # linear regression"
      ],
      "metadata": {
        "colab": {
          "base_uri": "https://localhost:8080/",
          "height": 206
        },
        "id": "xPmQObJ__ERK",
        "outputId": "7a6dbea2-46e7-48cd-fabc-53d40ec770be"
      },
      "execution_count": null,
      "outputs": [
        {
          "output_type": "execute_result",
          "data": {
            "text/plain": [
              "   id       value\n",
              "0   1  75870000.0\n",
              "1   2  77355000.0\n",
              "2   4  68010000.0\n",
              "3   5  70030000.0\n",
              "4   6  61010000.0"
            ],
            "text/html": [
              "\n",
              "  <div id=\"df-bddf1952-d820-434c-a35c-dc4638ea488c\">\n",
              "    <div class=\"colab-df-container\">\n",
              "      <div>\n",
              "<style scoped>\n",
              "    .dataframe tbody tr th:only-of-type {\n",
              "        vertical-align: middle;\n",
              "    }\n",
              "\n",
              "    .dataframe tbody tr th {\n",
              "        vertical-align: top;\n",
              "    }\n",
              "\n",
              "    .dataframe thead th {\n",
              "        text-align: right;\n",
              "    }\n",
              "</style>\n",
              "<table border=\"1\" class=\"dataframe\">\n",
              "  <thead>\n",
              "    <tr style=\"text-align: right;\">\n",
              "      <th></th>\n",
              "      <th>id</th>\n",
              "      <th>value</th>\n",
              "    </tr>\n",
              "  </thead>\n",
              "  <tbody>\n",
              "    <tr>\n",
              "      <th>0</th>\n",
              "      <td>1</td>\n",
              "      <td>75870000.0</td>\n",
              "    </tr>\n",
              "    <tr>\n",
              "      <th>1</th>\n",
              "      <td>2</td>\n",
              "      <td>77355000.0</td>\n",
              "    </tr>\n",
              "    <tr>\n",
              "      <th>2</th>\n",
              "      <td>4</td>\n",
              "      <td>68010000.0</td>\n",
              "    </tr>\n",
              "    <tr>\n",
              "      <th>3</th>\n",
              "      <td>5</td>\n",
              "      <td>70030000.0</td>\n",
              "    </tr>\n",
              "    <tr>\n",
              "      <th>4</th>\n",
              "      <td>6</td>\n",
              "      <td>61010000.0</td>\n",
              "    </tr>\n",
              "  </tbody>\n",
              "</table>\n",
              "</div>\n",
              "      <button class=\"colab-df-convert\" onclick=\"convertToInteractive('df-bddf1952-d820-434c-a35c-dc4638ea488c')\"\n",
              "              title=\"Convert this dataframe to an interactive table.\"\n",
              "              style=\"display:none;\">\n",
              "        \n",
              "  <svg xmlns=\"http://www.w3.org/2000/svg\" height=\"24px\"viewBox=\"0 0 24 24\"\n",
              "       width=\"24px\">\n",
              "    <path d=\"M0 0h24v24H0V0z\" fill=\"none\"/>\n",
              "    <path d=\"M18.56 5.44l.94 2.06.94-2.06 2.06-.94-2.06-.94-.94-2.06-.94 2.06-2.06.94zm-11 1L8.5 8.5l.94-2.06 2.06-.94-2.06-.94L8.5 2.5l-.94 2.06-2.06.94zm10 10l.94 2.06.94-2.06 2.06-.94-2.06-.94-.94-2.06-.94 2.06-2.06.94z\"/><path d=\"M17.41 7.96l-1.37-1.37c-.4-.4-.92-.59-1.43-.59-.52 0-1.04.2-1.43.59L10.3 9.45l-7.72 7.72c-.78.78-.78 2.05 0 2.83L4 21.41c.39.39.9.59 1.41.59.51 0 1.02-.2 1.41-.59l7.78-7.78 2.81-2.81c.8-.78.8-2.07 0-2.86zM5.41 20L4 18.59l7.72-7.72 1.47 1.35L5.41 20z\"/>\n",
              "  </svg>\n",
              "      </button>\n",
              "      \n",
              "  <style>\n",
              "    .colab-df-container {\n",
              "      display:flex;\n",
              "      flex-wrap:wrap;\n",
              "      gap: 12px;\n",
              "    }\n",
              "\n",
              "    .colab-df-convert {\n",
              "      background-color: #E8F0FE;\n",
              "      border: none;\n",
              "      border-radius: 50%;\n",
              "      cursor: pointer;\n",
              "      display: none;\n",
              "      fill: #1967D2;\n",
              "      height: 32px;\n",
              "      padding: 0 0 0 0;\n",
              "      width: 32px;\n",
              "    }\n",
              "\n",
              "    .colab-df-convert:hover {\n",
              "      background-color: #E2EBFA;\n",
              "      box-shadow: 0px 1px 2px rgba(60, 64, 67, 0.3), 0px 1px 3px 1px rgba(60, 64, 67, 0.15);\n",
              "      fill: #174EA6;\n",
              "    }\n",
              "\n",
              "    [theme=dark] .colab-df-convert {\n",
              "      background-color: #3B4455;\n",
              "      fill: #D2E3FC;\n",
              "    }\n",
              "\n",
              "    [theme=dark] .colab-df-convert:hover {\n",
              "      background-color: #434B5C;\n",
              "      box-shadow: 0px 1px 3px 1px rgba(0, 0, 0, 0.15);\n",
              "      filter: drop-shadow(0px 1px 2px rgba(0, 0, 0, 0.3));\n",
              "      fill: #FFFFFF;\n",
              "    }\n",
              "  </style>\n",
              "\n",
              "      <script>\n",
              "        const buttonEl =\n",
              "          document.querySelector('#df-bddf1952-d820-434c-a35c-dc4638ea488c button.colab-df-convert');\n",
              "        buttonEl.style.display =\n",
              "          google.colab.kernel.accessAllowed ? 'block' : 'none';\n",
              "\n",
              "        async function convertToInteractive(key) {\n",
              "          const element = document.querySelector('#df-bddf1952-d820-434c-a35c-dc4638ea488c');\n",
              "          const dataTable =\n",
              "            await google.colab.kernel.invokeFunction('convertToInteractive',\n",
              "                                                     [key], {});\n",
              "          if (!dataTable) return;\n",
              "\n",
              "          const docLinkHtml = 'Like what you see? Visit the ' +\n",
              "            '<a target=\"_blank\" href=https://colab.research.google.com/notebooks/data_table.ipynb>data table notebook</a>'\n",
              "            + ' to learn more about interactive tables.';\n",
              "          element.innerHTML = '';\n",
              "          dataTable['output_type'] = 'display_data';\n",
              "          await google.colab.output.renderOutput(dataTable, element);\n",
              "          const docLink = document.createElement('div');\n",
              "          docLink.innerHTML = docLinkHtml;\n",
              "          element.appendChild(docLink);\n",
              "        }\n",
              "      </script>\n",
              "    </div>\n",
              "  </div>\n",
              "  "
            ]
          },
          "metadata": {},
          "execution_count": 100
        }
      ]
    },
    {
      "cell_type": "code",
      "source": [
        "# 모델링 \n",
        "from sklearn.ensemble import RandomForestRegressor\n",
        "\n",
        "train_x = train.drop('value', axis=1)\n",
        "train_y = train['value']\n",
        "\n",
        "model = RandomForestRegressor()\n",
        "model.fit(train_x, train_y)"
      ],
      "metadata": {
        "colab": {
          "base_uri": "https://localhost:8080/"
        },
        "id": "pR4SFXX6AAja",
        "outputId": "71053a61-feea-4f0d-f162-bbbcf13215cf"
      },
      "execution_count": null,
      "outputs": [
        {
          "output_type": "execute_result",
          "data": {
            "text/plain": [
              "RandomForestRegressor()"
            ]
          },
          "metadata": {},
          "execution_count": 101
        }
      ]
    },
    {
      "cell_type": "code",
      "source": [
        "pred = model.predict(test)\n",
        "submission['value'] = pred\n",
        "submission.head()"
      ],
      "metadata": {
        "id": "dSWFmTHjACrz"
      },
      "execution_count": null,
      "outputs": []
    },
    {
      "cell_type": "code",
      "source": [
        "submission['value'] = pred"
      ],
      "metadata": {
        "id": "2hf5Q1WAAEqF"
      },
      "execution_count": null,
      "outputs": []
    },
    {
      "cell_type": "code",
      "source": [
        "submission.head()"
      ],
      "metadata": {
        "colab": {
          "base_uri": "https://localhost:8080/",
          "height": 206
        },
        "id": "QBVhOR3BAHDy",
        "outputId": "318765b5-30be-438b-ff36-63c97d71ee96"
      },
      "execution_count": null,
      "outputs": [
        {
          "output_type": "execute_result",
          "data": {
            "text/plain": [
              "   id       value\n",
              "0   1  81620000.0\n",
              "1   2  78990000.0\n",
              "2   4  69340000.0\n",
              "3   5  71580000.0\n",
              "4   6  63540000.0"
            ],
            "text/html": [
              "\n",
              "  <div id=\"df-7eb01baa-9231-477e-b016-a3d2640cdf3b\">\n",
              "    <div class=\"colab-df-container\">\n",
              "      <div>\n",
              "<style scoped>\n",
              "    .dataframe tbody tr th:only-of-type {\n",
              "        vertical-align: middle;\n",
              "    }\n",
              "\n",
              "    .dataframe tbody tr th {\n",
              "        vertical-align: top;\n",
              "    }\n",
              "\n",
              "    .dataframe thead th {\n",
              "        text-align: right;\n",
              "    }\n",
              "</style>\n",
              "<table border=\"1\" class=\"dataframe\">\n",
              "  <thead>\n",
              "    <tr style=\"text-align: right;\">\n",
              "      <th></th>\n",
              "      <th>id</th>\n",
              "      <th>value</th>\n",
              "    </tr>\n",
              "  </thead>\n",
              "  <tbody>\n",
              "    <tr>\n",
              "      <th>0</th>\n",
              "      <td>1</td>\n",
              "      <td>81620000.0</td>\n",
              "    </tr>\n",
              "    <tr>\n",
              "      <th>1</th>\n",
              "      <td>2</td>\n",
              "      <td>78990000.0</td>\n",
              "    </tr>\n",
              "    <tr>\n",
              "      <th>2</th>\n",
              "      <td>4</td>\n",
              "      <td>69340000.0</td>\n",
              "    </tr>\n",
              "    <tr>\n",
              "      <th>3</th>\n",
              "      <td>5</td>\n",
              "      <td>71580000.0</td>\n",
              "    </tr>\n",
              "    <tr>\n",
              "      <th>4</th>\n",
              "      <td>6</td>\n",
              "      <td>63540000.0</td>\n",
              "    </tr>\n",
              "  </tbody>\n",
              "</table>\n",
              "</div>\n",
              "      <button class=\"colab-df-convert\" onclick=\"convertToInteractive('df-7eb01baa-9231-477e-b016-a3d2640cdf3b')\"\n",
              "              title=\"Convert this dataframe to an interactive table.\"\n",
              "              style=\"display:none;\">\n",
              "        \n",
              "  <svg xmlns=\"http://www.w3.org/2000/svg\" height=\"24px\"viewBox=\"0 0 24 24\"\n",
              "       width=\"24px\">\n",
              "    <path d=\"M0 0h24v24H0V0z\" fill=\"none\"/>\n",
              "    <path d=\"M18.56 5.44l.94 2.06.94-2.06 2.06-.94-2.06-.94-.94-2.06-.94 2.06-2.06.94zm-11 1L8.5 8.5l.94-2.06 2.06-.94-2.06-.94L8.5 2.5l-.94 2.06-2.06.94zm10 10l.94 2.06.94-2.06 2.06-.94-2.06-.94-.94-2.06-.94 2.06-2.06.94z\"/><path d=\"M17.41 7.96l-1.37-1.37c-.4-.4-.92-.59-1.43-.59-.52 0-1.04.2-1.43.59L10.3 9.45l-7.72 7.72c-.78.78-.78 2.05 0 2.83L4 21.41c.39.39.9.59 1.41.59.51 0 1.02-.2 1.41-.59l7.78-7.78 2.81-2.81c.8-.78.8-2.07 0-2.86zM5.41 20L4 18.59l7.72-7.72 1.47 1.35L5.41 20z\"/>\n",
              "  </svg>\n",
              "      </button>\n",
              "      \n",
              "  <style>\n",
              "    .colab-df-container {\n",
              "      display:flex;\n",
              "      flex-wrap:wrap;\n",
              "      gap: 12px;\n",
              "    }\n",
              "\n",
              "    .colab-df-convert {\n",
              "      background-color: #E8F0FE;\n",
              "      border: none;\n",
              "      border-radius: 50%;\n",
              "      cursor: pointer;\n",
              "      display: none;\n",
              "      fill: #1967D2;\n",
              "      height: 32px;\n",
              "      padding: 0 0 0 0;\n",
              "      width: 32px;\n",
              "    }\n",
              "\n",
              "    .colab-df-convert:hover {\n",
              "      background-color: #E2EBFA;\n",
              "      box-shadow: 0px 1px 2px rgba(60, 64, 67, 0.3), 0px 1px 3px 1px rgba(60, 64, 67, 0.15);\n",
              "      fill: #174EA6;\n",
              "    }\n",
              "\n",
              "    [theme=dark] .colab-df-convert {\n",
              "      background-color: #3B4455;\n",
              "      fill: #D2E3FC;\n",
              "    }\n",
              "\n",
              "    [theme=dark] .colab-df-convert:hover {\n",
              "      background-color: #434B5C;\n",
              "      box-shadow: 0px 1px 3px 1px rgba(0, 0, 0, 0.15);\n",
              "      filter: drop-shadow(0px 1px 2px rgba(0, 0, 0, 0.3));\n",
              "      fill: #FFFFFF;\n",
              "    }\n",
              "  </style>\n",
              "\n",
              "      <script>\n",
              "        const buttonEl =\n",
              "          document.querySelector('#df-7eb01baa-9231-477e-b016-a3d2640cdf3b button.colab-df-convert');\n",
              "        buttonEl.style.display =\n",
              "          google.colab.kernel.accessAllowed ? 'block' : 'none';\n",
              "\n",
              "        async function convertToInteractive(key) {\n",
              "          const element = document.querySelector('#df-7eb01baa-9231-477e-b016-a3d2640cdf3b');\n",
              "          const dataTable =\n",
              "            await google.colab.kernel.invokeFunction('convertToInteractive',\n",
              "                                                     [key], {});\n",
              "          if (!dataTable) return;\n",
              "\n",
              "          const docLinkHtml = 'Like what you see? Visit the ' +\n",
              "            '<a target=\"_blank\" href=https://colab.research.google.com/notebooks/data_table.ipynb>data table notebook</a>'\n",
              "            + ' to learn more about interactive tables.';\n",
              "          element.innerHTML = '';\n",
              "          dataTable['output_type'] = 'display_data';\n",
              "          await google.colab.output.renderOutput(dataTable, element);\n",
              "          const docLink = document.createElement('div');\n",
              "          docLink.innerHTML = docLinkHtml;\n",
              "          element.appendChild(docLink);\n",
              "        }\n",
              "      </script>\n",
              "    </div>\n",
              "  </div>\n",
              "  "
            ]
          },
          "metadata": {},
          "execution_count": 104
        }
      ]
    },
    {
      "cell_type": "code",
      "source": [
        "import matplotlib.pyplot  as plt\n",
        "_ = plt.hist(submission)"
      ],
      "metadata": {
        "colab": {
          "base_uri": "https://localhost:8080/",
          "height": 281
        },
        "id": "EWrnO-RWG1wc",
        "outputId": "22993efd-98fb-4ab3-874b-8f5a80fe4dca"
      },
      "execution_count": null,
      "outputs": [
        {
          "output_type": "display_data",
          "data": {
            "text/plain": [
              "<Figure size 432x288 with 1 Axes>"
            ],
            "image/png": "[encoded data removed]"
          },
          "metadata": {
            "needs_background": "light"
          }
        }
      ]
    },
    {
      "cell_type": "code",
      "source": [
        "# 정규화에서 원위치 시키는 방법\n",
        "y_test = sc_y.inverse_transform(np.expand_dims(y_test,1)).flatten() # 인풋은 .flatten 처리 해야합니다.\n",
        "_ = plt.hist(y_test)\n",
        "# inverse_transform()\n"
      ],
      "metadata": {
        "colab": {
          "base_uri": "https://localhost:8080/",
          "height": 278
        },
        "id": "t_3QkSMSEMvx",
        "outputId": "5a899e91-0685-421b-dd8a-995411b8b880"
      },
      "execution_count": null,
      "outputs": [
        {
          "output_type": "display_data",
          "data": {
            "text/plain": [
              "<Figure size 432x288 with 1 Axes>"
            ],
            "image/png": "[encoded data removed]"
          },
          "metadata": {
            "needs_background": "light"
          }
        }
      ]
    },
    {
      "cell_type": "code",
      "source": [
        "# 모델링 \n",
        "from sklearn.preprocessing import PolynomialFeatures\n",
        "\n",
        "train_x = train.drop('value', axis=1)\n",
        "train_y = train['value']\n",
        "\n",
        "model = RandomForestRegressor()\n",
        "model.fit(train_x, train_y)\n",
        "\n",
        "lr3 = LinearRegression()\n",
        "cubic = PolynomialFeatures(degree=3)\n",
        "X_cubic = cubic.fit_transform(X_train)\n",
        "lr3.fit(X_cubic, y_train)\n",
        "\n",
        "pred = model.predict(test)\n",
        "submission['value'] = pred\n",
        "submission.head()"
      ],
      "metadata": {
        "colab": {
          "base_uri": "https://localhost:8080/",
          "height": 206
        },
        "id": "OBAUyJ4GAcVi",
        "outputId": "7091cdff-325b-41d4-a382-1b56687d23bc"
      },
      "execution_count": null,
      "outputs": [
        {
          "output_type": "execute_result",
          "data": {
            "text/plain": [
              "   id       value\n",
              "0   1  75060000.0\n",
              "1   2  79345000.0\n",
              "2   4  69030000.0\n",
              "3   5  71440000.0\n",
              "4   6  62125000.0"
            ],
            "text/html": [
              "\n",
              "  <div id=\"df-2438f8e3-ce95-408a-acfb-fe5cb017e7ec\">\n",
              "    <div class=\"colab-df-container\">\n",
              "      <div>\n",
              "<style scoped>\n",
              "    .dataframe tbody tr th:only-of-type {\n",
              "        vertical-align: middle;\n",
              "    }\n",
              "\n",
              "    .dataframe tbody tr th {\n",
              "        vertical-align: top;\n",
              "    }\n",
              "\n",
              "    .dataframe thead th {\n",
              "        text-align: right;\n",
              "    }\n",
              "</style>\n",
              "<table border=\"1\" class=\"dataframe\">\n",
              "  <thead>\n",
              "    <tr style=\"text-align: right;\">\n",
              "      <th></th>\n",
              "      <th>id</th>\n",
              "      <th>value</th>\n",
              "    </tr>\n",
              "  </thead>\n",
              "  <tbody>\n",
              "    <tr>\n",
              "      <th>0</th>\n",
              "      <td>1</td>\n",
              "      <td>75060000.0</td>\n",
              "    </tr>\n",
              "    <tr>\n",
              "      <th>1</th>\n",
              "      <td>2</td>\n",
              "      <td>79345000.0</td>\n",
              "    </tr>\n",
              "    <tr>\n",
              "      <th>2</th>\n",
              "      <td>4</td>\n",
              "      <td>69030000.0</td>\n",
              "    </tr>\n",
              "    <tr>\n",
              "      <th>3</th>\n",
              "      <td>5</td>\n",
              "      <td>71440000.0</td>\n",
              "    </tr>\n",
              "    <tr>\n",
              "      <th>4</th>\n",
              "      <td>6</td>\n",
              "      <td>62125000.0</td>\n",
              "    </tr>\n",
              "  </tbody>\n",
              "</table>\n",
              "</div>\n",
              "      <button class=\"colab-df-convert\" onclick=\"convertToInteractive('df-2438f8e3-ce95-408a-acfb-fe5cb017e7ec')\"\n",
              "              title=\"Convert this dataframe to an interactive table.\"\n",
              "              style=\"display:none;\">\n",
              "        \n",
              "  <svg xmlns=\"http://www.w3.org/2000/svg\" height=\"24px\"viewBox=\"0 0 24 24\"\n",
              "       width=\"24px\">\n",
              "    <path d=\"M0 0h24v24H0V0z\" fill=\"none\"/>\n",
              "    <path d=\"M18.56 5.44l.94 2.06.94-2.06 2.06-.94-2.06-.94-.94-2.06-.94 2.06-2.06.94zm-11 1L8.5 8.5l.94-2.06 2.06-.94-2.06-.94L8.5 2.5l-.94 2.06-2.06.94zm10 10l.94 2.06.94-2.06 2.06-.94-2.06-.94-.94-2.06-.94 2.06-2.06.94z\"/><path d=\"M17.41 7.96l-1.37-1.37c-.4-.4-.92-.59-1.43-.59-.52 0-1.04.2-1.43.59L10.3 9.45l-7.72 7.72c-.78.78-.78 2.05 0 2.83L4 21.41c.39.39.9.59 1.41.59.51 0 1.02-.2 1.41-.59l7.78-7.78 2.81-2.81c.8-.78.8-2.07 0-2.86zM5.41 20L4 18.59l7.72-7.72 1.47 1.35L5.41 20z\"/>\n",
              "  </svg>\n",
              "      </button>\n",
              "      \n",
              "  <style>\n",
              "    .colab-df-container {\n",
              "      display:flex;\n",
              "      flex-wrap:wrap;\n",
              "      gap: 12px;\n",
              "    }\n",
              "\n",
              "    .colab-df-convert {\n",
              "      background-color: #E8F0FE;\n",
              "      border: none;\n",
              "      border-radius: 50%;\n",
              "      cursor: pointer;\n",
              "      display: none;\n",
              "      fill: #1967D2;\n",
              "      height: 32px;\n",
              "      padding: 0 0 0 0;\n",
              "      width: 32px;\n",
              "    }\n",
              "\n",
              "    .colab-df-convert:hover {\n",
              "      background-color: #E2EBFA;\n",
              "      box-shadow: 0px 1px 2px rgba(60, 64, 67, 0.3), 0px 1px 3px 1px rgba(60, 64, 67, 0.15);\n",
              "      fill: #174EA6;\n",
              "    }\n",
              "\n",
              "    [theme=dark] .colab-df-convert {\n",
              "      background-color: #3B4455;\n",
              "      fill: #D2E3FC;\n",
              "    }\n",
              "\n",
              "    [theme=dark] .colab-df-convert:hover {\n",
              "      background-color: #434B5C;\n",
              "      box-shadow: 0px 1px 3px 1px rgba(0, 0, 0, 0.15);\n",
              "      filter: drop-shadow(0px 1px 2px rgba(0, 0, 0, 0.3));\n",
              "      fill: #FFFFFF;\n",
              "    }\n",
              "  </style>\n",
              "\n",
              "      <script>\n",
              "        const buttonEl =\n",
              "          document.querySelector('#df-2438f8e3-ce95-408a-acfb-fe5cb017e7ec button.colab-df-convert');\n",
              "        buttonEl.style.display =\n",
              "          google.colab.kernel.accessAllowed ? 'block' : 'none';\n",
              "\n",
              "        async function convertToInteractive(key) {\n",
              "          const element = document.querySelector('#df-2438f8e3-ce95-408a-acfb-fe5cb017e7ec');\n",
              "          const dataTable =\n",
              "            await google.colab.kernel.invokeFunction('convertToInteractive',\n",
              "                                                     [key], {});\n",
              "          if (!dataTable) return;\n",
              "\n",
              "          const docLinkHtml = 'Like what you see? Visit the ' +\n",
              "            '<a target=\"_blank\" href=https://colab.research.google.com/notebooks/data_table.ipynb>data table notebook</a>'\n",
              "            + ' to learn more about interactive tables.';\n",
              "          element.innerHTML = '';\n",
              "          dataTable['output_type'] = 'display_data';\n",
              "          await google.colab.output.renderOutput(dataTable, element);\n",
              "          const docLink = document.createElement('div');\n",
              "          docLink.innerHTML = docLinkHtml;\n",
              "          element.appendChild(docLink);\n",
              "        }\n",
              "      </script>\n",
              "    </div>\n",
              "  </div>\n",
              "  "
            ]
          },
          "metadata": {},
          "execution_count": 105
        }
      ]
    },
    {
      "cell_type": "code",
      "source": [
        "submission = sc_y.inverse_transform(submission)\n",
        "submission"
      ],
      "metadata": {
        "colab": {
          "base_uri": "https://localhost:8080/"
        },
        "id": "XA1BHgywFjHv",
        "outputId": "0c82b6c4-cda5-4788-d8fa-8963f163f1e0"
      },
      "execution_count": null,
      "outputs": [
        {
          "output_type": "execute_result",
          "data": {
            "text/plain": [
              "array([[2.92103982e+20, 1.54383012e+28],\n",
              "       [4.89980182e+20, 1.54887597e+28],\n",
              "       [8.85732582e+20, 1.33655480e+28],\n",
              "       ...,\n",
              "       [3.35053405e+24, 1.18726662e+25],\n",
              "       [3.35152343e+24, 1.01313557e+25],\n",
              "       [3.35271069e+24, 1.02302938e+25]])"
            ]
          },
          "metadata": {},
          "execution_count": 232
        }
      ]
    },
    {
      "cell_type": "markdown",
      "source": [
        "##### 문제에서는 RMSE를 기준으로 최적화 검사를 진행하라는 지시가 있었고, 가장 정밀도가 높은 모델이 3차항으로 나오게 되었습니다.\n",
        "___"
      ],
      "metadata": {
        "id": "dIr4pRj9BhRx"
      }
    },
    {
      "cell_type": "code",
      "source": [
        "submission.to_csv('미래 선수가치 자료.csv', index=False)"
      ],
      "metadata": {
        "id": "IetLGUWWCAzN"
      },
      "execution_count": null,
      "outputs": []
    },
    {
      "cell_type": "markdown",
      "source": [
        "## 데이터를 정규화 하는 두 가지 방법\n",
        "### 1. Min-Max Normalization(최소-최대 정규화)\n",
        "### 2. Z-Score Normalizarion(Z-점수 정규화)"
      ],
      "metadata": {
        "id": "39_BB8pQXMEI"
      }
    },
    {
      "cell_type": "code",
      "source": [
        "# 최소-최대 정규화\n",
        "def min_max_normalize(lst):\n",
        "    normalized = []\n",
        "    \n",
        "    for value in lst:\n",
        "        normalized_num = (value - min(lst)) / (max(lst) - min(lst))\n",
        "        normalized.append(normalized_num)\n",
        "    \n",
        "    return normalized\n",
        "# 이상치(outlier)에 너무 많은 영향을 받습니다."
      ],
      "metadata": {
        "id": "OiWtHT_9Xaba"
      },
      "execution_count": null,
      "outputs": []
    },
    {
      "cell_type": "code",
      "source": [
        "# Z-점수 정규화는 이상치(outlier) 문제를 피하는 데이터 정규화 전략입니다.\n",
        "# X라는 값을 Z-점수로 바꿔줍니다. [식 : ( X - 평균 ) / 표준편차 ]\n",
        "# 만약 feature의 값이 평균과 일치하면 0으로 정규화되겠으나, 평균보다 작으면 음수, 평균보다 크면 양수로 나타납니다. \n",
        "# 데이터의 표준편차가 크면 (값이 넓게 퍼져있으면) 정규화되는 값이 0에 가까워집니다.\n",
        "\n",
        "def z_score_normalize(lst):\n",
        "    normalized = []\n",
        "    for value in lst:\n",
        "        normalized_num = (value - np.mean(lst)) / np.std(lst)\n",
        "        normalized.append(normalized_num)\n",
        "    return normalized"
      ],
      "metadata": {
        "id": "klp44BwnYUSt"
      },
      "execution_count": null,
      "outputs": []
    },
    {
      "cell_type": "code",
      "source": [
        "# 최소 최대 정규화 : 모든 feature들의 스케일이 동일하지만, 이상치를 잘 처리하지 못합니다.\n",
        "# Z-점수 정규화 : 이상치를 잘 처리하지만, 정확히 동일한 척도로 정규화 된 데이터를 생성하지는 않습니다.\n"
      ],
      "metadata": {
        "id": "vGWfNFTgZdOJ"
      },
      "execution_count": null,
      "outputs": []
    }
  ]
}