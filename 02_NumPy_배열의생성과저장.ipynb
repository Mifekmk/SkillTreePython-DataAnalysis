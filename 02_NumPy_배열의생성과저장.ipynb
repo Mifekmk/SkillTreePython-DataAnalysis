{
  "nbformat": 4,
  "nbformat_minor": 0,
  "metadata": {
    "colab": {
      "name": "02_NumPy-배열의생성과저장.ipynb",
      "provenance": [],
      "collapsed_sections": [],
      "include_colab_link": true
    },
    "kernelspec": {
      "name": "python3",
      "display_name": "Python 3"
    },
    "language_info": {
      "name": "python"
    }
  },
  "cells": [
    {
      "cell_type": "markdown",
      "metadata": {
        "id": "view-in-github",
        "colab_type": "text"
      },
      "source": [
        "<a href=\"https://colab.research.google.com/github/Mifekmk/SkillTreePython-DataAnalysis/blob/main/02_NumPy_%EB%B0%B0%EC%97%B4%EC%9D%98%EC%83%9D%EC%84%B1%EA%B3%BC%EC%A0%80%EC%9E%A5.ipynb\" target=\"_parent\"><img src=\"https://colab.research.google.com/assets/colab-badge.svg\" alt=\"Open In Colab\"/></a>"
      ]
    },
    {
      "cell_type": "markdown",
      "metadata": {
        "id": "jgFAOz-Tw1VI"
      },
      "source": [
        "# CH02. Numpy  - 배열의 생성과 저장\n",
        "\n",
        "---\n",
        "* 날짜: 2022-04-11\n",
        "* 이름: 김민규\n"
      ]
    },
    {
      "cell_type": "markdown",
      "source": [
        "## 개념정리\n",
        "\n",
        "`Numpy`(Numerical Python)는 포괄적인 함수, 난수생성, 선형대수학 등 고성능 수학 및 과학 계산에 효울적인 파이썬 라이브러리 입니다. 계산의 편리를 위한 배열(array)를 제공하며 이 배열은 파이썬의 list와 비슷하지만 다차원 데이터를 처리할 수 있고 더 효과적인 다차원 연산이 가능합니다. `Numpy`는 데이터과학의 핵심이라 할 수 있습니다.\n",
        "\n",
        "\n",
        "> [NumPy Hompage](https://numpy.org/)\n",
        "\n",
        "\n",
        "\n",
        "```\n",
        "import numpy as np\n",
        "```\n"
      ],
      "metadata": {
        "id": "i1Rco0Orob6Z"
      }
    },
    {
      "cell_type": "code",
      "source": [
        "import numpy as np"
      ],
      "metadata": {
        "id": "3IDspyuAtqd7"
      },
      "execution_count": null,
      "outputs": []
    },
    {
      "cell_type": "markdown",
      "metadata": {
        "id": "HjPXsM8C5ULZ"
      },
      "source": [
        "---\n",
        "### **(1) 리스트와 배열**\n",
        "---\n",
        "\n",
        "넘파이의 배열은 파이썬 리스트와 잘 호환 됩니다. 리스트를 생성해 봅시다. \n",
        "\n",
        "```\n",
        "l = [1,2,3,4,5]\n",
        "```\n"
      ]
    },
    {
      "cell_type": "code",
      "source": [
        "l = [[1,2,3,4,5],\n",
        "     [1,2,3,4,5]]\n",
        "J = [[1,2],\n",
        "     [3,4]]\n",
        "k = [1,2,3,4,5]"
      ],
      "metadata": {
        "id": "NHAp3qbStddi"
      },
      "execution_count": null,
      "outputs": []
    },
    {
      "cell_type": "markdown",
      "source": [
        "* `np.array(l)` : 리스트 `l`을 넘파이 배열로 변환합니다. \n",
        "\n",
        "이제 이 리스트를 넘파이 배열로 변환해 봅시다. \n",
        "\n",
        "```\n",
        "a = np.array(l)\n",
        "```"
      ],
      "metadata": {
        "id": "_uucUoA4fcgT"
      }
    },
    {
      "cell_type": "code",
      "metadata": {
        "id": "9pxx7Zy53xFz",
        "colab": {
          "base_uri": "https://localhost:8080/"
        },
        "outputId": "408f4234-a5f4-467a-db6b-6443605741f2"
      },
      "source": [
        "a = np.array(l)\n",
        "b = np.array(J)\n",
        "print(a)\n",
        "print(b)"
      ],
      "execution_count": null,
      "outputs": [
        {
          "output_type": "stream",
          "name": "stdout",
          "text": [
            "[[1 2 3 4 5]\n",
            " [1 2 3 4 5]]\n",
            "[[1 2]\n",
            " [3 4]]\n"
          ]
        }
      ]
    },
    {
      "cell_type": "markdown",
      "source": [
        "데이터 분석에서 중요한 것은 데이터의 형태 `shape` 입니다. 항상 데이터의 `shape`를 중간중간 확인하는 것을 잊지 마세요. 넘파이 배열에서는 형태를 `.shape`를 써서 확인합니다. \n",
        "\n",
        "* `.shape` : 넘파이 배열의 형태 (shape)를 반환합니다.\n",
        "\n",
        "```\n",
        "a.shape\n",
        "```"
      ],
      "metadata": {
        "id": "LA9jo1F0fe2S"
      }
    },
    {
      "cell_type": "code",
      "source": [
        "print(a.shape)\n",
        "b.shape"
      ],
      "metadata": {
        "id": "iT9T5BGTfDJG",
        "colab": {
          "base_uri": "https://localhost:8080/"
        },
        "outputId": "5ed830ce-377b-44ed-9930-77f5c72ba46d"
      },
      "execution_count": null,
      "outputs": [
        {
          "output_type": "stream",
          "name": "stdout",
          "text": [
            "(2, 5)\n"
          ]
        },
        {
          "output_type": "execute_result",
          "data": {
            "text/plain": [
              "(2, 2)"
            ]
          },
          "metadata": {},
          "execution_count": 21
        }
      ]
    },
    {
      "cell_type": "markdown",
      "source": [
        "#### **| 연습문제**\n",
        "\n",
        "\n"
      ],
      "metadata": {
        "id": "NQ_GbYiXLN2i"
      }
    },
    {
      "cell_type": "markdown",
      "source": [
        "**연습 01**\n",
        "\n",
        "아래 그림과 같은 1차원 배열을 생성하고 `shape`를 확인해 보세요.\n",
        "\n",
        "<p align='center'>\n",
        "<img src=https://github.com/yebiny/SkillTreePython-DataAnalysis/blob/main/imgs/ch0102-01.png?raw=trueA width=240>\n",
        "</p>"
      ],
      "metadata": {
        "id": "ey_R7ZgXnHdp"
      }
    },
    {
      "cell_type": "code",
      "source": [
        "a1 = np.array([1,4,1,0,1,2])\n",
        "a1, a1.shape"
      ],
      "metadata": {
        "id": "XUKKRTSJAsMa",
        "colab": {
          "base_uri": "https://localhost:8080/"
        },
        "outputId": "f8964e10-bbb3-43b0-a427-30cc538fa26a"
      },
      "execution_count": null,
      "outputs": [
        {
          "output_type": "execute_result",
          "data": {
            "text/plain": [
              "(array([1, 4, 1, 0, 1, 2]), (6,))"
            ]
          },
          "metadata": {},
          "execution_count": 26
        }
      ]
    },
    {
      "cell_type": "markdown",
      "source": [
        "**연습 02**\n",
        "\n",
        "아래 그림과 같은 2차원 배열을 생성하고 `shape`를 확인해 보세요. `shape`는 `(5,2)` 이 되게 하세요.\n",
        "\n",
        "<p align='center'>\n",
        "<img src=https://github.com/yebiny/SkillTreePython-DataAnalysis/blob/main/imgs/ch0102-02.png?raw=trueA width=80>\n",
        "</p>"
      ],
      "metadata": {
        "id": "INo5QbOMAsrz"
      }
    },
    {
      "cell_type": "code",
      "source": [
        "a2 = np.array([[1,4],\n",
        "               [1,0],\n",
        "               [1,3],\n",
        "               [2,2],\n",
        "               [0,2]])\n",
        "\n",
        "a2, a2.shape"
      ],
      "metadata": {
        "id": "UexbNikAAsrz",
        "colab": {
          "base_uri": "https://localhost:8080/"
        },
        "outputId": "32833213-cba4-4fc1-ce55-c6db675f6dc9"
      },
      "execution_count": null,
      "outputs": [
        {
          "output_type": "execute_result",
          "data": {
            "text/plain": [
              "(array([[1, 4],\n",
              "        [1, 0],\n",
              "        [1, 3],\n",
              "        [2, 2],\n",
              "        [0, 2]]), (5, 2))"
            ]
          },
          "metadata": {},
          "execution_count": 39
        }
      ]
    },
    {
      "cell_type": "markdown",
      "source": [
        "**연습 03**\n",
        "\n",
        "아래 그림과 같은 2차원 배열을 생성하고 `shape`를 확인해 보세요. `shape`는 `(6,2)` 가 되게 하세요.\n",
        "\n",
        "<p align='center'>\n",
        "<img src=https://github.com/yebiny/SkillTreePython-DataAnalysis/blob/main/imgs/ch0102-03.png?raw=trueA width=120>\n",
        "</p>"
      ],
      "metadata": {
        "id": "HJjDfShsAtvU"
      }
    },
    {
      "cell_type": "code",
      "source": [
        "a3 = np.array([[1,4,1],\n",
        "               [1,0,0]])\n",
        "a3, a3.shape"
      ],
      "metadata": {
        "id": "uas_Ih4NAtvU",
        "colab": {
          "base_uri": "https://localhost:8080/"
        },
        "outputId": "3ea99399-a55e-4959-85c1-3e8472d649cc"
      },
      "execution_count": null,
      "outputs": [
        {
          "output_type": "execute_result",
          "data": {
            "text/plain": [
              "(array([[1, 4, 1],\n",
              "        [1, 0, 0]]), (2, 3))"
            ]
          },
          "metadata": {},
          "execution_count": 43
        }
      ]
    },
    {
      "cell_type": "markdown",
      "source": [
        "**연습 04**\n",
        "\n",
        "위에서 만든 배열을 겹쳐서 3차원으로 확장해 보았습니다. 아래 그림과 같은 3차원 배열을 생성하고 `shape`를 확인해 보세요.\n",
        "\n",
        "<p align='center'>\n",
        "<img src=https://github.com/yebiny/SkillTreePython-DataAnalysis/blob/main/imgs/ch0102-04.png?raw=trueA width=120>\n",
        "</p>"
      ],
      "metadata": {
        "id": "UKEOKblMAt-c"
      }
    },
    {
      "cell_type": "code",
      "source": [
        "a4 = np.array([[1,4,1],\n",
        "               [1,0,0] ])\n",
        "a5 = np.array([[1,4,1],\n",
        "               [1,0,0] ])\n",
        "new_array = np.array((a4,a5))\n",
        "print(new_array)\n",
        "new_array.shape # (개수, 행, 렬)\n",
        "#_______________________________________________________________________________\n",
        "a6 = np.array([[[1,4,1],\n",
        "               [1,0,0]],\n",
        "              [[1,4,1],\n",
        "               [1,0,0]]])\n",
        "a6.shape"
      ],
      "metadata": {
        "id": "0mrII1a3At-c",
        "colab": {
          "base_uri": "https://localhost:8080/"
        },
        "outputId": "71c1aa17-9298-4600-b461-e445f6ff0da2"
      },
      "execution_count": null,
      "outputs": [
        {
          "output_type": "stream",
          "name": "stdout",
          "text": [
            "[[[1 4 1]\n",
            "  [1 0 0]]\n",
            "\n",
            " [[1 4 1]\n",
            "  [1 0 0]]]\n"
          ]
        },
        {
          "output_type": "execute_result",
          "data": {
            "text/plain": [
              "(2, 2, 3)"
            ]
          },
          "metadata": {},
          "execution_count": 51
        }
      ]
    },
    {
      "cell_type": "markdown",
      "metadata": {
        "id": "4_c_ih5uuesx"
      },
      "source": [
        "---\n",
        "### **(2) 기본 배열 생성**\n",
        "---\n",
        "\n",
        "\n",
        "* `np.empty(shape)` : `shape` 형태를 가진 빈 배열을 생성합니다. \n",
        "\n",
        "\n",
        "넘파이에서 배열을 생성하기 위해서는 기본적으로 생성할 배열에 대한 형태(shape)를 알고, 이를 기입해야 합니다. \n",
        "\n",
        "우선 위에서 만들었던 리스트와 같이 길이 5의 빈 배열을 만들어 봅시다. \n",
        "\n",
        "\n",
        "이렇게 생성된 배열에는 예상하지 못한 임의의 값이 들어있습니다. \n",
        "\n",
        "```\n",
        "a = np.empty(5)\n",
        "print(a)\n",
        "```\n"
      ]
    },
    {
      "cell_type": "code",
      "source": [
        "a = np.empty(3)\n",
        "print(a)\n",
        "\n",
        "k = np.empty(7)\n",
        "print(k)"
      ],
      "metadata": {
        "id": "iPTHwWQEuesz",
        "colab": {
          "base_uri": "https://localhost:8080/"
        },
        "outputId": "06e74381-2d69-4300-88c8-8d6563754e9a"
      },
      "execution_count": null,
      "outputs": [
        {
          "output_type": "stream",
          "name": "stdout",
          "text": [
            "[7.74860419e-304 7.74860419e-304 7.74860419e-304]\n",
            "[4.67518152e-310 4.67518097e-310 0.00000000e+000 0.00000000e+000\n",
            " 3.22204911e-319 4.67518203e-310 2.12199579e-313]\n"
          ]
        }
      ]
    },
    {
      "cell_type": "markdown",
      "source": [
        "#### **| 초기값 정하기**\n",
        "\n",
        "특정 형태의 배열을 만들고 초기값을 바로 세팅하고 싶다면 다음 함수를 사용합니다. \n",
        "\n",
        "* `np.zeros(shape)` : `shape` 형태를 가지고 모든 값이 `0`인 배열을 생성합니다. \n",
        "* `np.ones(shape)` : `shape` 형태를 가지고 모든 값이 `1`인 배열을 생성합니다.\n",
        "* `np.full(shape, n)` : `shape` 형태를 가지고 모든 값이 `n`인 배열을 생성합니다.\n",
        "* `np.eye(n)` : `n x n` 의 단위행렬(identity matrix)를 생성합니다. \n",
        "\n",
        "\n",
        "단위행렬이란 주대각선의 원소가 모두 1이고 나머지 원소는 모두 0인 정사각 행렬입니다. \n",
        "\n",
        "`np.eye`를 이용해 `3x3` 단위행렬을 만들고 어떻게 생겼는지 확인해 봅시다. \n",
        "\n",
        "```\n",
        "np.eye(3)\n",
        "```\n",
        "\n",
        "\n",
        "\n"
      ],
      "metadata": {
        "id": "1tfrhr8r1_zo"
      }
    },
    {
      "cell_type": "code",
      "source": [
        "np.eye(3)"
      ],
      "metadata": {
        "id": "qbCFXw__3d6h",
        "colab": {
          "base_uri": "https://localhost:8080/"
        },
        "outputId": "97bb8dbc-bd7b-45a1-b574-b071d150f9c2"
      },
      "execution_count": null,
      "outputs": [
        {
          "output_type": "execute_result",
          "data": {
            "text/plain": [
              "array([[1., 0., 0.],\n",
              "       [0., 1., 0.],\n",
              "       [0., 0., 1.]])"
            ]
          },
          "metadata": {},
          "execution_count": 60
        }
      ]
    },
    {
      "cell_type": "markdown",
      "source": [
        "길이가 `10`이고 모든 값이 `2` 로 이루어진 배열을 생성해 봅시다. \n",
        "\n",
        "```\n",
        "np.full(10, 2)\n",
        "\n",
        "```"
      ],
      "metadata": {
        "id": "FUPRtWGL3d-0"
      }
    },
    {
      "cell_type": "code",
      "source": [
        "np.full(10,2)"
      ],
      "metadata": {
        "id": "si97tNl7vSST",
        "colab": {
          "base_uri": "https://localhost:8080/"
        },
        "outputId": "3624a05c-0884-4036-82dc-ae31febc6bd1"
      },
      "execution_count": null,
      "outputs": [
        {
          "output_type": "execute_result",
          "data": {
            "text/plain": [
              "array([2, 2, 2, 2, 2, 2, 2, 2, 2, 2])"
            ]
          },
          "metadata": {},
          "execution_count": 62
        }
      ]
    },
    {
      "cell_type": "markdown",
      "source": [
        "#### **| 값 범위 정하기**\n",
        "\n",
        "파이썬의 `range`와 마찬가지로 넘파이에도 값의 범위를 정해주는 함수들이 있습니다. \n",
        "\n",
        "* `np.arrange(start, end, step)` : 파이썬의 `range` 와 알고리즘이 똑같으며 값의 시작, 끝, 스텝을 지정할 수 있습니다. \n",
        "\n",
        "* `np.linspace(start, end, bins)` : 값의 시작, 끝, 그리고 이 사이를 몇개로 나눌 것인지 정합니다. \n",
        "\n",
        "* `np.logspace(start, end, bins)` : `np.linspace()`와 논리가 같으나 이를 로그 스케일로 생성합니다. \n",
        "\n",
        "\n",
        "```\n",
        "np.arange(0,100,10)\n",
        "```\n",
        "\n",
        "\n",
        "\n"
      ],
      "metadata": {
        "id": "sb9wEPV131Ex"
      }
    },
    {
      "cell_type": "code",
      "source": [
        "np.arange(0,100,10)"
      ],
      "metadata": {
        "id": "0dCf2s6l31E4",
        "colab": {
          "base_uri": "https://localhost:8080/"
        },
        "outputId": "94636e04-d804-4379-b291-59465d41fa1b"
      },
      "execution_count": null,
      "outputs": [
        {
          "output_type": "execute_result",
          "data": {
            "text/plain": [
              "array([ 0, 10, 20, 30, 40, 50, 60, 70, 80, 90])"
            ]
          },
          "metadata": {},
          "execution_count": 64
        }
      ]
    },
    {
      "cell_type": "markdown",
      "source": [
        "위와 똑같은 결과를 `linspace`를 이용해 얻기 위해서는 처음값 위 배열의 처음 값 `0`, 끝값`90`, 배열의 총 길이 `10`을 적어줘야 합니다.  \n",
        "\n",
        "```\n",
        "np.linspace(0,90,10)\n",
        "```"
      ],
      "metadata": {
        "id": "GJA-3R-U43eq"
      }
    },
    {
      "cell_type": "code",
      "source": [
        "np.linspace(0, 90, 10) # (첫 값, 끝 값, 배열안의 데이터 개수)"
      ],
      "metadata": {
        "id": "Fyg_F14p4sOv",
        "colab": {
          "base_uri": "https://localhost:8080/"
        },
        "outputId": "285ecd34-1362-498d-f9d4-39c37036dde2"
      },
      "execution_count": null,
      "outputs": [
        {
          "output_type": "execute_result",
          "data": {
            "text/plain": [
              "array([ 0., 10., 20., 30., 40., 50., 60., 70., 80., 90.])"
            ]
          },
          "metadata": {},
          "execution_count": 68
        }
      ]
    },
    {
      "cell_type": "code",
      "source": [
        "np.linspace(0, 90, 30)"
      ],
      "metadata": {
        "colab": {
          "base_uri": "https://localhost:8080/"
        },
        "id": "8sP2oRR-dPM9",
        "outputId": "02a2debe-f4df-4337-ecc7-31adf459797b"
      },
      "execution_count": null,
      "outputs": [
        {
          "output_type": "execute_result",
          "data": {
            "text/plain": [
              "array([ 0.        ,  3.10344828,  6.20689655,  9.31034483, 12.4137931 ,\n",
              "       15.51724138, 18.62068966, 21.72413793, 24.82758621, 27.93103448,\n",
              "       31.03448276, 34.13793103, 37.24137931, 40.34482759, 43.44827586,\n",
              "       46.55172414, 49.65517241, 52.75862069, 55.86206897, 58.96551724,\n",
              "       62.06896552, 65.17241379, 68.27586207, 71.37931034, 74.48275862,\n",
              "       77.5862069 , 80.68965517, 83.79310345, 86.89655172, 90.        ])"
            ]
          },
          "metadata": {},
          "execution_count": 69
        }
      ]
    },
    {
      "cell_type": "markdown",
      "metadata": {
        "id": "fZH9KG0L5dE4"
      },
      "source": [
        "\n",
        "#### **| 형태 복사하기**\n",
        "\n",
        "\n",
        "이미 생성되어 있는 배열과 똑같은 `shape`를 쉽게 만들기 위해서는 `_like` 함수를 사용합니다.\n",
        "\n",
        "* `np.empty_like(a)` :배열 `a`와 같은 형태를 가진 빈 배열을 생성합니다. \n",
        "* `np.zeros_like(a)` : 배열 `a`와 같은 형태를 가지고 모든 값이 `0`인 배열을 생성합니다.  \n",
        "* `np.ones_like(a)` : 배열 `a`와 같은 형태를 가지고 모든 값이 `1`인 배열을 생성합니다.  \n",
        "* `np.full_like(a, n)` : 배열 `a`와 같은 형태를 가지고 모든 값이 `n`인 배열을 생성합니다.  \n",
        "\n",
        "\n",
        "\n",
        "배열 `a`가 다음과 같이 정의 되어 있고 앞서 배운 `ones`를 이용해 `a`와 형태가 같지만 값이 모두 `1`인 배열 `b`를 만들어 봅시다. \n",
        "\n",
        "```\n",
        "a = np.array([1,2,3,4,5,6])\n",
        "b = np.ones(6)\n",
        "print(b)\n",
        "```\n"
      ]
    },
    {
      "cell_type": "code",
      "source": [
        "a = np.array([1,2,3,4,5,6])\n",
        "b = np.ones(6)\n",
        "print(b)"
      ],
      "metadata": {
        "id": "qTPBGFPT5dE5",
        "colab": {
          "base_uri": "https://localhost:8080/"
        },
        "outputId": "c76702eb-60ee-4004-e20a-979998cc8936"
      },
      "execution_count": null,
      "outputs": [
        {
          "output_type": "stream",
          "name": "stdout",
          "text": [
            "[1. 1. 1. 1. 1. 1.]\n"
          ]
        }
      ]
    },
    {
      "cell_type": "markdown",
      "source": [
        "이를 `np.oens_like`를 이용하면 아래와 같이 작성하면 됩니다.\n",
        "\n",
        "보통 모방하는 배열 `a`의 정확한 형태를 모르거나, `a` 가 변수처럼 상황마다 달라 정확한 `shape`를 얻기 힘들때 유용하게 사용됩니다.\n",
        "\n",
        "```\n",
        "b = np.ones_like(a)\n",
        "b\n",
        "```"
      ],
      "metadata": {
        "id": "rkIjU2Ls2zwb"
      }
    },
    {
      "cell_type": "code",
      "source": [
        "b = np.ones_like(a)\n",
        "b"
      ],
      "metadata": {
        "id": "_h47FbmY8sYR",
        "colab": {
          "base_uri": "https://localhost:8080/"
        },
        "outputId": "9509d8de-de75-47cb-ddab-1e9f4ef19d30"
      },
      "execution_count": null,
      "outputs": [
        {
          "output_type": "execute_result",
          "data": {
            "text/plain": [
              "array([1, 1, 1, 1, 1, 1])"
            ]
          },
          "metadata": {},
          "execution_count": 72
        }
      ]
    },
    {
      "cell_type": "markdown",
      "metadata": {
        "id": "aA1w3P11_Hum"
      },
      "source": [
        "---\n",
        "### **(3) 랜덤 배열 생성**\n",
        "---\n",
        "\n",
        "\n",
        "| 함수 | 설명 |\n",
        "|--|--|\n",
        "| `seed` | 난수 발생시 시드 지정|\n",
        "| `permutation` | 임의의 순열 반환|\n",
        "| `shuffle` | 배열의 순서 섞기 |\n",
        "| `randint` | 특정 범위의 표본(정수) 추출 |\n",
        "| `random` | 균등분포를 따르는 0~1 사이 표본 추출|\n",
        "| `rand` | 균등분포를 따르는 0~1 사이 표본 추출|\n",
        "| `randn` | 표준정규분포를 따르는 표본 추출 |\n",
        "| `normal` | 정규분포를 따르는 표본 추출 |\n",
        "| `beta` | 베타분포를 따르는 표본 추출 |\n",
        "| `chisquare` | 카이제곱분포를 따르는 표본 추출 |\n",
        "| `gamma` | 감마분포를 따르는 표본 추출 |\n",
        "\n",
        "파이썬 라이브러리 `random`과 비슷하게 넘파이에도 랜덤값을 얻는 다양한 함수를 제공합니다. \n",
        "\n",
        "각종 분포에 대한 자세한 설명은 이후 데이터분석 수업에서 알아보도록 하고, 지금은 다양한 분포에 대한 표본을 넘파이를 통해 추출할 수 있다는 것만 알고 계시면 됩니다.\n",
        "\n",
        "이번 시간에는 간단한 함수 몇가지만 사용해 보도록 하겠습니다."
      ]
    },
    {
      "cell_type": "markdown",
      "source": [
        "* `np.random.randint(i1,i2, shape)` `i1` 이상 `i2` 미만 랜덤값을 지니는 `shape` 형태의 배열을 생성합니다.\n",
        "\n",
        "```\n",
        "np.random.randint(0,10, (2,3))\n",
        "```\n"
      ],
      "metadata": {
        "id": "mP4AQHPZKuHy"
      }
    },
    {
      "cell_type": "code",
      "source": [
        "np.random.randint(0,10, (2,3))"
      ],
      "metadata": {
        "id": "ht0iRhxs___x",
        "colab": {
          "base_uri": "https://localhost:8080/"
        },
        "outputId": "489b48ab-9587-4357-9ff6-33dd571fc3e4"
      },
      "execution_count": null,
      "outputs": [
        {
          "output_type": "execute_result",
          "data": {
            "text/plain": [
              "array([[2, 8, 9],\n",
              "       [5, 4, 7]])"
            ]
          },
          "metadata": {},
          "execution_count": 73
        }
      ]
    },
    {
      "cell_type": "code",
      "source": [
        "np.random.randint(0,10, (3,3))"
      ],
      "metadata": {
        "colab": {
          "base_uri": "https://localhost:8080/"
        },
        "id": "h4XUxcLseY1W",
        "outputId": "633bba4d-8633-40f6-f7a1-3f8c92c8c4b3"
      },
      "execution_count": null,
      "outputs": [
        {
          "output_type": "execute_result",
          "data": {
            "text/plain": [
              "array([[3, 2, 8],\n",
              "       [5, 1, 0],\n",
              "       [0, 8, 8]])"
            ]
          },
          "metadata": {},
          "execution_count": 74
        }
      ]
    },
    {
      "cell_type": "markdown",
      "source": [
        "* `np.random.seed(n)` : 랜덤값 생성 규칙을 정합니다. (`n`은 자연수)정합니다. \n",
        "\n",
        "\n",
        "같은 `seed`에서 코드를 실행하면 똑같은 랜덤 값이 나오게 됩니다. 주로 코드를 실행하여 결과를 재현할 수 있도록 하기 위해 사용됩니다. \n",
        "\n",
        "```\n",
        "np.random.seed(42)\n",
        "np.random.randint(0,10, (2,3))\n",
        "```"
      ],
      "metadata": {
        "id": "lvLkyh0_LIUR"
      }
    },
    {
      "cell_type": "code",
      "source": [
        "np.random.seed(42)\n",
        "np.random.randint(1,10, (2,3))  # 똑같이 돌려서 같은 결과가 나오는지를 확인하고 싶을때\n",
        "# 사용합니다."
      ],
      "metadata": {
        "id": "42lpSwpCEczR",
        "colab": {
          "base_uri": "https://localhost:8080/"
        },
        "outputId": "ead6fc54-defa-46dd-ea19-0402620b8a48"
      },
      "execution_count": null,
      "outputs": [
        {
          "output_type": "execute_result",
          "data": {
            "text/plain": [
              "array([[7, 4, 8],\n",
              "       [5, 7, 3]])"
            ]
          },
          "metadata": {},
          "execution_count": 79
        }
      ]
    },
    {
      "cell_type": "markdown",
      "source": [
        "#### **| 균등 분포**\n",
        "\n",
        "균등 분포란 모든 곳에서의 확률이 일정한 분포를 말합니다. \n",
        "\n",
        "<p align='center'>\n",
        "<img src=https://github.com/yebiny/SkillTreePython-DataAnalysis/blob/main/imgs/ch0102-05.PNG?raw=trueA width=300>\n",
        "</p>\n",
        "\n",
        "\n",
        "* `np.random.random((shape))` : `0~1` 사이 균등분포를 가지는  `shape` 형태의 배열을 생성합니다.\n",
        "\n",
        "* `np.random.rand(shape)` : `0~1` 사이 균등분포를 가지는  `shape` 형태의 배열을 생성합니다.\n",
        "\n",
        "\n",
        "```\n",
        "print(np.random.random((3,2)))\n",
        "print(np.random.rand(3,2))\n",
        "```\n",
        "`random.random`과 `random.rand` 둘다 똑같이 균등분포를 가지는 랜덤값을 출력합니다. 차이점은 `shape`를 `random.random`은 괄호 안에 넣어주어야 한다는 것입니다."
      ],
      "metadata": {
        "id": "GZSCgAtUKTZU"
      }
    },
    {
      "cell_type": "code",
      "source": [
        "print(np.random.random((3,2)) )  # 괄호를 두 개 사용해야 합니다.\n",
        "print(np.random.rand(3,2) )"
      ],
      "metadata": {
        "id": "bifOlRS8_Hus",
        "colab": {
          "base_uri": "https://localhost:8080/"
        },
        "outputId": "a147f0c3-5c95-42a3-d88b-508a679b8087"
      },
      "execution_count": null,
      "outputs": [
        {
          "output_type": "stream",
          "name": "stdout",
          "text": [
            "[[7.21998772e-01 9.38552709e-01]\n",
            " [7.78765841e-04 9.92211559e-01]\n",
            " [6.17481510e-01 6.11653160e-01]]\n",
            "[[0.00706631 0.02306243]\n",
            " [0.52477466 0.39986097]\n",
            " [0.04666566 0.97375552]]\n"
          ]
        }
      ]
    },
    {
      "cell_type": "markdown",
      "source": [
        "#### **| 표준정규분포**\n",
        "\n",
        "표준정규분포는 평균이 `0`이고 편차가 `1`인 가우스(정규) 분포를 뜻합니다. \n",
        "\n",
        "<p align='center'>\n",
        "<img src=https://github.com/yebiny/SkillTreePython-DataAnalysis/blob/main/imgs/ch0102-06.PNG?raw=trueA width=300>\n",
        "</p>\n",
        "\n",
        "* `np.random.randn(shape)` : 표준정규분포를 따르는 `shape` 형태의 배열을 생성합니다.\n",
        "\n",
        "\n",
        "```\n",
        "np.random.randn(3,2)\n",
        "```\n"
      ],
      "metadata": {
        "id": "5m2ywtWHUSeT"
      }
    },
    {
      "cell_type": "code",
      "source": [
        "np.random.randn(3,2)"
      ],
      "metadata": {
        "id": "_Vp0mD7GUSea",
        "colab": {
          "base_uri": "https://localhost:8080/"
        },
        "outputId": "ed0fa1e0-e7a4-4562-ec07-23a31fb3a4d8"
      },
      "execution_count": null,
      "outputs": [
        {
          "output_type": "execute_result",
          "data": {
            "text/plain": [
              "array([[-0.25104397, -0.16386712],\n",
              "       [-1.47632969,  1.48698096],\n",
              "       [-0.02445518,  0.35555132]])"
            ]
          },
          "metadata": {},
          "execution_count": 82
        }
      ]
    },
    {
      "cell_type": "markdown",
      "metadata": {
        "id": "-J3bxEmza3Ai"
      },
      "source": [
        "---\n",
        "### **(4) 데이터 타입**\n",
        "---\n",
        "\n",
        "배열을 만들 때 어떤 값으로 채워져 있는지 이해해야 합니다. \n",
        "\n",
        "아래와 같이 배열 `a`,`b`,`c`를 생성합니다.\n",
        "\n",
        "```\n",
        "a = np.array([1,2,3,4])\n",
        "b = np.zeros(4)\n",
        "c = np.zeros_like(a)\n",
        "print(a)\n",
        "print(b)\n",
        "print(c)\n",
        "```"
      ]
    },
    {
      "cell_type": "code",
      "source": [
        "a = np.array([1,2,3,4])\n",
        "b = np.zeros(4)     # 실수(float)\n",
        "c = np.zeros_like(a)    # 정수(int)\n",
        "print(a)\n",
        "print(b)\n",
        "print(c)"
      ],
      "metadata": {
        "id": "5oYeNlrJcD7I",
        "colab": {
          "base_uri": "https://localhost:8080/"
        },
        "outputId": "ea8b0a08-2c5a-48b8-b794-aab62f0bc4e5"
      },
      "execution_count": null,
      "outputs": [
        {
          "output_type": "stream",
          "name": "stdout",
          "text": [
            "[1 2 3 4]\n",
            "[0. 0. 0. 0.]\n",
            "[0 0 0 0]\n"
          ]
        }
      ]
    },
    {
      "cell_type": "markdown",
      "source": [
        "`b`와 `c`는 `0`으로만 이루어져 있고 형태도 똑같습니다. 하지만 각 요소들은 다른 데이터 타입을 가지고 있습니다. 확인해 봅시다.\n",
        "\n",
        "```\n",
        "[type(x) for x in b], [type(x) for x in c]\n",
        "```"
      ],
      "metadata": {
        "id": "CQJuviOrc70N"
      }
    },
    {
      "cell_type": "code",
      "source": [
        "[type(x) for x in b], [type(x) for x in c]"
      ],
      "metadata": {
        "id": "t7tIdf3_ce34",
        "colab": {
          "base_uri": "https://localhost:8080/"
        },
        "outputId": "94d60e15-6563-4da3-a514-e13476d93787"
      },
      "execution_count": null,
      "outputs": [
        {
          "output_type": "execute_result",
          "data": {
            "text/plain": [
              "([list], [numpy.int64, numpy.int64, numpy.int64, numpy.int64])"
            ]
          },
          "metadata": {},
          "execution_count": 188
        }
      ]
    },
    {
      "cell_type": "markdown",
      "source": [
        "#### **| 여러가지 타입**\n",
        "\n",
        "| 함수 | 설명 |\n",
        "|--|--|\n",
        "| `bool_` | 불리언(Boolean)|\n",
        "| `int8(,16,32,64)` | 정수(-128 ~ 127)|\n",
        "| `uint8(,16,32,64)` | 부호없는 정수 (0~ 255) |\n",
        "| `int_` | =`int64`|\n",
        "| `float16(,32,64)` | 소수점|\n",
        "| `float_` | =`float64` |\n",
        "| `complex64(,128)` | 복소수|\n",
        "| `complex_` | =`complex128` |\n",
        "\n",
        "\n",
        "\n",
        "* `np.---(dtype=type)` : 배열 생성시 `type`을 지정해 줍니다.\n",
        "\n",
        "배열 `b`를 생성할 때 `int8` 타입으로 생성해 봅시다.\n",
        "\n",
        "```\n",
        "b = np.zeros(4, dtype='int8')\n",
        "b, [type(x) for x in b]\n",
        "```\n"
      ],
      "metadata": {
        "id": "dhGOzS6ddNuM"
      }
    },
    {
      "cell_type": "code",
      "source": [
        "b = np.zeros(4, dtype='int8')\n",
        "b, [type(x) for x in b]"
      ],
      "metadata": {
        "id": "qCkSjHDzdzDN",
        "colab": {
          "base_uri": "https://localhost:8080/"
        },
        "outputId": "217c4741-fda3-46f7-ed95-d486b878bb15"
      },
      "execution_count": null,
      "outputs": [
        {
          "output_type": "execute_result",
          "data": {
            "text/plain": [
              "(array([0, 0, 0, 0], dtype=int8),\n",
              " [numpy.int8, numpy.int8, numpy.int8, numpy.int8])"
            ]
          },
          "metadata": {},
          "execution_count": 88
        }
      ]
    },
    {
      "cell_type": "markdown",
      "metadata": {
        "id": "ecqdIs3QAoz1"
      },
      "source": [
        "### **(5) 배열 입출력**\n",
        "\n"
      ]
    },
    {
      "cell_type": "markdown",
      "source": [
        "#### **| 저장**\n",
        "\n",
        "* `np.save(save_path, a)` : 배열 `a` 한개를 경로 `save_path`에 저장합니다. \n",
        "\n",
        "```\n",
        "np.save('test1', a)\n",
        "```"
      ],
      "metadata": {
        "id": "u_Ai8eSHAoz3"
      }
    },
    {
      "cell_type": "code",
      "source": [
        "a"
      ],
      "metadata": {
        "id": "6sBQQe8ZnvKc",
        "outputId": "bac499d8-0175-47b8-d1fc-465b8e7232a5",
        "colab": {
          "base_uri": "https://localhost:8080/"
        }
      },
      "execution_count": null,
      "outputs": [
        {
          "output_type": "execute_result",
          "data": {
            "text/plain": [
              "array([1, 2, 3, 4])"
            ]
          },
          "metadata": {},
          "execution_count": 111
        }
      ]
    },
    {
      "cell_type": "code",
      "source": [
        "np.save('test1', a)"
      ],
      "metadata": {
        "id": "KmZx6DXd0Mpd"
      },
      "execution_count": null,
      "outputs": []
    },
    {
      "cell_type": "markdown",
      "source": [
        "* `np.savez(save_path, a1, a2, ...)` : 배열  여러개를 경로 `save_path`에 저장합니다. \n",
        "\n",
        "```\n",
        "np.savez('test2', a, a)\n",
        "```"
      ],
      "metadata": {
        "id": "1MRSrKkZAy0s"
      }
    },
    {
      "cell_type": "code",
      "source": [
        "np.savez('test2', a, b)"
      ],
      "metadata": {
        "id": "TNFkSBXQ0NpA"
      },
      "execution_count": null,
      "outputs": []
    },
    {
      "cell_type": "markdown",
      "source": [
        "저장 시 각 배열에 대한 이름을 지정해 줄수 있습니다.\n",
        "```\n",
        "np.savez('test3', a1=a, a2=a)\n",
        "```"
      ],
      "metadata": {
        "id": "jd6R6eB0lYqq"
      }
    },
    {
      "cell_type": "code",
      "source": [
        "np.savez('test3', a1=a, a2=a)"
      ],
      "metadata": {
        "id": "xobc2d4xlnZd"
      },
      "execution_count": null,
      "outputs": []
    },
    {
      "cell_type": "markdown",
      "source": [
        "#### **| 불러오기**\n",
        "\n",
        "* `np.load(file_path)` : 넘파이 배열이 저장된 파일로부터 객체를 불러옵니다. \n",
        "\n",
        "\n",
        "```\n",
        "a_npy = np.load('test.npy')\n",
        "```"
      ],
      "metadata": {
        "id": "bC04-YDYA2Cw"
      }
    },
    {
      "cell_type": "code",
      "source": [
        "test1 = np.load('test1.npy')\n",
        "test1"
      ],
      "metadata": {
        "id": "n71fHGpN0OkE",
        "colab": {
          "base_uri": "https://localhost:8080/"
        },
        "outputId": "cd6f84d4-43dd-4645-d7d2-147b2037185b"
      },
      "execution_count": null,
      "outputs": [
        {
          "output_type": "execute_result",
          "data": {
            "text/plain": [
              "array([1, 2, 3, 4])"
            ]
          },
          "metadata": {},
          "execution_count": 110
        }
      ]
    },
    {
      "cell_type": "markdown",
      "source": [
        "배열이 여러개 들어간 `npz` 파일을 불러올 때는 어떤 이름으로 각 배열이 저장되어 있는지 확인해 볼 필요가 있습니다.\n",
        "\n",
        "```\n",
        "a_npz = np.load('test3.npz')\n",
        "for a in a_npz:\n",
        "  print(a)\n",
        "```"
      ],
      "metadata": {
        "id": "DO3ddZJtku78"
      }
    },
    {
      "cell_type": "code",
      "source": [
        "test2 = np.load('test2.npz')\n",
        "for idx in test2:\n",
        "    print(idx)"
      ],
      "metadata": {
        "id": "0w8C5GAskxhS",
        "colab": {
          "base_uri": "https://localhost:8080/"
        },
        "outputId": "5fb8099b-330f-4bd1-e3a1-aefeb4944b56"
      },
      "execution_count": null,
      "outputs": [
        {
          "output_type": "stream",
          "name": "stdout",
          "text": [
            "arr_0\n",
            "arr_1\n"
          ]
        }
      ]
    },
    {
      "cell_type": "markdown",
      "source": [
        "이름 확인 후 인덱싱을 통해 각 배열에 접근 할 수 있습니다.\n",
        "\n",
        "```\n",
        "print(a_npz['a1'], a_npz['a2'])\n",
        "```"
      ],
      "metadata": {
        "id": "iPCDsC7SmGl7"
      }
    },
    {
      "cell_type": "code",
      "source": [
        "print(test2['arr_0'], test2['arr_1'])"
      ],
      "metadata": {
        "id": "Q0QcJ87smH2G",
        "colab": {
          "base_uri": "https://localhost:8080/"
        },
        "outputId": "c7dd89a3-262b-401e-e9f4-8567e28c71a4"
      },
      "execution_count": null,
      "outputs": [
        {
          "output_type": "stream",
          "name": "stdout",
          "text": [
            "[1 2 3 4] [0 0 0 0]\n"
          ]
        }
      ]
    },
    {
      "cell_type": "markdown",
      "source": [
        "## 문제풀이\n",
        "---\n"
      ],
      "metadata": {
        "id": "1Zo86GIRD8iE"
      }
    },
    {
      "cell_type": "markdown",
      "metadata": {
        "id": "d9o7kBXoNlE3"
      },
      "source": [
        "**예제 01**\n",
        "\n",
        "아래그림과 같이 `shape`가 `(4)` 인 배열을 생성하고 `a1`로 바인딩 하세요.\n",
        "\n",
        "<p align='center'>\n",
        "<img src=https://github.com/yebiny/SkillTreePython-DataAnalysis/blob/main/imgs/ch0102-07.png?raw=trueA width=180>\n",
        "</p>"
      ]
    },
    {
      "cell_type": "code",
      "source": [
        "a1 = np.array([2,4,1,3])\n",
        "a1\n",
        "a1.shape"
      ],
      "metadata": {
        "id": "vsrl4JZ5NasG",
        "colab": {
          "base_uri": "https://localhost:8080/"
        },
        "outputId": "7be5054f-1e14-476e-bf43-55454cded558"
      },
      "execution_count": null,
      "outputs": [
        {
          "output_type": "execute_result",
          "data": {
            "text/plain": [
              "(4,)"
            ]
          },
          "metadata": {},
          "execution_count": 117
        }
      ]
    },
    {
      "cell_type": "markdown",
      "metadata": {
        "id": "VGBXSucnmUvV"
      },
      "source": [
        "**예제 02**\n",
        "\n",
        "`a1`와 `shape`가 똑같고 모든 값이 `1`인 배열을 생성하세요."
      ]
    },
    {
      "cell_type": "code",
      "metadata": {
        "id": "nbG4Fj4emUvW",
        "colab": {
          "base_uri": "https://localhost:8080/"
        },
        "outputId": "48d9cd76-d12e-4f9e-ac5b-2650368511c3"
      },
      "source": [
        "np.ones_like(a1)"
      ],
      "execution_count": null,
      "outputs": [
        {
          "output_type": "execute_result",
          "data": {
            "text/plain": [
              "array([1, 1, 1, 1])"
            ]
          },
          "metadata": {},
          "execution_count": 115
        }
      ]
    },
    {
      "cell_type": "markdown",
      "source": [
        "**예제 03**\n",
        "\n",
        "`a1`와 모든 값이 같지만 `shape`가 `(1,4)`인 배열을 생성하세요."
      ],
      "metadata": {
        "id": "LWA987CQNayh"
      }
    },
    {
      "cell_type": "code",
      "metadata": {
        "id": "Gwir0bafNlE9",
        "colab": {
          "base_uri": "https://localhost:8080/"
        },
        "outputId": "a82c0d84-f659-4c26-cc6d-4b94e7479487"
      },
      "source": [
        "b = [[2,4,1,3]]\n",
        "b1 = np.array(b)\n",
        "print(b1)\n",
        "b1.shape"
      ],
      "execution_count": null,
      "outputs": [
        {
          "output_type": "stream",
          "name": "stdout",
          "text": [
            "[[2 4 1 3]]\n"
          ]
        },
        {
          "output_type": "execute_result",
          "data": {
            "text/plain": [
              "(1, 4)"
            ]
          },
          "metadata": {},
          "execution_count": 123
        }
      ]
    },
    {
      "cell_type": "markdown",
      "metadata": {
        "id": "2jlL6dLjYcFZ"
      },
      "source": [
        "**예제 04**\n",
        "\n",
        "아래그림과 같이 `shape`가 `(4,2)`인 배열을 생성하고 `a2`로 바인딩 하세요.\n",
        "\n",
        "\n",
        "<p align='center'>\n",
        "<img src=https://github.com/yebiny/SkillTreePython-DataAnalysis/blob/main/imgs/ch0102-08.png?raw=trueA width=80>\n",
        "</p>\n"
      ]
    },
    {
      "cell_type": "code",
      "source": [
        "a = [[1,0],\n",
        "     [1,0],\n",
        "     [3,2],\n",
        "     [1,1]]\n",
        "a2 = np.array(a)\n",
        "a2, a2.shape"
      ],
      "metadata": {
        "id": "1GDlXW0kYcFg",
        "colab": {
          "base_uri": "https://localhost:8080/"
        },
        "outputId": "7a455b5a-9fe2-4316-a1d6-2c1b3ba727f6"
      },
      "execution_count": null,
      "outputs": [
        {
          "output_type": "execute_result",
          "data": {
            "text/plain": [
              "(array([[1, 0],\n",
              "        [1, 0],\n",
              "        [3, 2],\n",
              "        [1, 1]]), (4, 2))"
            ]
          },
          "metadata": {},
          "execution_count": 127
        }
      ]
    },
    {
      "cell_type": "markdown",
      "metadata": {
        "id": "bWhgW8HPNsKV"
      },
      "source": [
        "**예제 05**\n",
        "\n",
        "`a2`와 `shape`가 똑같고 모든 값이 `0`인 배열을 생성하세요."
      ]
    },
    {
      "cell_type": "code",
      "metadata": {
        "id": "kl547eOiNsKW",
        "colab": {
          "base_uri": "https://localhost:8080/"
        },
        "outputId": "5b2920b6-82a7-4ff7-bd2e-80e0cc0202e6"
      },
      "source": [
        "a3 = np.zeros_like(a2)\n",
        "a3, a3.shape"
      ],
      "execution_count": null,
      "outputs": [
        {
          "output_type": "execute_result",
          "data": {
            "text/plain": [
              "(array([[0, 0],\n",
              "        [0, 0],\n",
              "        [0, 0],\n",
              "        [0, 0]]), (4, 2))"
            ]
          },
          "metadata": {},
          "execution_count": 129
        }
      ]
    },
    {
      "cell_type": "markdown",
      "source": [
        "**예제 06**\n",
        "\n",
        "`a2`와 모든 값이 같지만 `shape`가 `(4,1,2)`인 배열을 생성하세요."
      ],
      "metadata": {
        "id": "SfamwcIMYgKh"
      }
    },
    {
      "cell_type": "code",
      "metadata": {
        "id": "PDmrw5QVYgKh",
        "colab": {
          "base_uri": "https://localhost:8080/"
        },
        "outputId": "a399ba6d-4f6d-48f1-a04f-16a192ae894b"
      },
      "source": [
        "a2 = [[[1,0]],\n",
        "      [[1,0]],\n",
        "      [[3,2]],\n",
        "      [[1,1]]]\n",
        "a3 =np.array(a2)\n",
        "a3, a3.shape"
      ],
      "execution_count": null,
      "outputs": [
        {
          "output_type": "execute_result",
          "data": {
            "text/plain": [
              "(array([[[1, 0]],\n",
              " \n",
              "        [[1, 0]],\n",
              " \n",
              "        [[3, 2]],\n",
              " \n",
              "        [[1, 1]]]), (4, 1, 2))"
            ]
          },
          "metadata": {},
          "execution_count": 134
        }
      ]
    },
    {
      "cell_type": "markdown",
      "metadata": {
        "id": "ELhN6-RuNufU"
      },
      "source": [
        "**예제 07**\n",
        "\n",
        "`a2`와 모든 값이 같지만 아래와 같이 전치된 배열을 생성하세요.\n",
        "\n",
        "\n",
        "<p align='center'>\n",
        "<img src=https://github.com/yebiny/SkillTreePython-DataAnalysis/blob/main/imgs/ch0102-09.png?raw=trueA width=180>\n",
        "</p>"
      ]
    },
    {
      "cell_type": "code",
      "metadata": {
        "id": "Hb-2MyUeNufU",
        "colab": {
          "base_uri": "https://localhost:8080/"
        },
        "outputId": "e487f14d-3b8c-44df-f51b-62fec1335bec"
      },
      "source": [
        "a = [[1,1,3,1],\n",
        "     [0,0,2,1]]\n",
        "a2 = np.array(a)\n",
        "a2, a2.shape"
      ],
      "execution_count": null,
      "outputs": [
        {
          "output_type": "execute_result",
          "data": {
            "text/plain": [
              "(array([[1, 1, 3, 1],\n",
              "        [0, 0, 2, 1]]), (2, 4))"
            ]
          },
          "metadata": {},
          "execution_count": 140
        }
      ]
    },
    {
      "cell_type": "markdown",
      "metadata": {
        "id": "rreOszCZN9MN"
      },
      "source": [
        "**예제 08**\n",
        "\n",
        "모든 값이 `3`이고 `shape`가 `(5,1,2)`인 3차원 배열을 생성 후 `shape`를 확인하세요."
      ]
    },
    {
      "cell_type": "code",
      "metadata": {
        "id": "2dSGS_JGN9MN",
        "colab": {
          "base_uri": "https://localhost:8080/"
        },
        "outputId": "fb82bad1-a8c9-4c3b-d0d7-54266e2a6793"
      },
      "source": [
        "a2 = [[[3,3]],\n",
        "      [[3,3]],\n",
        "      [[3,3]],\n",
        "      [[3,3]],\n",
        "      [[3,3]]]\n",
        "a3 = np.array(a2)\n",
        "a3, a3.shape"
      ],
      "execution_count": null,
      "outputs": [
        {
          "output_type": "execute_result",
          "data": {
            "text/plain": [
              "(array([[[3, 3]],\n",
              " \n",
              "        [[3, 3]],\n",
              " \n",
              "        [[3, 3]],\n",
              " \n",
              "        [[3, 3]],\n",
              " \n",
              "        [[3, 3]]]), (5, 1, 2))"
            ]
          },
          "metadata": {},
          "execution_count": 145
        }
      ]
    },
    {
      "cell_type": "markdown",
      "metadata": {
        "id": "hoHUjY84N-9e"
      },
      "source": [
        "**예제 09**\n",
        "\n",
        "모든 값이 `3`이고 `shape`가 `(1,2,5)`인 3차원 배열을 생성 후 `shape`를 확인하세요."
      ]
    },
    {
      "cell_type": "code",
      "metadata": {
        "id": "zCT5tTr9N-9e",
        "colab": {
          "base_uri": "https://localhost:8080/"
        },
        "outputId": "930ef38f-5770-47fc-d826-5656c0310d97"
      },
      "source": [
        "a2 = np.full((1,2,5),3)\n",
        "a2, a2.shape"
      ],
      "execution_count": null,
      "outputs": [
        {
          "output_type": "execute_result",
          "data": {
            "text/plain": [
              "(array([[[3, 3, 3, 3, 3],\n",
              "         [3, 3, 3, 3, 3]]]), (1, 2, 5))"
            ]
          },
          "metadata": {},
          "execution_count": 147
        }
      ]
    },
    {
      "cell_type": "markdown",
      "metadata": {
        "id": "pae3A4KzmmX-"
      },
      "source": [
        "**예제 10**\n",
        "\n",
        "모든 값이 3이고 shape가 `(2,1,3)`인 3차원 배열을 리스트를 이용해 직접 만들고 `shape`를 확인하세요."
      ]
    },
    {
      "cell_type": "code",
      "metadata": {
        "id": "auOb2ffPmmX-",
        "colab": {
          "base_uri": "https://localhost:8080/"
        },
        "outputId": "7428cd73-933a-4114-b3c2-1029e8483eba"
      },
      "source": [
        "a1 = [[[3,3,3]],\n",
        "      [[3,3,3]]]\n",
        "a2 = np.array(a1)\n",
        "a2, a2.shape"
      ],
      "execution_count": null,
      "outputs": [
        {
          "output_type": "execute_result",
          "data": {
            "text/plain": [
              "(array([[[3, 3, 3]],\n",
              " \n",
              "        [[3, 3, 3]]]), (2, 1, 3))"
            ]
          },
          "metadata": {},
          "execution_count": 152
        }
      ]
    },
    {
      "cell_type": "markdown",
      "metadata": {
        "id": "e-kN0jFgoZMA"
      },
      "source": [
        "**예제 11**\n",
        "\n",
        "1에서 100까지 홀수값만을 가지는 배열을 `np.arange`를 이용해 생성하세요.\n"
      ]
    },
    {
      "cell_type": "code",
      "metadata": {
        "id": "_muP8BzQoZMA"
      },
      "source": [
        "a1 = np.arange(1,100,2)"
      ],
      "execution_count": null,
      "outputs": []
    },
    {
      "cell_type": "markdown",
      "metadata": {
        "id": "ZqsMlzO8opjT"
      },
      "source": [
        "**예제 12**\n",
        "\n",
        "1에서 100까지 홀수값만을 가지는 배열을 `np.linspace`를 이용해 생성하세요."
      ]
    },
    {
      "cell_type": "code",
      "metadata": {
        "id": "a2nn99BvopjT",
        "colab": {
          "base_uri": "https://localhost:8080/"
        },
        "outputId": "5c803185-45d1-4f6e-fe70-12ab0d78b9ee"
      },
      "source": [
        "a1 = np.linspace(1,99,50)\n",
        "a1"
      ],
      "execution_count": null,
      "outputs": [
        {
          "output_type": "execute_result",
          "data": {
            "text/plain": [
              "array([ 1.,  3.,  5.,  7.,  9., 11., 13., 15., 17., 19., 21., 23., 25.,\n",
              "       27., 29., 31., 33., 35., 37., 39., 41., 43., 45., 47., 49., 51.,\n",
              "       53., 55., 57., 59., 61., 63., 65., 67., 69., 71., 73., 75., 77.,\n",
              "       79., 81., 83., 85., 87., 89., 91., 93., 95., 97., 99.])"
            ]
          },
          "metadata": {},
          "execution_count": 160
        }
      ]
    },
    {
      "cell_type": "markdown",
      "metadata": {
        "id": "mr5GzUWQnEHl"
      },
      "source": [
        "**예제 13**\n",
        "\n",
        "`shape`가 `(5,5)`인 단위행렬(Identity matrix)를 생성하세요.\n"
      ]
    },
    {
      "cell_type": "code",
      "metadata": {
        "id": "tGu1fVwMnEHt",
        "colab": {
          "base_uri": "https://localhost:8080/"
        },
        "outputId": "8f038089-5f01-4e3b-9c8b-851565e6f0f0"
      },
      "source": [
        "a1 = np.eye(5,5)\n",
        "a1"
      ],
      "execution_count": null,
      "outputs": [
        {
          "output_type": "execute_result",
          "data": {
            "text/plain": [
              "array([[1., 0., 0., 0., 0.],\n",
              "       [0., 1., 0., 0., 0.],\n",
              "       [0., 0., 1., 0., 0.],\n",
              "       [0., 0., 0., 1., 0.],\n",
              "       [0., 0., 0., 0., 1.]])"
            ]
          },
          "metadata": {},
          "execution_count": 163
        }
      ]
    },
    {
      "cell_type": "markdown",
      "metadata": {
        "id": "esX8x6evnohw"
      },
      "source": [
        "**예제 14**\n",
        "\n",
        "`shape`가 `(10,5)`이고 균등분포를 따르는 배열을 생성하세요. 랜덤시드를 `42`로 정해주세요.\n"
      ]
    },
    {
      "cell_type": "code",
      "metadata": {
        "id": "s6YjEalLnohy",
        "colab": {
          "base_uri": "https://localhost:8080/"
        },
        "outputId": "21ccdf58-56d6-423b-cf73-d3c3756cae42"
      },
      "source": [
        "np.random.seed(42)\n",
        "np.random.rand(10,5)"
      ],
      "execution_count": null,
      "outputs": [
        {
          "output_type": "execute_result",
          "data": {
            "text/plain": [
              "array([[0.37454012, 0.95071431, 0.73199394, 0.59865848, 0.15601864],\n",
              "       [0.15599452, 0.05808361, 0.86617615, 0.60111501, 0.70807258],\n",
              "       [0.02058449, 0.96990985, 0.83244264, 0.21233911, 0.18182497],\n",
              "       [0.18340451, 0.30424224, 0.52475643, 0.43194502, 0.29122914],\n",
              "       [0.61185289, 0.13949386, 0.29214465, 0.36636184, 0.45606998],\n",
              "       [0.78517596, 0.19967378, 0.51423444, 0.59241457, 0.04645041],\n",
              "       [0.60754485, 0.17052412, 0.06505159, 0.94888554, 0.96563203],\n",
              "       [0.80839735, 0.30461377, 0.09767211, 0.68423303, 0.44015249],\n",
              "       [0.12203823, 0.49517691, 0.03438852, 0.9093204 , 0.25877998],\n",
              "       [0.66252228, 0.31171108, 0.52006802, 0.54671028, 0.18485446]])"
            ]
          },
          "metadata": {},
          "execution_count": 165
        }
      ]
    },
    {
      "cell_type": "markdown",
      "metadata": {
        "id": "VsBSmv3PZx2a"
      },
      "source": [
        "**예제 15**\n",
        "\n",
        "`shape`가 `(10,5)`이고 표준정규분포를 따르는 배열을 생성하세요. 랜덤시드를 `42`로 정해주세요.\n"
      ]
    },
    {
      "cell_type": "code",
      "metadata": {
        "id": "_QAt1iGIZx2b",
        "colab": {
          "base_uri": "https://localhost:8080/"
        },
        "outputId": "e1468fde-935e-4c56-c384-81ca6ca0770c"
      },
      "source": [
        "np.random.seed(42)\n",
        "np.random.randn(10,5)"
      ],
      "execution_count": null,
      "outputs": [
        {
          "output_type": "execute_result",
          "data": {
            "text/plain": [
              "array([[ 0.49671415, -0.1382643 ,  0.64768854,  1.52302986, -0.23415337],\n",
              "       [-0.23413696,  1.57921282,  0.76743473, -0.46947439,  0.54256004],\n",
              "       [-0.46341769, -0.46572975,  0.24196227, -1.91328024, -1.72491783],\n",
              "       [-0.56228753, -1.01283112,  0.31424733, -0.90802408, -1.4123037 ],\n",
              "       [ 1.46564877, -0.2257763 ,  0.0675282 , -1.42474819, -0.54438272],\n",
              "       [ 0.11092259, -1.15099358,  0.37569802, -0.60063869, -0.29169375],\n",
              "       [-0.60170661,  1.85227818, -0.01349722, -1.05771093,  0.82254491],\n",
              "       [-1.22084365,  0.2088636 , -1.95967012, -1.32818605,  0.19686124],\n",
              "       [ 0.73846658,  0.17136828, -0.11564828, -0.3011037 , -1.47852199],\n",
              "       [-0.71984421, -0.46063877,  1.05712223,  0.34361829, -1.76304016]])"
            ]
          },
          "metadata": {},
          "execution_count": 167
        }
      ]
    },
    {
      "cell_type": "markdown",
      "metadata": {
        "id": "sh0m2tMqo5zj"
      },
      "source": [
        "**예제 16**\n",
        "\n",
        "`a1`의 `shape`와 데이터 `type`을 확인하세요. 모든 값을 `int64`로 변경하고 타입을 확인하세요."
      ]
    },
    {
      "cell_type": "code",
      "metadata": {
        "id": "8-2I_n6So5zj",
        "colab": {
          "base_uri": "https://localhost:8080/"
        },
        "outputId": "0f22f910-a27d-4569-c4c4-c65f353c5105"
      },
      "source": [
        "a1 = np.array([a1], dtype=np.int)\n",
        "a1.dtype"
      ],
      "execution_count": null,
      "outputs": [
        {
          "output_type": "stream",
          "name": "stderr",
          "text": [
            "/usr/local/lib/python3.7/dist-packages/ipykernel_launcher.py:1: DeprecationWarning: `np.int` is a deprecated alias for the builtin `int`. To silence this warning, use `int` by itself. Doing this will not modify any behavior and is safe. When replacing `np.int`, you may wish to use e.g. `np.int64` or `np.int32` to specify the precision. If you wish to review your current use, check the release note link for additional information.\n",
            "Deprecated in NumPy 1.20; for more details and guidance: https://numpy.org/devdocs/release/1.20.0-notes.html#deprecations\n",
            "  \"\"\"Entry point for launching an IPython kernel.\n"
          ]
        },
        {
          "output_type": "execute_result",
          "data": {
            "text/plain": [
              "dtype('int64')"
            ]
          },
          "metadata": {},
          "execution_count": 192
        }
      ]
    },
    {
      "cell_type": "markdown",
      "metadata": {
        "id": "e4F4JeTRaOHB"
      },
      "source": [
        "**예제 17**\n",
        "\n",
        "`a2`의 `shape`와 데이터 `type`을 확인하세요. 모든 값을 `float64`로 변경하고 타입을 확인하세요."
      ]
    },
    {
      "cell_type": "code",
      "metadata": {
        "id": "iIleUzXWaOHB",
        "colab": {
          "base_uri": "https://localhost:8080/"
        },
        "outputId": "3a8be220-6450-4445-b583-ae79abaab29c"
      },
      "source": [
        "type(a2), a2.shape\n",
        "a2\n",
        "a2 = np.array([a2], dtype=np.float64)\n",
        "a2.dtype"
      ],
      "execution_count": null,
      "outputs": [
        {
          "output_type": "execute_result",
          "data": {
            "text/plain": [
              "dtype('float64')"
            ]
          },
          "metadata": {},
          "execution_count": 197
        }
      ]
    },
    {
      "cell_type": "markdown",
      "metadata": {
        "id": "gPc8HSQ7mxLt"
      },
      "source": [
        "**예제 18**\n",
        "\n",
        "`a1`을 `.npy`파일로 저장하세요. 경로는 `02_quest18.npy` 입니다."
      ]
    },
    {
      "cell_type": "code",
      "metadata": {
        "id": "gpSqudjHmxLu",
        "colab": {
          "base_uri": "https://localhost:8080/"
        },
        "outputId": "81d42233-e431-423b-ddda-77293ea32a48"
      },
      "source": [
        "np.save('02_quest18',a1)\n",
        "a1"
      ],
      "execution_count": null,
      "outputs": [
        {
          "output_type": "execute_result",
          "data": {
            "text/plain": [
              "array([[[[1, 0, 0, 0, 0],\n",
              "         [0, 1, 0, 0, 0],\n",
              "         [0, 0, 1, 0, 0],\n",
              "         [0, 0, 0, 1, 0],\n",
              "         [0, 0, 0, 0, 1]]]])"
            ]
          },
          "metadata": {},
          "execution_count": 199
        }
      ]
    },
    {
      "cell_type": "markdown",
      "metadata": {
        "id": "KDC4PphcmXW8"
      },
      "source": [
        "**예제 18**\n",
        "\n",
        "`a1`과 `a2`를 `npz`파일로 저장하세요. 경로는 `02_quest19.npz` 입니다."
      ]
    },
    {
      "cell_type": "code",
      "metadata": {
        "id": "KpWdY0u3mXW8"
      },
      "source": [
        "np.savez('02_quest19', a1,a2)"
      ],
      "execution_count": null,
      "outputs": []
    },
    {
      "cell_type": "markdown",
      "metadata": {
        "id": "E2pIiC6HmhMm"
      },
      "source": [
        "**예제 20**\n",
        "\n",
        "위에서 저장한 파일을 모두 불러오고 저장된 배열들을 출력하세요."
      ]
    },
    {
      "cell_type": "code",
      "metadata": {
        "id": "g_B8ESAymhMm",
        "colab": {
          "base_uri": "https://localhost:8080/"
        },
        "outputId": "f96e74a8-e151-44e3-921f-11438ad8de29"
      },
      "source": [
        "quest18 = np.load('02_quest18.npy')\n",
        "print(quest18)\n",
        "quest19 = np.load('02_quest19.npz')\n",
        "print(quest19)"
      ],
      "execution_count": null,
      "outputs": [
        {
          "output_type": "stream",
          "name": "stdout",
          "text": [
            "[[[[1 0 0 0 0]\n",
            "   [0 1 0 0 0]\n",
            "   [0 0 1 0 0]\n",
            "   [0 0 0 1 0]\n",
            "   [0 0 0 0 1]]]]\n",
            "<numpy.lib.npyio.NpzFile object at 0x7fd330d21150>\n"
          ]
        }
      ]
    },
    {
      "cell_type": "markdown",
      "source": [
        "**예제 21**\n",
        "\n",
        "`ch02_quest18.npy`와 `ch02_quest19.npy` 를 깃허브 `results`폴더에 추가해 주세요."
      ],
      "metadata": {
        "id": "6-xtu1pBXTsB"
      }
    },
    {
      "cell_type": "code",
      "source": [
        "# 네"
      ],
      "metadata": {
        "id": "6vvCEgzCXw4t"
      },
      "execution_count": null,
      "outputs": []
    },
    {
      "cell_type": "code",
      "source": [
        "a = np.array([1,2,3,4,5,6])\n",
        "b = np.ones_like(a)\n",
        "print(b)"
      ],
      "metadata": {
        "colab": {
          "base_uri": "https://localhost:8080/"
        },
        "id": "NhRCZYo3HN7P",
        "outputId": "3c9d87f9-c3bd-40b6-bbec-9cb4667a8e51"
      },
      "execution_count": null,
      "outputs": [
        {
          "output_type": "stream",
          "name": "stdout",
          "text": [
            "[1 1 1 1 1 1]\n"
          ]
        }
      ]
    }
  ]
}