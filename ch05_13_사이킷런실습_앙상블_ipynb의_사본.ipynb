{
  "nbformat": 4,
  "nbformat_minor": 0,
  "metadata": {
    "colab": {
      "name": "ch05_13_사이킷런실습-앙상블.ipynb의 사본",
      "provenance": [],
      "collapsed_sections": [],
      "toc_visible": true,
      "include_colab_link": true
    },
    "kernelspec": {
      "name": "python3",
      "display_name": "Python 3"
    },
    "language_info": {
      "name": "python"
    }
  },
  "cells": [
    {
      "cell_type": "markdown",
      "metadata": {
        "id": "view-in-github",
        "colab_type": "text"
      },
      "source": [
        "<a href=\"https://colab.research.google.com/github/Mifekmk/SkillTreePython-DataAnalysis/blob/main/ch05_13_%EC%82%AC%EC%9D%B4%ED%82%B7%EB%9F%B0%EC%8B%A4%EC%8A%B5_%EC%95%99%EC%83%81%EB%B8%94_ipynb%EC%9D%98_%EC%82%AC%EB%B3%B8.ipynb\" target=\"_parent\"><img src=\"https://colab.research.google.com/assets/colab-badge.svg\" alt=\"Open In Colab\"/></a>"
      ]
    },
    {
      "cell_type": "markdown",
      "metadata": {
        "id": "wWpXZc2fi39U"
      },
      "source": [
        "# ch05.13. 사이킷런 실습 - 앙상블\n",
        "\n",
        "---\n",
        "* 날짜: 2022-05-30\n",
        "* 이름: 김민규\n",
        "\n",
        "## 학습내용\n",
        "    - 모델 앙상블에 대한 개념을 이해한다.\n",
        "    - 배깅(bagging) : 부트스트랩(bootstrp) 샘플링을 통한 분류 앙상블 기법을 이해한다.\n",
        "    - 부스팅 기반의 에이다부스트(AdaBoost) 알고리즘을 이해한다.\n",
        "    -> 정형 데이터 분석에 가장 좋은 효율을 보여주고 있습니다.\n",
        "\n",
        "## 학습자료\n",
        "- [머신러닝 교과서 with파이썬, 사이킷런, 텐서플로](http://www.kyobobook.co.kr/product/detailViewKor.laf?mallGb=KOR&ejkGb=KOR&barcode=9791165215187)\n",
        "- 7장. 다양한 모델을 결합한 앙상블 학습"
      ]
    },
    {
      "cell_type": "markdown",
      "source": [
        "```\n",
        "import numpy as np\n",
        "import pandas as pd\n",
        "import matplotlib.pyplot as plt\n",
        "import seaborn as sns\n",
        "```"
      ],
      "metadata": {
        "id": "5wOHBjrdadYj"
      }
    },
    {
      "cell_type": "code",
      "source": [
        "import numpy as np\n",
        "import pandas as pd\n",
        "import matplotlib.pyplot as plt\n",
        "import seaborn as sns"
      ],
      "metadata": {
        "id": "r-6d-c4I26dq"
      },
      "execution_count": null,
      "outputs": []
    },
    {
      "cell_type": "code",
      "source": [
        "from matplotlib.colors import ListedColormap\n",
        "\n",
        "def draw_decision_region(model, X, y, \n",
        "                         X_test=[], y_test=[], \n",
        "                         features=[], labels=[], title=''): # 결정경계\n",
        "\n",
        "  colors = ('orangered', 'dodgerblue', 'limegreen', 'fuchsia', 'blueviolet')\n",
        "  cmap = ListedColormap(colors[:len(np.unique( y))])\n",
        "\n",
        "  x0mn, x0mx = X[:,0].min() -1, X[:,0].max() +1\n",
        "  x1mn, x1mx = X[:,1].min() -1, X[:,1].max() +1\n",
        "  x0 = np.arange(x0mn, x0mx, 0.02)\n",
        "  x1 = np.arange(x1mn, x1mx, 0.02)\n",
        "  #print('* arange', x0.shape, x1.shape)\n",
        "  X0, X1 = np.meshgrid(x0, x1)\n",
        "  #print('* meshgrid', x0.shape, x1.shape)\n",
        "  x0, x1 = X0.ravel(), X1.ravel()\n",
        "  #print('* ravel', x0.shape, x1.shape)\n",
        "  x_every = np.array([x0, x1]).T\n",
        "  #print('* concat', x_set.shape)\n",
        "  y_pred = model.predict(x_every)\n",
        "  #print('* y_pred', y_pred.shape)\n",
        "  Y_pred = y_pred.reshape(X0.shape)\n",
        "  #print('* y_pred', y_pred.shape)\n",
        "\n",
        "  if not len(labels): labels=[i for i in range(len(np.unique(y)))]\n",
        "  plt.contourf(X0, X1, Y_pred, alpha=0.4, cmap=cmap )\n",
        "  for idx, c in enumerate(np.unique(y)):\n",
        "    plt.scatter(x = X[y == c, 0], \n",
        "                y = X[y == c, 1],\n",
        "                alpha=0.8,\n",
        "                c=colors[idx],\n",
        "                label=labels[idx],\n",
        "                marker='x',\n",
        "                linewidth=2)\n",
        "  if len(X_test):\n",
        "    for idx, c in enumerate(np.unique(y_test)):\n",
        "      plt.scatter(x = X_test[y_test == c, 0], \n",
        "                  y = X_test[y_test == c, 1],\n",
        "                  alpha=0.8,\n",
        "                  c=colors[idx],\n",
        "                  marker='o',\n",
        "                  edgecolor='k',\n",
        "                  linewidth=2)\n",
        "  \n",
        "  if features:\n",
        "    plt.xlabel(features[0])\n",
        "    plt.ylabel(features[1])\n",
        "  if title:\n",
        "    plt.title(title)\n",
        "  plt.legend()"
      ],
      "metadata": {
        "id": "uaw6hKD1Nzv7"
      },
      "execution_count": null,
      "outputs": []
    },
    {
      "cell_type": "markdown",
      "source": [
        "## 데이터 소개 : 와인 데이터셋\n",
        "---\n",
        "\n",
        "\n",
        "```\n",
        "df_wine = pd.read_csv('https://archive.ics.uci.edu/ml/'\n",
        "                      'machine-learning-databases/wine/wine.data',\n",
        "                      header=None)\n",
        "df_wine.columns = ['Class label', 'Alcohol', 'Malic acid', 'Ash',\n",
        "                   'Alcalinity of ash', 'Magnesium', 'Total phenols',\n",
        "                   'Flavanoids', 'Nonflavanoid phenols', 'Proanthocyanins',\n",
        "                   'Color intensity', 'Hue', 'OD280/OD315 of diluted wines',\n",
        "                   'Proline']\n",
        "```"
      ],
      "metadata": {
        "id": "JlU3-2s3as9w"
      }
    },
    {
      "cell_type": "markdown",
      "source": [
        "#### 데이터 가져오기"
      ],
      "metadata": {
        "id": "Bolf_EdCfHie"
      }
    },
    {
      "cell_type": "code",
      "source": [
        "df_wine = pd.read_csv('https://archive.ics.uci.edu/ml/'\n",
        "                      'machine-learning-databases/wine/wine.data',\n",
        "                      header=None)\n",
        "df_wine.columns = ['Class label', 'Alcohol', 'Malic acid', 'Ash',\n",
        "                   'Alcalinity of ash', 'Magnesium', 'Total phenols',\n",
        "                   'Flavanoids', 'Nonflavanoid phenols', 'Proanthocyanins',\n",
        "                   'Color intensity', 'Hue', 'OD280/OD315 of diluted wines',\n",
        "                   'Proline']\n",
        "print(df_wine.shape)\n",
        "df_wine.head()"
      ],
      "metadata": {
        "id": "6fvpM0djI89V",
        "colab": {
          "base_uri": "https://localhost:8080/",
          "height": 323
        },
        "outputId": "9941ebee-3e24-4036-cb8d-f38c9a3fceac"
      },
      "execution_count": null,
      "outputs": [
        {
          "output_type": "stream",
          "name": "stdout",
          "text": [
            "(178, 14)\n"
          ]
        },
        {
          "output_type": "execute_result",
          "data": {
            "text/plain": [
              "   Class label  Alcohol  Malic acid   Ash  Alcalinity of ash  Magnesium  \\\n",
              "0            1    14.23        1.71  2.43               15.6        127   \n",
              "1            1    13.20        1.78  2.14               11.2        100   \n",
              "2            1    13.16        2.36  2.67               18.6        101   \n",
              "3            1    14.37        1.95  2.50               16.8        113   \n",
              "4            1    13.24        2.59  2.87               21.0        118   \n",
              "\n",
              "   Total phenols  Flavanoids  Nonflavanoid phenols  Proanthocyanins  \\\n",
              "0           2.80        3.06                  0.28             2.29   \n",
              "1           2.65        2.76                  0.26             1.28   \n",
              "2           2.80        3.24                  0.30             2.81   \n",
              "3           3.85        3.49                  0.24             2.18   \n",
              "4           2.80        2.69                  0.39             1.82   \n",
              "\n",
              "   Color intensity   Hue  OD280/OD315 of diluted wines  Proline  \n",
              "0             5.64  1.04                          3.92     1065  \n",
              "1             4.38  1.05                          3.40     1050  \n",
              "2             5.68  1.03                          3.17     1185  \n",
              "3             7.80  0.86                          3.45     1480  \n",
              "4             4.32  1.04                          2.93      735  "
            ],
            "text/html": [
              "\n",
              "  <div id=\"df-e402366b-bd6d-4be3-beb8-27d8d2a860e0\">\n",
              "    <div class=\"colab-df-container\">\n",
              "      <div>\n",
              "<style scoped>\n",
              "    .dataframe tbody tr th:only-of-type {\n",
              "        vertical-align: middle;\n",
              "    }\n",
              "\n",
              "    .dataframe tbody tr th {\n",
              "        vertical-align: top;\n",
              "    }\n",
              "\n",
              "    .dataframe thead th {\n",
              "        text-align: right;\n",
              "    }\n",
              "</style>\n",
              "<table border=\"1\" class=\"dataframe\">\n",
              "  <thead>\n",
              "    <tr style=\"text-align: right;\">\n",
              "      <th></th>\n",
              "      <th>Class label</th>\n",
              "      <th>Alcohol</th>\n",
              "      <th>Malic acid</th>\n",
              "      <th>Ash</th>\n",
              "      <th>Alcalinity of ash</th>\n",
              "      <th>Magnesium</th>\n",
              "      <th>Total phenols</th>\n",
              "      <th>Flavanoids</th>\n",
              "      <th>Nonflavanoid phenols</th>\n",
              "      <th>Proanthocyanins</th>\n",
              "      <th>Color intensity</th>\n",
              "      <th>Hue</th>\n",
              "      <th>OD280/OD315 of diluted wines</th>\n",
              "      <th>Proline</th>\n",
              "    </tr>\n",
              "  </thead>\n",
              "  <tbody>\n",
              "    <tr>\n",
              "      <th>0</th>\n",
              "      <td>1</td>\n",
              "      <td>14.23</td>\n",
              "      <td>1.71</td>\n",
              "      <td>2.43</td>\n",
              "      <td>15.6</td>\n",
              "      <td>127</td>\n",
              "      <td>2.80</td>\n",
              "      <td>3.06</td>\n",
              "      <td>0.28</td>\n",
              "      <td>2.29</td>\n",
              "      <td>5.64</td>\n",
              "      <td>1.04</td>\n",
              "      <td>3.92</td>\n",
              "      <td>1065</td>\n",
              "    </tr>\n",
              "    <tr>\n",
              "      <th>1</th>\n",
              "      <td>1</td>\n",
              "      <td>13.20</td>\n",
              "      <td>1.78</td>\n",
              "      <td>2.14</td>\n",
              "      <td>11.2</td>\n",
              "      <td>100</td>\n",
              "      <td>2.65</td>\n",
              "      <td>2.76</td>\n",
              "      <td>0.26</td>\n",
              "      <td>1.28</td>\n",
              "      <td>4.38</td>\n",
              "      <td>1.05</td>\n",
              "      <td>3.40</td>\n",
              "      <td>1050</td>\n",
              "    </tr>\n",
              "    <tr>\n",
              "      <th>2</th>\n",
              "      <td>1</td>\n",
              "      <td>13.16</td>\n",
              "      <td>2.36</td>\n",
              "      <td>2.67</td>\n",
              "      <td>18.6</td>\n",
              "      <td>101</td>\n",
              "      <td>2.80</td>\n",
              "      <td>3.24</td>\n",
              "      <td>0.30</td>\n",
              "      <td>2.81</td>\n",
              "      <td>5.68</td>\n",
              "      <td>1.03</td>\n",
              "      <td>3.17</td>\n",
              "      <td>1185</td>\n",
              "    </tr>\n",
              "    <tr>\n",
              "      <th>3</th>\n",
              "      <td>1</td>\n",
              "      <td>14.37</td>\n",
              "      <td>1.95</td>\n",
              "      <td>2.50</td>\n",
              "      <td>16.8</td>\n",
              "      <td>113</td>\n",
              "      <td>3.85</td>\n",
              "      <td>3.49</td>\n",
              "      <td>0.24</td>\n",
              "      <td>2.18</td>\n",
              "      <td>7.80</td>\n",
              "      <td>0.86</td>\n",
              "      <td>3.45</td>\n",
              "      <td>1480</td>\n",
              "    </tr>\n",
              "    <tr>\n",
              "      <th>4</th>\n",
              "      <td>1</td>\n",
              "      <td>13.24</td>\n",
              "      <td>2.59</td>\n",
              "      <td>2.87</td>\n",
              "      <td>21.0</td>\n",
              "      <td>118</td>\n",
              "      <td>2.80</td>\n",
              "      <td>2.69</td>\n",
              "      <td>0.39</td>\n",
              "      <td>1.82</td>\n",
              "      <td>4.32</td>\n",
              "      <td>1.04</td>\n",
              "      <td>2.93</td>\n",
              "      <td>735</td>\n",
              "    </tr>\n",
              "  </tbody>\n",
              "</table>\n",
              "</div>\n",
              "      <button class=\"colab-df-convert\" onclick=\"convertToInteractive('df-e402366b-bd6d-4be3-beb8-27d8d2a860e0')\"\n",
              "              title=\"Convert this dataframe to an interactive table.\"\n",
              "              style=\"display:none;\">\n",
              "        \n",
              "  <svg xmlns=\"http://www.w3.org/2000/svg\" height=\"24px\"viewBox=\"0 0 24 24\"\n",
              "       width=\"24px\">\n",
              "    <path d=\"M0 0h24v24H0V0z\" fill=\"none\"/>\n",
              "    <path d=\"M18.56 5.44l.94 2.06.94-2.06 2.06-.94-2.06-.94-.94-2.06-.94 2.06-2.06.94zm-11 1L8.5 8.5l.94-2.06 2.06-.94-2.06-.94L8.5 2.5l-.94 2.06-2.06.94zm10 10l.94 2.06.94-2.06 2.06-.94-2.06-.94-.94-2.06-.94 2.06-2.06.94z\"/><path d=\"M17.41 7.96l-1.37-1.37c-.4-.4-.92-.59-1.43-.59-.52 0-1.04.2-1.43.59L10.3 9.45l-7.72 7.72c-.78.78-.78 2.05 0 2.83L4 21.41c.39.39.9.59 1.41.59.51 0 1.02-.2 1.41-.59l7.78-7.78 2.81-2.81c.8-.78.8-2.07 0-2.86zM5.41 20L4 18.59l7.72-7.72 1.47 1.35L5.41 20z\"/>\n",
              "  </svg>\n",
              "      </button>\n",
              "      \n",
              "  <style>\n",
              "    .colab-df-container {\n",
              "      display:flex;\n",
              "      flex-wrap:wrap;\n",
              "      gap: 12px;\n",
              "    }\n",
              "\n",
              "    .colab-df-convert {\n",
              "      background-color: #E8F0FE;\n",
              "      border: none;\n",
              "      border-radius: 50%;\n",
              "      cursor: pointer;\n",
              "      display: none;\n",
              "      fill: #1967D2;\n",
              "      height: 32px;\n",
              "      padding: 0 0 0 0;\n",
              "      width: 32px;\n",
              "    }\n",
              "\n",
              "    .colab-df-convert:hover {\n",
              "      background-color: #E2EBFA;\n",
              "      box-shadow: 0px 1px 2px rgba(60, 64, 67, 0.3), 0px 1px 3px 1px rgba(60, 64, 67, 0.15);\n",
              "      fill: #174EA6;\n",
              "    }\n",
              "\n",
              "    [theme=dark] .colab-df-convert {\n",
              "      background-color: #3B4455;\n",
              "      fill: #D2E3FC;\n",
              "    }\n",
              "\n",
              "    [theme=dark] .colab-df-convert:hover {\n",
              "      background-color: #434B5C;\n",
              "      box-shadow: 0px 1px 3px 1px rgba(0, 0, 0, 0.15);\n",
              "      filter: drop-shadow(0px 1px 2px rgba(0, 0, 0, 0.3));\n",
              "      fill: #FFFFFF;\n",
              "    }\n",
              "  </style>\n",
              "\n",
              "      <script>\n",
              "        const buttonEl =\n",
              "          document.querySelector('#df-e402366b-bd6d-4be3-beb8-27d8d2a860e0 button.colab-df-convert');\n",
              "        buttonEl.style.display =\n",
              "          google.colab.kernel.accessAllowed ? 'block' : 'none';\n",
              "\n",
              "        async function convertToInteractive(key) {\n",
              "          const element = document.querySelector('#df-e402366b-bd6d-4be3-beb8-27d8d2a860e0');\n",
              "          const dataTable =\n",
              "            await google.colab.kernel.invokeFunction('convertToInteractive',\n",
              "                                                     [key], {});\n",
              "          if (!dataTable) return;\n",
              "\n",
              "          const docLinkHtml = 'Like what you see? Visit the ' +\n",
              "            '<a target=\"_blank\" href=https://colab.research.google.com/notebooks/data_table.ipynb>data table notebook</a>'\n",
              "            + ' to learn more about interactive tables.';\n",
              "          element.innerHTML = '';\n",
              "          dataTable['output_type'] = 'display_data';\n",
              "          await google.colab.output.renderOutput(dataTable, element);\n",
              "          const docLink = document.createElement('div');\n",
              "          docLink.innerHTML = docLinkHtml;\n",
              "          element.appendChild(docLink);\n",
              "        }\n",
              "      </script>\n",
              "    </div>\n",
              "  </div>\n",
              "  "
            ]
          },
          "metadata": {},
          "execution_count": 5
        }
      ]
    },
    {
      "cell_type": "markdown",
      "source": [
        "#### 학습을 위한 데이터 처리\n",
        "* 와인 클래스 2와 클래스 3만 사용 (1은 제거)\n",
        "* 두개의 특성 Alcohol과 'OD280/OD315 of diluted wines'만 사용"
      ],
      "metadata": {
        "id": "kuSG3RGgeu33"
      }
    },
    {
      "cell_type": "code",
      "source": [
        "# class label이 1인 데이터는 제거합니다.\n",
        "mask = df_wine[\"Class label\"] != 1\n",
        "df_wine=df_wine[mask]\n",
        "\n",
        "# X, y로 구분하기(X는 두개의 피쳐)\n",
        "X= df_wine[['Alcohol','OD280/OD315 of diluted wines']].values\n",
        "y= df_wine['Class label'].values\n",
        "X.shape, y.shape"
      ],
      "metadata": {
        "id": "9VLdlmwRemzJ",
        "colab": {
          "base_uri": "https://localhost:8080/"
        },
        "outputId": "03c00677-8732-4afe-dcb1-0311de4c5a3b"
      },
      "execution_count": null,
      "outputs": [
        {
          "output_type": "execute_result",
          "data": {
            "text/plain": [
              "((119, 2), (119,))"
            ]
          },
          "metadata": {},
          "execution_count": 9
        }
      ]
    },
    {
      "cell_type": "markdown",
      "source": [
        "#### 전처리"
      ],
      "metadata": {
        "id": "GbTUQ5MKe8qy"
      }
    },
    {
      "cell_type": "code",
      "source": [
        "# 라벨 인코딩 {1,2} -> {0,1}\n",
        "from sklearn.preprocessing import LabelEncoder\n",
        "le = LabelEncoder()\n",
        "y = le.fit_transform(y)\n",
        "\n",
        "# 훈련-테스트 데이터 분리\n",
        "from sklearn.model_selection import train_test_split\n",
        "X_train, X_test, y_train, y_test = train_test_split(X,y,\n",
        "                                                    test_size=0.2,\n",
        "                                                    stratify=y,\n",
        "                                                    random_state=1)\n",
        "X_train.shape, X_test.shape, y_train.shape, y_test.shape"
      ],
      "metadata": {
        "id": "L2E2OJA22Ey8",
        "colab": {
          "base_uri": "https://localhost:8080/"
        },
        "outputId": "0e2a15e2-fc61-4fea-f29c-40b4a0dde975"
      },
      "execution_count": null,
      "outputs": [
        {
          "output_type": "execute_result",
          "data": {
            "text/plain": [
              "((95, 2), (24, 2), (95,), (24,))"
            ]
          },
          "metadata": {},
          "execution_count": 11
        }
      ]
    },
    {
      "cell_type": "markdown",
      "source": [
        "#### 분포 시각화"
      ],
      "metadata": {
        "id": "njMXgtFKhOg_"
      }
    },
    {
      "cell_type": "code",
      "source": [
        "# 속성1, 속성2 산점도 (X)\n",
        "feature1 = X[:,0]\n",
        "feature2 = X[:,1]\n",
        "_=sns.scatterplot(x=feature1,y=feature2, hue = y)\n",
        "plt.xlabel('Alcohol')\n",
        "plt.ylabel('OD280/OD315 of diluted wines')\n",
        "plt.show()\n",
        "# 클래스(y)별 개수(countplot)\n",
        "sns.countplot(x=y)\n",
        "plt.show()"
      ],
      "metadata": {
        "id": "pg2Nrja14kMG",
        "colab": {
          "base_uri": "https://localhost:8080/",
          "height": 527
        },
        "outputId": "31af9b13-5379-4aee-d43d-4b0fb9779e83"
      },
      "execution_count": null,
      "outputs": [
        {
          "output_type": "display_data",
          "data": {
            "text/plain": [
              "<Figure size 432x288 with 1 Axes>"
            ],
            "image/png": "[encoded data removed]"
          },
          "metadata": {
            "needs_background": "light"
          }
        },
        {
          "output_type": "display_data",
          "data": {
            "text/plain": [
              "<Figure size 432x288 with 1 Axes>"
            ],
            "image/png": "[encoded data removed]"
          },
          "metadata": {
            "needs_background": "light"
          }
        }
      ]
    },
    {
      "cell_type": "markdown",
      "source": [
        "## 다수결 투표 방식을 사용한 예측\n",
        "---\n",
        "\n",
        "<p align='center'>\n",
        "<img src=https://git.io/Jtskl?raw=true width=600>\n",
        "</p>\n",
        "\n"
      ],
      "metadata": {
        "id": "pLfB7doqhstw"
      }
    },
    {
      "cell_type": "markdown",
      "source": [
        "#### 모델 구성"
      ],
      "metadata": {
        "id": "_xtitwy5ip2N"
      }
    },
    {
      "cell_type": "code",
      "source": [
        "from sklearn.ensemble import VotingClassifier\n",
        "from sklearn.linear_model import LogisticRegression\n",
        "from sklearn.tree import DecisionTreeClassifier\n",
        "from sklearn.neighbors import KNeighborsClassifier\n",
        "\n",
        "lr = LogisticRegression(random_state=1,\n",
        "                        penalty='l2')\n",
        "tree = DecisionTreeClassifier(max_depth=1,\n",
        "                              criterion = 'entropy',\n",
        "                              random_state=1)\n",
        "knn = KNeighborsClassifier(n_neighbors=1,\n",
        "                           p = 2,\n",
        "                           metric = 'minkowski'\n",
        "                           )\n",
        "\n",
        "\n",
        "voting = VotingClassifier(estimators=[('logistic', lr),\n",
        "                                      ('tree', tree),\n",
        "                                      ('knn',knn)],\n",
        "                          voting = 'soft', # {hard, soft}\n",
        "                          )\n",
        "models = ['lr', 'tree', 'knn', 'voting']"
      ],
      "metadata": {
        "id": "9vo8wYOV15pu"
      },
      "execution_count": null,
      "outputs": []
    },
    {
      "cell_type": "markdown",
      "source": [
        "#### k-겹 교차검증"
      ],
      "metadata": {
        "id": "-zHul1AJivjn"
      }
    },
    {
      "cell_type": "code",
      "source": [
        "from sklearn.model_selection import cross_val_score\n",
        "\n",
        "print('10-겹 교차검증:')\n",
        "for model in models:\n",
        "    scores = cross_val_score(estimator=eval(model), # eval: 문자열 실행\n",
        "                             X = X_train,\n",
        "                             y = y_train,\n",
        "                             cv = 10,\n",
        "                             scoring = 'accuracy'\n",
        "                             )\n",
        "    print(f'{model} Acc : {scores.mean():.3f} (+/- {scores.std():.3f})')"
      ],
      "metadata": {
        "id": "9R8Mz0T2iVeQ",
        "colab": {
          "base_uri": "https://localhost:8080/"
        },
        "outputId": "ed761fe7-3528-40b2-b45b-29641b3d7dd3"
      },
      "execution_count": null,
      "outputs": [
        {
          "output_type": "stream",
          "name": "stdout",
          "text": [
            "10-겹 교차검증:\n",
            "lr Acc : 0.882 (+/- 0.133)\n",
            "tree Acc : 0.883 (+/- 0.091)\n",
            "knn Acc : 0.906 (+/- 0.111)\n",
            "voting Acc : 0.926 (+/- 0.109)\n"
          ]
        }
      ]
    },
    {
      "cell_type": "markdown",
      "source": [
        "#### 스코어 계산"
      ],
      "metadata": {
        "id": "aWos6Ygfi0b2"
      }
    },
    {
      "cell_type": "code",
      "source": [
        "for model in models:\n",
        "    # 학습\n",
        "    eval(model).fit(X_train, y_train)\n",
        "    # 평가\n",
        "    train_score = eval(model).score(X_train, y_train)\n",
        "    test_score = eval(model).score(X_test, y_test)\n",
        "    print(f'{model} Acc : {train_score.mean():.2f} Test Acc : {test_score:.2f}')\n",
        "    # lr = 과소적합\n",
        "    # knn = 과대 적합"
      ],
      "metadata": {
        "id": "D_kPxOwciVeK",
        "colab": {
          "base_uri": "https://localhost:8080/"
        },
        "outputId": "dbbdf3e2-68e7-458c-89d1-b48a2247ddb2"
      },
      "execution_count": null,
      "outputs": [
        {
          "output_type": "stream",
          "name": "stdout",
          "text": [
            "lr Acc : 0.89 Test Acc : 0.92\n",
            "tree Acc : 0.92 Test Acc : 0.88\n",
            "knn Acc : 1.00 Test Acc : 0.92\n",
            "voting Acc : 0.96 Test Acc : 0.92\n"
          ]
        }
      ]
    },
    {
      "cell_type": "markdown",
      "source": [
        "#### 모델 별 결정경계 시각화"
      ],
      "metadata": {
        "id": "RAHgDTWXjBP9"
      }
    },
    {
      "cell_type": "code",
      "source": [
        "plt.figure(figsize=(12,8))\n",
        "for i, model in enumerate(models):\n",
        "    plt.subplot(2,2, i+1)\n",
        "    draw_decision_region(eval(model),\n",
        "                         X_train, y_train,\n",
        "                         X_test, y_test,\n",
        "                         title = model)\n",
        "plt.show()"
      ],
      "metadata": {
        "id": "HiYF_qtgiVeR",
        "colab": {
          "base_uri": "https://localhost:8080/",
          "height": 499
        },
        "outputId": "0f2282b4-1786-43b9-857c-716cf285bf59"
      },
      "execution_count": null,
      "outputs": [
        {
          "output_type": "display_data",
          "data": {
            "text/plain": [
              "<Figure size 864x576 with 4 Axes>"
            ],
            "image/png": "[encoded data removed]"
          },
          "metadata": {
            "needs_background": "light"
          }
        }
      ]
    },
    {
      "cell_type": "markdown",
      "source": [
        "## 배깅(Bagging: Bootrstrap aggregating)\n",
        "----"
      ],
      "metadata": {
        "id": "RyClZhWUSunP"
      }
    },
    {
      "cell_type": "markdown",
      "source": [
        "<p align='center'>\n",
        "<img src=https://git.io/Jtsk4?raw=true width=500>\n",
        "</p>"
      ],
      "metadata": {
        "id": "Bsiz6oTu2mdo"
      }
    },
    {
      "cell_type": "markdown",
      "source": [
        "#### 모델 구성\n",
        "\n",
        "```\n",
        "sklearn.ensemble.BaggingClassifier(\n",
        "                                  base_estimator=None, \n",
        "                                  n_estimators=10, *, \n",
        "                                  max_samples=1.0, \n",
        "                                  max_features=1.0, \n",
        "                                  bootstrap=True, \n",
        "                                  bootstrap_features=False, \n",
        "                                  oob_score=False, \n",
        "                                  warm_start=False, \n",
        "                                  n_jobs=None, \n",
        "                                  random_state=None, \n",
        "                                  verbose=0\n",
        "\n",
        "```"
      ],
      "metadata": {
        "id": "RAyk72CyklGO"
      }
    },
    {
      "cell_type": "code",
      "source": [
        "from sklearn.ensemble import BaggingClassifier\n",
        "from sklearn.tree import DecisionTreeClassifier\n",
        "\n",
        "tree = DecisionTreeClassifier(criterion = 'entropy',\n",
        "                              max_depth = None,\n",
        "                              random_state=1)\n",
        "\n",
        "bagging = BaggingClassifier(base_estimator = tree,\n",
        "                            n_estimators = 500,\n",
        "                            random_state = 1\n",
        "                            )\n",
        "models = ['tree', 'bagging']"
      ],
      "metadata": {
        "id": "0xo3GRogIdPU"
      },
      "execution_count": null,
      "outputs": []
    },
    {
      "cell_type": "markdown",
      "source": [
        "#### k-겹 교차검증"
      ],
      "metadata": {
        "id": "CX0I3Zw6kkaQ"
      }
    },
    {
      "cell_type": "code",
      "source": [
        "from sklearn.model_selection import cross_val_score\n",
        "\n",
        "print('10-겹 교차검증:')\n",
        "for model in models:\n",
        "    scores = cross_val_score(estimator=eval(model), # eval: 문자열 실행\n",
        "                             X = X_train,\n",
        "                             y = y_train,\n",
        "                             cv = 10,\n",
        "                             scoring = 'accuracy'\n",
        "                             )\n",
        "    print(f'{model} Acc : {scores.mean():.3f} (+/- {scores.std():.3f})')"
      ],
      "metadata": {
        "id": "5jq0Z5DekkaW",
        "colab": {
          "base_uri": "https://localhost:8080/"
        },
        "outputId": "81eb32c7-1803-4856-a521-628075059e4b"
      },
      "execution_count": null,
      "outputs": [
        {
          "output_type": "stream",
          "name": "stdout",
          "text": [
            "10-겹 교차검증:\n",
            "tree Acc : 0.883 (+/- 0.121)\n",
            "bagging Acc : 0.902 (+/- 0.105)\n"
          ]
        }
      ]
    },
    {
      "cell_type": "code",
      "source": [
        "from sklearn.model_selection import cross_val_score\n",
        "\n",
        "print('20-겹 교차검증:')\n",
        "for model in models:\n",
        "    scores = cross_val_score(estimator=eval(model), # eval: 문자열 실행\n",
        "                             X = X_train,\n",
        "                             y = y_train,\n",
        "                             cv = 20,\n",
        "                             scoring = 'accuracy'\n",
        "                             )\n",
        "    print(f'{model} Acc : {scores.mean():.3f} (+/- {scores.std():.3f})')"
      ],
      "metadata": {
        "colab": {
          "base_uri": "https://localhost:8080/"
        },
        "id": "bwweytzzolb5",
        "outputId": "6ce62041-67a5-4e21-b657-a777fef34743"
      },
      "execution_count": null,
      "outputs": [
        {
          "output_type": "stream",
          "name": "stdout",
          "text": [
            "20-겹 교차검증:\n",
            "tree Acc : 0.835 (+/- 0.190)\n",
            "bagging Acc : 0.878 (+/- 0.188)\n"
          ]
        }
      ]
    },
    {
      "cell_type": "markdown",
      "source": [
        "#### 스코어 계산"
      ],
      "metadata": {
        "id": "Z765JfzgkkaW"
      }
    },
    {
      "cell_type": "code",
      "source": [
        "for model in models:\n",
        "    # 학습\n",
        "    eval(model).fit(X_train, y_train)\n",
        "    # 평가\n",
        "    train_score = eval(model).score(X_train, y_train)\n",
        "    test_score = eval(model).score(X_test, y_test)\n",
        "    print(f'{model} Acc : {train_score.mean():.2f} Test Acc : {test_score:.2f}')"
      ],
      "metadata": {
        "id": "diKO1WZNkkaW",
        "colab": {
          "base_uri": "https://localhost:8080/"
        },
        "outputId": "e4e37291-2b27-4b2b-d09a-c297614517b4"
      },
      "execution_count": null,
      "outputs": [
        {
          "output_type": "stream",
          "name": "stdout",
          "text": [
            "tree Acc : 1.00 Test Acc : 0.83\n",
            "bagging Acc : 1.00 Test Acc : 0.92\n"
          ]
        }
      ]
    },
    {
      "cell_type": "markdown",
      "source": [
        "#### 모델 별 분류경계 시각화"
      ],
      "metadata": {
        "id": "EFruX6HokkaW"
      }
    },
    {
      "cell_type": "code",
      "source": [
        "plt.figure(figsize=(12,8))\n",
        "for i, model in enumerate(models):\n",
        "    plt.subplot(1,2, i+1)\n",
        "    draw_decision_region(eval(model),\n",
        "                         X_train, y_train,\n",
        "                         X_test, y_test,\n",
        "                         title = model)\n",
        "plt.show()"
      ],
      "metadata": {
        "id": "zu37L4jJkkaW",
        "colab": {
          "base_uri": "https://localhost:8080/",
          "height": 499
        },
        "outputId": "73f3c92e-1263-4aa6-e175-490382293d1f"
      },
      "execution_count": null,
      "outputs": [
        {
          "output_type": "display_data",
          "data": {
            "text/plain": [
              "<Figure size 864x576 with 2 Axes>"
            ],
            "image/png": "[encoded data removed]"
          },
          "metadata": {
            "needs_background": "light"
          }
        }
      ]
    },
    {
      "cell_type": "markdown",
      "source": [
        "##  에이다부스트(AdaBoost)\n",
        "---\n",
        "\n",
        "\n",
        "<p align='center'>\n",
        "<img src=https://camo.githubusercontent.com/e0966809177c396bd5f64c2142e11ca7f31dfb05094ac671c5f425fbd2cd2f91/68747470733a2f2f6769742e696f2f4a74736b30?raw=true width=500>\n",
        "</p>"
      ],
      "metadata": {
        "id": "hV7TSWQCTtdB"
      }
    },
    {
      "cell_type": "markdown",
      "source": [
        "#### 모델구성\n",
        "\n",
        "```\n",
        "class sklearn.ensemble.AdaBoostClassifier(\n",
        "                          base_estimator=None, *, \n",
        "                          n_estimators=50, \n",
        "                          learning_rate=1.0, \n",
        "                          algorithm='SAMME.R', \n",
        "                          random_state=None)[source]¶\n",
        "\n",
        "```"
      ],
      "metadata": {
        "id": "YwA2MPiIk4cb"
      }
    },
    {
      "cell_type": "code",
      "source": [
        "from sklearn.ensemble import AdaBoostClassifier\n",
        "\n",
        "tree = DecisionTreeClassifier(criterion='entropy',\n",
        "                              max_depth=1,\n",
        "                              random_state=1)\n",
        "ada = AdaBoostClassifier(base_estimator=tree,\n",
        "                         n_estimators=500,\n",
        "                         learning_rate=0.1,\n",
        "                         random_state=1)\n",
        "models = ['tree','ada']"
      ],
      "metadata": {
        "id": "wwYYOHZhL0tz"
      },
      "execution_count": null,
      "outputs": []
    },
    {
      "cell_type": "markdown",
      "source": [
        "#### k-겹 교차검증"
      ],
      "metadata": {
        "id": "DmYbeLLkk2-P"
      }
    },
    {
      "cell_type": "code",
      "source": [
        "from sklearn.model_selection import cross_val_score\n",
        "\n",
        "print('10-겹 교차검증:')\n",
        "for model in models:\n",
        "    scores = cross_val_score(estimator=eval(model), # eval: 문자열 실행\n",
        "                             X = X_train,\n",
        "                             y = y_train,\n",
        "                             cv = 10,\n",
        "                             scoring = 'accuracy'\n",
        "                             )\n",
        "    print(f'{model} Acc : {scores.mean():.3f} (+/- {scores.std():.3f})')"
      ],
      "metadata": {
        "id": "rQufj2Kvk2-P",
        "colab": {
          "base_uri": "https://localhost:8080/"
        },
        "outputId": "85938d89-2081-465a-d2e0-4bd448d7e76b"
      },
      "execution_count": null,
      "outputs": [
        {
          "output_type": "stream",
          "name": "stdout",
          "text": [
            "10-겹 교차검증:\n",
            "tree Acc : 0.883 (+/- 0.091)\n",
            "ada Acc : 0.882 (+/- 0.103)\n"
          ]
        }
      ]
    },
    {
      "cell_type": "markdown",
      "source": [
        "#### 스코어 계산"
      ],
      "metadata": {
        "id": "0NTETTYDk2-Q"
      }
    },
    {
      "cell_type": "code",
      "source": [
        "for model in models:\n",
        "    # 학습\n",
        "    eval(model).fit(X_train, y_train)\n",
        "    # 평가\n",
        "    train_score = eval(model).score(X_train, y_train)\n",
        "    test_score = eval(model).score(X_test, y_test)\n",
        "    print(f'{model} Acc : {train_score.mean():.2f} Test Acc : {test_score:.2f}')"
      ],
      "metadata": {
        "id": "8wwZpueek2-Q",
        "colab": {
          "base_uri": "https://localhost:8080/"
        },
        "outputId": "7b20811a-be8a-4168-8e48-257fc1abfcdc"
      },
      "execution_count": null,
      "outputs": [
        {
          "output_type": "stream",
          "name": "stdout",
          "text": [
            "tree Acc : 0.92 Test Acc : 0.88\n",
            "ada Acc : 1.00 Test Acc : 0.92\n"
          ]
        }
      ]
    },
    {
      "cell_type": "markdown",
      "source": [
        "#### 모델 별 분류경계 시각화"
      ],
      "metadata": {
        "id": "ln3yawpgk2-Q"
      }
    },
    {
      "cell_type": "code",
      "source": [
        "plt.figure(figsize=(8,6))\n",
        "for i, model in enumerate(models):\n",
        "    plt.subplot(1,2, i+1)\n",
        "    draw_decision_region(eval(model),\n",
        "                         X_train, y_train,\n",
        "                         X_test, y_test,\n",
        "                         title = model)\n",
        "plt.show()"
      ],
      "metadata": {
        "id": "FdJyW3MYk2-Q",
        "colab": {
          "base_uri": "https://localhost:8080/",
          "height": 390
        },
        "outputId": "82de2699-cfee-4378-94cd-dd4c4c986442"
      },
      "execution_count": null,
      "outputs": [
        {
          "output_type": "display_data",
          "data": {
            "text/plain": [
              "<Figure size 576x432 with 2 Axes>"
            ],
            "image/png": "[encoded data removed]"
          },
          "metadata": {
            "needs_background": "light"
          }
        }
      ]
    },
    {
      "cell_type": "markdown",
      "source": [
        "## 앙상블 모델 정리\n",
        "---"
      ],
      "metadata": {
        "id": "Ogt9eqqaaGo6"
      }
    },
    {
      "cell_type": "code",
      "source": [
        "from sklearn.tree import *\n",
        "from sklearn.ensemble import *\n",
        "from xgboost import XGBClassifier\n",
        "from lightgbm import LGBMClassifier\n",
        "\n",
        "tree = DecisionTreeClassifier(criterion='entropy',\n",
        "                              max_depth = None,\n",
        "                              random_state=1\n",
        "                              )\n",
        "rnd_tree = RandomForestClassifier(random_state=1)\n",
        "bagging = BaggingClassifier(base_estimator = tree,\n",
        "                            n_estimators = 500,\n",
        "                            random_state = 1\n",
        "                            )\n",
        "ada = AdaBoostClassifier(base_estimator=tree,\n",
        "                         n_estimators=500,\n",
        "                         learning_rate=0.1,\n",
        "                         random_state=1)\n",
        "# 그래디언트 부스팅 랜덤 트리 ( 알고리즘 최적화 )\n",
        "gbrt = GradientBoostingClassifier(random_state = 1)\n",
        "\n",
        "# xgb\n",
        "xgb = XGBClassifier(random_state=1)\n",
        "\n",
        "# light bgm\n",
        "lgb = LGBMClassifier(random_state=1)\n",
        "\n",
        "models = ['tree','rnd_tree','bagging','ada','gbrt','xgb','lgb']"
      ],
      "metadata": {
        "id": "TkuZlA-qNcg6"
      },
      "execution_count": null,
      "outputs": []
    },
    {
      "cell_type": "code",
      "source": [
        ""
      ],
      "metadata": {
        "id": "XNyR4778vG56"
      },
      "execution_count": null,
      "outputs": []
    },
    {
      "cell_type": "markdown",
      "source": [
        "#### k-겹 교차검증"
      ],
      "metadata": {
        "id": "KMNY3o41r3mj"
      }
    },
    {
      "cell_type": "code",
      "source": [
        ""
      ],
      "metadata": {
        "id": "iQFxyWcJr3mj"
      },
      "execution_count": null,
      "outputs": []
    },
    {
      "cell_type": "markdown",
      "source": [
        "#### 스코어 계산"
      ],
      "metadata": {
        "id": "nqdlr_Bpr3mk"
      }
    },
    {
      "cell_type": "code",
      "source": [
        "for model in models:\n",
        "    # 학습\n",
        "    eval(model).fit(X_train, y_train)\n",
        "    # 평가\n",
        "    train_score = eval(model).score(X_train, y_train)\n",
        "    test_score = eval(model).score(X_test, y_test)\n",
        "    print(f'{model} Acc : {train_score.mean():.2f} Test Acc : {test_score:.2f}')"
      ],
      "metadata": {
        "id": "NSpJyIdIr3mk",
        "colab": {
          "base_uri": "https://localhost:8080/"
        },
        "outputId": "d5048a4e-a607-4fd6-9d8a-3deb26b8f58e"
      },
      "execution_count": null,
      "outputs": [
        {
          "output_type": "stream",
          "name": "stdout",
          "text": [
            "tree Acc : 1.00 Test Acc : 0.83\n",
            "rnd_tree Acc : 1.00 Test Acc : 0.92\n",
            "bagging Acc : 1.00 Test Acc : 0.92\n",
            "ada Acc : 1.00 Test Acc : 0.83\n",
            "gbrt Acc : 1.00 Test Acc : 0.92\n",
            "xgb Acc : 0.97 Test Acc : 0.92\n",
            "lgb Acc : 0.97 Test Acc : 0.92\n"
          ]
        }
      ]
    },
    {
      "cell_type": "markdown",
      "source": [
        "#### 모델 별 분류경계 시각화"
      ],
      "metadata": {
        "id": "Q1xddXFGr3mk"
      }
    },
    {
      "cell_type": "code",
      "source": [
        "plt.figure(figsize=(20,4))\n",
        "for i, model in enumerate(models):\n",
        "    plt.subplot(1,7, i+1)\n",
        "    draw_decision_region(eval(model),\n",
        "                         X_train, y_train,\n",
        "                         X_test, y_test,\n",
        "                         title = model)\n",
        "plt.show()"
      ],
      "metadata": {
        "id": "xu0y1hZuZUwi",
        "colab": {
          "base_uri": "https://localhost:8080/",
          "height": 268
        },
        "outputId": "43d110f2-6a66-40df-9662-4ba7807e318c"
      },
      "execution_count": null,
      "outputs": [
        {
          "output_type": "display_data",
          "data": {
            "text/plain": [
              "<Figure size 1440x288 with 7 Axes>"
            ],
            "image/png": "[encoded data removed]"
          },
          "metadata": {
            "needs_background": "light"
          }
        }
      ]
    },
    {
      "cell_type": "markdown",
      "source": [
        "## 알고리즘 정해서 발표하기\n",
        "\n",
        "1. PCA, KNN -> 발표\n",
        "2. 앙상블(Ensemble), 배깅(Bagging)\n",
        "3. 부스팅(Bossting)\n",
        "\n",
        "포함되어야 할 내용\n",
        "- 개념 설명\n",
        "- (앙상블, 배깅, 부스팅)의 경우 관련 모델\n",
        "- 사이킷런 구현시 함수의 각 파라미터"
      ],
      "metadata": {
        "id": "y4qzEwGusPFx"
      }
    },
    {
      "cell_type": "code",
      "source": [
        ""
      ],
      "metadata": {
        "id": "seWnGJ0UPRKb"
      },
      "execution_count": null,
      "outputs": []
    }
  ]
}