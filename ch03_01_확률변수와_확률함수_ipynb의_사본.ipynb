{
  "nbformat": 4,
  "nbformat_minor": 0,
  "metadata": {
    "colab": {
      "name": "ch03_01_확률변수와_확률함수.ipynb의 사본",
      "provenance": [],
      "collapsed_sections": [],
      "include_colab_link": true
    },
    "kernelspec": {
      "name": "python3",
      "display_name": "Python 3"
    },
    "language_info": {
      "name": "python"
    }
  },
  "cells": [
    {
      "cell_type": "markdown",
      "metadata": {
        "id": "view-in-github",
        "colab_type": "text"
      },
      "source": [
        "<a href=\"https://colab.research.google.com/github/Mifekmk/SkillTreePython-DataAnalysis/blob/main/ch03_01_%ED%99%95%EB%A5%A0%EB%B3%80%EC%88%98%EC%99%80_%ED%99%95%EB%A5%A0%ED%95%A8%EC%88%98_ipynb%EC%9D%98_%EC%82%AC%EB%B3%B8.ipynb\" target=\"_parent\"><img src=\"https://colab.research.google.com/assets/colab-badge.svg\" alt=\"Open In Colab\"/></a>"
      ]
    },
    {
      "cell_type": "markdown",
      "source": [
        "# ch03.01. 확률 변수와 확률 함수\n",
        "---\n",
        "* 날짜: 2022-05-04\n",
        "* 이름: 김민규\n",
        "\n",
        "## 학습내용\n",
        "    - 실험 (Experiment) : 데이터셋을 생성하는 모든 프로세스 \n",
        "    - 표본 공간 (Sample space): 실험에서 도출되는 모든 결과를 포함하는 공간\n",
        "    - 사건 (Event) : 표본 공간 S의 부분집합\n",
        "    - 확률 변수 (Random variable) : 표본공간의 모든 요소를 실수로 매핑하는 함수\n",
        "    - 확률 함수 (Probability function) : 확률을 매핑하는 함수"
      ],
      "metadata": {
        "id": "wWpXZc2fi39U"
      }
    },
    {
      "cell_type": "code",
      "execution_count": null,
      "metadata": {
        "id": "ASwbQ96XXSib"
      },
      "outputs": [],
      "source": [
        "import numpy as np\n",
        "import matplotlib.pyplot as plt"
      ]
    },
    {
      "cell_type": "markdown",
      "source": [
        "#### **예제 01. 공정한 주사위**\n",
        "\n"
      ],
      "metadata": {
        "id": "82a3GtBCNjto"
      }
    },
    {
      "cell_type": "markdown",
      "source": [
        "* 확률변수가 '주사위를 굴려 나온 눈의 값' 일 때, 확률변수 $X$를 정의하세요."
      ],
      "metadata": {
        "id": "1ACJgMN1N3Jn"
      }
    },
    {
      "cell_type": "code",
      "source": [
        "x = [1,2,3,4,5,6 ]# 벡터"
      ],
      "metadata": {
        "id": "i0hS4O76OIFP"
      },
      "execution_count": null,
      "outputs": []
    },
    {
      "cell_type": "markdown",
      "source": [
        "* 주사위의 모든 면이 '공정' 할 때, 확률 질량 함수 $P$를 정의하세요."
      ],
      "metadata": {
        "id": "uP4JqP4lOMnW"
      }
    },
    {
      "cell_type": "code",
      "source": [
        "def P(x):\n",
        "    if x==1: return 1/6\n",
        "    elif x==2: return 1/6\n",
        "    elif x==3: return 1/6\n",
        "    elif x==4: return 1/6\n",
        "    elif x==5: return 1/6\n",
        "    elif x==6: return 1/6\n",
        "    else: return 0\n",
        "P_x = list(map(P,x))\n",
        "print(P_x)"
      ],
      "metadata": {
        "id": "pWiNfRAoi2oU",
        "colab": {
          "base_uri": "https://localhost:8080/"
        },
        "outputId": "ab8c3365-e3b5-4d94-a8eb-6cb873d6a3ca"
      },
      "execution_count": null,
      "outputs": [
        {
          "output_type": "stream",
          "name": "stdout",
          "text": [
            "[0.16666666666666666, 0.16666666666666666, 0.16666666666666666, 0.16666666666666666, 0.16666666666666666, 0.16666666666666666]\n"
          ]
        }
      ]
    },
    {
      "cell_type": "markdown",
      "source": [
        "* 확률 분포를 그리세요."
      ],
      "metadata": {
        "id": "YT_NwyHEOZpQ"
      }
    },
    {
      "cell_type": "code",
      "source": [
        "plt.bar(x, P_x)"
      ],
      "metadata": {
        "id": "PPNa5Kpim7Bx",
        "colab": {
          "base_uri": "https://localhost:8080/",
          "height": 283
        },
        "outputId": "ca22a895-1641-44c5-ef93-93b47ae5c51a"
      },
      "execution_count": null,
      "outputs": [
        {
          "output_type": "execute_result",
          "data": {
            "text/plain": [
              "<BarContainer object of 6 artists>"
            ]
          },
          "metadata": {},
          "execution_count": 123
        },
        {
          "output_type": "display_data",
          "data": {
            "text/plain": [
              "<Figure size 432x288 with 1 Axes>"
            ],
            "image/png": "[encoded data removed]"
          },
          "metadata": {
            "needs_background": "light"
          }
        }
      ]
    },
    {
      "cell_type": "markdown",
      "source": [
        "* 누적 확률 분포를 그리세요."
      ],
      "metadata": {
        "id": "u5_TJcvKOmjn"
      }
    },
    {
      "cell_type": "code",
      "source": [
        "plt.plot(np.cumsum(P_x), marker='o')"
      ],
      "metadata": {
        "id": "JjzXLhk9rpyv",
        "colab": {
          "base_uri": "https://localhost:8080/",
          "height": 283
        },
        "outputId": "743aafcd-4a07-45eb-c231-ce345eb35c5c"
      },
      "execution_count": null,
      "outputs": [
        {
          "output_type": "execute_result",
          "data": {
            "text/plain": [
              "[<matplotlib.lines.Line2D at 0x7fd87ecb7b10>]"
            ]
          },
          "metadata": {},
          "execution_count": 124
        },
        {
          "output_type": "display_data",
          "data": {
            "text/plain": [
              "<Figure size 432x288 with 1 Axes>"
            ],
            "image/png": "[encoded data removed]"
          },
          "metadata": {
            "needs_background": "light"
          }
        }
      ]
    },
    {
      "cell_type": "markdown",
      "source": [
        "#### **예제 02. 동전 두번 던지기**\n"
      ],
      "metadata": {
        "id": "aaiN5uQHVCe7"
      }
    },
    {
      "cell_type": "markdown",
      "source": [
        "* 확률변수가 '앞면이 나온 횟수' 일 때, 확률변수 $X$를 정의하세요."
      ],
      "metadata": {
        "id": "EmhyKeQ1VCe8"
      }
    },
    {
      "cell_type": "code",
      "source": [
        "# 앞면은 1, 뒷면은 0으로 정의합니다.\n",
        "X = [0,1,2]"
      ],
      "metadata": {
        "id": "scnOXxGQVCe8"
      },
      "execution_count": null,
      "outputs": []
    },
    {
      "cell_type": "markdown",
      "source": [
        "* 확률 질량 함수를 정의하세요."
      ],
      "metadata": {
        "id": "0DKjpoFLVCe8"
      }
    },
    {
      "cell_type": "code",
      "source": [
        "def P(x):\n",
        "  if x==0: p=.25\n",
        "  elif x==1: p=.5\n",
        "  elif x==2: p=.25\n",
        "  else: p=0\n",
        "  return p\n",
        "\n",
        "P_x = list(map(P, X)) # list(map(함수, 변수)) 순서대로 기입\n",
        "print(P_x)"
      ],
      "metadata": {
        "id": "oqqQDpWsVCe8",
        "colab": {
          "base_uri": "https://localhost:8080/"
        },
        "outputId": "7045400f-f12e-4645-bf39-b7e27fe65493"
      },
      "execution_count": null,
      "outputs": [
        {
          "output_type": "stream",
          "name": "stdout",
          "text": [
            "[0.25, 0.5, 0.25]\n"
          ]
        }
      ]
    },
    {
      "cell_type": "markdown",
      "source": [
        "* 확률 분포를 그리세요."
      ],
      "metadata": {
        "id": "9R9x4M08VCe9"
      }
    },
    {
      "cell_type": "code",
      "source": [
        "_=plt.bar(X, P_x)"
      ],
      "metadata": {
        "id": "1WUTddGpVCe9",
        "colab": {
          "base_uri": "https://localhost:8080/",
          "height": 265
        },
        "outputId": "64bd086a-fef3-4143-a104-be74769a9cb0"
      },
      "execution_count": null,
      "outputs": [
        {
          "output_type": "display_data",
          "data": {
            "text/plain": [
              "<Figure size 432x288 with 1 Axes>"
            ],
            "image/png": "[encoded data removed]"
          },
          "metadata": {
            "needs_background": "light"
          }
        }
      ]
    },
    {
      "cell_type": "markdown",
      "source": [
        "* 누적 확률 분포를 그리세요."
      ],
      "metadata": {
        "id": "uWoDJPIlVCe9"
      }
    },
    {
      "cell_type": "code",
      "source": [
        "_=plt.plot(np.cumsum(P_x), marker='o')"
      ],
      "metadata": {
        "id": "kkEvt6eNrlnX",
        "colab": {
          "base_uri": "https://localhost:8080/",
          "height": 265
        },
        "outputId": "1a800a85-2aaf-46b2-8f4f-810380063088"
      },
      "execution_count": null,
      "outputs": [
        {
          "output_type": "display_data",
          "data": {
            "text/plain": [
              "<Figure size 432x288 with 1 Axes>"
            ],
            "image/png": "[encoded data removed]"
          },
          "metadata": {
            "needs_background": "light"
          }
        }
      ]
    },
    {
      "cell_type": "markdown",
      "source": [
        "#### **예제 03. 화재 발생**\n"
      ],
      "metadata": {
        "id": "csb8tewGVmvb"
      }
    },
    {
      "cell_type": "markdown",
      "source": [
        "*  확률변수가 '1년간 발생한 화재건수' 일 때 $X$를 정의하세요."
      ],
      "metadata": {
        "id": "fFwyEMxkVmvh"
      }
    },
    {
      "cell_type": "code",
      "source": [
        "# 넘파이 어레이로 정의합니다.\n",
        "# 최대값은 10\n",
        "X = [1,2,3,4,5,6,7,8,9,10]"
      ],
      "metadata": {
        "id": "o-ZY6qYBVmvh"
      },
      "execution_count": null,
      "outputs": []
    },
    {
      "cell_type": "markdown",
      "source": [
        "* 화재발생 확률이 다음과 같이 주어졌을 때 함수 $f$ 를 정의하세요.\n",
        "\n",
        "\\begin{align}\n",
        "f(X=x)=\\frac{1}{2^{(x+1)}}\n",
        "\\end{align}"
      ],
      "metadata": {
        "id": "YQa-1CopVmvh"
      }
    },
    {
      "cell_type": "code",
      "source": [
        "def f(X):\n",
        "    return 1/2**(X+1)\n",
        "P_x=list(map(f,X))\n",
        "P_x"
      ],
      "metadata": {
        "id": "Ez1kBPTTVmvh",
        "colab": {
          "base_uri": "https://localhost:8080/"
        },
        "outputId": "4d14fa51-3fbc-49d2-8163-ff7bee477b94"
      },
      "execution_count": null,
      "outputs": [
        {
          "output_type": "execute_result",
          "data": {
            "text/plain": [
              "[0.25,\n",
              " 0.125,\n",
              " 0.0625,\n",
              " 0.03125,\n",
              " 0.015625,\n",
              " 0.0078125,\n",
              " 0.00390625,\n",
              " 0.001953125,\n",
              " 0.0009765625,\n",
              " 0.00048828125]"
            ]
          },
          "metadata": {},
          "execution_count": 129
        }
      ]
    },
    {
      "cell_type": "markdown",
      "source": [
        "* 확률 분포를 그리세요."
      ],
      "metadata": {
        "id": "9HAIHU1HVmvh"
      }
    },
    {
      "cell_type": "code",
      "source": [
        "plt.bar(X,P_x)"
      ],
      "metadata": {
        "id": "NcO2LheUVmvi",
        "colab": {
          "base_uri": "https://localhost:8080/",
          "height": 283
        },
        "outputId": "82bc9eee-f18d-46e8-a5f1-ceb94edaa135"
      },
      "execution_count": null,
      "outputs": [
        {
          "output_type": "execute_result",
          "data": {
            "text/plain": [
              "<BarContainer object of 10 artists>"
            ]
          },
          "metadata": {},
          "execution_count": 137
        },
        {
          "output_type": "display_data",
          "data": {
            "text/plain": [
              "<Figure size 432x288 with 1 Axes>"
            ],
            "image/png": "[encoded data removed]"
          },
          "metadata": {
            "needs_background": "light"
          }
        }
      ]
    },
    {
      "cell_type": "markdown",
      "source": [
        "* 누적 확률 분포를 그리세요."
      ],
      "metadata": {
        "id": "deIDtmURVmvi"
      }
    },
    {
      "cell_type": "code",
      "source": [
        "plt.plot(X,P_x,'o-.',markerfacecolor='c')"
      ],
      "metadata": {
        "id": "L1lhlFfNVmvi",
        "colab": {
          "base_uri": "https://localhost:8080/",
          "height": 283
        },
        "outputId": "66c5c881-48d1-4b76-8f0d-9495f9099882"
      },
      "execution_count": null,
      "outputs": [
        {
          "output_type": "execute_result",
          "data": {
            "text/plain": [
              "[<matplotlib.lines.Line2D at 0x7fd87e55e3d0>]"
            ]
          },
          "metadata": {},
          "execution_count": 139
        },
        {
          "output_type": "display_data",
          "data": {
            "text/plain": [
              "<Figure size 432x288 with 1 Axes>"
            ],
            "image/png": "[encoded data removed]"
          },
          "metadata": {
            "needs_background": "light"
          }
        }
      ]
    },
    {
      "cell_type": "markdown",
      "source": [
        "#### **예제 04. 공정하지 않은 주사위**\n"
      ],
      "metadata": {
        "id": "JbMCXAgaOrw_"
      }
    },
    {
      "cell_type": "markdown",
      "source": [
        "* 확률변수가 '주사위를 굴려 나온 눈의 값' 일 때, 확률변수 $X$를 정의하세요."
      ],
      "metadata": {
        "id": "TFXEpuObOrxA"
      }
    },
    {
      "cell_type": "code",
      "source": [
        "X = [1,2,3,4,5,6]"
      ],
      "metadata": {
        "id": "k0267EHiOrxA"
      },
      "execution_count": null,
      "outputs": []
    },
    {
      "cell_type": "markdown",
      "source": [
        "* 주사위의 짝수 면이 나올 확률이 홀수 면이 나올 확률의 2배일 때, 확률 질량 함수 $P$를 정의하세요."
      ],
      "metadata": {
        "id": "TWicXFFdOrxA"
      }
    },
    {
      "cell_type": "code",
      "source": [
        "def P(x):\n",
        "  if x%2==0: return 2/9\n",
        "  elif x%2==1: return 1/9\n",
        "  else: return 0"
      ],
      "metadata": {
        "id": "ir4IqIO9OrxA"
      },
      "execution_count": null,
      "outputs": []
    },
    {
      "cell_type": "markdown",
      "source": [
        "* 확률분포 를 그리세요."
      ],
      "metadata": {
        "id": "JOWFqozBOrxA"
      }
    },
    {
      "cell_type": "code",
      "source": [
        "P_x = list(map(P, X))\n",
        "print(P_x)\n",
        "_=plt.bar(X,P_x)"
      ],
      "metadata": {
        "id": "WfgOLsxbOrxA",
        "colab": {
          "base_uri": "https://localhost:8080/",
          "height": 303
        },
        "outputId": "a106f812-059a-4b27-d740-dc1005cc75aa"
      },
      "execution_count": null,
      "outputs": [
        {
          "output_type": "stream",
          "name": "stdout",
          "text": [
            "[0.1111111111111111, 0.2222222222222222, 0.1111111111111111, 0.2222222222222222, 0.1111111111111111, 0.2222222222222222]\n"
          ]
        },
        {
          "output_type": "display_data",
          "data": {
            "text/plain": [
              "<Figure size 432x288 with 1 Axes>"
            ],
            "image/png": "[encoded data removed]"
          },
          "metadata": {
            "needs_background": "light"
          }
        }
      ]
    },
    {
      "cell_type": "markdown",
      "source": [
        "* 누적 확률 분포를 그리세요."
      ],
      "metadata": {
        "id": "DivVdhyrOrxB"
      }
    },
    {
      "cell_type": "code",
      "source": [
        "plt.plot(np.cumsum(P_x), marker='o')"
      ],
      "metadata": {
        "id": "KHe2uMwmOrxB",
        "colab": {
          "base_uri": "https://localhost:8080/",
          "height": 283
        },
        "outputId": "3b6ae092-d0e5-4bf2-c756-81cc804f6d11"
      },
      "execution_count": null,
      "outputs": [
        {
          "output_type": "execute_result",
          "data": {
            "text/plain": [
              "[<matplotlib.lines.Line2D at 0x7fd87ec33810>]"
            ]
          },
          "metadata": {},
          "execution_count": 73
        },
        {
          "output_type": "display_data",
          "data": {
            "text/plain": [
              "<Figure size 432x288 with 1 Axes>"
            ],
            "image/png": "[encoded data removed]"
          },
          "metadata": {
            "needs_background": "light"
          }
        }
      ]
    },
    {
      "cell_type": "markdown",
      "source": [
        "#### **예제 05. 주사위 두번 굴리기**\n"
      ],
      "metadata": {
        "id": "MkZcbqe2Xhmh"
      }
    },
    {
      "cell_type": "markdown",
      "source": [
        "* 확률변수가 '주사위를 두번 굴려 나온 눈의 합' 일 때, 확률변수 $X$를 정의하세요."
      ],
      "metadata": {
        "id": "D_JC-aFkXhmi"
      }
    },
    {
      "cell_type": "code",
      "source": [
        "X=[2,3,4,5,6,7,8,9,10,11,12]"
      ],
      "metadata": {
        "id": "lg4_wfZNXhmi"
      },
      "execution_count": null,
      "outputs": []
    },
    {
      "cell_type": "markdown",
      "source": [
        "*  확률 질량 함수 $P$ 를 정의하세요."
      ],
      "metadata": {
        "id": "9vdwsNYgXhmi"
      }
    },
    {
      "cell_type": "code",
      "source": [
        "def P(X):\n",
        "    if X==2: return 1/36\n",
        "    elif X==3: return 2/36\n",
        "    elif X==4: return 3/36\n",
        "    elif X==5: return 4/36\n",
        "    elif X==6: return 5/36\n",
        "    elif X==7: return 6/36\n",
        "    elif X==8: return 5/36\n",
        "    elif X==9: return 4/36\n",
        "    elif X==10: return 3/36\n",
        "    elif X==11: return 2/36\n",
        "    elif X==12: return 1/36\n",
        "    else: return 0\n",
        "P_x = list(map(P,X))\n",
        "print(P_x)"
      ],
      "metadata": {
        "id": "QbV0gd4tXhmi",
        "colab": {
          "base_uri": "https://localhost:8080/"
        },
        "outputId": "0bec641d-d22d-42e5-dbed-92c1b493a8fa"
      },
      "execution_count": null,
      "outputs": [
        {
          "output_type": "stream",
          "name": "stdout",
          "text": [
            "[0.027777777777777776, 0.05555555555555555, 0.08333333333333333, 0.1111111111111111, 0.1388888888888889, 0.16666666666666666, 0.1388888888888889, 0.1111111111111111, 0.08333333333333333, 0.05555555555555555, 0.027777777777777776]\n"
          ]
        }
      ]
    },
    {
      "cell_type": "markdown",
      "source": [
        "* 확률 분포를 그리세요."
      ],
      "metadata": {
        "id": "dENmsSwIXhmi"
      }
    },
    {
      "cell_type": "code",
      "source": [
        "P_x = list(map(P,X))\n",
        "print(P_x)\n",
        "plt.bar(X,P_x)"
      ],
      "metadata": {
        "id": "Y91VYdLFXhmi",
        "colab": {
          "base_uri": "https://localhost:8080/",
          "height": 322
        },
        "outputId": "f4a75995-f7ac-4277-ac99-b8eb153de650"
      },
      "execution_count": null,
      "outputs": [
        {
          "output_type": "stream",
          "name": "stdout",
          "text": [
            "[0.027777777777777776, 0.05555555555555555, 0.08333333333333333, 0.1111111111111111, 0.1388888888888889, 0.16666666666666666, 0.1388888888888889, 0.1111111111111111, 0.08333333333333333, 0.05555555555555555, 0.027777777777777776]\n"
          ]
        },
        {
          "output_type": "execute_result",
          "data": {
            "text/plain": [
              "<BarContainer object of 11 artists>"
            ]
          },
          "metadata": {},
          "execution_count": 107
        },
        {
          "output_type": "display_data",
          "data": {
            "text/plain": [
              "<Figure size 432x288 with 1 Axes>"
            ],
            "image/png": "[encoded data removed]"
          },
          "metadata": {
            "needs_background": "light"
          }
        }
      ]
    },
    {
      "cell_type": "markdown",
      "source": [
        "* 누적 확률 분포를 그리세요."
      ],
      "metadata": {
        "id": "VWD3Q1jRXhmi"
      }
    },
    {
      "cell_type": "code",
      "source": [
        "_=plt.plot(np.cumsum(P_x),marker='o')"
      ],
      "metadata": {
        "id": "4zuqckh3Xhmj",
        "colab": {
          "base_uri": "https://localhost:8080/",
          "height": 265
        },
        "outputId": "cc67400c-cbd9-4d65-a7a4-691b4708aec8"
      },
      "execution_count": null,
      "outputs": [
        {
          "output_type": "display_data",
          "data": {
            "text/plain": [
              "<Figure size 432x288 with 1 Axes>"
            ],
            "image/png": "[encoded data removed]"
          },
          "metadata": {
            "needs_background": "light"
          }
        }
      ]
    },
    {
      "cell_type": "markdown",
      "source": [
        "#### **예제 06. 손의 길이**\n"
      ],
      "metadata": {
        "id": "PkwoNqyoiQ8i"
      }
    },
    {
      "cell_type": "markdown",
      "source": [
        "* 확률변수가 '성인의 손 길이(cm)' 입니다. $X$를 10부터 20까지 1000개의 값으로 정의하세요."
      ],
      "metadata": {
        "id": "ZOyUQpNtiQ8o"
      }
    },
    {
      "cell_type": "code",
      "source": [
        "X =np.linspace(10,20,1000)\n",
        "X"
      ],
      "metadata": {
        "id": "NIdnQlEaiQ8o"
      },
      "execution_count": null,
      "outputs": []
    },
    {
      "cell_type": "markdown",
      "source": [
        "* 손 길이에 대한 확률이 다음과 같이 주어졌을 때 함수 $f$ 를 정의하세요. ($\\sigma$ = 1)\n",
        "\n",
        "\n",
        "\n",
        "\\begin{align}\n",
        " f(x)=\\frac{1}{\\sqrt{2\\pi}\\sigma}\\exp^{-\\frac{(x-15.2)^2}{2*\\sigma^2}}\n",
        "\\end{align}"
      ],
      "metadata": {
        "id": "gj2dFgBJiQ8o"
      }
    },
    {
      "cell_type": "code",
      "source": [
        "def f(x, sigma=1):\n",
        "    return (1/(np.sqrt(2*np.pi)*sigma))*np.exp(-(X-15.2)**2/(sigma)**2)"
      ],
      "metadata": {
        "id": "P4ytpN5giQ8o"
      },
      "execution_count": null,
      "outputs": []
    },
    {
      "cell_type": "markdown",
      "source": [
        "* 확률 분포를 그리세요."
      ],
      "metadata": {
        "id": "y-d1Q_EdiQ8o"
      }
    },
    {
      "cell_type": "code",
      "source": [
        "P_x = f(X)\n",
        "_=plt.plot(X,P_x)\n",
        "plt.grid(True)"
      ],
      "metadata": {
        "id": "F6y785cJiQ8o",
        "colab": {
          "base_uri": "https://localhost:8080/",
          "height": 265
        },
        "outputId": "04326260-b4a0-4a8f-d422-0bd66c566eed"
      },
      "execution_count": null,
      "outputs": [
        {
          "output_type": "display_data",
          "data": {
            "text/plain": [
              "<Figure size 432x288 with 1 Axes>"
            ],
            "image/png": "[encoded data removed]"
          },
          "metadata": {
            "needs_background": "light"
          }
        }
      ]
    },
    {
      "cell_type": "markdown",
      "source": [
        "* 누적 확률 분포를 그리세요."
      ],
      "metadata": {
        "id": "TKCRdDB4iQ8p"
      }
    },
    {
      "cell_type": "code",
      "source": [
        "_ = plt.plot(np.cumsum(P_x))\n",
        "plt.grid(True)"
      ],
      "metadata": {
        "id": "vOPgzT8SiQ8p",
        "colab": {
          "base_uri": "https://localhost:8080/",
          "height": 265
        },
        "outputId": "53ca2931-84fd-4d68-d60f-547c98c2808d"
      },
      "execution_count": null,
      "outputs": [
        {
          "output_type": "display_data",
          "data": {
            "text/plain": [
              "<Figure size 432x288 with 1 Axes>"
            ],
            "image/png": "[encoded data removed]"
          },
          "metadata": {
            "needs_background": "light"
          }
        }
      ]
    },
    {
      "cell_type": "markdown",
      "source": [
        "#### **예제 07. 파라미터 변경**\n",
        "\n",
        "예제 06 에서 정의한 함수 $f$의 파라미터 $\\sigma$를 각각 `0.5, 1, 2, 4`로 정의한 후 확률분포와 누적확률 분포를 그리세요.\n",
        "\n",
        "\\begin{align}\n",
        " f(x)=\\frac{1}{\\sqrt{2\\pi}\\sigma}\\exp^{-\\frac{(x-15.2)^2}{2*\\sigma^2}}\n",
        "\\end{align}"
      ],
      "metadata": {
        "id": "fIC9ftgHuQdj"
      }
    },
    {
      "cell_type": "code",
      "source": [
        "X =np.linspace(10,20,1000)\n",
        "X"
      ],
      "metadata": {
        "id": "sOzS3I4nHegs"
      },
      "execution_count": null,
      "outputs": []
    },
    {
      "cell_type": "code",
      "source": [
        "def f(x, sigma=0.5):\n",
        "  return ( 1/np.sqrt(2*np.pi)*sigma ) * np.exp( -  (x-15.2)**2 / (sigma)**2 )\n",
        "# def g(x, sigma=1):\n",
        "#   return ( 1/np.sqrt(2*np.pi)*sigma ) * np.exp( -  (x-15.2)**2 / (sigma)**2 )\n",
        "# def h(x, sigma=2):\n",
        "#   return ( 1/np.sqrt(2*np.pi)*sigma ) * np.exp( -  (x-15.2)**2 / (sigma)**2 )\n",
        "# def i(x, sigma=4):\n",
        "#   return ( 1/np.sqrt(2*np.pi)*sigma ) * np.exp( -  (x-15.2)**2 / (sigma)**2 )"
      ],
      "metadata": {
        "id": "DbFc1_8BtM5i"
      },
      "execution_count": null,
      "outputs": []
    },
    {
      "cell_type": "code",
      "source": [
        "f_x = f(X)\n",
        "plt.plot(X, f_x,'b-')\n",
        "plt.title('sigma=0.5',fontsize=20)"
      ],
      "metadata": {
        "colab": {
          "base_uri": "https://localhost:8080/",
          "height": 304
        },
        "id": "3Hjv5a9wH4XV",
        "outputId": "3411ce90-15ff-413d-f7e5-7e8a7a710e02"
      },
      "execution_count": null,
      "outputs": [
        {
          "output_type": "execute_result",
          "data": {
            "text/plain": [
              "Text(0.5, 1.0, 'sigma=0.5')"
            ]
          },
          "metadata": {},
          "execution_count": 162
        },
        {
          "output_type": "display_data",
          "data": {
            "text/plain": [
              "<Figure size 432x288 with 1 Axes>"
            ],
            "image/png": "[encoded data removed]"
          },
          "metadata": {
            "needs_background": "light"
          }
        }
      ]
    },
    {
      "cell_type": "code",
      "source": [
        "f_x =f(X,sigma=1)\n",
        "_=plt.plot(X,f_x, 'ro-.')\n",
        "plt.title('sigma=1.0',fontsize=20)"
      ],
      "metadata": {
        "colab": {
          "base_uri": "https://localhost:8080/",
          "height": 304
        },
        "id": "_DNE1cqZIb3p",
        "outputId": "cdee8a3d-c1ca-4a93-a486-5568f3507ecb"
      },
      "execution_count": null,
      "outputs": [
        {
          "output_type": "execute_result",
          "data": {
            "text/plain": [
              "Text(0.5, 1.0, 'sigma=1.0')"
            ]
          },
          "metadata": {},
          "execution_count": 163
        },
        {
          "output_type": "display_data",
          "data": {
            "text/plain": [
              "<Figure size 432x288 with 1 Axes>"
            ],
            "image/png": "[encoded data removed]"
          },
          "metadata": {
            "needs_background": "light"
          }
        }
      ]
    },
    {
      "cell_type": "code",
      "source": [
        "f_x =f(X,sigma=2)\n",
        "_=plt.plot(X,f_x,color='m')\n",
        "plt.title('sigma=2.0',fontsize=20)"
      ],
      "metadata": {
        "colab": {
          "base_uri": "https://localhost:8080/",
          "height": 304
        },
        "id": "loGlJ_gjJJ_7",
        "outputId": "f86b527f-05b3-428d-8431-9b6e08917940"
      },
      "execution_count": null,
      "outputs": [
        {
          "output_type": "execute_result",
          "data": {
            "text/plain": [
              "Text(0.5, 1.0, 'sigma=2.0')"
            ]
          },
          "metadata": {},
          "execution_count": 166
        },
        {
          "output_type": "display_data",
          "data": {
            "text/plain": [
              "<Figure size 432x288 with 1 Axes>"
            ],
            "image/png": "[encoded data removed]"
          },
          "metadata": {
            "needs_background": "light"
          }
        }
      ]
    },
    {
      "cell_type": "code",
      "source": [
        "f_x = f(X, sigma=4)\n",
        "_=plt.plot(X,f_x,color='c',marker='x')\n",
        "plt.title('sigma=4.0',fontsize=20)"
      ],
      "metadata": {
        "colab": {
          "base_uri": "https://localhost:8080/",
          "height": 304
        },
        "id": "h5BbynJuJkPD",
        "outputId": "c912b36a-f673-4e39-8be9-db18e2e9b37c"
      },
      "execution_count": null,
      "outputs": [
        {
          "output_type": "execute_result",
          "data": {
            "text/plain": [
              "Text(0.5, 1.0, 'sigma=4.0')"
            ]
          },
          "metadata": {},
          "execution_count": 187
        },
        {
          "output_type": "display_data",
          "data": {
            "text/plain": [
              "<Figure size 432x288 with 1 Axes>"
            ],
            "image/png": "[encoded data removed]"
          },
          "metadata": {
            "needs_background": "light"
          }
        }
      ]
    }
  ]
}