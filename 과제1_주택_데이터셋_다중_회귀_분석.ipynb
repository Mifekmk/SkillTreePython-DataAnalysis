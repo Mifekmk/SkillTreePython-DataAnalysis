{
  "nbformat": 4,
  "nbformat_minor": 0,
  "metadata": {
    "colab": {
      "name": "과제1: 주택 데이터셋 다중 회귀 분석.ipynb",
      "provenance": [],
      "collapsed_sections": [],
      "authorship_tag": "ABX9TyMNo8+OJyfu5z9zc9MqU9qF",
      "include_colab_link": true
    },
    "kernelspec": {
      "name": "python3",
      "display_name": "Python 3"
    },
    "language_info": {
      "name": "python"
    }
  },
  "cells": [
    {
      "cell_type": "markdown",
      "metadata": {
        "id": "view-in-github",
        "colab_type": "text"
      },
      "source": [
        "<a href=\"https://colab.research.google.com/github/Mifekmk/SkillTreePython-DataAnalysis/blob/main/%EA%B3%BC%EC%A0%9C1_%EC%A3%BC%ED%83%9D_%EB%8D%B0%EC%9D%B4%ED%84%B0%EC%85%8B_%EB%8B%A4%EC%A4%91_%ED%9A%8C%EA%B7%80_%EB%B6%84%EC%84%9D.ipynb\" target=\"_parent\"><img src=\"https://colab.research.google.com/assets/colab-badge.svg\" alt=\"Open In Colab\"/></a>"
      ]
    },
    {
      "cell_type": "code",
      "execution_count": null,
      "metadata": {
        "colab": {
          "base_uri": "https://localhost:8080/",
          "height": 206
        },
        "id": "z8FAaG-Jgqt9",
        "outputId": "45178a34-06ae-4579-e209-f8844ca55e5c"
      },
      "outputs": [
        {
          "output_type": "execute_result",
          "data": {
            "text/plain": [
              "      CRIM    ZN  INDUS  CHAS    NOX     RM   AGE     DIS  RAD    TAX  \\\n",
              "0  0.00632  18.0   2.31     0  0.538  6.575  65.2  4.0900    1  296.0   \n",
              "1  0.02731   0.0   7.07     0  0.469  6.421  78.9  4.9671    2  242.0   \n",
              "2  0.02729   0.0   7.07     0  0.469  7.185  61.1  4.9671    2  242.0   \n",
              "3  0.03237   0.0   2.18     0  0.458  6.998  45.8  6.0622    3  222.0   \n",
              "4  0.06905   0.0   2.18     0  0.458  7.147  54.2  6.0622    3  222.0   \n",
              "\n",
              "   PTRATIO       B  LSTAT  MEDV  \n",
              "0     15.3  396.90   4.98  24.0  \n",
              "1     17.8  396.90   9.14  21.6  \n",
              "2     17.8  392.83   4.03  34.7  \n",
              "3     18.7  394.63   2.94  33.4  \n",
              "4     18.7  396.90   5.33  36.2  "
            ],
            "text/html": [
              "\n",
              "  <div id=\"df-5518f7a7-6d9b-4387-b147-9b1d376c0051\">\n",
              "    <div class=\"colab-df-container\">\n",
              "      <div>\n",
              "<style scoped>\n",
              "    .dataframe tbody tr th:only-of-type {\n",
              "        vertical-align: middle;\n",
              "    }\n",
              "\n",
              "    .dataframe tbody tr th {\n",
              "        vertical-align: top;\n",
              "    }\n",
              "\n",
              "    .dataframe thead th {\n",
              "        text-align: right;\n",
              "    }\n",
              "</style>\n",
              "<table border=\"1\" class=\"dataframe\">\n",
              "  <thead>\n",
              "    <tr style=\"text-align: right;\">\n",
              "      <th></th>\n",
              "      <th>CRIM</th>\n",
              "      <th>ZN</th>\n",
              "      <th>INDUS</th>\n",
              "      <th>CHAS</th>\n",
              "      <th>NOX</th>\n",
              "      <th>RM</th>\n",
              "      <th>AGE</th>\n",
              "      <th>DIS</th>\n",
              "      <th>RAD</th>\n",
              "      <th>TAX</th>\n",
              "      <th>PTRATIO</th>\n",
              "      <th>B</th>\n",
              "      <th>LSTAT</th>\n",
              "      <th>MEDV</th>\n",
              "    </tr>\n",
              "  </thead>\n",
              "  <tbody>\n",
              "    <tr>\n",
              "      <th>0</th>\n",
              "      <td>0.00632</td>\n",
              "      <td>18.0</td>\n",
              "      <td>2.31</td>\n",
              "      <td>0</td>\n",
              "      <td>0.538</td>\n",
              "      <td>6.575</td>\n",
              "      <td>65.2</td>\n",
              "      <td>4.0900</td>\n",
              "      <td>1</td>\n",
              "      <td>296.0</td>\n",
              "      <td>15.3</td>\n",
              "      <td>396.90</td>\n",
              "      <td>4.98</td>\n",
              "      <td>24.0</td>\n",
              "    </tr>\n",
              "    <tr>\n",
              "      <th>1</th>\n",
              "      <td>0.02731</td>\n",
              "      <td>0.0</td>\n",
              "      <td>7.07</td>\n",
              "      <td>0</td>\n",
              "      <td>0.469</td>\n",
              "      <td>6.421</td>\n",
              "      <td>78.9</td>\n",
              "      <td>4.9671</td>\n",
              "      <td>2</td>\n",
              "      <td>242.0</td>\n",
              "      <td>17.8</td>\n",
              "      <td>396.90</td>\n",
              "      <td>9.14</td>\n",
              "      <td>21.6</td>\n",
              "    </tr>\n",
              "    <tr>\n",
              "      <th>2</th>\n",
              "      <td>0.02729</td>\n",
              "      <td>0.0</td>\n",
              "      <td>7.07</td>\n",
              "      <td>0</td>\n",
              "      <td>0.469</td>\n",
              "      <td>7.185</td>\n",
              "      <td>61.1</td>\n",
              "      <td>4.9671</td>\n",
              "      <td>2</td>\n",
              "      <td>242.0</td>\n",
              "      <td>17.8</td>\n",
              "      <td>392.83</td>\n",
              "      <td>4.03</td>\n",
              "      <td>34.7</td>\n",
              "    </tr>\n",
              "    <tr>\n",
              "      <th>3</th>\n",
              "      <td>0.03237</td>\n",
              "      <td>0.0</td>\n",
              "      <td>2.18</td>\n",
              "      <td>0</td>\n",
              "      <td>0.458</td>\n",
              "      <td>6.998</td>\n",
              "      <td>45.8</td>\n",
              "      <td>6.0622</td>\n",
              "      <td>3</td>\n",
              "      <td>222.0</td>\n",
              "      <td>18.7</td>\n",
              "      <td>394.63</td>\n",
              "      <td>2.94</td>\n",
              "      <td>33.4</td>\n",
              "    </tr>\n",
              "    <tr>\n",
              "      <th>4</th>\n",
              "      <td>0.06905</td>\n",
              "      <td>0.0</td>\n",
              "      <td>2.18</td>\n",
              "      <td>0</td>\n",
              "      <td>0.458</td>\n",
              "      <td>7.147</td>\n",
              "      <td>54.2</td>\n",
              "      <td>6.0622</td>\n",
              "      <td>3</td>\n",
              "      <td>222.0</td>\n",
              "      <td>18.7</td>\n",
              "      <td>396.90</td>\n",
              "      <td>5.33</td>\n",
              "      <td>36.2</td>\n",
              "    </tr>\n",
              "  </tbody>\n",
              "</table>\n",
              "</div>\n",
              "      <button class=\"colab-df-convert\" onclick=\"convertToInteractive('df-5518f7a7-6d9b-4387-b147-9b1d376c0051')\"\n",
              "              title=\"Convert this dataframe to an interactive table.\"\n",
              "              style=\"display:none;\">\n",
              "        \n",
              "  <svg xmlns=\"http://www.w3.org/2000/svg\" height=\"24px\"viewBox=\"0 0 24 24\"\n",
              "       width=\"24px\">\n",
              "    <path d=\"M0 0h24v24H0V0z\" fill=\"none\"/>\n",
              "    <path d=\"M18.56 5.44l.94 2.06.94-2.06 2.06-.94-2.06-.94-.94-2.06-.94 2.06-2.06.94zm-11 1L8.5 8.5l.94-2.06 2.06-.94-2.06-.94L8.5 2.5l-.94 2.06-2.06.94zm10 10l.94 2.06.94-2.06 2.06-.94-2.06-.94-.94-2.06-.94 2.06-2.06.94z\"/><path d=\"M17.41 7.96l-1.37-1.37c-.4-.4-.92-.59-1.43-.59-.52 0-1.04.2-1.43.59L10.3 9.45l-7.72 7.72c-.78.78-.78 2.05 0 2.83L4 21.41c.39.39.9.59 1.41.59.51 0 1.02-.2 1.41-.59l7.78-7.78 2.81-2.81c.8-.78.8-2.07 0-2.86zM5.41 20L4 18.59l7.72-7.72 1.47 1.35L5.41 20z\"/>\n",
              "  </svg>\n",
              "      </button>\n",
              "      \n",
              "  <style>\n",
              "    .colab-df-container {\n",
              "      display:flex;\n",
              "      flex-wrap:wrap;\n",
              "      gap: 12px;\n",
              "    }\n",
              "\n",
              "    .colab-df-convert {\n",
              "      background-color: #E8F0FE;\n",
              "      border: none;\n",
              "      border-radius: 50%;\n",
              "      cursor: pointer;\n",
              "      display: none;\n",
              "      fill: #1967D2;\n",
              "      height: 32px;\n",
              "      padding: 0 0 0 0;\n",
              "      width: 32px;\n",
              "    }\n",
              "\n",
              "    .colab-df-convert:hover {\n",
              "      background-color: #E2EBFA;\n",
              "      box-shadow: 0px 1px 2px rgba(60, 64, 67, 0.3), 0px 1px 3px 1px rgba(60, 64, 67, 0.15);\n",
              "      fill: #174EA6;\n",
              "    }\n",
              "\n",
              "    [theme=dark] .colab-df-convert {\n",
              "      background-color: #3B4455;\n",
              "      fill: #D2E3FC;\n",
              "    }\n",
              "\n",
              "    [theme=dark] .colab-df-convert:hover {\n",
              "      background-color: #434B5C;\n",
              "      box-shadow: 0px 1px 3px 1px rgba(0, 0, 0, 0.15);\n",
              "      filter: drop-shadow(0px 1px 2px rgba(0, 0, 0, 0.3));\n",
              "      fill: #FFFFFF;\n",
              "    }\n",
              "  </style>\n",
              "\n",
              "      <script>\n",
              "        const buttonEl =\n",
              "          document.querySelector('#df-5518f7a7-6d9b-4387-b147-9b1d376c0051 button.colab-df-convert');\n",
              "        buttonEl.style.display =\n",
              "          google.colab.kernel.accessAllowed ? 'block' : 'none';\n",
              "\n",
              "        async function convertToInteractive(key) {\n",
              "          const element = document.querySelector('#df-5518f7a7-6d9b-4387-b147-9b1d376c0051');\n",
              "          const dataTable =\n",
              "            await google.colab.kernel.invokeFunction('convertToInteractive',\n",
              "                                                     [key], {});\n",
              "          if (!dataTable) return;\n",
              "\n",
              "          const docLinkHtml = 'Like what you see? Visit the ' +\n",
              "            '<a target=\"_blank\" href=https://colab.research.google.com/notebooks/data_table.ipynb>data table notebook</a>'\n",
              "            + ' to learn more about interactive tables.';\n",
              "          element.innerHTML = '';\n",
              "          dataTable['output_type'] = 'display_data';\n",
              "          await google.colab.output.renderOutput(dataTable, element);\n",
              "          const docLink = document.createElement('div');\n",
              "          docLink.innerHTML = docLinkHtml;\n",
              "          element.appendChild(docLink);\n",
              "        }\n",
              "      </script>\n",
              "    </div>\n",
              "  </div>\n",
              "  "
            ]
          },
          "metadata": {},
          "execution_count": 1
        }
      ],
      "source": [
        "import numpy as np\n",
        "import pandas as pd\n",
        "import seaborn as sns\n",
        "import matplotlib.pyplot as plt\n",
        "import pandas as pd\n",
        "\n",
        "df = pd.read_csv('https://raw.githubusercontent.com/rasbt/'\n",
        "                 'python-machine-learning-book-3rd-edition/'\n",
        "                 'master/ch10/housing.data.txt',\n",
        "                 header=None,\n",
        "                 sep='\\s+')\n",
        "df.columns = ['CRIM', 'ZN', 'INDUS', 'CHAS', \n",
        "              'NOX', 'RM', 'AGE', 'DIS', 'RAD', \n",
        "              'TAX', 'PTRATIO', 'B', 'LSTAT', 'MEDV']\n",
        "df.values\n",
        "df.head()"
      ]
    },
    {
      "cell_type": "code",
      "source": [
        "df.info()"
      ],
      "metadata": {
        "colab": {
          "base_uri": "https://localhost:8080/"
        },
        "id": "m8OeXJkog0nL",
        "outputId": "2d8f8d5d-d38b-42fd-f763-a3ebed20fb09"
      },
      "execution_count": null,
      "outputs": [
        {
          "output_type": "stream",
          "name": "stdout",
          "text": [
            "<class 'pandas.core.frame.DataFrame'>\n",
            "RangeIndex: 506 entries, 0 to 505\n",
            "Data columns (total 14 columns):\n",
            " #   Column   Non-Null Count  Dtype  \n",
            "---  ------   --------------  -----  \n",
            " 0   CRIM     506 non-null    float64\n",
            " 1   ZN       506 non-null    float64\n",
            " 2   INDUS    506 non-null    float64\n",
            " 3   CHAS     506 non-null    int64  \n",
            " 4   NOX      506 non-null    float64\n",
            " 5   RM       506 non-null    float64\n",
            " 6   AGE      506 non-null    float64\n",
            " 7   DIS      506 non-null    float64\n",
            " 8   RAD      506 non-null    int64  \n",
            " 9   TAX      506 non-null    float64\n",
            " 10  PTRATIO  506 non-null    float64\n",
            " 11  B        506 non-null    float64\n",
            " 12  LSTAT    506 non-null    float64\n",
            " 13  MEDV     506 non-null    float64\n",
            "dtypes: float64(12), int64(2)\n",
            "memory usage: 55.5 KB\n"
          ]
        }
      ]
    },
    {
      "cell_type": "code",
      "source": [
        "df.describe()"
      ],
      "metadata": {
        "colab": {
          "base_uri": "https://localhost:8080/",
          "height": 364
        },
        "id": "70-caDu5g3z6",
        "outputId": "cba1b8fc-d4a0-47f9-ce6d-60572f0ec7fe"
      },
      "execution_count": null,
      "outputs": [
        {
          "output_type": "execute_result",
          "data": {
            "text/plain": [
              "             CRIM          ZN       INDUS        CHAS         NOX          RM  \\\n",
              "count  506.000000  506.000000  506.000000  506.000000  506.000000  506.000000   \n",
              "mean     3.613524   11.363636   11.136779    0.069170    0.554695    6.284634   \n",
              "std      8.601545   23.322453    6.860353    0.253994    0.115878    0.702617   \n",
              "min      0.006320    0.000000    0.460000    0.000000    0.385000    3.561000   \n",
              "25%      0.082045    0.000000    5.190000    0.000000    0.449000    5.885500   \n",
              "50%      0.256510    0.000000    9.690000    0.000000    0.538000    6.208500   \n",
              "75%      3.677083   12.500000   18.100000    0.000000    0.624000    6.623500   \n",
              "max     88.976200  100.000000   27.740000    1.000000    0.871000    8.780000   \n",
              "\n",
              "              AGE         DIS         RAD         TAX     PTRATIO           B  \\\n",
              "count  506.000000  506.000000  506.000000  506.000000  506.000000  506.000000   \n",
              "mean    68.574901    3.795043    9.549407  408.237154   18.455534  356.674032   \n",
              "std     28.148861    2.105710    8.707259  168.537116    2.164946   91.294864   \n",
              "min      2.900000    1.129600    1.000000  187.000000   12.600000    0.320000   \n",
              "25%     45.025000    2.100175    4.000000  279.000000   17.400000  375.377500   \n",
              "50%     77.500000    3.207450    5.000000  330.000000   19.050000  391.440000   \n",
              "75%     94.075000    5.188425   24.000000  666.000000   20.200000  396.225000   \n",
              "max    100.000000   12.126500   24.000000  711.000000   22.000000  396.900000   \n",
              "\n",
              "            LSTAT        MEDV  \n",
              "count  506.000000  506.000000  \n",
              "mean    12.653063   22.532806  \n",
              "std      7.141062    9.197104  \n",
              "min      1.730000    5.000000  \n",
              "25%      6.950000   17.025000  \n",
              "50%     11.360000   21.200000  \n",
              "75%     16.955000   25.000000  \n",
              "max     37.970000   50.000000  "
            ],
            "text/html": [
              "\n",
              "  <div id=\"df-1a564aaf-389e-4c3e-9b5d-c30982adaec3\">\n",
              "    <div class=\"colab-df-container\">\n",
              "      <div>\n",
              "<style scoped>\n",
              "    .dataframe tbody tr th:only-of-type {\n",
              "        vertical-align: middle;\n",
              "    }\n",
              "\n",
              "    .dataframe tbody tr th {\n",
              "        vertical-align: top;\n",
              "    }\n",
              "\n",
              "    .dataframe thead th {\n",
              "        text-align: right;\n",
              "    }\n",
              "</style>\n",
              "<table border=\"1\" class=\"dataframe\">\n",
              "  <thead>\n",
              "    <tr style=\"text-align: right;\">\n",
              "      <th></th>\n",
              "      <th>CRIM</th>\n",
              "      <th>ZN</th>\n",
              "      <th>INDUS</th>\n",
              "      <th>CHAS</th>\n",
              "      <th>NOX</th>\n",
              "      <th>RM</th>\n",
              "      <th>AGE</th>\n",
              "      <th>DIS</th>\n",
              "      <th>RAD</th>\n",
              "      <th>TAX</th>\n",
              "      <th>PTRATIO</th>\n",
              "      <th>B</th>\n",
              "      <th>LSTAT</th>\n",
              "      <th>MEDV</th>\n",
              "    </tr>\n",
              "  </thead>\n",
              "  <tbody>\n",
              "    <tr>\n",
              "      <th>count</th>\n",
              "      <td>506.000000</td>\n",
              "      <td>506.000000</td>\n",
              "      <td>506.000000</td>\n",
              "      <td>506.000000</td>\n",
              "      <td>506.000000</td>\n",
              "      <td>506.000000</td>\n",
              "      <td>506.000000</td>\n",
              "      <td>506.000000</td>\n",
              "      <td>506.000000</td>\n",
              "      <td>506.000000</td>\n",
              "      <td>506.000000</td>\n",
              "      <td>506.000000</td>\n",
              "      <td>506.000000</td>\n",
              "      <td>506.000000</td>\n",
              "    </tr>\n",
              "    <tr>\n",
              "      <th>mean</th>\n",
              "      <td>3.613524</td>\n",
              "      <td>11.363636</td>\n",
              "      <td>11.136779</td>\n",
              "      <td>0.069170</td>\n",
              "      <td>0.554695</td>\n",
              "      <td>6.284634</td>\n",
              "      <td>68.574901</td>\n",
              "      <td>3.795043</td>\n",
              "      <td>9.549407</td>\n",
              "      <td>408.237154</td>\n",
              "      <td>18.455534</td>\n",
              "      <td>356.674032</td>\n",
              "      <td>12.653063</td>\n",
              "      <td>22.532806</td>\n",
              "    </tr>\n",
              "    <tr>\n",
              "      <th>std</th>\n",
              "      <td>8.601545</td>\n",
              "      <td>23.322453</td>\n",
              "      <td>6.860353</td>\n",
              "      <td>0.253994</td>\n",
              "      <td>0.115878</td>\n",
              "      <td>0.702617</td>\n",
              "      <td>28.148861</td>\n",
              "      <td>2.105710</td>\n",
              "      <td>8.707259</td>\n",
              "      <td>168.537116</td>\n",
              "      <td>2.164946</td>\n",
              "      <td>91.294864</td>\n",
              "      <td>7.141062</td>\n",
              "      <td>9.197104</td>\n",
              "    </tr>\n",
              "    <tr>\n",
              "      <th>min</th>\n",
              "      <td>0.006320</td>\n",
              "      <td>0.000000</td>\n",
              "      <td>0.460000</td>\n",
              "      <td>0.000000</td>\n",
              "      <td>0.385000</td>\n",
              "      <td>3.561000</td>\n",
              "      <td>2.900000</td>\n",
              "      <td>1.129600</td>\n",
              "      <td>1.000000</td>\n",
              "      <td>187.000000</td>\n",
              "      <td>12.600000</td>\n",
              "      <td>0.320000</td>\n",
              "      <td>1.730000</td>\n",
              "      <td>5.000000</td>\n",
              "    </tr>\n",
              "    <tr>\n",
              "      <th>25%</th>\n",
              "      <td>0.082045</td>\n",
              "      <td>0.000000</td>\n",
              "      <td>5.190000</td>\n",
              "      <td>0.000000</td>\n",
              "      <td>0.449000</td>\n",
              "      <td>5.885500</td>\n",
              "      <td>45.025000</td>\n",
              "      <td>2.100175</td>\n",
              "      <td>4.000000</td>\n",
              "      <td>279.000000</td>\n",
              "      <td>17.400000</td>\n",
              "      <td>375.377500</td>\n",
              "      <td>6.950000</td>\n",
              "      <td>17.025000</td>\n",
              "    </tr>\n",
              "    <tr>\n",
              "      <th>50%</th>\n",
              "      <td>0.256510</td>\n",
              "      <td>0.000000</td>\n",
              "      <td>9.690000</td>\n",
              "      <td>0.000000</td>\n",
              "      <td>0.538000</td>\n",
              "      <td>6.208500</td>\n",
              "      <td>77.500000</td>\n",
              "      <td>3.207450</td>\n",
              "      <td>5.000000</td>\n",
              "      <td>330.000000</td>\n",
              "      <td>19.050000</td>\n",
              "      <td>391.440000</td>\n",
              "      <td>11.360000</td>\n",
              "      <td>21.200000</td>\n",
              "    </tr>\n",
              "    <tr>\n",
              "      <th>75%</th>\n",
              "      <td>3.677083</td>\n",
              "      <td>12.500000</td>\n",
              "      <td>18.100000</td>\n",
              "      <td>0.000000</td>\n",
              "      <td>0.624000</td>\n",
              "      <td>6.623500</td>\n",
              "      <td>94.075000</td>\n",
              "      <td>5.188425</td>\n",
              "      <td>24.000000</td>\n",
              "      <td>666.000000</td>\n",
              "      <td>20.200000</td>\n",
              "      <td>396.225000</td>\n",
              "      <td>16.955000</td>\n",
              "      <td>25.000000</td>\n",
              "    </tr>\n",
              "    <tr>\n",
              "      <th>max</th>\n",
              "      <td>88.976200</td>\n",
              "      <td>100.000000</td>\n",
              "      <td>27.740000</td>\n",
              "      <td>1.000000</td>\n",
              "      <td>0.871000</td>\n",
              "      <td>8.780000</td>\n",
              "      <td>100.000000</td>\n",
              "      <td>12.126500</td>\n",
              "      <td>24.000000</td>\n",
              "      <td>711.000000</td>\n",
              "      <td>22.000000</td>\n",
              "      <td>396.900000</td>\n",
              "      <td>37.970000</td>\n",
              "      <td>50.000000</td>\n",
              "    </tr>\n",
              "  </tbody>\n",
              "</table>\n",
              "</div>\n",
              "      <button class=\"colab-df-convert\" onclick=\"convertToInteractive('df-1a564aaf-389e-4c3e-9b5d-c30982adaec3')\"\n",
              "              title=\"Convert this dataframe to an interactive table.\"\n",
              "              style=\"display:none;\">\n",
              "        \n",
              "  <svg xmlns=\"http://www.w3.org/2000/svg\" height=\"24px\"viewBox=\"0 0 24 24\"\n",
              "       width=\"24px\">\n",
              "    <path d=\"M0 0h24v24H0V0z\" fill=\"none\"/>\n",
              "    <path d=\"M18.56 5.44l.94 2.06.94-2.06 2.06-.94-2.06-.94-.94-2.06-.94 2.06-2.06.94zm-11 1L8.5 8.5l.94-2.06 2.06-.94-2.06-.94L8.5 2.5l-.94 2.06-2.06.94zm10 10l.94 2.06.94-2.06 2.06-.94-2.06-.94-.94-2.06-.94 2.06-2.06.94z\"/><path d=\"M17.41 7.96l-1.37-1.37c-.4-.4-.92-.59-1.43-.59-.52 0-1.04.2-1.43.59L10.3 9.45l-7.72 7.72c-.78.78-.78 2.05 0 2.83L4 21.41c.39.39.9.59 1.41.59.51 0 1.02-.2 1.41-.59l7.78-7.78 2.81-2.81c.8-.78.8-2.07 0-2.86zM5.41 20L4 18.59l7.72-7.72 1.47 1.35L5.41 20z\"/>\n",
              "  </svg>\n",
              "      </button>\n",
              "      \n",
              "  <style>\n",
              "    .colab-df-container {\n",
              "      display:flex;\n",
              "      flex-wrap:wrap;\n",
              "      gap: 12px;\n",
              "    }\n",
              "\n",
              "    .colab-df-convert {\n",
              "      background-color: #E8F0FE;\n",
              "      border: none;\n",
              "      border-radius: 50%;\n",
              "      cursor: pointer;\n",
              "      display: none;\n",
              "      fill: #1967D2;\n",
              "      height: 32px;\n",
              "      padding: 0 0 0 0;\n",
              "      width: 32px;\n",
              "    }\n",
              "\n",
              "    .colab-df-convert:hover {\n",
              "      background-color: #E2EBFA;\n",
              "      box-shadow: 0px 1px 2px rgba(60, 64, 67, 0.3), 0px 1px 3px 1px rgba(60, 64, 67, 0.15);\n",
              "      fill: #174EA6;\n",
              "    }\n",
              "\n",
              "    [theme=dark] .colab-df-convert {\n",
              "      background-color: #3B4455;\n",
              "      fill: #D2E3FC;\n",
              "    }\n",
              "\n",
              "    [theme=dark] .colab-df-convert:hover {\n",
              "      background-color: #434B5C;\n",
              "      box-shadow: 0px 1px 3px 1px rgba(0, 0, 0, 0.15);\n",
              "      filter: drop-shadow(0px 1px 2px rgba(0, 0, 0, 0.3));\n",
              "      fill: #FFFFFF;\n",
              "    }\n",
              "  </style>\n",
              "\n",
              "      <script>\n",
              "        const buttonEl =\n",
              "          document.querySelector('#df-1a564aaf-389e-4c3e-9b5d-c30982adaec3 button.colab-df-convert');\n",
              "        buttonEl.style.display =\n",
              "          google.colab.kernel.accessAllowed ? 'block' : 'none';\n",
              "\n",
              "        async function convertToInteractive(key) {\n",
              "          const element = document.querySelector('#df-1a564aaf-389e-4c3e-9b5d-c30982adaec3');\n",
              "          const dataTable =\n",
              "            await google.colab.kernel.invokeFunction('convertToInteractive',\n",
              "                                                     [key], {});\n",
              "          if (!dataTable) return;\n",
              "\n",
              "          const docLinkHtml = 'Like what you see? Visit the ' +\n",
              "            '<a target=\"_blank\" href=https://colab.research.google.com/notebooks/data_table.ipynb>data table notebook</a>'\n",
              "            + ' to learn more about interactive tables.';\n",
              "          element.innerHTML = '';\n",
              "          dataTable['output_type'] = 'display_data';\n",
              "          await google.colab.output.renderOutput(dataTable, element);\n",
              "          const docLink = document.createElement('div');\n",
              "          docLink.innerHTML = docLinkHtml;\n",
              "          element.appendChild(docLink);\n",
              "        }\n",
              "      </script>\n",
              "    </div>\n",
              "  </div>\n",
              "  "
            ]
          },
          "metadata": {},
          "execution_count": 3
        }
      ]
    },
    {
      "cell_type": "code",
      "source": [
        "X =df.drop(['MEDV'],axis=1)\n",
        "y = df['MEDV']\n",
        "X.shape, y.shape"
      ],
      "metadata": {
        "colab": {
          "base_uri": "https://localhost:8080/"
        },
        "id": "FGQV39FxhEKE",
        "outputId": "2cc980d8-d5a2-496c-f392-e1aba31c06fe"
      },
      "execution_count": null,
      "outputs": [
        {
          "output_type": "execute_result",
          "data": {
            "text/plain": [
              "((506, 13), (506,))"
            ]
          },
          "metadata": {},
          "execution_count": 4
        }
      ]
    },
    {
      "cell_type": "code",
      "source": [
        "from sklearn.preprocessing import StandardScaler\n",
        "from sklearn.model_selection import train_test_split\n",
        "X_train, X_test, y_train, y_test = train_test_split(X,y, test_size=0.2, random_state=1)"
      ],
      "metadata": {
        "id": "dEz6hiXBh_zD"
      },
      "execution_count": null,
      "outputs": []
    },
    {
      "cell_type": "code",
      "source": [
        "from sklearn.ensemble import RandomForestRegressor\n",
        "\n",
        "model = RandomForestRegressor()\n",
        "model.fit(X,y)"
      ],
      "metadata": {
        "colab": {
          "base_uri": "https://localhost:8080/"
        },
        "id": "_uT51pV5hbXT",
        "outputId": "ac1dfd81-9c85-499b-a09d-5dc072ff04c6"
      },
      "execution_count": null,
      "outputs": [
        {
          "output_type": "execute_result",
          "data": {
            "text/plain": [
              "RandomForestRegressor()"
            ]
          },
          "metadata": {},
          "execution_count": 6
        }
      ]
    },
    {
      "cell_type": "code",
      "source": [
        "y_pred = model.predict(X_test)"
      ],
      "metadata": {
        "id": "490lnL7hh1QB"
      },
      "execution_count": null,
      "outputs": []
    },
    {
      "cell_type": "code",
      "source": [
        "X_train.shape, X_test.shape, y_train.shape, y_test.shape"
      ],
      "metadata": {
        "colab": {
          "base_uri": "https://localhost:8080/"
        },
        "id": "eIrag6OSiMUT",
        "outputId": "8c28864d-953b-4582-f269-0eb9a200f712"
      },
      "execution_count": null,
      "outputs": [
        {
          "output_type": "execute_result",
          "data": {
            "text/plain": [
              "((404, 13), (102, 13), (404,), (102,))"
            ]
          },
          "metadata": {},
          "execution_count": 8
        }
      ]
    },
    {
      "cell_type": "code",
      "source": [
        "# 모델링 ( Linear regression )\n",
        "from sklearn.linear_model import *\n",
        "linear = LinearRegression()\n",
        "linear.fit(X_train, y_train)"
      ],
      "metadata": {
        "colab": {
          "base_uri": "https://localhost:8080/"
        },
        "id": "dIwc4-7ziiWK",
        "outputId": "e575ae26-5f4f-4e91-cac2-b5530a0098b4"
      },
      "execution_count": null,
      "outputs": [
        {
          "output_type": "execute_result",
          "data": {
            "text/plain": [
              "LinearRegression()"
            ]
          },
          "metadata": {},
          "execution_count": 9
        }
      ]
    },
    {
      "cell_type": "code",
      "source": [
        "# 모델링 ( Ridge regression )\n",
        "ridge = Ridge(alpha=0.1)\n",
        "ridge.fit(X_train, y_train)"
      ],
      "metadata": {
        "colab": {
          "base_uri": "https://localhost:8080/"
        },
        "id": "O5xi7VkViuDb",
        "outputId": "55e8013c-43c4-4bd9-d5f0-7a87df4a4b04"
      },
      "execution_count": null,
      "outputs": [
        {
          "output_type": "execute_result",
          "data": {
            "text/plain": [
              "Ridge(alpha=0.1)"
            ]
          },
          "metadata": {},
          "execution_count": 10
        }
      ]
    },
    {
      "cell_type": "code",
      "source": [
        "# 모델링 ( Lasso regression )\n",
        "lasso =Lasso(alpha=0.1)\n",
        "lasso.fit(X_train,y_train)"
      ],
      "metadata": {
        "colab": {
          "base_uri": "https://localhost:8080/"
        },
        "id": "ixoKDC-Fi4X6",
        "outputId": "a5b82bdd-37c2-4e75-f500-4c3293d1b537"
      },
      "execution_count": null,
      "outputs": [
        {
          "output_type": "execute_result",
          "data": {
            "text/plain": [
              "Lasso(alpha=0.1)"
            ]
          },
          "metadata": {},
          "execution_count": 11
        }
      ]
    },
    {
      "cell_type": "code",
      "source": [
        "# 모델링 ( Elastic Net )\n",
        "elastic = ElasticNet(alpha=1)\n",
        "elastic.fit(X_train, y_train)"
      ],
      "metadata": {
        "colab": {
          "base_uri": "https://localhost:8080/"
        },
        "id": "0IVO85IijGar",
        "outputId": "dfe22c8c-49f1-4b5b-e1d9-8a06622679ec"
      },
      "execution_count": null,
      "outputs": [
        {
          "output_type": "execute_result",
          "data": {
            "text/plain": [
              "ElasticNet(alpha=1)"
            ]
          },
          "metadata": {},
          "execution_count": 13
        }
      ]
    },
    {
      "cell_type": "code",
      "source": [
        "# 모델링 ( Bayesian Ridge Regression )\n",
        "bayes_ridge = BayesianRidge()\n",
        "bayes_ridge.fit(X_train, y_train)"
      ],
      "metadata": {
        "colab": {
          "base_uri": "https://localhost:8080/"
        },
        "id": "9uKNDag0jUCL",
        "outputId": "c1715c92-c203-41f8-a75e-2d103751119a"
      },
      "execution_count": null,
      "outputs": [
        {
          "output_type": "execute_result",
          "data": {
            "text/plain": [
              "BayesianRidge()"
            ]
          },
          "metadata": {},
          "execution_count": 12
        }
      ]
    },
    {
      "cell_type": "code",
      "source": [
        "# 함수정리\n",
        "from sklearn.metrics import mean_squared_error, mean_absolute_error, r2_score\n",
        "\n",
        "def mean_absolute_percentage_error(y_true, y_pred):\n",
        "  y_true, y_pred = np.array(y_true), np.array(y_pred)\n",
        "  return np.mean(np.abs(y_true-y_pred) / y_true) * 100\n",
        "\n",
        "def norm_mean_absolute_error(y_true, y_pred):\n",
        "  return mean_absolute_error(y_true, y_pred)/np.mean(np.abs(y_true))\n",
        "\n",
        "def regression_scores(y_true,y_pred):\n",
        "  mse = mean_squared_error(y_true, y_pred)\n",
        "  rmse = np.sqrt(mean_squared_error(y_true, y_pred))\n",
        "  mae = mean_absolute_error(y_true, y_pred)\n",
        "  nmae = norm_mean_absolute_error(y_true, y_pred)\n",
        "  mape = mean_absolute_percentage_error(y_true, y_pred)\n",
        "  r2 = r2_score(y_true, y_pred)\n",
        "  return {'mse':np.round(mse,3), 'rmse':np.round(rmse,3), 'mae':np.round(mae,3), 'nmae':np.round(nmae,3), 'mape':np.round(mape,3), 'r2':np.round(r2,3) }\n",
        "\n",
        "\n",
        "regression_scores(y_test, y_pred)"
      ],
      "metadata": {
        "colab": {
          "base_uri": "https://localhost:8080/"
        },
        "id": "-lsO8UXijfs6",
        "outputId": "b3484290-1db5-46ae-d196-b22c793d44fa"
      },
      "execution_count": null,
      "outputs": [
        {
          "output_type": "execute_result",
          "data": {
            "text/plain": [
              "{'mae': 0.85,\n",
              " 'mape': 4.594,\n",
              " 'mse': 1.293,\n",
              " 'nmae': 0.038,\n",
              " 'r2': 0.987,\n",
              " 'rmse': 1.137}"
            ]
          },
          "metadata": {},
          "execution_count": 14
        }
      ]
    },
    {
      "cell_type": "code",
      "source": [
        "from sklearn.linear_model import Ridge"
      ],
      "metadata": {
        "id": "BKwCm9XtjoM0"
      },
      "execution_count": null,
      "outputs": []
    },
    {
      "cell_type": "code",
      "source": [
        "df_score = pd.DataFrame()\n",
        "for model in ['linear', 'ridge', 'lasso', 'elastic', 'bayes_ridge']:\n",
        "  y_pred = eval(model).predict(X_test)\n",
        "  scores = regression_scores(y_test, y_pred)\n",
        "  df_score = pd.concat([df_score, pd.DataFrame(regression_scores(y_test, y_pred) ,index=[model]) ])\n",
        "df_score.style.background_gradient(cmap='Greens_r')"
      ],
      "metadata": {
        "colab": {
          "base_uri": "https://localhost:8080/",
          "height": 206
        },
        "id": "B1d7mZ-EjrvK",
        "outputId": "550a26d9-056b-420a-8b3c-48dcddb1e7d2"
      },
      "execution_count": null,
      "outputs": [
        {
          "output_type": "execute_result",
          "data": {
            "text/plain": [
              "<pandas.io.formats.style.Styler at 0x7fc8645e6c10>"
            ],
            "text/html": [
              "<style type=\"text/css\">\n",
              "#T_ca30a_row0_col0, #T_ca30a_row0_col1 {\n",
              "  background-color: #00451c;\n",
              "  color: #f1f1f1;\n",
              "}\n",
              "#T_ca30a_row0_col2 {\n",
              "  background-color: #004a1e;\n",
              "  color: #f1f1f1;\n",
              "}\n",
              "#T_ca30a_row0_col3, #T_ca30a_row1_col0, #T_ca30a_row1_col1, #T_ca30a_row1_col2, #T_ca30a_row1_col3, #T_ca30a_row1_col4, #T_ca30a_row3_col5 {\n",
              "  background-color: #00441b;\n",
              "  color: #f1f1f1;\n",
              "}\n",
              "#T_ca30a_row0_col4 {\n",
              "  background-color: #005221;\n",
              "  color: #f1f1f1;\n",
              "}\n",
              "#T_ca30a_row0_col5 {\n",
              "  background-color: #f6fcf4;\n",
              "  color: #000000;\n",
              "}\n",
              "#T_ca30a_row1_col5, #T_ca30a_row3_col0, #T_ca30a_row3_col1, #T_ca30a_row3_col2, #T_ca30a_row3_col3, #T_ca30a_row3_col4 {\n",
              "  background-color: #f7fcf5;\n",
              "  color: #000000;\n",
              "}\n",
              "#T_ca30a_row2_col0 {\n",
              "  background-color: #067230;\n",
              "  color: #f1f1f1;\n",
              "}\n",
              "#T_ca30a_row2_col1 {\n",
              "  background-color: #097532;\n",
              "  color: #f1f1f1;\n",
              "}\n",
              "#T_ca30a_row2_col2 {\n",
              "  background-color: #005a24;\n",
              "  color: #f1f1f1;\n",
              "}\n",
              "#T_ca30a_row2_col3, #T_ca30a_row4_col3 {\n",
              "  background-color: #005522;\n",
              "  color: #f1f1f1;\n",
              "}\n",
              "#T_ca30a_row2_col4 {\n",
              "  background-color: #2d954d;\n",
              "  color: #f1f1f1;\n",
              "}\n",
              "#T_ca30a_row2_col5 {\n",
              "  background-color: #e1f3dc;\n",
              "  color: #000000;\n",
              "}\n",
              "#T_ca30a_row4_col0 {\n",
              "  background-color: #087432;\n",
              "  color: #f1f1f1;\n",
              "}\n",
              "#T_ca30a_row4_col1 {\n",
              "  background-color: #0b7734;\n",
              "  color: #f1f1f1;\n",
              "}\n",
              "#T_ca30a_row4_col2 {\n",
              "  background-color: #005c25;\n",
              "  color: #f1f1f1;\n",
              "}\n",
              "#T_ca30a_row4_col4 {\n",
              "  background-color: #0c7735;\n",
              "  color: #f1f1f1;\n",
              "}\n",
              "#T_ca30a_row4_col5 {\n",
              "  background-color: #def2d9;\n",
              "  color: #000000;\n",
              "}\n",
              "</style>\n",
              "<table id=\"T_ca30a_\" class=\"dataframe\">\n",
              "  <thead>\n",
              "    <tr>\n",
              "      <th class=\"blank level0\" >&nbsp;</th>\n",
              "      <th class=\"col_heading level0 col0\" >mse</th>\n",
              "      <th class=\"col_heading level0 col1\" >rmse</th>\n",
              "      <th class=\"col_heading level0 col2\" >mae</th>\n",
              "      <th class=\"col_heading level0 col3\" >nmae</th>\n",
              "      <th class=\"col_heading level0 col4\" >mape</th>\n",
              "      <th class=\"col_heading level0 col5\" >r2</th>\n",
              "    </tr>\n",
              "  </thead>\n",
              "  <tbody>\n",
              "    <tr>\n",
              "      <th id=\"T_ca30a_level0_row0\" class=\"row_heading level0 row0\" >linear</th>\n",
              "      <td id=\"T_ca30a_row0_col0\" class=\"data row0 col0\" >23.381000</td>\n",
              "      <td id=\"T_ca30a_row0_col1\" class=\"data row0 col1\" >4.835000</td>\n",
              "      <td id=\"T_ca30a_row0_col2\" class=\"data row0 col2\" >3.751000</td>\n",
              "      <td id=\"T_ca30a_row0_col3\" class=\"data row0 col3\" >0.166000</td>\n",
              "      <td id=\"T_ca30a_row0_col4\" class=\"data row0 col4\" >18.776000</td>\n",
              "      <td id=\"T_ca30a_row0_col5\" class=\"data row0 col5\" >0.763000</td>\n",
              "    </tr>\n",
              "    <tr>\n",
              "      <th id=\"T_ca30a_level0_row1\" class=\"row_heading level0 row1\" >ridge</th>\n",
              "      <td id=\"T_ca30a_row1_col0\" class=\"data row1 col0\" >23.307000</td>\n",
              "      <td id=\"T_ca30a_row1_col1\" class=\"data row1 col1\" >4.828000</td>\n",
              "      <td id=\"T_ca30a_row1_col2\" class=\"data row1 col2\" >3.741000</td>\n",
              "      <td id=\"T_ca30a_row1_col3\" class=\"data row1 col3\" >0.166000</td>\n",
              "      <td id=\"T_ca30a_row1_col4\" class=\"data row1 col4\" >18.743000</td>\n",
              "      <td id=\"T_ca30a_row1_col5\" class=\"data row1 col5\" >0.764000</td>\n",
              "    </tr>\n",
              "    <tr>\n",
              "      <th id=\"T_ca30a_level0_row2\" class=\"row_heading level0 row2\" >lasso</th>\n",
              "      <td id=\"T_ca30a_row2_col0\" class=\"data row2 col0\" >24.716000</td>\n",
              "      <td id=\"T_ca30a_row2_col1\" class=\"data row2 col1\" >4.972000</td>\n",
              "      <td id=\"T_ca30a_row2_col2\" class=\"data row2 col2\" >3.772000</td>\n",
              "      <td id=\"T_ca30a_row2_col3\" class=\"data row2 col3\" >0.167000</td>\n",
              "      <td id=\"T_ca30a_row2_col4\" class=\"data row2 col4\" >18.959000</td>\n",
              "      <td id=\"T_ca30a_row2_col5\" class=\"data row2 col5\" >0.750000</td>\n",
              "    </tr>\n",
              "    <tr>\n",
              "      <th id=\"T_ca30a_level0_row3\" class=\"row_heading level0 row3\" >elastic</th>\n",
              "      <td id=\"T_ca30a_row3_col0\" class=\"data row3 col0\" >32.983000</td>\n",
              "      <td id=\"T_ca30a_row3_col1\" class=\"data row3 col1\" >5.743000</td>\n",
              "      <td id=\"T_ca30a_row3_col2\" class=\"data row3 col2\" >4.186000</td>\n",
              "      <td id=\"T_ca30a_row3_col3\" class=\"data row3 col3\" >0.185000</td>\n",
              "      <td id=\"T_ca30a_row3_col4\" class=\"data row3 col4\" >19.488000</td>\n",
              "      <td id=\"T_ca30a_row3_col5\" class=\"data row3 col5\" >0.666000</td>\n",
              "    </tr>\n",
              "    <tr>\n",
              "      <th id=\"T_ca30a_level0_row4\" class=\"row_heading level0 row4\" >bayes_ridge</th>\n",
              "      <td id=\"T_ca30a_row4_col0\" class=\"data row4 col0\" >24.814000</td>\n",
              "      <td id=\"T_ca30a_row4_col1\" class=\"data row4 col1\" >4.981000</td>\n",
              "      <td id=\"T_ca30a_row4_col2\" class=\"data row4 col2\" >3.775000</td>\n",
              "      <td id=\"T_ca30a_row4_col3\" class=\"data row4 col3\" >0.167000</td>\n",
              "      <td id=\"T_ca30a_row4_col4\" class=\"data row4 col4\" >18.870000</td>\n",
              "      <td id=\"T_ca30a_row4_col5\" class=\"data row4 col5\" >0.749000</td>\n",
              "    </tr>\n",
              "  </tbody>\n",
              "</table>\n"
            ]
          },
          "metadata": {},
          "execution_count": 16
        }
      ]
    },
    {
      "cell_type": "code",
      "source": [
        "plt.figure(figsize=(5,5))\n",
        "y_pred = ridge.predict(X_test)\n",
        "plt.scatter(y_test, y_pred, marker='.')\n",
        "plt.plot([-2,50],[-2,50],'r--') # 직선\n",
        "plt.xlabel('y_true')\n",
        "plt.ylabel('y_pred')"
      ],
      "metadata": {
        "colab": {
          "base_uri": "https://localhost:8080/",
          "height": 352
        },
        "id": "Ads98pECj2_r",
        "outputId": "8c134ff4-9371-4919-af1a-6e832ffdcaaa"
      },
      "execution_count": null,
      "outputs": [
        {
          "output_type": "execute_result",
          "data": {
            "text/plain": [
              "Text(0, 0.5, 'y_pred')"
            ]
          },
          "metadata": {},
          "execution_count": 17
        },
        {
          "output_type": "display_data",
          "data": {
            "text/plain": [
              "<Figure size 360x360 with 1 Axes>"
            ],
            "image/png": "[encoded data removed]"
          },
          "metadata": {
            "needs_background": "light"
          }
        }
      ]
    },
    {
      "cell_type": "code",
      "source": [
        "plt.figure(figsize=(5,5))\n",
        "plt.title('Bayesian Ridge')\n",
        "\n",
        "y_pred = bayes_ridge.predict(X_test)\n",
        "plt.scatter(y_test, y_pred, marker='.')\n",
        "plt.plot([0,52],[0,50], c='r')\n",
        "plt.xlabel('y_true')\n",
        "plt.ylabel('y_pred')\n",
        "plt.show()"
      ],
      "metadata": {
        "colab": {
          "base_uri": "https://localhost:8080/",
          "height": 350
        },
        "id": "mDZHSu_-kkIl",
        "outputId": "0bc81c94-f743-4e36-caef-bee66950453e"
      },
      "execution_count": null,
      "outputs": [
        {
          "output_type": "display_data",
          "data": {
            "text/plain": [
              "<Figure size 360x360 with 1 Axes>"
            ],
            "image/png": "[encoded data removed]"
          },
          "metadata": {
            "needs_background": "light"
          }
        }
      ]
    },
    {
      "cell_type": "code",
      "source": [
        "plt.figure(figsize=(5,5))\n",
        "plt.title('Ridge')\n",
        "\n",
        "y_pred = ridge.predict(X_test)\n",
        "plt.scatter(y_test, y_pred, marker='.')\n",
        "plt.plot([0,52],[0,50], c='r')\n",
        "plt.xlabel('y_true')\n",
        "plt.ylabel('y_pred')\n",
        "plt.show()"
      ],
      "metadata": {
        "colab": {
          "base_uri": "https://localhost:8080/",
          "height": 350
        },
        "id": "ZwtOe0JskuSb",
        "outputId": "5ae3eefb-7249-4f5b-a614-999ccc04fbb9"
      },
      "execution_count": null,
      "outputs": [
        {
          "output_type": "display_data",
          "data": {
            "text/plain": [
              "<Figure size 360x360 with 1 Axes>"
            ],
            "image/png": "[encoded data removed]"
          },
          "metadata": {
            "needs_background": "light"
          }
        }
      ]
    },
    {
      "cell_type": "code",
      "source": [
        "plt.figure(figsize=(5,5))\n",
        "plt.title('Lasso')\n",
        "\n",
        "y_pred = lasso.predict(X_test)\n",
        "plt.scatter(y_test, y_pred, marker='.')\n",
        "plt.plot([0,52],[0,50], c='r')\n",
        "plt.xlabel('y_true')\n",
        "plt.ylabel('y_pred')\n",
        "plt.show()"
      ],
      "metadata": {
        "colab": {
          "base_uri": "https://localhost:8080/",
          "height": 350
        },
        "id": "haFb11Xplc6q",
        "outputId": "d6f97119-640a-4516-8aed-3473207ac304"
      },
      "execution_count": null,
      "outputs": [
        {
          "output_type": "display_data",
          "data": {
            "text/plain": [
              "<Figure size 360x360 with 1 Axes>"
            ],
            "image/png": "[encoded data removed]"
          },
          "metadata": {
            "needs_background": "light"
          }
        }
      ]
    },
    {
      "cell_type": "code",
      "source": [
        "plt.figure(figsize=(5,5))\n",
        "plt.title('elastic')\n",
        "\n",
        "y_pred = elastic.predict(X_test)\n",
        "plt.scatter(y_test, y_pred, marker='.')\n",
        "plt.plot([0,52],[0,50], c='r')\n",
        "plt.xlabel('y_true')\n",
        "plt.ylabel('y_pred')\n",
        "plt.show()"
      ],
      "metadata": {
        "colab": {
          "base_uri": "https://localhost:8080/",
          "height": 350
        },
        "id": "oJCbypHLlc9J",
        "outputId": "003c6e1a-2e74-4aa3-ecd6-76216767edd1"
      },
      "execution_count": null,
      "outputs": [
        {
          "output_type": "display_data",
          "data": {
            "text/plain": [
              "<Figure size 360x360 with 1 Axes>"
            ],
            "image/png": "[encoded data removed]"
          },
          "metadata": {
            "needs_background": "light"
          }
        }
      ]
    },
    {
      "cell_type": "code",
      "source": [
        "X = df['LSTAT'].values\n",
        "X = X.reshape(-1,1)\n",
        "X.shape"
      ],
      "metadata": {
        "colab": {
          "base_uri": "https://localhost:8080/"
        },
        "id": "TBu5t_135S9l",
        "outputId": "6640ab4c-1507-4d26-d0c4-fb495719bda9"
      },
      "execution_count": null,
      "outputs": [
        {
          "output_type": "execute_result",
          "data": {
            "text/plain": [
              "(506, 1)"
            ]
          },
          "metadata": {},
          "execution_count": 24
        }
      ]
    },
    {
      "cell_type": "code",
      "source": [
        "y = df['MEDV'].values\n",
        "y.shape"
      ],
      "metadata": {
        "colab": {
          "base_uri": "https://localhost:8080/"
        },
        "id": "UNyF-Jrd5G8j",
        "outputId": "84102e5f-e85a-4077-cdb7-959e3c2d76ec"
      },
      "execution_count": null,
      "outputs": [
        {
          "output_type": "execute_result",
          "data": {
            "text/plain": [
              "(506,)"
            ]
          },
          "metadata": {},
          "execution_count": 25
        }
      ]
    },
    {
      "cell_type": "code",
      "source": [
        "from sklearn.model_selection import train_test_split\n",
        "X_train, X_test, y_train, y_test = train_test_split(X,y, test_size=0.2, random_state=1)\n",
        "X_train.shape, X_test.shape, y_train.shape, y_test.shape"
      ],
      "metadata": {
        "colab": {
          "base_uri": "https://localhost:8080/"
        },
        "id": "c2GXpMOO5aJh",
        "outputId": "dae8e4df-4a41-4ab8-b800-59c31c4cebb9"
      },
      "execution_count": null,
      "outputs": [
        {
          "output_type": "execute_result",
          "data": {
            "text/plain": [
              "((404, 1), (102, 1), (404,), (102,))"
            ]
          },
          "metadata": {},
          "execution_count": 27
        }
      ]
    },
    {
      "cell_type": "code",
      "source": [
        "# 시각화\n",
        "def draw_data():\n",
        "    plt.scatter(X_train, y_train, label='Trainset', color='lightgray')\n",
        "    plt.scatter(X_test, y_test, label='Testset', color='lightgreen')\n",
        "    plt.xlabel('% lower status of the population [LSTAT]')\n",
        "    plt.ylabel('Price in $1000s [MEDV]')\n",
        "    plt.legend()\n",
        "draw_data()"
      ],
      "metadata": {
        "colab": {
          "base_uri": "https://localhost:8080/",
          "height": 279
        },
        "id": "V97-D55d4pip",
        "outputId": "0ab2a2e7-5cda-479e-8356-a37a7656cf23"
      },
      "execution_count": null,
      "outputs": [
        {
          "output_type": "display_data",
          "data": {
            "text/plain": [
              "<Figure size 432x288 with 1 Axes>"
            ],
            "image/png": "[encoded data removed]"
          },
          "metadata": {
            "needs_background": "light"
          }
        }
      ]
    },
    {
      "cell_type": "code",
      "source": [
        "from sklearn.model_selection import train_test_split\n",
        "X_train, X_test, y_train, y_test = train_test_split(X,y, test_size=0.2, random_state=1)\n",
        "X_train.shape, X_test.shape, y_train.shape, y_test.shape"
      ],
      "metadata": {
        "colab": {
          "base_uri": "https://localhost:8080/"
        },
        "id": "Qiywf36I3ume",
        "outputId": "cb2a630c-b46c-47f1-dab3-6d91d8505a75"
      },
      "execution_count": null,
      "outputs": [
        {
          "output_type": "execute_result",
          "data": {
            "text/plain": [
              "((404, 1), (102, 1), (404,), (102,))"
            ]
          },
          "metadata": {},
          "execution_count": 31
        }
      ]
    },
    {
      "cell_type": "code",
      "source": [
        "from sklearn.preprocessing import StandardScaler\n",
        "\n",
        "sc_x = StandardScaler()\n",
        "sc_y = StandardScaler()\n",
        "sc_x.fit(X_train)\n",
        "sc_y.fit(y_train[:, np.newaxis])"
      ],
      "metadata": {
        "colab": {
          "base_uri": "https://localhost:8080/"
        },
        "id": "hl5u-IVl3wKs",
        "outputId": "9e699915-151f-40e7-83b7-9c3a033e68ad"
      },
      "execution_count": null,
      "outputs": [
        {
          "output_type": "execute_result",
          "data": {
            "text/plain": [
              "StandardScaler()"
            ]
          },
          "metadata": {},
          "execution_count": 32
        }
      ]
    },
    {
      "cell_type": "code",
      "source": [
        "X_train = sc_x.fit_transform(X_train)\n",
        "y_train = sc_y.fit_transform(y_train[:, np.newaxis]).flatten() # .flatten으로 한 방향으로 쭉 나열해줍니다.\n",
        "print(X_train.shape, y_train.shape)"
      ],
      "metadata": {
        "colab": {
          "base_uri": "https://localhost:8080/"
        },
        "id": "ddzhFCyQ30e-",
        "outputId": "c3ecc5e4-0cd1-4dec-dc30-4238fb471ece"
      },
      "execution_count": null,
      "outputs": [
        {
          "output_type": "stream",
          "name": "stdout",
          "text": [
            "(404, 1) (404,)\n"
          ]
        }
      ]
    },
    {
      "cell_type": "code",
      "source": [
        "X_test = sc_x.fit_transform(X_test)\n",
        "y_test = sc_y.fit_transform(y_test[:, np.newaxis]).flatten()\n",
        "print(X_test.shape, y_test.shape)"
      ],
      "metadata": {
        "colab": {
          "base_uri": "https://localhost:8080/"
        },
        "id": "exc_rO-p32sx",
        "outputId": "a0162520-103a-4160-eb41-46bac9aee4cd"
      },
      "execution_count": null,
      "outputs": [
        {
          "output_type": "stream",
          "name": "stdout",
          "text": [
            "(102, 1) (102,)\n"
          ]
        }
      ]
    },
    {
      "cell_type": "code",
      "source": [
        "lr1 = LinearRegression()\n",
        "lr1.fit(X_train, y_train)"
      ],
      "metadata": {
        "colab": {
          "base_uri": "https://localhost:8080/"
        },
        "id": "MnNuCvjb35rl",
        "outputId": "2db1ba76-823b-4118-cb26-ea9444a09ab1"
      },
      "execution_count": null,
      "outputs": [
        {
          "output_type": "execute_result",
          "data": {
            "text/plain": [
              "LinearRegression()"
            ]
          },
          "metadata": {},
          "execution_count": 35
        }
      ]
    },
    {
      "cell_type": "code",
      "source": [
        "from sklearn.preprocessing import PolynomialFeatures\n",
        "lr2 = LinearRegression()\n",
        "quad =  PolynomialFeatures(degree=2)\n",
        "X_quad = quad.fit_transform(X_train)\n",
        "lr2.fit(X_quad, y_train)"
      ],
      "metadata": {
        "colab": {
          "base_uri": "https://localhost:8080/"
        },
        "id": "KIgngLKw37WB",
        "outputId": "8c8cb879-a966-48e6-c483-504e52790870"
      },
      "execution_count": null,
      "outputs": [
        {
          "output_type": "execute_result",
          "data": {
            "text/plain": [
              "LinearRegression()"
            ]
          },
          "metadata": {},
          "execution_count": 36
        }
      ]
    },
    {
      "cell_type": "code",
      "source": [
        "lr3 = LinearRegression()\n",
        "cubic = PolynomialFeatures(degree=3)\n",
        "X_cubic = cubic.fit_transform(X_train)\n",
        "lr3.fit(X_cubic, y_train)"
      ],
      "metadata": {
        "colab": {
          "base_uri": "https://localhost:8080/"
        },
        "id": "If8YMv804G95",
        "outputId": "ecd81c69-6937-424c-8074-9e7b98c59822"
      },
      "execution_count": null,
      "outputs": [
        {
          "output_type": "execute_result",
          "data": {
            "text/plain": [
              "LinearRegression()"
            ]
          },
          "metadata": {},
          "execution_count": 37
        }
      ]
    },
    {
      "cell_type": "code",
      "source": [
        "y_pred1 = lr1.predict(X_test)\n",
        "y_pred2 = lr2.predict(quad.fit_transform(X_test))\n",
        "y_pred3 = lr3.predict(cubic.fit_transform(X_test))\n",
        "\n",
        "l1_scores = regression_scores(y_test, y_pred1)\n",
        "l2_scores = regression_scores(y_test, y_pred2)\n",
        "l3_scores = regression_scores(y_test, y_pred3)\n",
        "\n",
        "df_score = pd.DataFrame([l1_scores,l2_scores,l3_scores], index=['linear', 'quadratic', 'cubic'])\n",
        "df_score.style.background_gradient()"
      ],
      "metadata": {
        "colab": {
          "base_uri": "https://localhost:8080/",
          "height": 143
        },
        "id": "1XzGyUyT4JqR",
        "outputId": "649b0985-2aa7-4b0b-fa54-323a7720471b"
      },
      "execution_count": null,
      "outputs": [
        {
          "output_type": "execute_result",
          "data": {
            "text/plain": [
              "<pandas.io.formats.style.Styler at 0x7fc860fbcf10>"
            ],
            "text/html": [
              "<style type=\"text/css\">\n",
              "#T_bcc74_row0_col0, #T_bcc74_row0_col1, #T_bcc74_row0_col2, #T_bcc74_row0_col3, #T_bcc74_row0_col4, #T_bcc74_row2_col5 {\n",
              "  background-color: #023858;\n",
              "  color: #f1f1f1;\n",
              "}\n",
              "#T_bcc74_row0_col5, #T_bcc74_row2_col0, #T_bcc74_row2_col1, #T_bcc74_row2_col2, #T_bcc74_row2_col3, #T_bcc74_row2_col4 {\n",
              "  background-color: #fff7fb;\n",
              "  color: #000000;\n",
              "}\n",
              "#T_bcc74_row1_col0 {\n",
              "  background-color: #dedcec;\n",
              "  color: #000000;\n",
              "}\n",
              "#T_bcc74_row1_col1 {\n",
              "  background-color: #dad9ea;\n",
              "  color: #000000;\n",
              "}\n",
              "#T_bcc74_row1_col2 {\n",
              "  background-color: #c2cbe2;\n",
              "  color: #000000;\n",
              "}\n",
              "#T_bcc74_row1_col3 {\n",
              "  background-color: #c1cae2;\n",
              "  color: #000000;\n",
              "}\n",
              "#T_bcc74_row1_col4, #T_bcc74_row1_col5 {\n",
              "  background-color: #05659f;\n",
              "  color: #f1f1f1;\n",
              "}\n",
              "</style>\n",
              "<table id=\"T_bcc74_\" class=\"dataframe\">\n",
              "  <thead>\n",
              "    <tr>\n",
              "      <th class=\"blank level0\" >&nbsp;</th>\n",
              "      <th class=\"col_heading level0 col0\" >mse</th>\n",
              "      <th class=\"col_heading level0 col1\" >rmse</th>\n",
              "      <th class=\"col_heading level0 col2\" >mae</th>\n",
              "      <th class=\"col_heading level0 col3\" >nmae</th>\n",
              "      <th class=\"col_heading level0 col4\" >mape</th>\n",
              "      <th class=\"col_heading level0 col5\" >r2</th>\n",
              "    </tr>\n",
              "  </thead>\n",
              "  <tbody>\n",
              "    <tr>\n",
              "      <th id=\"T_bcc74_level0_row0\" class=\"row_heading level0 row0\" >linear</th>\n",
              "      <td id=\"T_bcc74_row0_col0\" class=\"data row0 col0\" >0.463000</td>\n",
              "      <td id=\"T_bcc74_row0_col1\" class=\"data row0 col1\" >0.680000</td>\n",
              "      <td id=\"T_bcc74_row0_col2\" class=\"data row0 col2\" >0.501000</td>\n",
              "      <td id=\"T_bcc74_row0_col3\" class=\"data row0 col3\" >0.721000</td>\n",
              "      <td id=\"T_bcc74_row0_col4\" class=\"data row0 col4\" >239.529000</td>\n",
              "      <td id=\"T_bcc74_row0_col5\" class=\"data row0 col5\" >0.537000</td>\n",
              "    </tr>\n",
              "    <tr>\n",
              "      <th id=\"T_bcc74_level0_row1\" class=\"row_heading level0 row1\" >quadratic</th>\n",
              "      <td id=\"T_bcc74_row1_col0\" class=\"data row1 col0\" >0.343000</td>\n",
              "      <td id=\"T_bcc74_row1_col1\" class=\"data row1 col1\" >0.586000</td>\n",
              "      <td id=\"T_bcc74_row1_col2\" class=\"data row1 col2\" >0.445000</td>\n",
              "      <td id=\"T_bcc74_row1_col3\" class=\"data row1 col3\" >0.640000</td>\n",
              "      <td id=\"T_bcc74_row1_col4\" class=\"data row1 col4\" >228.354000</td>\n",
              "      <td id=\"T_bcc74_row1_col5\" class=\"data row1 col5\" >0.657000</td>\n",
              "    </tr>\n",
              "    <tr>\n",
              "      <th id=\"T_bcc74_level0_row2\" class=\"row_heading level0 row2\" >cubic</th>\n",
              "      <td id=\"T_bcc74_row2_col0\" class=\"data row2 col0\" >0.315000</td>\n",
              "      <td id=\"T_bcc74_row2_col1\" class=\"data row2 col1\" >0.562000</td>\n",
              "      <td id=\"T_bcc74_row2_col2\" class=\"data row2 col2\" >0.422000</td>\n",
              "      <td id=\"T_bcc74_row2_col3\" class=\"data row2 col3\" >0.606000</td>\n",
              "      <td id=\"T_bcc74_row2_col4\" class=\"data row2 col4\" >180.717000</td>\n",
              "      <td id=\"T_bcc74_row2_col5\" class=\"data row2 col5\" >0.685000</td>\n",
              "    </tr>\n",
              "  </tbody>\n",
              "</table>\n"
            ]
          },
          "metadata": {},
          "execution_count": 38
        }
      ]
    },
    {
      "cell_type": "code",
      "source": [
        "# 그래프 시각화\n",
        "draw_data()\n",
        "x_every = np.arange(0,35,0.1).reshape(-1,1)\n",
        "plt.plot(x_every, lr1.predict(x_every),\n",
        "         label='Linear',\n",
        "         linewidth=3, linestyle=':') # 1차항\n",
        "\n",
        "plt.plot(x_every, lr2.predict(quad.fit_transform(x_every)),\n",
        "         label='Quadratic',\n",
        "         linewidth=3) # 2차항\n",
        "\n",
        "plt.plot(x_every, lr3.predict(cubic.fit_transform(x_every)),\n",
        "         label='Cubic',\n",
        "         linewidth=3, linestyle='--') # 3차항\n",
        "plt.legend()\n",
        "plt.show()"
      ],
      "metadata": {
        "colab": {
          "base_uri": "https://localhost:8080/",
          "height": 279
        },
        "id": "pmXdk0IN5dZ0",
        "outputId": "e2863536-67bd-4b3c-fbeb-720a36a10493"
      },
      "execution_count": null,
      "outputs": [
        {
          "output_type": "display_data",
          "data": {
            "text/plain": [
              "<Figure size 432x288 with 1 Axes>"
            ],
            "image/png": "[encoded data removed]"
          },
          "metadata": {
            "needs_background": "light"
          }
        }
      ]
    },
    {
      "cell_type": "markdown",
      "source": [
        "___"
      ],
      "metadata": {
        "id": "kLLodV-YcoFe"
      }
    },
    {
      "cell_type": "code",
      "source": [
        "import numpy as np\n",
        "import pandas as pd\n",
        "import seaborn as sns\n",
        "import matplotlib.pyplot as plt"
      ],
      "metadata": {
        "id": "RWP5d3O5copl"
      },
      "execution_count": null,
      "outputs": []
    },
    {
      "cell_type": "code",
      "source": [
        "import pandas as pd\n",
        "\n",
        "df = pd.read_csv('https://raw.githubusercontent.com/rasbt/'\n",
        "                 'python-machine-learning-book-3rd-edition/'\n",
        "                 'master/ch10/housing.data.txt',\n",
        "                 header=None,\n",
        "                 sep='\\s+')\n",
        "df.columns = ['CRIM', 'ZN', 'INDUS', 'CHAS', \n",
        "              'NOX', 'RM', 'AGE', 'DIS', 'RAD', \n",
        "              'TAX', 'PTRATIO', 'B', 'LSTAT', 'MEDV']\n",
        "df.values"
      ],
      "metadata": {
        "colab": {
          "base_uri": "https://localhost:8080/"
        },
        "id": "SZzxCfJNdDmX",
        "outputId": "ef6394fb-668a-4b51-bead-21295df5a22f"
      },
      "execution_count": null,
      "outputs": [
        {
          "output_type": "execute_result",
          "data": {
            "text/plain": [
              "array([[6.3200e-03, 1.8000e+01, 2.3100e+00, ..., 3.9690e+02, 4.9800e+00,\n",
              "        2.4000e+01],\n",
              "       [2.7310e-02, 0.0000e+00, 7.0700e+00, ..., 3.9690e+02, 9.1400e+00,\n",
              "        2.1600e+01],\n",
              "       [2.7290e-02, 0.0000e+00, 7.0700e+00, ..., 3.9283e+02, 4.0300e+00,\n",
              "        3.4700e+01],\n",
              "       ...,\n",
              "       [6.0760e-02, 0.0000e+00, 1.1930e+01, ..., 3.9690e+02, 5.6400e+00,\n",
              "        2.3900e+01],\n",
              "       [1.0959e-01, 0.0000e+00, 1.1930e+01, ..., 3.9345e+02, 6.4800e+00,\n",
              "        2.2000e+01],\n",
              "       [4.7410e-02, 0.0000e+00, 1.1930e+01, ..., 3.9690e+02, 7.8800e+00,\n",
              "        1.1900e+01]])"
            ]
          },
          "metadata": {},
          "execution_count": 2
        }
      ]
    },
    {
      "cell_type": "code",
      "source": [
        "from sklearn.model_selection import train_test_split\n",
        "X_train, X_test, y_train, y_test = train_test_split(X,y, test_size=0.2, random_state=1)\n",
        "X_train.shape, X_test.shape, y_train.shape, y_test.shape"
      ],
      "metadata": {
        "colab": {
          "base_uri": "https://localhost:8080/",
          "height": 227
        },
        "id": "7FV4R-UddEV-",
        "outputId": "80a33883-6c5e-41e6-94c4-09774413d828"
      },
      "execution_count": null,
      "outputs": [
        {
          "output_type": "error",
          "ename": "NameError",
          "evalue": "ignored",
          "traceback": [
            "\u001b[0;31m---------------------------------------------------------------------------\u001b[0m",
            "\u001b[0;31mNameError\u001b[0m                                 Traceback (most recent call last)",
            "\u001b[0;32m<ipython-input-3-c2d361e121dd>\u001b[0m in \u001b[0;36m<module>\u001b[0;34m()\u001b[0m\n\u001b[1;32m      1\u001b[0m \u001b[0;32mfrom\u001b[0m \u001b[0msklearn\u001b[0m\u001b[0;34m.\u001b[0m\u001b[0mmodel_selection\u001b[0m \u001b[0;32mimport\u001b[0m \u001b[0mtrain_test_split\u001b[0m\u001b[0;34m\u001b[0m\u001b[0;34m\u001b[0m\u001b[0m\n\u001b[0;32m----> 2\u001b[0;31m \u001b[0mX_train\u001b[0m\u001b[0;34m,\u001b[0m \u001b[0mX_test\u001b[0m\u001b[0;34m,\u001b[0m \u001b[0my_train\u001b[0m\u001b[0;34m,\u001b[0m \u001b[0my_test\u001b[0m \u001b[0;34m=\u001b[0m \u001b[0mtrain_test_split\u001b[0m\u001b[0;34m(\u001b[0m\u001b[0mX\u001b[0m\u001b[0;34m,\u001b[0m\u001b[0my\u001b[0m\u001b[0;34m,\u001b[0m \u001b[0mtest_size\u001b[0m\u001b[0;34m=\u001b[0m\u001b[0;36m0.2\u001b[0m\u001b[0;34m,\u001b[0m \u001b[0mrandom_state\u001b[0m\u001b[0;34m=\u001b[0m\u001b[0;36m1\u001b[0m\u001b[0;34m)\u001b[0m\u001b[0;34m\u001b[0m\u001b[0;34m\u001b[0m\u001b[0m\n\u001b[0m\u001b[1;32m      3\u001b[0m \u001b[0mX_train\u001b[0m\u001b[0;34m.\u001b[0m\u001b[0mshape\u001b[0m\u001b[0;34m,\u001b[0m \u001b[0mX_test\u001b[0m\u001b[0;34m.\u001b[0m\u001b[0mshape\u001b[0m\u001b[0;34m,\u001b[0m \u001b[0my_train\u001b[0m\u001b[0;34m.\u001b[0m\u001b[0mshape\u001b[0m\u001b[0;34m,\u001b[0m \u001b[0my_test\u001b[0m\u001b[0;34m.\u001b[0m\u001b[0mshape\u001b[0m\u001b[0;34m\u001b[0m\u001b[0;34m\u001b[0m\u001b[0m\n",
            "\u001b[0;31mNameError\u001b[0m: name 'X' is not defined"
          ]
        }
      ]
    }
  ]
}